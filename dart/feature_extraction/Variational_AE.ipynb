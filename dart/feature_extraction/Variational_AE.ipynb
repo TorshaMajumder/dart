{
 "nbformat": 4,
 "nbformat_minor": 0,
 "metadata": {
  "colab": {
   "provenance": []
  },
  "kernelspec": {
   "name": "python3",
   "display_name": "Python 3"
  },
  "language_info": {
   "name": "python"
  },
  "gpuClass": "standard"
 },
 "cells": [
  {
   "cell_type": "code",
   "execution_count": 1,
   "metadata": {
    "id": "pzKqAuK4iJEv"
   },
   "outputs": [],
   "source": [
    "#\n",
    "# Import all the dependencies\n",
    "#\n",
    "import os\n",
    "import keras\n",
    "import random\n",
    "import pickle\n",
    "import numpy as np\n",
    "import pandas as pd\n",
    "from tqdm import tqdm\n",
    "import tensorflow as tf\n",
    "import keras.backend as K\n",
    "import matplotlib.pyplot as plt\n",
    "from keras import layers, Input, Model\n",
    "from keras.callbacks import EarlyStopping\n",
    "from sklearn.preprocessing import MinMaxScaler\n",
    "from keras.layers import (GRU, Dense, Lambda, Masking, RepeatVector, TimeDistributed, concatenate)"
   ]
  },
  {
   "cell_type": "code",
   "source": [
    "from google.colab import drive\n",
    "drive.mount('/content/gdrive')"
   ],
   "metadata": {
    "colab": {
     "base_uri": "https://localhost:8080/"
    },
    "id": "lVLrXufM7_PA",
    "outputId": "d9946f57-75d4-4736-e6d6-454e0b29b858"
   },
   "execution_count": 2,
   "outputs": [
    {
     "output_type": "stream",
     "name": "stdout",
     "text": [
      "Mounted at /content/gdrive\n"
     ]
    }
   ]
  },
  {
   "cell_type": "code",
   "source": [
    "tf.config.run_functions_eagerly(True)"
   ],
   "metadata": {
    "id": "LDkj7-IglxeS"
   },
   "execution_count": 3,
   "outputs": []
  },
  {
   "cell_type": "code",
   "source": [
    "#\n",
    "# Create '/latent_space_data' folder if it does not exist already\n",
    "#\n",
    "if not os.path.exists('/content/gdrive/My Drive/latent_space_data'):\n",
    "    os.makedirs('/content/gdrive/My Drive/latent_space_data')\n",
    "if not os.path.exists('/content/gdrive/My Drive/saved_models/vae_chck_pts'):\n",
    "    os.makedirs('/content/gdrive/My Drive/saved_models/vae_chck_pts')\n",
    "if not os.path.exists('/content/gdrive/My Drive/light_curve_plots'):\n",
    "    os.makedirs('/content/gdrive/My Drive/light_curve_plots')"
   ],
   "metadata": {
    "id": "421T3OD75O4q"
   },
   "execution_count": 4,
   "outputs": []
  },
  {
   "cell_type": "code",
   "source": [
    "class CustomMasking(layers.Layer):\n",
    "    def __init__(self, **kwargs):\n",
    "        super(CustomMasking, self).__init__(name=\"CustomMasking\", **kwargs)\n",
    "        self.supports_masking = True\n",
    "\n",
    "    def call(self, inputs, mask=None):\n",
    "        return inputs * mask\n"
   ],
   "metadata": {
    "id": "nFd891Xw5qWm"
   },
   "execution_count": 5,
   "outputs": []
  },
  {
   "cell_type": "code",
   "source": [
    "class Sampling(layers.Layer):\n",
    "    def __init__(self, output_dim, **kwargs):\n",
    "        super(Sampling, self).__init__(name=\"Sampling\", **kwargs)\n",
    "        self.output_dim = output_dim\n",
    "        self.supports_masking = True\n",
    "\n",
    "    def call(self, inputs, mask=None):\n",
    "        # print(\"Sampling Output:\", inputs)\n",
    "        z_mean, z_log_var = inputs\n",
    "        batch = K.shape(z_mean)[0]\n",
    "        dim = K.shape(z_mean)[1]\n",
    "        epsilon = K.random_normal(shape=(batch, dim))\n",
    "        output = z_mean + K.exp(0.5 * z_log_var) * epsilon\n",
    "\n",
    "        return output"
   ],
   "metadata": {
    "id": "jB9fSb2I59_b"
   },
   "execution_count": 6,
   "outputs": []
  },
  {
   "cell_type": "code",
   "source": [
    "class Encoder(keras.Model):\n",
    "    def __init__(self, shapes, mask_val=0, name='encoder', **kwargs):\n",
    "        # properties\n",
    "        self.mask_val = mask_val\n",
    "        self.shapes = shapes\n",
    "\n",
    "        # call Model initializer\n",
    "        super(Encoder, self).__init__(name=name, **kwargs)\n",
    "\n",
    "        # define Encoder layers\n",
    "        self.mask = Masking(mask_value=mask_val)\n",
    "\n",
    "        # first recurrent layer\n",
    "        self.gru1 = GRU(shapes['gru1'],\n",
    "                        activation='tanh',\n",
    "                        recurrent_activation='hard_sigmoid',\n",
    "                        return_sequences=True,\n",
    "                        name='gru1')\n",
    "        # second recurrent layer\n",
    "        self.encoded = GRU(\n",
    "            shapes['gru2'],\n",
    "            activation='tanh',\n",
    "            recurrent_activation='hard_sigmoid',\n",
    "            return_sequences=True,\n",
    "            name='gru2')\n",
    "\n",
    "        # z mean output\n",
    "        self.z_mean = GRU(\n",
    "            shapes['gru3'],\n",
    "            return_sequences=False,\n",
    "            activation='linear',\n",
    "            name='gru3')\n",
    "\n",
    "        # z variance output\n",
    "        self.z_log_var = GRU(\n",
    "            shapes['gru4'],\n",
    "            return_sequences=False,\n",
    "            activation='linear',\n",
    "            name='gru4'\n",
    "        )\n",
    "\n",
    "        # sample output\n",
    "        self.z = Sampling(shapes['gru4'])\n",
    "\n",
    "    def get_config(self):\n",
    "        return {\"shapes\": self.shapes, 'mask_val': 0, 'name': 'encoder'}\n",
    "\n",
    "    # define forward pass\n",
    "    def call(self, inputs):\n",
    "        mask_tensor = self.mask(inputs)\n",
    "        gru1 = self.gru1(mask_tensor)\n",
    "        encoded = self.encoded(gru1)\n",
    "        z_mean = self.z_mean(encoded)\n",
    "        z_log_var = self.z_log_var(encoded)\n",
    "        z = self.z([z_mean, z_log_var])\n",
    "\n",
    "        return z_mean, z_log_var, z\n"
   ],
   "metadata": {
    "id": "zsMZPBxg6DQI"
   },
   "execution_count": 7,
   "outputs": []
  },
  {
   "cell_type": "code",
   "source": [
    "class Decoder(keras.Model):\n",
    "    def __init__(self, shapes, mask_val=0, name='decoder', **kwargs):\n",
    "        super(Decoder, self).__init__(name=name, **kwargs)\n",
    "        self.mask_val = mask_val\n",
    "        self.shapes = shapes\n",
    "\n",
    "        # define layers\n",
    "        self.repeater = RepeatVector(shapes['repeater'], name='rep')\n",
    "\n",
    "        self.custom_mask = CustomMasking()\n",
    "\n",
    "        # first recurrent layer\n",
    "        self.gru5 = GRU(\n",
    "            shapes['gru5'],\n",
    "            activation='tanh',\n",
    "            recurrent_activation='hard_sigmoid',\n",
    "            return_sequences=True,\n",
    "            name='gru5')\n",
    "\n",
    "        # second recurrent layer\n",
    "        self.gru6 = GRU(\n",
    "            shapes['gru6'],\n",
    "            activation='tanh',\n",
    "            recurrent_activation='hard_sigmoid',\n",
    "            return_sequences=True,\n",
    "            name='gru6')\n",
    "\n",
    "        # decoder output\n",
    "        self.dec_output = TimeDistributed(\n",
    "            Dense(1, activation='tanh', input_shape=shapes['dec_output']),\n",
    "            name='td')\n",
    "\n",
    "    def get_config(self):\n",
    "        config = {\n",
    "            \"shapes\": self.shapes,\n",
    "            'mask_val': 0,\n",
    "            'name': 'decoder'}\n",
    "        return config\n",
    "\n",
    "    # define forward pass\n",
    "    def call(self, inputs):\n",
    "        z, train_input_two, masks, dec_masks = inputs\n",
    "        # back at 200 numbs\n",
    "        repeater = self.repeater(z)\n",
    "\n",
    "        concat = concatenate([repeater, train_input_two], axis=-1)\n",
    "\n",
    "        mask_tensor = self.custom_mask(concat, mask=masks)\n",
    "\n",
    "        gru5 = self.gru5(mask_tensor, mask=None)\n",
    "\n",
    "        gru6 = self.gru6(gru5)\n",
    "\n",
    "        dec_output = self.dec_output(gru6)\n",
    "\n",
    "        return self.custom_mask(dec_output, mask=dec_masks)\n"
   ],
   "metadata": {
    "id": "2ThM56SH6Ph4"
   },
   "execution_count": 8,
   "outputs": []
  },
  {
   "cell_type": "code",
   "source": [
    "class VAE(keras.Model):\n",
    "    def __init__(self, prepared_data, name='vae', **kwargs):\n",
    "        super(VAE, self).__init__(name=name, **kwargs)\n",
    "        self.epochs = 10\n",
    "        self.batch_size = 64\n",
    "        self.optimizer = 'adam'\n",
    "        dims = np.asarray(prepared_data).shape\n",
    "\n",
    "        # dimension of the latent vector\n",
    "        self.latent_dim = 30\n",
    "\n",
    "        # input to first encoder and second decoder layer\n",
    "        self.gru_one = 175\n",
    "\n",
    "        # input to first decoder and second encoder layer\n",
    "        self.gru_two = 150\n",
    "\n",
    "        # load prepared dad (acts a input)\n",
    "        self.prepared_data = np.array(prepared_data)\n",
    "\n",
    "        # number of input features\n",
    "        self.num_feats = dims[2]\n",
    "\n",
    "        # number of timesteps\n",
    "        self.num_timesteps = dims[1]\n",
    "\n",
    "        # dimension of the input space for encoder\n",
    "        self.enc_input_shape = (self.num_timesteps, self.num_feats)\n",
    "\n",
    "        # number of light curves\n",
    "        self.num_lcs = dims[0]\n",
    "\n",
    "        # layer dimensions for encoder and decoder, respectively\n",
    "        self.enc_dims = {\n",
    "            'enc_input': self.enc_input_shape,\n",
    "            'gru1': self.gru_one,\n",
    "            'gru2': self.gru_two,\n",
    "            'gru3': self.latent_dim,\n",
    "            'gru4': self.latent_dim\n",
    "        }\n",
    "        self.dec_dims = {\n",
    "            'dec_input': self.latent_dim,\n",
    "            'repeater': self.num_timesteps,\n",
    "            'input_two': (self.num_timesteps, 2),\n",
    "            'gru5': self.gru_two,\n",
    "            'gru6': self.gru_one,\n",
    "            'dec_output': (None, 1)\n",
    "        }\n",
    "\n",
    "        # indxs for test and train\n",
    "        self.train_indx = set()\n",
    "        self.test_indx = set()\n",
    "\n",
    "        self.mask_value = 0.0\n",
    "\n",
    "        self.encoder = Encoder(self.enc_dims)\n",
    "        self.decoder = Decoder(self.dec_dims)\n",
    "\n",
    "    def get_config(self):\n",
    "        config = {\"prepared_data\": np.array(self.prepared_data), 'name': 'vae'}\n",
    "        return config\n",
    "\n",
    "    # define forward pass\n",
    "    def call(self, inputs):\n",
    "        x_train, train_input_two, masks, dec_masks = inputs\n",
    "        z_mean, z_log_var, z = self.encoder(x_train)\n",
    "        # encoded_data = z_mean.numpy()\n",
    "        #\n",
    "        # Store the file in -- '/latent_space_data/{type}/' folder\n",
    "        #\n",
    "        #print(type(encoded_data))\n",
    "        # with open(f\"/content/gdrive/My Drive/latent_space_data/vae_data.pickle\", 'wb') as file:\n",
    "        #     pickle.dump(encoded_data, file)\n",
    "        \n",
    "        reconstructed = self.decoder([z, train_input_two, masks, dec_masks])\n",
    "\n",
    "        # Add KL divergence regularization loss.\n",
    "        kl_loss = -0.5 * tf.reduce_mean(z_log_var - tf.square(z_mean) - tf.exp(z_log_var) + 1)\n",
    "        self.add_loss(kl_loss)\n",
    "        return reconstructed\n",
    "\n",
    "    def reconstruction_loss(self, yTrue, yPred):\n",
    "        return K.log(K.mean(K.square(yTrue - yPred)))\n",
    "\n",
    "    def split_training_data(self):\n",
    "        \"\"\"\n",
    "        Splits data into 3/4 training, 1/4 testing\n",
    "        \"\"\"\n",
    "\n",
    "        print(\"Splitting data into train and test...\")\n",
    "\n",
    "        # prepared out (only flux)\n",
    "        prep_out = self.prepared_data[:, :, 2].reshape(\n",
    "            self.num_lcs, self.num_timesteps, 1)\n",
    "        prep_inp = self.prepared_data\n",
    "\n",
    "        x_train = []\n",
    "        y_train = []\n",
    "        x_test = []\n",
    "        y_test = []\n",
    "\n",
    "        # calc the # of light curves for train vs test\n",
    "        num_lcs = len(prep_inp)\n",
    "        train_perc = round(1.0 * num_lcs)\n",
    "        test_perc = round(num_lcs * 0.2)\n",
    "\n",
    "        # save random indices for training\n",
    "        while len(self.train_indx) != train_perc:\n",
    "            indx = random.randint(0, num_lcs - 1)\n",
    "            self.train_indx.add(indx)\n",
    "\n",
    "        # save random indices for testint -> no duplicates from training\n",
    "        while len(self.test_indx) <= test_perc:\n",
    "            indx = random.randint(0, num_lcs - 1)\n",
    "            # if indx not in self.train_indx:\n",
    "            self.test_indx.add(indx)\n",
    "\n",
    "        # extract training data\n",
    "        for ind in self.train_indx:\n",
    "            x_train.append(prep_inp[ind])\n",
    "            y_train.append(prep_out[ind])\n",
    "\n",
    "        # extract testing data\n",
    "        for ind in self.test_indx:\n",
    "            x_test.append(prep_inp[ind])\n",
    "            y_test.append(prep_out[ind])\n",
    "\n",
    "        # change to numpy arrays\n",
    "        x_train = np.array(x_train).astype(np.float64)\n",
    "        x_test = np.array(x_test).astype(np.float64)\n",
    "        y_train = np.array(y_train).astype(np.float64)\n",
    "        y_test = np.array(y_test).astype(np.float64)\n",
    "\n",
    "        print('shape of prep_inp and x_train:', prep_inp.shape, x_train.shape)\n",
    "        print('shape of prep_out and y_train:', prep_out.shape, y_train.shape)\n",
    "\n",
    "        return x_train, x_test, y_train, y_test, prep_inp, prep_out\n",
    "\n",
    "    def compute_masks(self, x_train, size):\n",
    "        masks = []\n",
    "        for light_curve in x_train:\n",
    "            mask = []\n",
    "            for (time, band, flux, error) in light_curve:\n",
    "                if band == 0:\n",
    "                    mask.append([0.0] * (size))\n",
    "                else:\n",
    "                    mask.append([1.0] * (size))\n",
    "            masks.append(mask)\n",
    "\n",
    "        return np.array(masks)\n",
    "\n",
    "    def train_model(self, x_train, x_test, y_train, y_test):\n",
    "        \"\"\"\n",
    "        Trains the NN on training data\n",
    "\n",
    "        Returns the trained model.\n",
    "        \"\"\"\n",
    "        # fit model\n",
    "        train_inp_two = x_train[:, :, :2]\n",
    "        assert (train_inp_two.shape == (x_train.shape[0], x_train.shape[1], 2))\n",
    "\n",
    "        test_inp_two = x_test[:, :, :2]\n",
    "        assert (test_inp_two.shape == (x_test.shape[0], x_test.shape[1], 2))\n",
    "\n",
    "        train_masks = self.compute_masks(x_train, self.latent_dim + 2)\n",
    "        test_masks = self.compute_masks(x_test, self.latent_dim + 2)\n",
    "\n",
    "        train_dec_output_masks = self.compute_masks(x_train, 1)\n",
    "        test_dec_output_masks = self.compute_masks(x_test, 1)\n",
    "\n",
    "        print('fitting model...')\n",
    "        history = self.fit([x_train, train_inp_two, train_masks, train_dec_output_masks],\n",
    "                           y_train, epochs=self.epochs, batch_size=self.batch_size,\n",
    "                           validation_data=([x_test, test_inp_two, test_masks, test_dec_output_masks], y_test),\n",
    "                           verbose=1, shuffle=False)\n",
    "\n",
    "        plt.plot(history.history['loss'])\n",
    "        plt.plot(history.history['val_loss'])\n",
    "        plt.title('model loss')\n",
    "        plt.ylabel('loss')\n",
    "        plt.xlabel('epoch')\n",
    "        plt.legend(['train', 'val'], loc='upper left')\n",
    "        plt.show()\n",
    "\n",
    "    def test_model(self, x_test, y_test, amount=None):\n",
    "        \"\"\"\n",
    "        Uses test data to and NN to predict light curve decodings.\n",
    "\n",
    "        Plots reconstructed light curved from the model prediction vs the orignal curve.\n",
    "        \"\"\"\n",
    "        if amount:\n",
    "            indices = random.sample(range(len(x_test)), k=amount)\n",
    "            x_test = np.array([x_test[i] for i in indices])\n",
    "            y_test = np.array([y_test[i] for i in indices])\n",
    "\n",
    "        test_inp_two = x_test[:, :, [0, 3]]\n",
    "\n",
    "        print('test_inp_one shape: ', x_test.shape)\n",
    "        print('test_inp_two shape: ', test_inp_two.shape)\n",
    "\n",
    "        self.summary()\n",
    "        #\n",
    "        # Create array to store the encoded flux\n",
    "        #\n",
    "        encoded_flux = np.zeros((len(x_test), len(x_test[0])))\n",
    "        print(f\"\\nencoded flux shape:\", encoded_flux.shape)\n",
    "        print('predicting...')\n",
    "\n",
    "\n",
    "        for i in tqdm(range(len(x_test))):\n",
    "\n",
    "            # predicted flux\n",
    "            predicted = self.predict([x_test[i].reshape(-1, self.num_timesteps, 4),\n",
    "                                      test_inp_two[i].reshape(-1, self.num_timesteps, 2),\n",
    "                                      # train_masks\n",
    "                                      self.compute_masks(x_test[i].reshape(-1, self.num_timesteps, 4),\n",
    "                                                         self.latent_dim + 2),\n",
    "                                      # train output masks\n",
    "                                      self.compute_masks(x_test[i].reshape(-1, self.num_timesteps, 4), 1)\n",
    "                                      ])[0]\n",
    "            print(\"\\n After self.predict() --> \",predicted.shape,\"\\n\", type(predicted),\"\\n\")\n",
    "            encoded_flux[i] = predicted.T\n",
    "            print(f\"\\nencoded flux shape:\", encoded_flux.shape)\n",
    "            # if first prediction, print the prediction\n",
    "            if i == 0:\n",
    "                print('shape of predicted data: ', predicted.shape)\n",
    "\n",
    "            self.plot_band_pred(y_test[i], predicted, i, test_inp_two[i])\n",
    "\n",
    "        print(\"done predicting\")\n",
    "        #\n",
    "        # Store the file in -- '/latent_space_data/{type}/' folder\n",
    "        #\n",
    "        \n",
    "        with open(f\"/content/gdrive/My Drive/latent_space_data/vae_data.pickle\", 'wb') as file:\n",
    "            pickle.dump(encoded_flux, file)\n",
    "\n",
    "    def plot_band_pred(self, raw, pred, num, time_filters):\n",
    "        # print(\"\\nflux shape\", raw.shape, \"\\n\",pred.shape, \"\\n\", raw, \"\\n\", pred)\n",
    "        # print()\n",
    "        raw_g_flux = []\n",
    "        raw_r_flux = []\n",
    "        raw_tess_flux = []\n",
    "\n",
    "        pred_g_flux = []\n",
    "        pred_r_flux = []\n",
    "        pred_tess_flux = []\n",
    "\n",
    "        g_time = []\n",
    "        r_time = []\n",
    "        tess_time = []\n",
    "        # print(\"\\n time_filter --->\", time_filters)\n",
    "        for i in range(len(time_filters)):\n",
    "            time, filter_ID = time_filters[i]\n",
    "            raw_flux = raw[i, 0]\n",
    "            pred_flux = pred[i, 0]\n",
    "            if filter_ID == 4.716:\n",
    "                raw_g_flux.append(raw_flux)\n",
    "                pred_g_flux.append(pred_flux)\n",
    "                g_time.append(time)\n",
    "            elif filter_ID == 6.215:\n",
    "                raw_r_flux.append(raw_flux)\n",
    "                pred_r_flux.append(pred_flux)\n",
    "                r_time.append(time)\n",
    "            elif filter_ID == 7.865:\n",
    "                raw_tess_flux.append(raw_flux)\n",
    "                pred_tess_flux.append(pred_flux)\n",
    "                tess_time.append(time)\n",
    "\n",
    "        # plot\n",
    "        # make 1 x 2 figure\n",
    "        fig, (ax1, ax2) = plt.subplots(2, sharey=True)\n",
    "        fig.suptitle('True vs Decoded Light Curves: ')  # + str(light_curve_names[num]))\n",
    "\n",
    "        # pred_time = range(len(pred_flux))\n",
    "        # raw_time = range(len(raw_flux))\n",
    "\n",
    "        # plot raw data\n",
    "        ax1.scatter(g_time, raw_g_flux, label='g-band', color='green')\n",
    "        ax1.scatter(r_time, raw_r_flux, label='r-band', color='red')\n",
    "        ax1.scatter(tess_time, raw_tess_flux, label='tess-band')\n",
    "        ax1.set_ylabel('actual')\n",
    "\n",
    "        # plot predicted data\n",
    "        ax2.set_ylabel('predicted')\n",
    "        ax2.scatter(g_time, pred_g_flux, label='g-band', color='green')\n",
    "        ax2.scatter(r_time, pred_r_flux, label='r-band', color='red')\n",
    "        ax2.scatter(tess_time, pred_tess_flux, label='tess-band')\n",
    "        # save image\n",
    "        #fig.show()\n",
    "        fig.savefig(\"/content/gdrive/My Drive/light_curve_plots/\" + str(num) + \".png\")\n",
    "\n",
    "    def save_latent_space(self, X_in):\n",
    "        latent_space = vae.encoder(X_in)\n",
    "\n",
    "        with open(f\"../latent_space_data/vae_latent_space.pickle\", 'wb') as file:\n",
    "            pickle.dump(latent_space, file)\n",
    "\n",
    "        return latent_space"
   ],
   "metadata": {
    "id": "72qJVsSK6YX8"
   },
   "execution_count": 9,
   "outputs": []
  },
  {
   "cell_type": "code",
   "source": [
    "class GenerateData(object):\n",
    "\n",
    "    def __init__(self, lc_type=None, passbands=[\"r\", \"g\"], path=None, metadata=None):\n",
    "\n",
    "        \"\"\"\n",
    "        Generates data for Variational Auto-Encoder\n",
    "\n",
    "        Parameters\n",
    "        ----------\n",
    "        lc_type: string\n",
    "            type of light curves (transits or transients)\n",
    "\n",
    "        n_filters: int (default =1)\n",
    "            number of filters for the PLAsTiCC light curves\n",
    "\n",
    "        path: string\n",
    "            the file location of the light curves\n",
    "\n",
    "        \"\"\"\n",
    "\n",
    "        self.type = lc_type\n",
    "        self.path = path\n",
    "        self.labels = None\n",
    "        self.passbands = passbands\n",
    "        self.metadata = metadata\n",
    "\n",
    "        try:\n",
    "            if self.type not in [\"transits\", \"transients\"]:\n",
    "                raise ValueError(f\"\\nValueError: '{self.type}' is not a valid type!\"\n",
    "                                 f\"\\nPlease provide the type as - 'transits' or 'transients'.\")\n",
    "\n",
    "            if self.type == \"transits\":\n",
    "                raise NotImplementedError(f\"\\nNotImplementedError: Please specify the -- type -- as 'transients'!\\n\"\n",
    "                                          f\"'{self.type}' is not implemented yet!\\n\")\n",
    "        except Exception as e:\n",
    "            print(e)\n",
    "            exit()\n",
    "\n",
    "        try:\n",
    "\n",
    "            if self.metadata:\n",
    "                for i in self.metadata:\n",
    "                    if i not in [\"max_flux\", \"mwebv\", \"redshift\"]:\n",
    "                        raise ValueError(f\"\\nValueError: '{i}' is an invalid metadata!\"\n",
    "                                         f\"\\nPlease provide parameters as - 'max_flux' for maximum flux, 'mwebv' \"\n",
    "                                         f\"for Milky Way extinction, and 'redshift'.\")\n",
    "        except Exception as e:\n",
    "            print(e)\n",
    "            exit()\n",
    "\n",
    "        try:\n",
    "\n",
    "            for i in self.passbands:\n",
    "                if i not in [\"r\", \"g\"]:\n",
    "                    raise ValueError(f\"\\nValueError: '{i}' is an invalid passband!\"\n",
    "                                     f\"\\nPlease provide passbands as - 'r' for PLAsTiCC r-band, 'g' for PLAsTiCC g-band.\")\n",
    "        except Exception as e:\n",
    "            print(e)\n",
    "            exit()\n",
    "\n",
    "    def generate_data(self):\n",
    "        \n",
    "        curve_range = (-30, 70)\n",
    "        band_flux = dict()\n",
    "        label, columns = list(), list()\n",
    "        filename = os.listdir(self.path)\n",
    "        col_to_drop = [\"redshift\", \"mwebv\", \"max_flux\"]\n",
    "        passbands_metadata = {\"r\": 6.215, \"g\": 4.716}\n",
    "        maskval, interval_val, n_bands = 0.0, 3.0, len(self.passbands)\n",
    "        timesteps = int(((curve_range[1] - curve_range[0]) / interval_val + 1) * n_bands)\n",
    "\n",
    "        if self.metadata:\n",
    "            n_cols = 4 + len(self.metadata)\n",
    "            col_to_drop = list(set(col_to_drop) - set(self.metadata))\n",
    "        else:\n",
    "            n_cols = 4\n",
    "\n",
    "        passband_values = {i: passbands_metadata[i] for i in self.passbands}\n",
    "\n",
    "        x_train = np.zeros(shape=(len(filename), timesteps, n_cols))\n",
    "        r_flux = np.zeros(shape=(len(filename), int(timesteps / n_bands)))\n",
    "        g_flux = np.zeros(shape=(len(filename), int(timesteps / n_bands)))\n",
    "\n",
    "        for i, csv in enumerate(filename):\n",
    "            #\n",
    "            # Object_ids  for the PLAsTiCC data set\n",
    "            #\n",
    "            id = os.path.splitext(csv)\n",
    "            #\n",
    "            label.append(id[0])\n",
    "            df = pd.read_csv(self.path + csv)\n",
    "            df.index = df[\"relative_time\"]\n",
    "            df = df.fillna(maskval)\n",
    "\n",
    "            combined_df = pd.DataFrame()\n",
    "\n",
    "            for pb, id in passband_values.items():\n",
    "\n",
    "                pb_df = df[[\"relative_time\", \"mwebv\", \"redshift\"]].copy()\n",
    "                pb_df[\"uncert\"] = df[f\"{pb}_uncert\"]\n",
    "                pb_df[\"flux\"] = df[f\"{pb}_flux\"]\n",
    "                pb_df[\"id\"] = id\n",
    "                pb_df[(pb_df[\"flux\"] == maskval) & (pb_df[\"uncert\"] == maskval)] = maskval\n",
    "\n",
    "                for t in np.arange(curve_range[0], curve_range[1], interval_val):\n",
    "                    if t not in pb_df[\"relative_time\"]:\n",
    "                        pb_df.loc[t] = np.full(shape=len(pb_df.columns), fill_value=maskval)\n",
    "                        pb_df = pb_df.sort_index()\n",
    "                pb_df[\"max_flux\"] = np.full(shape=len(pb_df), fill_value=max(pb_df[\"flux\"]))\n",
    "                pb_df[(pb_df[\"relative_time\"] == maskval)] = maskval\n",
    "\n",
    "                if pb == \"g\":\n",
    "                    g_flux[i] = pb_df[\"flux\"].values\n",
    "                elif pb == \"r\":\n",
    "                    r_flux[i] = pb_df[\"flux\"].values\n",
    "\n",
    "                combined_df = pd.concat([pb_df, combined_df])\n",
    "\n",
    "            if col_to_drop:\n",
    "                combined_df = combined_df.drop(columns=col_to_drop)\n",
    "\n",
    "            x_train[i] = combined_df.sort_index().to_numpy()\n",
    "\n",
    "        query_cols = ['relative_time', 'id']\n",
    "        #\n",
    "        # It holds the index value of the query columns - time and id\n",
    "        #\n",
    "        cols_index = [combined_df.columns.get_loc(col) for col in query_cols]\n",
    "        #\n",
    "        # It holds the index value of the flux column\n",
    "        #\n",
    "        flux_index = combined_df.columns.get_loc(\"flux\")\n",
    "        self.labels = label\n",
    "        band_flux[\"r\"], band_flux[\"g\"] = r_flux, g_flux\n",
    "        return x_train, cols_index, flux_index, self.labels, band_flux\n",
    "\n",
    "    def save_data(self):\n",
    "        #\n",
    "        # Load the VAE transformed data and add metadata to the file\n",
    "        #\n",
    "        try:\n",
    "            with open(f\"../latent_space_data/transients/vae.pickle\", 'rb') as file:\n",
    "                data_ = pickle.load(file)\n",
    "            data = {'data': data_, 'labels': self.labels}\n",
    "            #\n",
    "            # Store the file in -- '/latent_space_data/{type}/' folder\n",
    "            #\n",
    "            with open(f\"../latent_space_data/{self.type}/vae.pickle\", 'wb') as file:\n",
    "                pickle.dump(data, file)\n",
    "\n",
    "        except Exception as e:\n",
    "            print(f\"\\nUnknownError: {e}\\n\")\n",
    "            return\n",
    "        #\n",
    "        #\n",
    "        #\n",
    "        print(f\"\\nVAE latent space data is extracted and stored \"\n",
    "              f\"in -- /latent_space_data/{self.type} -- folder!\\n\")"
   ],
   "metadata": {
    "id": "YySZzGmk69jd"
   },
   "execution_count": 10,
   "outputs": []
  },
  {
   "cell_type": "code",
   "source": [
    "if __name__ == '__main__':\n",
    "\n",
    "    # Get data\n",
    "    data = GenerateData(lc_type=\"transients\", path=f\"/content/gdrive/My Drive/processed_data/\", passbands=[\"g\", \"r\"])\n",
    "    X, time_id_index, flux_index, labels, band_flux = data.generate_data()\n",
    "\n",
    "    # Train VAE\n",
    "    vae = VAE(X)\n",
    "    x_train, x_test, y_train, y_test, prep_inp, prep_out = vae.split_training_data()\n",
    "    check_pt_path = \"/content/gdrive/My Drive/saved_models/vae_chck_pts/\"\n",
    "\n",
    "    # training loop: after training model for 20 epochs, save it. Do this 25 iterations to train for 500 epochs\n",
    "    optimizer = tf.keras.optimizers.Adam(clipvalue=1.0)\n",
    "    vae.compile(optimizer=optimizer, loss=vae.reconstruction_loss)\n",
    "    vae.epochs = 3\n",
    "    for check_pt_numb in range(21, 22):\n",
    "        vae.train_model(x_train, x_test, y_train, y_test)\n",
    "        vae.save(check_pt_path + 'ckpt_' + str(check_pt_numb))\n",
    "\n",
    "    # Load saved model\n",
    "    rvae = VAE(X)\n",
    "    vae = keras.models.load_model(\n",
    "        check_pt_path + \"ckpt_21\",\n",
    "        custom_objects={\n",
    "            'VAE': rvae,\n",
    "            'Encoder': Encoder,\n",
    "            'Decoder': Decoder,\n",
    "            'Sampling': Sampling,\n",
    "            'reconstruction_loss': rvae.reconstruction_loss,\n",
    "            'CustomMasking': CustomMasking\n",
    "        })\n",
    "\n",
    "    vae.test_model(prep_inp, prep_out)\n",
    "\n",
    "    # Save latent space\n",
    "    latentspace = vae.save_latent_space(X)\n"
   ],
   "metadata": {
    "id": "v2SxlbNS7PBW",
    "colab": {
     "base_uri": "https://localhost:8080/",
     "height": 1000
    },
    "outputId": "09fca1d8-e631-4620-c4c1-63bb2a0f0faf"
   },
   "execution_count": null,
   "outputs": [
    {
     "output_type": "stream",
     "name": "stdout",
     "text": [
      "Splitting data into train and test...\n",
      "shape of prep_inp and x_train: (5700, 68, 4) (5700, 68, 4)\n",
      "shape of prep_out and y_train: (5700, 68, 1) (5700, 68, 1)\n",
      "fitting model...\n",
      "Epoch 1/3\n"
     ]
    },
    {
     "output_type": "stream",
     "name": "stderr",
     "text": [
      "/usr/local/lib/python3.9/dist-packages/tensorflow/python/data/ops/structured_function.py:254: UserWarning: Even though the `tf.config.experimental_run_functions_eagerly` option is set, this option does not apply to tf.data functions. To force eager execution of tf.data functions, please use `tf.data.experimental.enable_debug_mode()`.\n",
      "  warnings.warn(\n"
     ]
    },
    {
     "output_type": "stream",
     "name": "stdout",
     "text": [
      "90/90 [==============================] - 393s 4s/step - loss: 15.1826 - val_loss: 15.5219\n",
      "Epoch 2/3\n",
      "90/90 [==============================] - 405s 5s/step - loss: 15.1628 - val_loss: 15.5201\n",
      "Epoch 3/3\n",
      "90/90 [==============================] - 409s 5s/step - loss: 15.1621 - val_loss: 15.5199\n"
     ]
    },
    {
     "output_type": "display_data",
     "data": {
      "text/plain": [
       "<Figure size 640x480 with 1 Axes>"
      ],
      "image/png": "[encoded data removed]"
     },
     "metadata": {}
    },
    {
     "output_type": "stream",
     "name": "stderr",
     "text": [
      "WARNING:absl:Found untraced functions such as _update_step_xla while saving (showing 1 of 1). These functions will not be directly callable after loading.\n"
     ]
    },
    {
     "output_type": "stream",
     "name": "stdout",
     "text": [
      "test_inp_one shape:  (5700, 68, 4)\n",
      "test_inp_two shape:  (5700, 68, 2)\n",
      "Model: \"vae\"\n",
      "_________________________________________________________________\n",
      " Layer (type)                Output Shape              Param #   \n",
      "=================================================================\n",
      " encoder (Encoder)           multiple                  274935    \n",
      "                                                                 \n",
      " decoder (Decoder)           multiple                  254651    \n",
      "                                                                 \n",
      "=================================================================\n",
      "Total params: 529,586\n",
      "Trainable params: 529,586\n",
      "Non-trainable params: 0\n",
      "_________________________________________________________________\n",
      "\n",
      "encoded flux shape: (5700, 68)\n",
      "predicting...\n"
     ]
    },
    {
     "output_type": "stream",
     "name": "stderr",
     "text": [
      "\r  0%|          | 0/5700 [00:00<?, ?it/s]/usr/local/lib/python3.9/dist-packages/tensorflow/python/data/ops/structured_function.py:254: UserWarning: Even though the `tf.config.experimental_run_functions_eagerly` option is set, this option does not apply to tf.data functions. To force eager execution of tf.data functions, please use `tf.data.experimental.enable_debug_mode()`.\n",
      "  warnings.warn(\n"
     ]
    },
    {
     "output_type": "stream",
     "name": "stdout",
     "text": [
      "1/1 [==============================] - 1s 1s/step\n"
     ]
    },
    {
     "output_type": "stream",
     "name": "stderr",
     "text": [
      "\r  0%|          | 1/5700 [00:01<2:08:53,  1.36s/it]"
     ]
    },
    {
     "output_type": "stream",
     "name": "stdout",
     "text": [
      "\n",
      " After self.predict() -->  (68, 1) \n",
      " <class 'numpy.ndarray'> \n",
      "\n",
      "\n",
      "encoded flux shape: (5700, 68)\n",
      "shape of predicted data:  (68, 1)\n",
      "1/1 [==============================] - 1s 1s/step\n"
     ]
    },
    {
     "output_type": "stream",
     "name": "stderr",
     "text": [
      "\r  0%|          | 2/5700 [00:02<2:08:45,  1.36s/it]"
     ]
    },
    {
     "output_type": "stream",
     "name": "stdout",
     "text": [
      "\n",
      " After self.predict() -->  (68, 1) \n",
      " <class 'numpy.ndarray'> \n",
      "\n",
      "\n",
      "encoded flux shape: (5700, 68)\n",
      "1/1 [==============================] - 1s 1s/step\n"
     ]
    },
    {
     "output_type": "stream",
     "name": "stderr",
     "text": [
      "\r  0%|          | 3/5700 [00:03<2:00:52,  1.27s/it]"
     ]
    },
    {
     "output_type": "stream",
     "name": "stdout",
     "text": [
      "\n",
      " After self.predict() -->  (68, 1) \n",
      " <class 'numpy.ndarray'> \n",
      "\n",
      "\n",
      "encoded flux shape: (5700, 68)\n",
      "1/1 [==============================] - 1s 1s/step\n"
     ]
    },
    {
     "output_type": "stream",
     "name": "stderr",
     "text": [
      "\r  0%|          | 4/5700 [00:05<1:57:13,  1.23s/it]"
     ]
    },
    {
     "output_type": "stream",
     "name": "stdout",
     "text": [
      "\n",
      " After self.predict() -->  (68, 1) \n",
      " <class 'numpy.ndarray'> \n",
      "\n",
      "\n",
      "encoded flux shape: (5700, 68)\n",
      "1/1 [==============================] - 1s 1s/step\n"
     ]
    },
    {
     "output_type": "stream",
     "name": "stderr",
     "text": [
      "\r  0%|          | 5/5700 [00:06<1:56:02,  1.22s/it]"
     ]
    },
    {
     "output_type": "stream",
     "name": "stdout",
     "text": [
      "\n",
      " After self.predict() -->  (68, 1) \n",
      " <class 'numpy.ndarray'> \n",
      "\n",
      "\n",
      "encoded flux shape: (5700, 68)\n",
      "1/1 [==============================] - 2s 2s/step\n"
     ]
    },
    {
     "output_type": "stream",
     "name": "stderr",
     "text": [
      "\r  0%|          | 6/5700 [00:08<2:42:18,  1.71s/it]"
     ]
    },
    {
     "output_type": "stream",
     "name": "stdout",
     "text": [
      "\n",
      " After self.predict() -->  (68, 1) \n",
      " <class 'numpy.ndarray'> \n",
      "\n",
      "\n",
      "encoded flux shape: (5700, 68)\n",
      "1/1 [==============================] - 1s 1s/step\n"
     ]
    },
    {
     "output_type": "stream",
     "name": "stderr",
     "text": [
      "\r  0%|          | 7/5700 [00:10<2:33:28,  1.62s/it]"
     ]
    },
    {
     "output_type": "stream",
     "name": "stdout",
     "text": [
      "\n",
      " After self.predict() -->  (68, 1) \n",
      " <class 'numpy.ndarray'> \n",
      "\n",
      "\n",
      "encoded flux shape: (5700, 68)\n",
      "1/1 [==============================] - 1s 1s/step\n"
     ]
    },
    {
     "output_type": "stream",
     "name": "stderr",
     "text": [
      "\r  0%|          | 8/5700 [00:11<2:19:52,  1.47s/it]"
     ]
    },
    {
     "output_type": "stream",
     "name": "stdout",
     "text": [
      "\n",
      " After self.predict() -->  (68, 1) \n",
      " <class 'numpy.ndarray'> \n",
      "\n",
      "\n",
      "encoded flux shape: (5700, 68)\n",
      "1/1 [==============================] - 1s 1s/step\n"
     ]
    },
    {
     "output_type": "stream",
     "name": "stderr",
     "text": [
      "\r  0%|          | 9/5700 [00:12<2:10:29,  1.38s/it]"
     ]
    },
    {
     "output_type": "stream",
     "name": "stdout",
     "text": [
      "\n",
      " After self.predict() -->  (68, 1) \n",
      " <class 'numpy.ndarray'> \n",
      "\n",
      "\n",
      "encoded flux shape: (5700, 68)\n",
      "1/1 [==============================] - 1s 1s/step\n"
     ]
    },
    {
     "output_type": "stream",
     "name": "stderr",
     "text": [
      "\r  0%|          | 10/5700 [00:14<2:09:23,  1.36s/it]"
     ]
    },
    {
     "output_type": "stream",
     "name": "stdout",
     "text": [
      "\n",
      " After self.predict() -->  (68, 1) \n",
      " <class 'numpy.ndarray'> \n",
      "\n",
      "\n",
      "encoded flux shape: (5700, 68)\n",
      "1/1 [==============================] - 1s 1s/step\n"
     ]
    },
    {
     "output_type": "stream",
     "name": "stderr",
     "text": [
      "\r  0%|          | 11/5700 [00:15<2:08:36,  1.36s/it]"
     ]
    },
    {
     "output_type": "stream",
     "name": "stdout",
     "text": [
      "\n",
      " After self.predict() -->  (68, 1) \n",
      " <class 'numpy.ndarray'> \n",
      "\n",
      "\n",
      "encoded flux shape: (5700, 68)\n",
      "1/1 [==============================] - 1s 1s/step\n"
     ]
    },
    {
     "output_type": "stream",
     "name": "stderr",
     "text": [
      "\r  0%|          | 12/5700 [00:16<2:08:16,  1.35s/it]"
     ]
    },
    {
     "output_type": "stream",
     "name": "stdout",
     "text": [
      "\n",
      " After self.predict() -->  (68, 1) \n",
      " <class 'numpy.ndarray'> \n",
      "\n",
      "\n",
      "encoded flux shape: (5700, 68)\n",
      "1/1 [==============================] - 1s 1s/step\n"
     ]
    },
    {
     "output_type": "stream",
     "name": "stderr",
     "text": [
      "\r  0%|          | 13/5700 [00:17<2:02:26,  1.29s/it]"
     ]
    },
    {
     "output_type": "stream",
     "name": "stdout",
     "text": [
      "\n",
      " After self.predict() -->  (68, 1) \n",
      " <class 'numpy.ndarray'> \n",
      "\n",
      "\n",
      "encoded flux shape: (5700, 68)\n",
      "1/1 [==============================] - 1s 1s/step\n"
     ]
    },
    {
     "output_type": "stream",
     "name": "stderr",
     "text": [
      "\r  0%|          | 14/5700 [00:19<1:58:43,  1.25s/it]"
     ]
    },
    {
     "output_type": "stream",
     "name": "stdout",
     "text": [
      "\n",
      " After self.predict() -->  (68, 1) \n",
      " <class 'numpy.ndarray'> \n",
      "\n",
      "\n",
      "encoded flux shape: (5700, 68)\n",
      "1/1 [==============================] - 1s 1s/step\n"
     ]
    },
    {
     "output_type": "stream",
     "name": "stderr",
     "text": [
      "\r  0%|          | 15/5700 [00:20<2:01:49,  1.29s/it]"
     ]
    },
    {
     "output_type": "stream",
     "name": "stdout",
     "text": [
      "\n",
      " After self.predict() -->  (68, 1) \n",
      " <class 'numpy.ndarray'> \n",
      "\n",
      "\n",
      "encoded flux shape: (5700, 68)\n",
      "1/1 [==============================] - 2s 2s/step\n"
     ]
    },
    {
     "output_type": "stream",
     "name": "stderr",
     "text": [
      "\r  0%|          | 16/5700 [00:23<2:40:54,  1.70s/it]"
     ]
    },
    {
     "output_type": "stream",
     "name": "stdout",
     "text": [
      "\n",
      " After self.predict() -->  (68, 1) \n",
      " <class 'numpy.ndarray'> \n",
      "\n",
      "\n",
      "encoded flux shape: (5700, 68)\n",
      "1/1 [==============================] - 1s 1s/step\n"
     ]
    },
    {
     "output_type": "stream",
     "name": "stderr",
     "text": [
      "\r  0%|          | 17/5700 [00:24<2:31:27,  1.60s/it]"
     ]
    },
    {
     "output_type": "stream",
     "name": "stdout",
     "text": [
      "\n",
      " After self.predict() -->  (68, 1) \n",
      " <class 'numpy.ndarray'> \n",
      "\n",
      "\n",
      "encoded flux shape: (5700, 68)\n",
      "1/1 [==============================] - 1s 1s/step\n"
     ]
    },
    {
     "output_type": "stream",
     "name": "stderr",
     "text": [
      "\r  0%|          | 18/5700 [00:25<2:24:20,  1.52s/it]"
     ]
    },
    {
     "output_type": "stream",
     "name": "stdout",
     "text": [
      "\n",
      " After self.predict() -->  (68, 1) \n",
      " <class 'numpy.ndarray'> \n",
      "\n",
      "\n",
      "encoded flux shape: (5700, 68)\n",
      "1/1 [==============================] - 1s 1s/step\n"
     ]
    },
    {
     "output_type": "stream",
     "name": "stderr",
     "text": [
      "\r  0%|          | 19/5700 [00:27<2:18:55,  1.47s/it]"
     ]
    },
    {
     "output_type": "stream",
     "name": "stdout",
     "text": [
      "\n",
      " After self.predict() -->  (68, 1) \n",
      " <class 'numpy.ndarray'> \n",
      "\n",
      "\n",
      "encoded flux shape: (5700, 68)\n",
      "1/1 [==============================] - 1s 1s/step\n"
     ]
    },
    {
     "output_type": "stream",
     "name": "stderr",
     "text": [
      "\r  0%|          | 20/5700 [00:28<2:09:54,  1.37s/it]"
     ]
    },
    {
     "output_type": "stream",
     "name": "stdout",
     "text": [
      "\n",
      " After self.predict() -->  (68, 1) \n",
      " <class 'numpy.ndarray'> \n",
      "\n",
      "\n",
      "encoded flux shape: (5700, 68)\n",
      "1/1 [==============================] - 1s 1s/step\n"
     ]
    },
    {
     "output_type": "stream",
     "name": "stderr",
     "text": [
      "\r  0%|          | 21/5700 [00:29<2:04:38,  1.32s/it]"
     ]
    },
    {
     "output_type": "stream",
     "name": "stdout",
     "text": [
      "\n",
      " After self.predict() -->  (68, 1) \n",
      " <class 'numpy.ndarray'> \n",
      "\n",
      "\n",
      "encoded flux shape: (5700, 68)\n",
      "1/1 [==============================] - 1s 1s/step\n"
     ]
    },
    {
     "output_type": "stream",
     "name": "stderr",
     "text": [
      "\r  0%|          | 22/5700 [00:30<2:00:24,  1.27s/it]"
     ]
    },
    {
     "output_type": "stream",
     "name": "stdout",
     "text": [
      "\n",
      " After self.predict() -->  (68, 1) \n",
      " <class 'numpy.ndarray'> \n",
      "\n",
      "\n",
      "encoded flux shape: (5700, 68)\n",
      "1/1 [==============================] - 1s 1s/step\n"
     ]
    },
    {
     "output_type": "stream",
     "name": "stderr",
     "text": [
      "\r  0%|          | 23/5700 [00:31<2:02:03,  1.29s/it]"
     ]
    },
    {
     "output_type": "stream",
     "name": "stdout",
     "text": [
      "\n",
      " After self.predict() -->  (68, 1) \n",
      " <class 'numpy.ndarray'> \n",
      "\n",
      "\n",
      "encoded flux shape: (5700, 68)\n",
      "1/1 [==============================] - 1s 1s/step\n"
     ]
    },
    {
     "output_type": "stream",
     "name": "stderr",
     "text": [
      "\r  0%|          | 24/5700 [00:33<2:03:24,  1.30s/it]"
     ]
    },
    {
     "output_type": "stream",
     "name": "stdout",
     "text": [
      "\n",
      " After self.predict() -->  (68, 1) \n",
      " <class 'numpy.ndarray'> \n",
      "\n",
      "\n",
      "encoded flux shape: (5700, 68)\n",
      "1/1 [==============================] - 2s 2s/step\n"
     ]
    },
    {
     "output_type": "stream",
     "name": "stderr",
     "text": [
      "\r  0%|          | 25/5700 [00:35<2:41:33,  1.71s/it]"
     ]
    },
    {
     "output_type": "stream",
     "name": "stdout",
     "text": [
      "\n",
      " After self.predict() -->  (68, 1) \n",
      " <class 'numpy.ndarray'> \n",
      "\n",
      "\n",
      "encoded flux shape: (5700, 68)\n",
      "1/1 [==============================] - 1s 1s/step\n"
     ]
    },
    {
     "output_type": "stream",
     "name": "stderr",
     "text": [
      "\r  0%|          | 26/5700 [00:37<2:32:40,  1.61s/it]"
     ]
    },
    {
     "output_type": "stream",
     "name": "stdout",
     "text": [
      "\n",
      " After self.predict() -->  (68, 1) \n",
      " <class 'numpy.ndarray'> \n",
      "\n",
      "\n",
      "encoded flux shape: (5700, 68)\n",
      "1/1 [==============================] - 1s 1s/step\n"
     ]
    },
    {
     "output_type": "stream",
     "name": "stderr",
     "text": [
      "\r  0%|          | 27/5700 [00:38<2:20:30,  1.49s/it]"
     ]
    },
    {
     "output_type": "stream",
     "name": "stdout",
     "text": [
      "\n",
      " After self.predict() -->  (68, 1) \n",
      " <class 'numpy.ndarray'> \n",
      "\n",
      "\n",
      "encoded flux shape: (5700, 68)\n",
      "1/1 [==============================] - 1s 1s/step\n"
     ]
    },
    {
     "output_type": "stream",
     "name": "stderr",
     "text": [
      "\r  0%|          | 28/5700 [00:39<2:12:04,  1.40s/it]"
     ]
    },
    {
     "output_type": "stream",
     "name": "stdout",
     "text": [
      "\n",
      " After self.predict() -->  (68, 1) \n",
      " <class 'numpy.ndarray'> \n",
      "\n",
      "\n",
      "encoded flux shape: (5700, 68)\n",
      "1/1 [==============================] - 1s 1s/step\n"
     ]
    },
    {
     "output_type": "stream",
     "name": "stderr",
     "text": [
      "\r  1%|          | 29/5700 [00:40<2:05:23,  1.33s/it]"
     ]
    },
    {
     "output_type": "stream",
     "name": "stdout",
     "text": [
      "\n",
      " After self.predict() -->  (68, 1) \n",
      " <class 'numpy.ndarray'> \n",
      "\n",
      "\n",
      "encoded flux shape: (5700, 68)\n",
      "1/1 [==============================] - 1s 1s/step\n"
     ]
    },
    {
     "output_type": "stream",
     "name": "stderr",
     "text": [
      "\r  1%|          | 30/5700 [00:42<2:05:41,  1.33s/it]"
     ]
    },
    {
     "output_type": "stream",
     "name": "stdout",
     "text": [
      "\n",
      " After self.predict() -->  (68, 1) \n",
      " <class 'numpy.ndarray'> \n",
      "\n",
      "\n",
      "encoded flux shape: (5700, 68)\n",
      "1/1 [==============================] - 1s 1s/step\n"
     ]
    },
    {
     "output_type": "stream",
     "name": "stderr",
     "text": [
      "\r  1%|          | 31/5700 [00:43<2:01:31,  1.29s/it]"
     ]
    },
    {
     "output_type": "stream",
     "name": "stdout",
     "text": [
      "\n",
      " After self.predict() -->  (68, 1) \n",
      " <class 'numpy.ndarray'> \n",
      "\n",
      "\n",
      "encoded flux shape: (5700, 68)\n",
      "1/1 [==============================] - 1s 1s/step\n"
     ]
    },
    {
     "output_type": "stream",
     "name": "stderr",
     "text": [
      "\r  1%|          | 32/5700 [00:44<2:02:56,  1.30s/it]"
     ]
    },
    {
     "output_type": "stream",
     "name": "stdout",
     "text": [
      "\n",
      " After self.predict() -->  (68, 1) \n",
      " <class 'numpy.ndarray'> \n",
      "\n",
      "\n",
      "encoded flux shape: (5700, 68)\n",
      "1/1 [==============================] - 1s 1s/step\n"
     ]
    },
    {
     "output_type": "stream",
     "name": "stderr",
     "text": [
      "\r  1%|          | 33/5700 [00:46<2:04:03,  1.31s/it]"
     ]
    },
    {
     "output_type": "stream",
     "name": "stdout",
     "text": [
      "\n",
      " After self.predict() -->  (68, 1) \n",
      " <class 'numpy.ndarray'> \n",
      "\n",
      "\n",
      "encoded flux shape: (5700, 68)\n",
      "1/1 [==============================] - 1s 1s/step\n"
     ]
    },
    {
     "output_type": "stream",
     "name": "stderr",
     "text": [
      "\r  1%|          | 34/5700 [00:47<2:06:56,  1.34s/it]"
     ]
    },
    {
     "output_type": "stream",
     "name": "stdout",
     "text": [
      "\n",
      " After self.predict() -->  (68, 1) \n",
      " <class 'numpy.ndarray'> \n",
      "\n",
      "\n",
      "encoded flux shape: (5700, 68)\n",
      "1/1 [==============================] - 2s 2s/step\n"
     ]
    },
    {
     "output_type": "stream",
     "name": "stderr",
     "text": [
      "\r  1%|          | 35/5700 [00:49<2:14:05,  1.42s/it]"
     ]
    },
    {
     "output_type": "stream",
     "name": "stdout",
     "text": [
      "\n",
      " After self.predict() -->  (68, 1) \n",
      " <class 'numpy.ndarray'> \n",
      "\n",
      "\n",
      "encoded flux shape: (5700, 68)\n",
      "1/1 [==============================] - 2s 2s/step\n"
     ]
    },
    {
     "output_type": "stream",
     "name": "stderr",
     "text": [
      "\r  1%|          | 36/5700 [00:50<2:19:28,  1.48s/it]"
     ]
    },
    {
     "output_type": "stream",
     "name": "stdout",
     "text": [
      "\n",
      " After self.predict() -->  (68, 1) \n",
      " <class 'numpy.ndarray'> \n",
      "\n",
      "\n",
      "encoded flux shape: (5700, 68)\n",
      "1/1 [==============================] - 1s 1s/step\n"
     ]
    },
    {
     "output_type": "stream",
     "name": "stderr",
     "text": [
      "\r  1%|          | 37/5700 [00:51<2:10:22,  1.38s/it]"
     ]
    },
    {
     "output_type": "stream",
     "name": "stdout",
     "text": [
      "\n",
      " After self.predict() -->  (68, 1) \n",
      " <class 'numpy.ndarray'> \n",
      "\n",
      "\n",
      "encoded flux shape: (5700, 68)\n",
      "1/1 [==============================] - 1s 1s/step\n"
     ]
    },
    {
     "output_type": "stream",
     "name": "stderr",
     "text": [
      "\r  1%|          | 38/5700 [00:53<2:09:10,  1.37s/it]"
     ]
    },
    {
     "output_type": "stream",
     "name": "stdout",
     "text": [
      "\n",
      " After self.predict() -->  (68, 1) \n",
      " <class 'numpy.ndarray'> \n",
      "\n",
      "\n",
      "encoded flux shape: (5700, 68)\n",
      "1/1 [==============================] - 1s 1s/step\n"
     ]
    },
    {
     "output_type": "stream",
     "name": "stderr",
     "text": [
      "\r  1%|          | 39/5700 [00:54<2:08:12,  1.36s/it]"
     ]
    },
    {
     "output_type": "stream",
     "name": "stdout",
     "text": [
      "\n",
      " After self.predict() -->  (68, 1) \n",
      " <class 'numpy.ndarray'> \n",
      "\n",
      "\n",
      "encoded flux shape: (5700, 68)\n",
      "1/1 [==============================] - 1s 1s/step\n"
     ]
    },
    {
     "output_type": "stream",
     "name": "stderr",
     "text": [
      "\r  1%|          | 40/5700 [00:55<2:03:19,  1.31s/it]"
     ]
    },
    {
     "output_type": "stream",
     "name": "stdout",
     "text": [
      "\n",
      " After self.predict() -->  (68, 1) \n",
      " <class 'numpy.ndarray'> \n",
      "\n",
      "\n",
      "encoded flux shape: (5700, 68)\n",
      "1/1 [==============================] - 1s 1s/step\n"
     ]
    },
    {
     "output_type": "stream",
     "name": "stderr",
     "text": [
      "\r  1%|          | 41/5700 [00:57<2:04:08,  1.32s/it]"
     ]
    },
    {
     "output_type": "stream",
     "name": "stdout",
     "text": [
      "\n",
      " After self.predict() -->  (68, 1) \n",
      " <class 'numpy.ndarray'> \n",
      "\n",
      "\n",
      "encoded flux shape: (5700, 68)\n",
      "1/1 [==============================] - 1s 1s/step\n"
     ]
    },
    {
     "output_type": "stream",
     "name": "stderr",
     "text": [
      "\r  1%|          | 42/5700 [00:58<2:00:18,  1.28s/it]"
     ]
    },
    {
     "output_type": "stream",
     "name": "stdout",
     "text": [
      "\n",
      " After self.predict() -->  (68, 1) \n",
      " <class 'numpy.ndarray'> \n",
      "\n",
      "\n",
      "encoded flux shape: (5700, 68)\n",
      "1/1 [==============================] - 1s 1s/step\n"
     ]
    },
    {
     "output_type": "stream",
     "name": "stderr",
     "text": [
      "\r  1%|          | 43/5700 [00:59<2:02:11,  1.30s/it]"
     ]
    },
    {
     "output_type": "stream",
     "name": "stdout",
     "text": [
      "\n",
      " After self.predict() -->  (68, 1) \n",
      " <class 'numpy.ndarray'> \n",
      "\n",
      "\n",
      "encoded flux shape: (5700, 68)\n",
      "1/1 [==============================] - 1s 1s/step\n"
     ]
    },
    {
     "output_type": "stream",
     "name": "stderr",
     "text": [
      "\r  1%|          | 44/5700 [01:00<2:00:38,  1.28s/it]"
     ]
    },
    {
     "output_type": "stream",
     "name": "stdout",
     "text": [
      "\n",
      " After self.predict() -->  (68, 1) \n",
      " <class 'numpy.ndarray'> \n",
      "\n",
      "\n",
      "encoded flux shape: (5700, 68)\n",
      "1/1 [==============================] - 2s 2s/step\n"
     ]
    },
    {
     "output_type": "stream",
     "name": "stderr",
     "text": [
      "\r  1%|          | 45/5700 [01:03<2:39:16,  1.69s/it]"
     ]
    },
    {
     "output_type": "stream",
     "name": "stdout",
     "text": [
      "\n",
      " After self.predict() -->  (68, 1) \n",
      " <class 'numpy.ndarray'> \n",
      "\n",
      "\n",
      "encoded flux shape: (5700, 68)\n",
      "1/1 [==============================] - 1s 1s/step\n"
     ]
    },
    {
     "output_type": "stream",
     "name": "stderr",
     "text": [
      "\r  1%|          | 46/5700 [01:06<3:06:34,  1.98s/it]"
     ]
    },
    {
     "output_type": "stream",
     "name": "stdout",
     "text": [
      "\n",
      " After self.predict() -->  (68, 1) \n",
      " <class 'numpy.ndarray'> \n",
      "\n",
      "\n",
      "encoded flux shape: (5700, 68)\n",
      "1/1 [==============================] - 1s 1s/step\n"
     ]
    },
    {
     "output_type": "stream",
     "name": "stderr",
     "text": [
      "\r  1%|          | 47/5700 [01:07<2:46:03,  1.76s/it]"
     ]
    },
    {
     "output_type": "stream",
     "name": "stdout",
     "text": [
      "\n",
      " After self.predict() -->  (68, 1) \n",
      " <class 'numpy.ndarray'> \n",
      "\n",
      "\n",
      "encoded flux shape: (5700, 68)\n",
      "1/1 [==============================] - 1s 1s/step\n"
     ]
    },
    {
     "output_type": "stream",
     "name": "stderr",
     "text": [
      "\r  1%|          | 48/5700 [01:08<2:31:43,  1.61s/it]"
     ]
    },
    {
     "output_type": "stream",
     "name": "stdout",
     "text": [
      "\n",
      " After self.predict() -->  (68, 1) \n",
      " <class 'numpy.ndarray'> \n",
      "\n",
      "\n",
      "encoded flux shape: (5700, 68)\n",
      "1/1 [==============================] - 1s 1s/step\n"
     ]
    },
    {
     "output_type": "stream",
     "name": "stderr",
     "text": [
      "\r  1%|          | 49/5700 [01:09<2:21:47,  1.51s/it]"
     ]
    },
    {
     "output_type": "stream",
     "name": "stdout",
     "text": [
      "\n",
      " After self.predict() -->  (68, 1) \n",
      " <class 'numpy.ndarray'> \n",
      "\n",
      "\n",
      "encoded flux shape: (5700, 68)\n",
      "1/1 [==============================] - 1s 1s/step\n"
     ]
    },
    {
     "output_type": "stream",
     "name": "stderr",
     "text": [
      "\r  1%|          | 50/5700 [01:11<2:17:25,  1.46s/it]"
     ]
    },
    {
     "output_type": "stream",
     "name": "stdout",
     "text": [
      "\n",
      " After self.predict() -->  (68, 1) \n",
      " <class 'numpy.ndarray'> \n",
      "\n",
      "\n",
      "encoded flux shape: (5700, 68)\n",
      "1/1 [==============================] - 1s 1s/step\n"
     ]
    },
    {
     "output_type": "stream",
     "name": "stderr",
     "text": [
      "\r  1%|          | 51/5700 [01:12<2:11:43,  1.40s/it]"
     ]
    },
    {
     "output_type": "stream",
     "name": "stdout",
     "text": [
      "\n",
      " After self.predict() -->  (68, 1) \n",
      " <class 'numpy.ndarray'> \n",
      "\n",
      "\n",
      "encoded flux shape: (5700, 68)\n",
      "1/1 [==============================] - 1s 1s/step\n"
     ]
    },
    {
     "output_type": "stream",
     "name": "stderr",
     "text": [
      "\r  1%|          | 52/5700 [01:13<2:07:31,  1.35s/it]"
     ]
    },
    {
     "output_type": "stream",
     "name": "stdout",
     "text": [
      "\n",
      " After self.predict() -->  (68, 1) \n",
      " <class 'numpy.ndarray'> \n",
      "\n",
      "\n",
      "encoded flux shape: (5700, 68)\n",
      "1/1 [==============================] - 2s 2s/step\n"
     ]
    },
    {
     "output_type": "stream",
     "name": "stderr",
     "text": [
      "\r  1%|          | 53/5700 [01:16<2:43:06,  1.73s/it]"
     ]
    },
    {
     "output_type": "stream",
     "name": "stdout",
     "text": [
      "\n",
      " After self.predict() -->  (68, 1) \n",
      " <class 'numpy.ndarray'> \n",
      "\n",
      "\n",
      "encoded flux shape: (5700, 68)\n",
      "1/1 [==============================] - 2s 2s/step\n"
     ]
    },
    {
     "output_type": "stream",
     "name": "stderr",
     "text": [
      "\r  1%|          | 54/5700 [01:18<3:09:06,  2.01s/it]"
     ]
    },
    {
     "output_type": "stream",
     "name": "stdout",
     "text": [
      "\n",
      " After self.predict() -->  (68, 1) \n",
      " <class 'numpy.ndarray'> \n",
      "\n",
      "\n",
      "encoded flux shape: (5700, 68)\n",
      "1/1 [==============================] - 1s 1s/step\n"
     ]
    },
    {
     "output_type": "stream",
     "name": "stderr",
     "text": [
      "\r  1%|          | 55/5700 [01:20<2:48:32,  1.79s/it]"
     ]
    },
    {
     "output_type": "stream",
     "name": "stdout",
     "text": [
      "\n",
      " After self.predict() -->  (68, 1) \n",
      " <class 'numpy.ndarray'> \n",
      "\n",
      "\n",
      "encoded flux shape: (5700, 68)\n",
      "1/1 [==============================] - 1s 1s/step\n"
     ]
    },
    {
     "output_type": "stream",
     "name": "stderr",
     "text": [
      "\r  1%|          | 56/5700 [01:21<2:35:43,  1.66s/it]"
     ]
    },
    {
     "output_type": "stream",
     "name": "stdout",
     "text": [
      "\n",
      " After self.predict() -->  (68, 1) \n",
      " <class 'numpy.ndarray'> \n",
      "\n",
      "\n",
      "encoded flux shape: (5700, 68)\n",
      "1/1 [==============================] - 1s 1s/step\n"
     ]
    },
    {
     "output_type": "stream",
     "name": "stderr",
     "text": [
      "\r  1%|          | 57/5700 [01:22<2:24:52,  1.54s/it]"
     ]
    },
    {
     "output_type": "stream",
     "name": "stdout",
     "text": [
      "\n",
      " After self.predict() -->  (68, 1) \n",
      " <class 'numpy.ndarray'> \n",
      "\n",
      "\n",
      "encoded flux shape: (5700, 68)\n",
      "1/1 [==============================] - 1s 1s/step\n"
     ]
    },
    {
     "output_type": "stream",
     "name": "stderr",
     "text": [
      "\r  1%|          | 58/5700 [01:24<2:19:07,  1.48s/it]"
     ]
    },
    {
     "output_type": "stream",
     "name": "stdout",
     "text": [
      "\n",
      " After self.predict() -->  (68, 1) \n",
      " <class 'numpy.ndarray'> \n",
      "\n",
      "\n",
      "encoded flux shape: (5700, 68)\n",
      "1/1 [==============================] - 1s 1s/step\n"
     ]
    },
    {
     "output_type": "stream",
     "name": "stderr",
     "text": [
      "\r  1%|          | 59/5700 [01:25<2:13:27,  1.42s/it]"
     ]
    },
    {
     "output_type": "stream",
     "name": "stdout",
     "text": [
      "\n",
      " After self.predict() -->  (68, 1) \n",
      " <class 'numpy.ndarray'> \n",
      "\n",
      "\n",
      "encoded flux shape: (5700, 68)\n",
      "1/1 [==============================] - 1s 1s/step\n"
     ]
    },
    {
     "output_type": "stream",
     "name": "stderr",
     "text": [
      "\r  1%|          | 60/5700 [01:26<2:09:35,  1.38s/it]"
     ]
    },
    {
     "output_type": "stream",
     "name": "stdout",
     "text": [
      "\n",
      " After self.predict() -->  (68, 1) \n",
      " <class 'numpy.ndarray'> \n",
      "\n",
      "\n",
      "encoded flux shape: (5700, 68)\n",
      "1/1 [==============================] - 1s 1s/step\n"
     ]
    },
    {
     "output_type": "stream",
     "name": "stderr",
     "text": [
      "\r  1%|          | 61/5700 [01:28<2:12:39,  1.41s/it]"
     ]
    },
    {
     "output_type": "stream",
     "name": "stdout",
     "text": [
      "\n",
      " After self.predict() -->  (68, 1) \n",
      " <class 'numpy.ndarray'> \n",
      "\n",
      "\n",
      "encoded flux shape: (5700, 68)\n",
      "1/1 [==============================] - 2s 2s/step\n"
     ]
    },
    {
     "output_type": "stream",
     "name": "stderr",
     "text": [
      "\r  1%|          | 62/5700 [01:30<2:47:46,  1.79s/it]"
     ]
    },
    {
     "output_type": "stream",
     "name": "stdout",
     "text": [
      "\n",
      " After self.predict() -->  (68, 1) \n",
      " <class 'numpy.ndarray'> \n",
      "\n",
      "\n",
      "encoded flux shape: (5700, 68)\n",
      "1/1 [==============================] - 1s 1s/step\n"
     ]
    },
    {
     "output_type": "stream",
     "name": "stderr",
     "text": [
      "\r  1%|          | 63/5700 [01:32<2:35:31,  1.66s/it]"
     ]
    },
    {
     "output_type": "stream",
     "name": "stdout",
     "text": [
      "\n",
      " After self.predict() -->  (68, 1) \n",
      " <class 'numpy.ndarray'> \n",
      "\n",
      "\n",
      "encoded flux shape: (5700, 68)\n",
      "1/1 [==============================] - 1s 1s/step\n"
     ]
    },
    {
     "output_type": "stream",
     "name": "stderr",
     "text": [
      "\r  1%|          | 64/5700 [01:33<2:22:50,  1.52s/it]"
     ]
    },
    {
     "output_type": "stream",
     "name": "stdout",
     "text": [
      "\n",
      " After self.predict() -->  (68, 1) \n",
      " <class 'numpy.ndarray'> \n",
      "\n",
      "\n",
      "encoded flux shape: (5700, 68)\n",
      "1/1 [==============================] - 1s 1s/step\n"
     ]
    },
    {
     "output_type": "stream",
     "name": "stderr",
     "text": [
      "\r  1%|          | 65/5700 [01:34<2:15:22,  1.44s/it]"
     ]
    },
    {
     "output_type": "stream",
     "name": "stdout",
     "text": [
      "\n",
      " After self.predict() -->  (68, 1) \n",
      " <class 'numpy.ndarray'> \n",
      "\n",
      "\n",
      "encoded flux shape: (5700, 68)\n",
      "1/1 [==============================] - 1s 1s/step\n"
     ]
    },
    {
     "output_type": "stream",
     "name": "stderr",
     "text": [
      "\r  1%|          | 66/5700 [01:35<2:09:07,  1.38s/it]"
     ]
    },
    {
     "output_type": "stream",
     "name": "stdout",
     "text": [
      "\n",
      " After self.predict() -->  (68, 1) \n",
      " <class 'numpy.ndarray'> \n",
      "\n",
      "\n",
      "encoded flux shape: (5700, 68)\n",
      "1/1 [==============================] - 1s 1s/step\n"
     ]
    },
    {
     "output_type": "stream",
     "name": "stderr",
     "text": [
      "\r  1%|          | 67/5700 [01:37<2:07:59,  1.36s/it]"
     ]
    },
    {
     "output_type": "stream",
     "name": "stdout",
     "text": [
      "\n",
      " After self.predict() -->  (68, 1) \n",
      " <class 'numpy.ndarray'> \n",
      "\n",
      "\n",
      "encoded flux shape: (5700, 68)\n",
      "1/1 [==============================] - 1s 1s/step\n"
     ]
    },
    {
     "output_type": "stream",
     "name": "stderr",
     "text": [
      "\r  1%|          | 68/5700 [01:38<2:07:18,  1.36s/it]"
     ]
    },
    {
     "output_type": "stream",
     "name": "stdout",
     "text": [
      "\n",
      " After self.predict() -->  (68, 1) \n",
      " <class 'numpy.ndarray'> \n",
      "\n",
      "\n",
      "encoded flux shape: (5700, 68)\n",
      "1/1 [==============================] - 1s 1s/step\n"
     ]
    },
    {
     "output_type": "stream",
     "name": "stderr",
     "text": [
      "\r  1%|          | 69/5700 [01:39<2:03:36,  1.32s/it]"
     ]
    },
    {
     "output_type": "stream",
     "name": "stdout",
     "text": [
      "\n",
      " After self.predict() -->  (68, 1) \n",
      " <class 'numpy.ndarray'> \n",
      "\n",
      "\n",
      "encoded flux shape: (5700, 68)\n",
      "1/1 [==============================] - 1s 1s/step\n"
     ]
    },
    {
     "output_type": "stream",
     "name": "stderr",
     "text": [
      "\r  1%|          | 70/5700 [01:41<2:04:05,  1.32s/it]"
     ]
    },
    {
     "output_type": "stream",
     "name": "stdout",
     "text": [
      "\n",
      " After self.predict() -->  (68, 1) \n",
      " <class 'numpy.ndarray'> \n",
      "\n",
      "\n",
      "encoded flux shape: (5700, 68)\n",
      "1/1 [==============================] - 2s 2s/step\n"
     ]
    },
    {
     "output_type": "stream",
     "name": "stderr",
     "text": [
      "\r  1%|          | 71/5700 [01:43<2:41:33,  1.72s/it]"
     ]
    },
    {
     "output_type": "stream",
     "name": "stdout",
     "text": [
      "\n",
      " After self.predict() -->  (68, 1) \n",
      " <class 'numpy.ndarray'> \n",
      "\n",
      "\n",
      "encoded flux shape: (5700, 68)\n",
      "1/1 [==============================] - 1s 1s/step\n"
     ]
    },
    {
     "output_type": "stream",
     "name": "stderr",
     "text": [
      "\r  1%|▏         | 72/5700 [01:46<3:07:48,  2.00s/it]"
     ]
    },
    {
     "output_type": "stream",
     "name": "stdout",
     "text": [
      "\n",
      " After self.predict() -->  (68, 1) \n",
      " <class 'numpy.ndarray'> \n",
      "\n",
      "\n",
      "encoded flux shape: (5700, 68)\n",
      "1/1 [==============================] - 1s 1s/step\n"
     ]
    },
    {
     "output_type": "stream",
     "name": "stderr",
     "text": [
      "\r  1%|▏         | 73/5700 [01:47<2:49:06,  1.80s/it]"
     ]
    },
    {
     "output_type": "stream",
     "name": "stdout",
     "text": [
      "\n",
      " After self.predict() -->  (68, 1) \n",
      " <class 'numpy.ndarray'> \n",
      "\n",
      "\n",
      "encoded flux shape: (5700, 68)\n",
      "1/1 [==============================] - 1s 1s/step\n"
     ]
    },
    {
     "output_type": "stream",
     "name": "stderr",
     "text": [
      "\r  1%|▏         | 74/5700 [01:49<2:32:31,  1.63s/it]"
     ]
    },
    {
     "output_type": "stream",
     "name": "stdout",
     "text": [
      "\n",
      " After self.predict() -->  (68, 1) \n",
      " <class 'numpy.ndarray'> \n",
      "\n",
      "\n",
      "encoded flux shape: (5700, 68)\n",
      "1/1 [==============================] - 1s 1s/step\n"
     ]
    },
    {
     "output_type": "stream",
     "name": "stderr",
     "text": [
      "\r  1%|▏         | 75/5700 [01:50<2:22:54,  1.52s/it]"
     ]
    },
    {
     "output_type": "stream",
     "name": "stdout",
     "text": [
      "\n",
      " After self.predict() -->  (68, 1) \n",
      " <class 'numpy.ndarray'> \n",
      "\n",
      "\n",
      "encoded flux shape: (5700, 68)\n",
      "1/1 [==============================] - 1s 1s/step\n"
     ]
    },
    {
     "output_type": "stream",
     "name": "stderr",
     "text": [
      "\r  1%|▏         | 76/5700 [01:51<2:17:51,  1.47s/it]"
     ]
    },
    {
     "output_type": "stream",
     "name": "stdout",
     "text": [
      "\n",
      " After self.predict() -->  (68, 1) \n",
      " <class 'numpy.ndarray'> \n",
      "\n",
      "\n",
      "encoded flux shape: (5700, 68)\n",
      "1/1 [==============================] - 1s 1s/step\n"
     ]
    },
    {
     "output_type": "stream",
     "name": "stderr",
     "text": [
      "\r  1%|▏         | 77/5700 [01:53<2:14:06,  1.43s/it]"
     ]
    },
    {
     "output_type": "stream",
     "name": "stdout",
     "text": [
      "\n",
      " After self.predict() -->  (68, 1) \n",
      " <class 'numpy.ndarray'> \n",
      "\n",
      "\n",
      "encoded flux shape: (5700, 68)\n",
      "1/1 [==============================] - 1s 1s/step\n"
     ]
    },
    {
     "output_type": "stream",
     "name": "stderr",
     "text": [
      "\r  1%|▏         | 78/5700 [01:54<2:11:36,  1.40s/it]"
     ]
    },
    {
     "output_type": "stream",
     "name": "stdout",
     "text": [
      "\n",
      " After self.predict() -->  (68, 1) \n",
      " <class 'numpy.ndarray'> \n",
      "\n",
      "\n",
      "encoded flux shape: (5700, 68)\n",
      "1/1 [==============================] - 2s 2s/step\n"
     ]
    },
    {
     "output_type": "stream",
     "name": "stderr",
     "text": [
      "\r  1%|▏         | 79/5700 [01:57<2:45:51,  1.77s/it]"
     ]
    },
    {
     "output_type": "stream",
     "name": "stdout",
     "text": [
      "\n",
      " After self.predict() -->  (68, 1) \n",
      " <class 'numpy.ndarray'> \n",
      "\n",
      "\n",
      "encoded flux shape: (5700, 68)\n",
      "1/1 [==============================] - 2s 2s/step\n"
     ]
    },
    {
     "output_type": "stream",
     "name": "stderr",
     "text": [
      "\r  1%|▏         | 80/5700 [01:58<2:42:31,  1.74s/it]"
     ]
    },
    {
     "output_type": "stream",
     "name": "stdout",
     "text": [
      "\n",
      " After self.predict() -->  (68, 1) \n",
      " <class 'numpy.ndarray'> \n",
      "\n",
      "\n",
      "encoded flux shape: (5700, 68)\n",
      "1/1 [==============================] - 1s 1s/step\n"
     ]
    },
    {
     "output_type": "stream",
     "name": "stderr",
     "text": [
      "\r  1%|▏         | 81/5700 [01:59<2:30:46,  1.61s/it]"
     ]
    },
    {
     "output_type": "stream",
     "name": "stdout",
     "text": [
      "\n",
      " After self.predict() -->  (68, 1) \n",
      " <class 'numpy.ndarray'> \n",
      "\n",
      "\n",
      "encoded flux shape: (5700, 68)\n",
      "1/1 [==============================] - 1s 1s/step\n"
     ]
    },
    {
     "output_type": "stream",
     "name": "stderr",
     "text": [
      "\r  1%|▏         | 82/5700 [02:01<2:23:17,  1.53s/it]"
     ]
    },
    {
     "output_type": "stream",
     "name": "stdout",
     "text": [
      "\n",
      " After self.predict() -->  (68, 1) \n",
      " <class 'numpy.ndarray'> \n",
      "\n",
      "\n",
      "encoded flux shape: (5700, 68)\n",
      "1/1 [==============================] - 1s 1s/step\n"
     ]
    },
    {
     "output_type": "stream",
     "name": "stderr",
     "text": [
      "\r  1%|▏         | 83/5700 [02:02<2:18:02,  1.47s/it]"
     ]
    },
    {
     "output_type": "stream",
     "name": "stdout",
     "text": [
      "\n",
      " After self.predict() -->  (68, 1) \n",
      " <class 'numpy.ndarray'> \n",
      "\n",
      "\n",
      "encoded flux shape: (5700, 68)\n",
      "1/1 [==============================] - 1s 1s/step\n"
     ]
    },
    {
     "output_type": "stream",
     "name": "stderr",
     "text": [
      "\r  1%|▏         | 84/5700 [02:03<2:11:49,  1.41s/it]"
     ]
    },
    {
     "output_type": "stream",
     "name": "stdout",
     "text": [
      "\n",
      " After self.predict() -->  (68, 1) \n",
      " <class 'numpy.ndarray'> \n",
      "\n",
      "\n",
      "encoded flux shape: (5700, 68)\n",
      "1/1 [==============================] - 1s 1s/step\n"
     ]
    },
    {
     "output_type": "stream",
     "name": "stderr",
     "text": [
      "\r  1%|▏         | 85/5700 [02:05<2:06:28,  1.35s/it]"
     ]
    },
    {
     "output_type": "stream",
     "name": "stdout",
     "text": [
      "\n",
      " After self.predict() -->  (68, 1) \n",
      " <class 'numpy.ndarray'> \n",
      "\n",
      "\n",
      "encoded flux shape: (5700, 68)\n",
      "1/1 [==============================] - 1s 1s/step\n"
     ]
    },
    {
     "output_type": "stream",
     "name": "stderr",
     "text": [
      "\r  2%|▏         | 86/5700 [02:06<2:03:44,  1.32s/it]"
     ]
    },
    {
     "output_type": "stream",
     "name": "stdout",
     "text": [
      "\n",
      " After self.predict() -->  (68, 1) \n",
      " <class 'numpy.ndarray'> \n",
      "\n",
      "\n",
      "encoded flux shape: (5700, 68)\n",
      "1/1 [==============================] - 1s 1s/step\n"
     ]
    },
    {
     "output_type": "stream",
     "name": "stderr",
     "text": [
      "\r  2%|▏         | 87/5700 [02:07<2:02:41,  1.31s/it]"
     ]
    },
    {
     "output_type": "stream",
     "name": "stdout",
     "text": [
      "\n",
      " After self.predict() -->  (68, 1) \n",
      " <class 'numpy.ndarray'> \n",
      "\n",
      "\n",
      "encoded flux shape: (5700, 68)\n",
      "1/1 [==============================] - 2s 2s/step\n"
     ]
    },
    {
     "output_type": "stream",
     "name": "stderr",
     "text": [
      "\r  2%|▏         | 88/5700 [02:10<2:39:41,  1.71s/it]"
     ]
    },
    {
     "output_type": "stream",
     "name": "stdout",
     "text": [
      "\n",
      " After self.predict() -->  (68, 1) \n",
      " <class 'numpy.ndarray'> \n",
      "\n",
      "\n",
      "encoded flux shape: (5700, 68)\n",
      "1/1 [==============================] - 2s 2s/step\n"
     ]
    },
    {
     "output_type": "stream",
     "name": "stderr",
     "text": [
      "\r  2%|▏         | 89/5700 [02:12<2:41:25,  1.73s/it]"
     ]
    },
    {
     "output_type": "stream",
     "name": "stdout",
     "text": [
      "\n",
      " After self.predict() -->  (68, 1) \n",
      " <class 'numpy.ndarray'> \n",
      "\n",
      "\n",
      "encoded flux shape: (5700, 68)\n",
      "1/1 [==============================] - 1s 1s/step\n"
     ]
    },
    {
     "output_type": "stream",
     "name": "stderr",
     "text": [
      "\r  2%|▏         | 90/5700 [02:13<2:30:33,  1.61s/it]"
     ]
    },
    {
     "output_type": "stream",
     "name": "stdout",
     "text": [
      "\n",
      " After self.predict() -->  (68, 1) \n",
      " <class 'numpy.ndarray'> \n",
      "\n",
      "\n",
      "encoded flux shape: (5700, 68)\n",
      "1/1 [==============================] - 1s 1s/step\n"
     ]
    },
    {
     "output_type": "stream",
     "name": "stderr",
     "text": [
      "\r  2%|▏         | 91/5700 [02:14<2:24:47,  1.55s/it]"
     ]
    },
    {
     "output_type": "stream",
     "name": "stdout",
     "text": [
      "\n",
      " After self.predict() -->  (68, 1) \n",
      " <class 'numpy.ndarray'> \n",
      "\n",
      "\n",
      "encoded flux shape: (5700, 68)\n",
      "1/1 [==============================] - 1s 1s/step\n"
     ]
    },
    {
     "output_type": "stream",
     "name": "stderr",
     "text": [
      "\r  2%|▏         | 92/5700 [02:16<2:18:20,  1.48s/it]"
     ]
    },
    {
     "output_type": "stream",
     "name": "stdout",
     "text": [
      "\n",
      " After self.predict() -->  (68, 1) \n",
      " <class 'numpy.ndarray'> \n",
      "\n",
      "\n",
      "encoded flux shape: (5700, 68)\n",
      "1/1 [==============================] - 1s 1s/step\n"
     ]
    },
    {
     "output_type": "stream",
     "name": "stderr",
     "text": [
      "\r  2%|▏         | 93/5700 [02:17<2:14:17,  1.44s/it]"
     ]
    },
    {
     "output_type": "stream",
     "name": "stdout",
     "text": [
      "\n",
      " After self.predict() -->  (68, 1) \n",
      " <class 'numpy.ndarray'> \n",
      "\n",
      "\n",
      "encoded flux shape: (5700, 68)\n",
      "1/1 [==============================] - 1s 1s/step\n"
     ]
    },
    {
     "output_type": "stream",
     "name": "stderr",
     "text": [
      "\r  2%|▏         | 94/5700 [02:18<2:09:09,  1.38s/it]"
     ]
    },
    {
     "output_type": "stream",
     "name": "stdout",
     "text": [
      "\n",
      " After self.predict() -->  (68, 1) \n",
      " <class 'numpy.ndarray'> \n",
      "\n",
      "\n",
      "encoded flux shape: (5700, 68)\n",
      "1/1 [==============================] - 1s 1s/step\n"
     ]
    },
    {
     "output_type": "stream",
     "name": "stderr",
     "text": [
      "\r  2%|▏         | 95/5700 [02:20<2:07:49,  1.37s/it]"
     ]
    },
    {
     "output_type": "stream",
     "name": "stdout",
     "text": [
      "\n",
      " After self.predict() -->  (68, 1) \n",
      " <class 'numpy.ndarray'> \n",
      "\n",
      "\n",
      "encoded flux shape: (5700, 68)\n",
      "1/1 [==============================] - 1s 1s/step\n"
     ]
    },
    {
     "output_type": "stream",
     "name": "stderr",
     "text": [
      "\r  2%|▏         | 96/5700 [02:22<2:43:29,  1.75s/it]"
     ]
    },
    {
     "output_type": "stream",
     "name": "stdout",
     "text": [
      "\n",
      " After self.predict() -->  (68, 1) \n",
      " <class 'numpy.ndarray'> \n",
      "\n",
      "\n",
      "encoded flux shape: (5700, 68)\n",
      "1/1 [==============================] - 2s 2s/step\n"
     ]
    },
    {
     "output_type": "stream",
     "name": "stderr",
     "text": [
      "\r  2%|▏         | 97/5700 [02:25<3:09:02,  2.02s/it]"
     ]
    },
    {
     "output_type": "stream",
     "name": "stdout",
     "text": [
      "\n",
      " After self.predict() -->  (68, 1) \n",
      " <class 'numpy.ndarray'> \n",
      "\n",
      "\n",
      "encoded flux shape: (5700, 68)\n",
      "1/1 [==============================] - 1s 1s/step\n"
     ]
    },
    {
     "output_type": "stream",
     "name": "stderr",
     "text": [
      "\r  2%|▏         | 98/5700 [02:26<2:49:58,  1.82s/it]"
     ]
    },
    {
     "output_type": "stream",
     "name": "stdout",
     "text": [
      "\n",
      " After self.predict() -->  (68, 1) \n",
      " <class 'numpy.ndarray'> \n",
      "\n",
      "\n",
      "encoded flux shape: (5700, 68)\n",
      "1/1 [==============================] - 1s 1s/step\n"
     ]
    },
    {
     "output_type": "stream",
     "name": "stderr",
     "text": [
      "\r  2%|▏         | 99/5700 [02:28<2:36:31,  1.68s/it]"
     ]
    },
    {
     "output_type": "stream",
     "name": "stdout",
     "text": [
      "\n",
      " After self.predict() -->  (68, 1) \n",
      " <class 'numpy.ndarray'> \n",
      "\n",
      "\n",
      "encoded flux shape: (5700, 68)\n",
      "1/1 [==============================] - 1s 1s/step\n"
     ]
    },
    {
     "output_type": "stream",
     "name": "stderr",
     "text": [
      "\r  2%|▏         | 100/5700 [02:29<2:25:49,  1.56s/it]"
     ]
    },
    {
     "output_type": "stream",
     "name": "stdout",
     "text": [
      "\n",
      " After self.predict() -->  (68, 1) \n",
      " <class 'numpy.ndarray'> \n",
      "\n",
      "\n",
      "encoded flux shape: (5700, 68)\n",
      "1/1 [==============================] - 1s 1s/step\n"
     ]
    },
    {
     "output_type": "stream",
     "name": "stderr",
     "text": [
      "\r  2%|▏         | 101/5700 [02:30<2:18:28,  1.48s/it]"
     ]
    },
    {
     "output_type": "stream",
     "name": "stdout",
     "text": [
      "\n",
      " After self.predict() -->  (68, 1) \n",
      " <class 'numpy.ndarray'> \n",
      "\n",
      "\n",
      "encoded flux shape: (5700, 68)\n",
      "1/1 [==============================] - 1s 1s/step\n"
     ]
    },
    {
     "output_type": "stream",
     "name": "stderr",
     "text": [
      "\r  2%|▏         | 102/5700 [02:31<2:11:55,  1.41s/it]"
     ]
    },
    {
     "output_type": "stream",
     "name": "stdout",
     "text": [
      "\n",
      " After self.predict() -->  (68, 1) \n",
      " <class 'numpy.ndarray'> \n",
      "\n",
      "\n",
      "encoded flux shape: (5700, 68)\n",
      "1/1 [==============================] - 1s 1s/step\n"
     ]
    },
    {
     "output_type": "stream",
     "name": "stderr",
     "text": [
      "\r  2%|▏         | 103/5700 [02:34<2:45:38,  1.78s/it]"
     ]
    },
    {
     "output_type": "stream",
     "name": "stdout",
     "text": [
      "\n",
      " After self.predict() -->  (68, 1) \n",
      " <class 'numpy.ndarray'> \n",
      "\n",
      "\n",
      "encoded flux shape: (5700, 68)\n",
      "1/1 [==============================] - 2s 2s/step\n"
     ]
    },
    {
     "output_type": "stream",
     "name": "stderr",
     "text": [
      "\r  2%|▏         | 104/5700 [02:37<3:09:19,  2.03s/it]"
     ]
    },
    {
     "output_type": "stream",
     "name": "stdout",
     "text": [
      "\n",
      " After self.predict() -->  (68, 1) \n",
      " <class 'numpy.ndarray'> \n",
      "\n",
      "\n",
      "encoded flux shape: (5700, 68)\n",
      "1/1 [==============================] - 2s 2s/step\n"
     ]
    },
    {
     "output_type": "stream",
     "name": "stderr",
     "text": [
      "\r  2%|▏         | 105/5700 [02:39<3:26:44,  2.22s/it]"
     ]
    },
    {
     "output_type": "stream",
     "name": "stdout",
     "text": [
      "\n",
      " After self.predict() -->  (68, 1) \n",
      " <class 'numpy.ndarray'> \n",
      "\n",
      "\n",
      "encoded flux shape: (5700, 68)\n",
      "1/1 [==============================] - 1s 1s/step\n"
     ]
    },
    {
     "output_type": "stream",
     "name": "stderr",
     "text": [
      "\r  2%|▏         | 106/5700 [02:41<3:00:45,  1.94s/it]"
     ]
    },
    {
     "output_type": "stream",
     "name": "stdout",
     "text": [
      "\n",
      " After self.predict() -->  (68, 1) \n",
      " <class 'numpy.ndarray'> \n",
      "\n",
      "\n",
      "encoded flux shape: (5700, 68)\n",
      "1/1 [==============================] - 1s 1s/step\n"
     ]
    },
    {
     "output_type": "stream",
     "name": "stderr",
     "text": [
      "\r  2%|▏         | 107/5700 [02:42<2:44:16,  1.76s/it]"
     ]
    },
    {
     "output_type": "stream",
     "name": "stdout",
     "text": [
      "\n",
      " After self.predict() -->  (68, 1) \n",
      " <class 'numpy.ndarray'> \n",
      "\n",
      "\n",
      "encoded flux shape: (5700, 68)\n",
      "1/1 [==============================] - 1s 1s/step\n"
     ]
    },
    {
     "output_type": "stream",
     "name": "stderr",
     "text": [
      "\r  2%|▏         | 108/5700 [02:43<2:33:09,  1.64s/it]"
     ]
    },
    {
     "output_type": "stream",
     "name": "stdout",
     "text": [
      "\n",
      " After self.predict() -->  (68, 1) \n",
      " <class 'numpy.ndarray'> \n",
      "\n",
      "\n",
      "encoded flux shape: (5700, 68)\n",
      "1/1 [==============================] - 1s 1s/step\n"
     ]
    },
    {
     "output_type": "stream",
     "name": "stderr",
     "text": [
      "\r  2%|▏         | 109/5700 [02:46<3:00:30,  1.94s/it]"
     ]
    },
    {
     "output_type": "stream",
     "name": "stdout",
     "text": [
      "\n",
      " After self.predict() -->  (68, 1) \n",
      " <class 'numpy.ndarray'> \n",
      "\n",
      "\n",
      "encoded flux shape: (5700, 68)\n",
      "1/1 [==============================] - 1s 1s/step\n"
     ]
    },
    {
     "output_type": "stream",
     "name": "stderr",
     "text": [
      "\r  2%|▏         | 110/5700 [02:49<3:19:39,  2.14s/it]"
     ]
    },
    {
     "output_type": "stream",
     "name": "stdout",
     "text": [
      "\n",
      " After self.predict() -->  (68, 1) \n",
      " <class 'numpy.ndarray'> \n",
      "\n",
      "\n",
      "encoded flux shape: (5700, 68)\n",
      "1/1 [==============================] - 2s 2s/step\n"
     ]
    },
    {
     "output_type": "stream",
     "name": "stderr",
     "text": [
      "\r  2%|▏         | 111/5700 [02:51<3:33:53,  2.30s/it]"
     ]
    },
    {
     "output_type": "stream",
     "name": "stdout",
     "text": [
      "\n",
      " After self.predict() -->  (68, 1) \n",
      " <class 'numpy.ndarray'> \n",
      "\n",
      "\n",
      "encoded flux shape: (5700, 68)\n",
      "1/1 [==============================] - 1s 1s/step\n"
     ]
    },
    {
     "output_type": "stream",
     "name": "stderr",
     "text": [
      "\r  2%|▏         | 112/5700 [02:52<3:03:19,  1.97s/it]"
     ]
    },
    {
     "output_type": "stream",
     "name": "stdout",
     "text": [
      "\n",
      " After self.predict() -->  (68, 1) \n",
      " <class 'numpy.ndarray'> \n",
      "\n",
      "\n",
      "encoded flux shape: (5700, 68)\n",
      "1/1 [==============================] - 1s 1s/step\n"
     ]
    },
    {
     "output_type": "stream",
     "name": "stderr",
     "text": [
      "\r  2%|▏         | 113/5700 [02:54<2:43:39,  1.76s/it]"
     ]
    },
    {
     "output_type": "stream",
     "name": "stdout",
     "text": [
      "\n",
      " After self.predict() -->  (68, 1) \n",
      " <class 'numpy.ndarray'> \n",
      "\n",
      "\n",
      "encoded flux shape: (5700, 68)\n",
      "1/1 [==============================] - 1s 1s/step\n"
     ]
    },
    {
     "output_type": "stream",
     "name": "stderr",
     "text": [
      "\r  2%|▏         | 114/5700 [02:55<2:32:33,  1.64s/it]"
     ]
    },
    {
     "output_type": "stream",
     "name": "stdout",
     "text": [
      "\n",
      " After self.predict() -->  (68, 1) \n",
      " <class 'numpy.ndarray'> \n",
      "\n",
      "\n",
      "encoded flux shape: (5700, 68)\n",
      "1/1 [==============================] - 1s 1s/step\n"
     ]
    },
    {
     "output_type": "stream",
     "name": "stderr",
     "text": [
      "\r  2%|▏         | 115/5700 [02:56<2:24:17,  1.55s/it]"
     ]
    },
    {
     "output_type": "stream",
     "name": "stdout",
     "text": [
      "\n",
      " After self.predict() -->  (68, 1) \n",
      " <class 'numpy.ndarray'> \n",
      "\n",
      "\n",
      "encoded flux shape: (5700, 68)\n",
      "1/1 [==============================] - 1s 1s/step\n"
     ]
    },
    {
     "output_type": "stream",
     "name": "stderr",
     "text": [
      "\r  2%|▏         | 116/5700 [02:58<2:18:58,  1.49s/it]"
     ]
    },
    {
     "output_type": "stream",
     "name": "stdout",
     "text": [
      "\n",
      " After self.predict() -->  (68, 1) \n",
      " <class 'numpy.ndarray'> \n",
      "\n",
      "\n",
      "encoded flux shape: (5700, 68)\n",
      "1/1 [==============================] - 1s 1s/step\n"
     ]
    },
    {
     "output_type": "stream",
     "name": "stderr",
     "text": [
      "\r  2%|▏         | 117/5700 [02:59<2:17:28,  1.48s/it]"
     ]
    },
    {
     "output_type": "stream",
     "name": "stdout",
     "text": [
      "\n",
      " After self.predict() -->  (68, 1) \n",
      " <class 'numpy.ndarray'> \n",
      "\n",
      "\n",
      "encoded flux shape: (5700, 68)\n",
      "1/1 [==============================] - 1s 1s/step\n"
     ]
    },
    {
     "output_type": "stream",
     "name": "stderr",
     "text": [
      "\r  2%|▏         | 118/5700 [03:00<2:11:10,  1.41s/it]"
     ]
    },
    {
     "output_type": "stream",
     "name": "stdout",
     "text": [
      "\n",
      " After self.predict() -->  (68, 1) \n",
      " <class 'numpy.ndarray'> \n",
      "\n",
      "\n",
      "encoded flux shape: (5700, 68)\n",
      "1/1 [==============================] - 1s 1s/step\n"
     ]
    },
    {
     "output_type": "stream",
     "name": "stderr",
     "text": [
      "\r  2%|▏         | 119/5700 [03:02<2:12:59,  1.43s/it]"
     ]
    },
    {
     "output_type": "stream",
     "name": "stdout",
     "text": [
      "\n",
      " After self.predict() -->  (68, 1) \n",
      " <class 'numpy.ndarray'> \n",
      "\n",
      "\n",
      "encoded flux shape: (5700, 68)\n",
      "1/1 [==============================] - 2s 2s/step\n"
     ]
    },
    {
     "output_type": "stream",
     "name": "stderr",
     "text": [
      "\r  2%|▏         | 120/5700 [03:04<2:21:17,  1.52s/it]"
     ]
    },
    {
     "output_type": "stream",
     "name": "stdout",
     "text": [
      "\n",
      " After self.predict() -->  (68, 1) \n",
      " <class 'numpy.ndarray'> \n",
      "\n",
      "\n",
      "encoded flux shape: (5700, 68)\n",
      "1/1 [==============================] - 2s 2s/step\n"
     ]
    },
    {
     "output_type": "stream",
     "name": "stderr",
     "text": [
      "\r  2%|▏         | 121/5700 [03:05<2:27:58,  1.59s/it]"
     ]
    },
    {
     "output_type": "stream",
     "name": "stdout",
     "text": [
      "\n",
      " After self.predict() -->  (68, 1) \n",
      " <class 'numpy.ndarray'> \n",
      "\n",
      "\n",
      "encoded flux shape: (5700, 68)\n",
      "1/1 [==============================] - 1s 1s/step\n"
     ]
    },
    {
     "output_type": "stream",
     "name": "stderr",
     "text": [
      "\r  2%|▏         | 122/5700 [03:08<2:56:49,  1.90s/it]"
     ]
    },
    {
     "output_type": "stream",
     "name": "stdout",
     "text": [
      "\n",
      " After self.predict() -->  (68, 1) \n",
      " <class 'numpy.ndarray'> \n",
      "\n",
      "\n",
      "encoded flux shape: (5700, 68)\n",
      "1/1 [==============================] - 1s 1s/step\n"
     ]
    },
    {
     "output_type": "stream",
     "name": "stderr",
     "text": [
      "\r  2%|▏         | 123/5700 [03:09<2:42:03,  1.74s/it]"
     ]
    },
    {
     "output_type": "stream",
     "name": "stdout",
     "text": [
      "\n",
      " After self.predict() -->  (68, 1) \n",
      " <class 'numpy.ndarray'> \n",
      "\n",
      "\n",
      "encoded flux shape: (5700, 68)\n",
      "1/1 [==============================] - 1s 1s/step\n"
     ]
    },
    {
     "output_type": "stream",
     "name": "stderr",
     "text": [
      "\r  2%|▏         | 124/5700 [03:11<2:31:01,  1.63s/it]"
     ]
    },
    {
     "output_type": "stream",
     "name": "stdout",
     "text": [
      "\n",
      " After self.predict() -->  (68, 1) \n",
      " <class 'numpy.ndarray'> \n",
      "\n",
      "\n",
      "encoded flux shape: (5700, 68)\n",
      "1/1 [==============================] - 1s 1s/step\n"
     ]
    },
    {
     "output_type": "stream",
     "name": "stderr",
     "text": [
      "\r  2%|▏         | 125/5700 [03:12<2:24:40,  1.56s/it]"
     ]
    },
    {
     "output_type": "stream",
     "name": "stdout",
     "text": [
      "\n",
      " After self.predict() -->  (68, 1) \n",
      " <class 'numpy.ndarray'> \n",
      "\n",
      "\n",
      "encoded flux shape: (5700, 68)\n",
      "1/1 [==============================] - 1s 1s/step\n"
     ]
    },
    {
     "output_type": "stream",
     "name": "stderr",
     "text": [
      "\r  2%|▏         | 126/5700 [03:15<2:54:35,  1.88s/it]"
     ]
    },
    {
     "output_type": "stream",
     "name": "stdout",
     "text": [
      "\n",
      " After self.predict() -->  (68, 1) \n",
      " <class 'numpy.ndarray'> \n",
      "\n",
      "\n",
      "encoded flux shape: (5700, 68)\n",
      "1/1 [==============================] - 2s 2s/step\n"
     ]
    },
    {
     "output_type": "stream",
     "name": "stderr",
     "text": [
      "\r  2%|▏         | 127/5700 [03:17<2:57:43,  1.91s/it]"
     ]
    },
    {
     "output_type": "stream",
     "name": "stdout",
     "text": [
      "\n",
      " After self.predict() -->  (68, 1) \n",
      " <class 'numpy.ndarray'> \n",
      "\n",
      "\n",
      "encoded flux shape: (5700, 68)\n",
      "1/1 [==============================] - 2s 2s/step\n"
     ]
    },
    {
     "output_type": "stream",
     "name": "stderr",
     "text": [
      "\r  2%|▏         | 128/5700 [03:19<3:18:45,  2.14s/it]"
     ]
    },
    {
     "output_type": "stream",
     "name": "stdout",
     "text": [
      "\n",
      " After self.predict() -->  (68, 1) \n",
      " <class 'numpy.ndarray'> \n",
      "\n",
      "\n",
      "encoded flux shape: (5700, 68)\n",
      "1/1 [==============================] - 1s 1s/step\n"
     ]
    },
    {
     "output_type": "stream",
     "name": "stderr",
     "text": [
      "\r  2%|▏         | 129/5700 [03:21<2:59:37,  1.93s/it]"
     ]
    },
    {
     "output_type": "stream",
     "name": "stdout",
     "text": [
      "\n",
      " After self.predict() -->  (68, 1) \n",
      " <class 'numpy.ndarray'> \n",
      "\n",
      "\n",
      "encoded flux shape: (5700, 68)\n",
      "1/1 [==============================] - 1s 1s/step\n"
     ]
    },
    {
     "output_type": "stream",
     "name": "stderr",
     "text": [
      "\r  2%|▏         | 130/5700 [03:22<2:43:15,  1.76s/it]"
     ]
    },
    {
     "output_type": "stream",
     "name": "stdout",
     "text": [
      "\n",
      " After self.predict() -->  (68, 1) \n",
      " <class 'numpy.ndarray'> \n",
      "\n",
      "\n",
      "encoded flux shape: (5700, 68)\n",
      "1/1 [==============================] - 1s 1s/step\n"
     ]
    },
    {
     "output_type": "stream",
     "name": "stderr",
     "text": [
      "\r  2%|▏         | 131/5700 [03:24<2:29:04,  1.61s/it]"
     ]
    },
    {
     "output_type": "stream",
     "name": "stdout",
     "text": [
      "\n",
      " After self.predict() -->  (68, 1) \n",
      " <class 'numpy.ndarray'> \n",
      "\n",
      "\n",
      "encoded flux shape: (5700, 68)\n",
      "1/1 [==============================] - 1s 1s/step\n"
     ]
    },
    {
     "output_type": "stream",
     "name": "stderr",
     "text": [
      "\r  2%|▏         | 132/5700 [03:25<2:19:07,  1.50s/it]"
     ]
    },
    {
     "output_type": "stream",
     "name": "stdout",
     "text": [
      "\n",
      " After self.predict() -->  (68, 1) \n",
      " <class 'numpy.ndarray'> \n",
      "\n",
      "\n",
      "encoded flux shape: (5700, 68)\n",
      "1/1 [==============================] - 1s 1s/step\n"
     ]
    },
    {
     "output_type": "stream",
     "name": "stderr",
     "text": [
      "\r  2%|▏         | 133/5700 [03:26<2:11:17,  1.42s/it]"
     ]
    },
    {
     "output_type": "stream",
     "name": "stdout",
     "text": [
      "\n",
      " After self.predict() -->  (68, 1) \n",
      " <class 'numpy.ndarray'> \n",
      "\n",
      "\n",
      "encoded flux shape: (5700, 68)\n",
      "1/1 [==============================] - 1s 1s/step\n"
     ]
    },
    {
     "output_type": "stream",
     "name": "stderr",
     "text": [
      "\r  2%|▏         | 134/5700 [03:27<2:08:59,  1.39s/it]"
     ]
    },
    {
     "output_type": "stream",
     "name": "stdout",
     "text": [
      "\n",
      " After self.predict() -->  (68, 1) \n",
      " <class 'numpy.ndarray'> \n",
      "\n",
      "\n",
      "encoded flux shape: (5700, 68)\n",
      "1/1 [==============================] - 1s 1s/step\n"
     ]
    },
    {
     "output_type": "stream",
     "name": "stderr",
     "text": [
      "\r  2%|▏         | 135/5700 [03:29<2:04:29,  1.34s/it]"
     ]
    },
    {
     "output_type": "stream",
     "name": "stdout",
     "text": [
      "\n",
      " After self.predict() -->  (68, 1) \n",
      " <class 'numpy.ndarray'> \n",
      "\n",
      "\n",
      "encoded flux shape: (5700, 68)\n",
      "1/1 [==============================] - 1s 1s/step\n"
     ]
    },
    {
     "output_type": "stream",
     "name": "stderr",
     "text": [
      "\r  2%|▏         | 136/5700 [03:31<2:39:55,  1.72s/it]"
     ]
    },
    {
     "output_type": "stream",
     "name": "stdout",
     "text": [
      "\n",
      " After self.predict() -->  (68, 1) \n",
      " <class 'numpy.ndarray'> \n",
      "\n",
      "\n",
      "encoded flux shape: (5700, 68)\n",
      "1/1 [==============================] - 2s 2s/step\n"
     ]
    },
    {
     "output_type": "stream",
     "name": "stderr",
     "text": [
      "\r  2%|▏         | 137/5700 [03:34<3:05:58,  2.01s/it]"
     ]
    },
    {
     "output_type": "stream",
     "name": "stdout",
     "text": [
      "\n",
      " After self.predict() -->  (68, 1) \n",
      " <class 'numpy.ndarray'> \n",
      "\n",
      "\n",
      "encoded flux shape: (5700, 68)\n",
      "1/1 [==============================] - 1s 1s/step\n"
     ]
    },
    {
     "output_type": "stream",
     "name": "stderr",
     "text": [
      "\r  2%|▏         | 138/5700 [03:35<2:44:24,  1.77s/it]"
     ]
    },
    {
     "output_type": "stream",
     "name": "stdout",
     "text": [
      "\n",
      " After self.predict() -->  (68, 1) \n",
      " <class 'numpy.ndarray'> \n",
      "\n",
      "\n",
      "encoded flux shape: (5700, 68)\n",
      "1/1 [==============================] - 1s 1s/step\n"
     ]
    },
    {
     "output_type": "stream",
     "name": "stderr",
     "text": [
      "\r  2%|▏         | 139/5700 [03:36<2:32:22,  1.64s/it]"
     ]
    },
    {
     "output_type": "stream",
     "name": "stdout",
     "text": [
      "\n",
      " After self.predict() -->  (68, 1) \n",
      " <class 'numpy.ndarray'> \n",
      "\n",
      "\n",
      "encoded flux shape: (5700, 68)\n",
      "1/1 [==============================] - 1s 1s/step\n"
     ]
    },
    {
     "output_type": "stream",
     "name": "stderr",
     "text": [
      "\r  2%|▏         | 140/5700 [03:38<2:24:03,  1.55s/it]"
     ]
    },
    {
     "output_type": "stream",
     "name": "stdout",
     "text": [
      "\n",
      " After self.predict() -->  (68, 1) \n",
      " <class 'numpy.ndarray'> \n",
      "\n",
      "\n",
      "encoded flux shape: (5700, 68)\n",
      "1/1 [==============================] - 1s 1s/step\n"
     ]
    },
    {
     "output_type": "stream",
     "name": "stderr",
     "text": [
      "\r  2%|▏         | 141/5700 [03:39<2:18:00,  1.49s/it]"
     ]
    },
    {
     "output_type": "stream",
     "name": "stdout",
     "text": [
      "\n",
      " After self.predict() -->  (68, 1) \n",
      " <class 'numpy.ndarray'> \n",
      "\n",
      "\n",
      "encoded flux shape: (5700, 68)\n",
      "1/1 [==============================] - 1s 1s/step\n"
     ]
    },
    {
     "output_type": "stream",
     "name": "stderr",
     "text": [
      "\r  2%|▏         | 142/5700 [03:40<2:09:20,  1.40s/it]"
     ]
    },
    {
     "output_type": "stream",
     "name": "stdout",
     "text": [
      "\n",
      " After self.predict() -->  (68, 1) \n",
      " <class 'numpy.ndarray'> \n",
      "\n",
      "\n",
      "encoded flux shape: (5700, 68)\n",
      "1/1 [==============================] - 1s 1s/step\n"
     ]
    },
    {
     "output_type": "stream",
     "name": "stderr",
     "text": [
      "\r  3%|▎         | 143/5700 [03:41<2:03:49,  1.34s/it]"
     ]
    },
    {
     "output_type": "stream",
     "name": "stdout",
     "text": [
      "\n",
      " After self.predict() -->  (68, 1) \n",
      " <class 'numpy.ndarray'> \n",
      "\n",
      "\n",
      "encoded flux shape: (5700, 68)\n",
      "1/1 [==============================] - 1s 1s/step\n"
     ]
    },
    {
     "output_type": "stream",
     "name": "stderr",
     "text": [
      "\r  3%|▎         | 144/5700 [03:43<2:03:54,  1.34s/it]"
     ]
    },
    {
     "output_type": "stream",
     "name": "stdout",
     "text": [
      "\n",
      " After self.predict() -->  (68, 1) \n",
      " <class 'numpy.ndarray'> \n",
      "\n",
      "\n",
      "encoded flux shape: (5700, 68)\n",
      "1/1 [==============================] - 2s 2s/step\n"
     ]
    },
    {
     "output_type": "stream",
     "name": "stderr",
     "text": [
      "\r  3%|▎         | 145/5700 [03:44<2:13:43,  1.44s/it]"
     ]
    },
    {
     "output_type": "stream",
     "name": "stdout",
     "text": [
      "\n",
      " After self.predict() -->  (68, 1) \n",
      " <class 'numpy.ndarray'> \n",
      "\n",
      "\n",
      "encoded flux shape: (5700, 68)\n",
      "1/1 [==============================] - 2s 2s/step\n"
     ]
    },
    {
     "output_type": "stream",
     "name": "stderr",
     "text": [
      "\r  3%|▎         | 146/5700 [03:47<2:47:20,  1.81s/it]"
     ]
    },
    {
     "output_type": "stream",
     "name": "stdout",
     "text": [
      "\n",
      " After self.predict() -->  (68, 1) \n",
      " <class 'numpy.ndarray'> \n",
      "\n",
      "\n",
      "encoded flux shape: (5700, 68)\n",
      "1/1 [==============================] - 1s 1s/step\n"
     ]
    },
    {
     "output_type": "stream",
     "name": "stderr",
     "text": [
      "\r  3%|▎         | 147/5700 [03:48<2:34:07,  1.67s/it]"
     ]
    },
    {
     "output_type": "stream",
     "name": "stdout",
     "text": [
      "\n",
      " After self.predict() -->  (68, 1) \n",
      " <class 'numpy.ndarray'> \n",
      "\n",
      "\n",
      "encoded flux shape: (5700, 68)\n",
      "1/1 [==============================] - 1s 1s/step\n"
     ]
    },
    {
     "output_type": "stream",
     "name": "stderr",
     "text": [
      "\r  3%|▎         | 148/5700 [03:50<2:25:01,  1.57s/it]"
     ]
    },
    {
     "output_type": "stream",
     "name": "stdout",
     "text": [
      "\n",
      " After self.predict() -->  (68, 1) \n",
      " <class 'numpy.ndarray'> \n",
      "\n",
      "\n",
      "encoded flux shape: (5700, 68)\n",
      "1/1 [==============================] - 1s 1s/step\n"
     ]
    },
    {
     "output_type": "stream",
     "name": "stderr",
     "text": [
      "\r  3%|▎         | 149/5700 [03:51<2:14:42,  1.46s/it]"
     ]
    },
    {
     "output_type": "stream",
     "name": "stdout",
     "text": [
      "\n",
      " After self.predict() -->  (68, 1) \n",
      " <class 'numpy.ndarray'> \n",
      "\n",
      "\n",
      "encoded flux shape: (5700, 68)\n",
      "1/1 [==============================] - 1s 1s/step\n"
     ]
    },
    {
     "output_type": "stream",
     "name": "stderr",
     "text": [
      "\r  3%|▎         | 150/5700 [03:52<2:11:27,  1.42s/it]"
     ]
    },
    {
     "output_type": "stream",
     "name": "stdout",
     "text": [
      "\n",
      " After self.predict() -->  (68, 1) \n",
      " <class 'numpy.ndarray'> \n",
      "\n",
      "\n",
      "encoded flux shape: (5700, 68)\n",
      "1/1 [==============================] - 1s 1s/step\n"
     ]
    },
    {
     "output_type": "stream",
     "name": "stderr",
     "text": [
      "\r  3%|▎         | 151/5700 [03:54<2:06:00,  1.36s/it]"
     ]
    },
    {
     "output_type": "stream",
     "name": "stdout",
     "text": [
      "\n",
      " After self.predict() -->  (68, 1) \n",
      " <class 'numpy.ndarray'> \n",
      "\n",
      "\n",
      "encoded flux shape: (5700, 68)\n",
      "1/1 [==============================] - 1s 1s/step\n"
     ]
    },
    {
     "output_type": "stream",
     "name": "stderr",
     "text": [
      "\r  3%|▎         | 152/5700 [03:55<2:01:47,  1.32s/it]"
     ]
    },
    {
     "output_type": "stream",
     "name": "stdout",
     "text": [
      "\n",
      " After self.predict() -->  (68, 1) \n",
      " <class 'numpy.ndarray'> \n",
      "\n",
      "\n",
      "encoded flux shape: (5700, 68)\n",
      "1/1 [==============================] - 1s 1s/step\n"
     ]
    },
    {
     "output_type": "stream",
     "name": "stderr",
     "text": [
      "\r  3%|▎         | 153/5700 [03:56<2:02:20,  1.32s/it]"
     ]
    },
    {
     "output_type": "stream",
     "name": "stdout",
     "text": [
      "\n",
      " After self.predict() -->  (68, 1) \n",
      " <class 'numpy.ndarray'> \n",
      "\n",
      "\n",
      "encoded flux shape: (5700, 68)\n",
      "1/1 [==============================] - 2s 2s/step\n"
     ]
    },
    {
     "output_type": "stream",
     "name": "stderr",
     "text": [
      "\r  3%|▎         | 154/5700 [03:58<2:08:58,  1.40s/it]"
     ]
    },
    {
     "output_type": "stream",
     "name": "stdout",
     "text": [
      "\n",
      " After self.predict() -->  (68, 1) \n",
      " <class 'numpy.ndarray'> \n",
      "\n",
      "\n",
      "encoded flux shape: (5700, 68)\n",
      "1/1 [==============================] - 2s 2s/step\n"
     ]
    },
    {
     "output_type": "stream",
     "name": "stderr",
     "text": [
      "\r  3%|▎         | 155/5700 [03:59<2:19:21,  1.51s/it]"
     ]
    },
    {
     "output_type": "stream",
     "name": "stdout",
     "text": [
      "\n",
      " After self.predict() -->  (68, 1) \n",
      " <class 'numpy.ndarray'> \n",
      "\n",
      "\n",
      "encoded flux shape: (5700, 68)\n",
      "1/1 [==============================] - 1s 1s/step\n"
     ]
    },
    {
     "output_type": "stream",
     "name": "stderr",
     "text": [
      "\r  3%|▎         | 156/5700 [04:01<2:20:02,  1.52s/it]"
     ]
    },
    {
     "output_type": "stream",
     "name": "stdout",
     "text": [
      "\n",
      " After self.predict() -->  (68, 1) \n",
      " <class 'numpy.ndarray'> \n",
      "\n",
      "\n",
      "encoded flux shape: (5700, 68)\n",
      "1/1 [==============================] - 1s 1s/step\n"
     ]
    },
    {
     "output_type": "stream",
     "name": "stderr",
     "text": [
      "\r  3%|▎         | 157/5700 [04:02<2:11:15,  1.42s/it]"
     ]
    },
    {
     "output_type": "stream",
     "name": "stdout",
     "text": [
      "\n",
      " After self.predict() -->  (68, 1) \n",
      " <class 'numpy.ndarray'> \n",
      "\n",
      "\n",
      "encoded flux shape: (5700, 68)\n",
      "1/1 [==============================] - 1s 1s/step\n"
     ]
    },
    {
     "output_type": "stream",
     "name": "stderr",
     "text": [
      "\r  3%|▎         | 158/5700 [04:03<2:04:48,  1.35s/it]"
     ]
    },
    {
     "output_type": "stream",
     "name": "stdout",
     "text": [
      "\n",
      " After self.predict() -->  (68, 1) \n",
      " <class 'numpy.ndarray'> \n",
      "\n",
      "\n",
      "encoded flux shape: (5700, 68)\n",
      "1/1 [==============================] - 1s 1s/step\n"
     ]
    },
    {
     "output_type": "stream",
     "name": "stderr",
     "text": [
      "\r  3%|▎         | 159/5700 [04:05<2:04:41,  1.35s/it]"
     ]
    },
    {
     "output_type": "stream",
     "name": "stdout",
     "text": [
      "\n",
      " After self.predict() -->  (68, 1) \n",
      " <class 'numpy.ndarray'> \n",
      "\n",
      "\n",
      "encoded flux shape: (5700, 68)\n",
      "1/1 [==============================] - 1s 1s/step\n"
     ]
    },
    {
     "output_type": "stream",
     "name": "stderr",
     "text": [
      "\r  3%|▎         | 160/5700 [04:06<2:04:18,  1.35s/it]"
     ]
    },
    {
     "output_type": "stream",
     "name": "stdout",
     "text": [
      "\n",
      " After self.predict() -->  (68, 1) \n",
      " <class 'numpy.ndarray'> \n",
      "\n",
      "\n",
      "encoded flux shape: (5700, 68)\n",
      "1/1 [==============================] - 1s 1s/step\n"
     ]
    },
    {
     "output_type": "stream",
     "name": "stderr",
     "text": [
      "\r  3%|▎         | 161/5700 [04:07<1:59:22,  1.29s/it]"
     ]
    },
    {
     "output_type": "stream",
     "name": "stdout",
     "text": [
      "\n",
      " After self.predict() -->  (68, 1) \n",
      " <class 'numpy.ndarray'> \n",
      "\n",
      "\n",
      "encoded flux shape: (5700, 68)\n",
      "1/1 [==============================] - 1s 1s/step\n"
     ]
    },
    {
     "output_type": "stream",
     "name": "stderr",
     "text": [
      "\r  3%|▎         | 162/5700 [04:09<2:00:43,  1.31s/it]"
     ]
    },
    {
     "output_type": "stream",
     "name": "stdout",
     "text": [
      "\n",
      " After self.predict() -->  (68, 1) \n",
      " <class 'numpy.ndarray'> \n",
      "\n",
      "\n",
      "encoded flux shape: (5700, 68)\n",
      "1/1 [==============================] - 1s 1s/step\n"
     ]
    },
    {
     "output_type": "stream",
     "name": "stderr",
     "text": [
      "\r  3%|▎         | 163/5700 [04:10<1:57:33,  1.27s/it]"
     ]
    },
    {
     "output_type": "stream",
     "name": "stdout",
     "text": [
      "\n",
      " After self.predict() -->  (68, 1) \n",
      " <class 'numpy.ndarray'> \n",
      "\n",
      "\n",
      "encoded flux shape: (5700, 68)\n",
      "1/1 [==============================] - 1s 1s/step\n"
     ]
    },
    {
     "output_type": "stream",
     "name": "stderr",
     "text": [
      "\r  3%|▎         | 164/5700 [04:11<2:00:38,  1.31s/it]"
     ]
    },
    {
     "output_type": "stream",
     "name": "stdout",
     "text": [
      "\n",
      " After self.predict() -->  (68, 1) \n",
      " <class 'numpy.ndarray'> \n",
      "\n",
      "\n",
      "encoded flux shape: (5700, 68)\n",
      "1/1 [==============================] - 2s 2s/step\n"
     ]
    },
    {
     "output_type": "stream",
     "name": "stderr",
     "text": [
      "\r  3%|▎         | 165/5700 [04:13<2:08:38,  1.39s/it]"
     ]
    },
    {
     "output_type": "stream",
     "name": "stdout",
     "text": [
      "\n",
      " After self.predict() -->  (68, 1) \n",
      " <class 'numpy.ndarray'> \n",
      "\n",
      "\n",
      "encoded flux shape: (5700, 68)\n",
      "1/1 [==============================] - 2s 2s/step\n"
     ]
    },
    {
     "output_type": "stream",
     "name": "stderr",
     "text": [
      "\r  3%|▎         | 166/5700 [04:14<2:14:43,  1.46s/it]"
     ]
    },
    {
     "output_type": "stream",
     "name": "stdout",
     "text": [
      "\n",
      " After self.predict() -->  (68, 1) \n",
      " <class 'numpy.ndarray'> \n",
      "\n",
      "\n",
      "encoded flux shape: (5700, 68)\n",
      "1/1 [==============================] - 1s 1s/step\n"
     ]
    },
    {
     "output_type": "stream",
     "name": "stderr",
     "text": [
      "\r  3%|▎         | 167/5700 [04:16<2:11:08,  1.42s/it]"
     ]
    },
    {
     "output_type": "stream",
     "name": "stdout",
     "text": [
      "\n",
      " After self.predict() -->  (68, 1) \n",
      " <class 'numpy.ndarray'> \n",
      "\n",
      "\n",
      "encoded flux shape: (5700, 68)\n",
      "1/1 [==============================] - 1s 1s/step\n"
     ]
    },
    {
     "output_type": "stream",
     "name": "stderr",
     "text": [
      "\r  3%|▎         | 168/5700 [04:17<2:09:02,  1.40s/it]"
     ]
    },
    {
     "output_type": "stream",
     "name": "stdout",
     "text": [
      "\n",
      " After self.predict() -->  (68, 1) \n",
      " <class 'numpy.ndarray'> \n",
      "\n",
      "\n",
      "encoded flux shape: (5700, 68)\n",
      "1/1 [==============================] - 1s 1s/step\n"
     ]
    },
    {
     "output_type": "stream",
     "name": "stderr",
     "text": [
      "\r  3%|▎         | 169/5700 [04:18<2:03:05,  1.34s/it]"
     ]
    },
    {
     "output_type": "stream",
     "name": "stdout",
     "text": [
      "\n",
      " After self.predict() -->  (68, 1) \n",
      " <class 'numpy.ndarray'> \n",
      "\n",
      "\n",
      "encoded flux shape: (5700, 68)\n",
      "1/1 [==============================] - 1s 1s/step\n"
     ]
    },
    {
     "output_type": "stream",
     "name": "stderr",
     "text": [
      "\r  3%|▎         | 170/5700 [04:19<1:59:00,  1.29s/it]"
     ]
    },
    {
     "output_type": "stream",
     "name": "stdout",
     "text": [
      "\n",
      " After self.predict() -->  (68, 1) \n",
      " <class 'numpy.ndarray'> \n",
      "\n",
      "\n",
      "encoded flux shape: (5700, 68)\n",
      "1/1 [==============================] - 1s 1s/step\n"
     ]
    },
    {
     "output_type": "stream",
     "name": "stderr",
     "text": [
      "\r  3%|▎         | 171/5700 [04:21<2:00:14,  1.30s/it]"
     ]
    },
    {
     "output_type": "stream",
     "name": "stdout",
     "text": [
      "\n",
      " After self.predict() -->  (68, 1) \n",
      " <class 'numpy.ndarray'> \n",
      "\n",
      "\n",
      "encoded flux shape: (5700, 68)\n",
      "1/1 [==============================] - 1s 1s/step\n"
     ]
    },
    {
     "output_type": "stream",
     "name": "stderr",
     "text": [
      "\r  3%|▎         | 172/5700 [04:22<1:56:22,  1.26s/it]"
     ]
    },
    {
     "output_type": "stream",
     "name": "stdout",
     "text": [
      "\n",
      " After self.predict() -->  (68, 1) \n",
      " <class 'numpy.ndarray'> \n",
      "\n",
      "\n",
      "encoded flux shape: (5700, 68)\n",
      "1/1 [==============================] - 1s 1s/step\n"
     ]
    },
    {
     "output_type": "stream",
     "name": "stderr",
     "text": [
      "\r  3%|▎         | 173/5700 [04:23<1:58:42,  1.29s/it]"
     ]
    },
    {
     "output_type": "stream",
     "name": "stdout",
     "text": [
      "\n",
      " After self.predict() -->  (68, 1) \n",
      " <class 'numpy.ndarray'> \n",
      "\n",
      "\n",
      "encoded flux shape: (5700, 68)\n",
      "1/1 [==============================] - 1s 1s/step\n"
     ]
    },
    {
     "output_type": "stream",
     "name": "stderr",
     "text": [
      "\r  3%|▎         | 174/5700 [04:25<1:57:11,  1.27s/it]"
     ]
    },
    {
     "output_type": "stream",
     "name": "stdout",
     "text": [
      "\n",
      " After self.predict() -->  (68, 1) \n",
      " <class 'numpy.ndarray'> \n",
      "\n",
      "\n",
      "encoded flux shape: (5700, 68)\n",
      "1/1 [==============================] - 2s 2s/step\n"
     ]
    },
    {
     "output_type": "stream",
     "name": "stderr",
     "text": [
      "\r  3%|▎         | 175/5700 [04:27<2:35:10,  1.69s/it]"
     ]
    },
    {
     "output_type": "stream",
     "name": "stdout",
     "text": [
      "\n",
      " After self.predict() -->  (68, 1) \n",
      " <class 'numpy.ndarray'> \n",
      "\n",
      "\n",
      "encoded flux shape: (5700, 68)\n",
      "1/1 [==============================] - 1s 1s/step\n"
     ]
    },
    {
     "output_type": "stream",
     "name": "stderr",
     "text": [
      "\r  3%|▎         | 176/5700 [04:29<2:27:33,  1.60s/it]"
     ]
    },
    {
     "output_type": "stream",
     "name": "stdout",
     "text": [
      "\n",
      " After self.predict() -->  (68, 1) \n",
      " <class 'numpy.ndarray'> \n",
      "\n",
      "\n",
      "encoded flux shape: (5700, 68)\n",
      "1/1 [==============================] - 1s 1s/step\n"
     ]
    },
    {
     "output_type": "stream",
     "name": "stderr",
     "text": [
      "\r  3%|▎         | 177/5700 [04:30<2:15:55,  1.48s/it]"
     ]
    },
    {
     "output_type": "stream",
     "name": "stdout",
     "text": [
      "\n",
      " After self.predict() -->  (68, 1) \n",
      " <class 'numpy.ndarray'> \n",
      "\n",
      "\n",
      "encoded flux shape: (5700, 68)\n",
      "1/1 [==============================] - 1s 1s/step\n"
     ]
    },
    {
     "output_type": "stream",
     "name": "stderr",
     "text": [
      "\r  3%|▎         | 178/5700 [04:31<2:07:39,  1.39s/it]"
     ]
    },
    {
     "output_type": "stream",
     "name": "stdout",
     "text": [
      "\n",
      " After self.predict() -->  (68, 1) \n",
      " <class 'numpy.ndarray'> \n",
      "\n",
      "\n",
      "encoded flux shape: (5700, 68)\n",
      "1/1 [==============================] - 1s 1s/step\n"
     ]
    },
    {
     "output_type": "stream",
     "name": "stderr",
     "text": [
      "\r  3%|▎         | 179/5700 [04:32<2:02:07,  1.33s/it]"
     ]
    },
    {
     "output_type": "stream",
     "name": "stdout",
     "text": [
      "\n",
      " After self.predict() -->  (68, 1) \n",
      " <class 'numpy.ndarray'> \n",
      "\n",
      "\n",
      "encoded flux shape: (5700, 68)\n",
      "1/1 [==============================] - 1s 1s/step\n"
     ]
    },
    {
     "output_type": "stream",
     "name": "stderr",
     "text": [
      "\r  3%|▎         | 180/5700 [04:33<1:58:21,  1.29s/it]"
     ]
    },
    {
     "output_type": "stream",
     "name": "stdout",
     "text": [
      "\n",
      " After self.predict() -->  (68, 1) \n",
      " <class 'numpy.ndarray'> \n",
      "\n",
      "\n",
      "encoded flux shape: (5700, 68)\n",
      "1/1 [==============================] - 1s 1s/step\n"
     ]
    },
    {
     "output_type": "stream",
     "name": "stderr",
     "text": [
      "\r  3%|▎         | 181/5700 [04:35<2:00:07,  1.31s/it]"
     ]
    },
    {
     "output_type": "stream",
     "name": "stdout",
     "text": [
      "\n",
      " After self.predict() -->  (68, 1) \n",
      " <class 'numpy.ndarray'> \n",
      "\n",
      "\n",
      "encoded flux shape: (5700, 68)\n",
      "1/1 [==============================] - 1s 1s/step\n"
     ]
    },
    {
     "output_type": "stream",
     "name": "stderr",
     "text": [
      "\r  3%|▎         | 182/5700 [04:36<1:56:45,  1.27s/it]"
     ]
    },
    {
     "output_type": "stream",
     "name": "stdout",
     "text": [
      "\n",
      " After self.predict() -->  (68, 1) \n",
      " <class 'numpy.ndarray'> \n",
      "\n",
      "\n",
      "encoded flux shape: (5700, 68)\n",
      "1/1 [==============================] - 1s 1s/step\n"
     ]
    },
    {
     "output_type": "stream",
     "name": "stderr",
     "text": [
      "\r  3%|▎         | 183/5700 [04:37<1:54:13,  1.24s/it]"
     ]
    },
    {
     "output_type": "stream",
     "name": "stdout",
     "text": [
      "\n",
      " After self.predict() -->  (68, 1) \n",
      " <class 'numpy.ndarray'> \n",
      "\n",
      "\n",
      "encoded flux shape: (5700, 68)\n",
      "1/1 [==============================] - 1s 1s/step\n"
     ]
    },
    {
     "output_type": "stream",
     "name": "stderr",
     "text": [
      "\r  3%|▎         | 184/5700 [04:38<1:56:47,  1.27s/it]"
     ]
    },
    {
     "output_type": "stream",
     "name": "stdout",
     "text": [
      "\n",
      " After self.predict() -->  (68, 1) \n",
      " <class 'numpy.ndarray'> \n",
      "\n",
      "\n",
      "encoded flux shape: (5700, 68)\n",
      "1/1 [==============================] - 2s 2s/step\n"
     ]
    },
    {
     "output_type": "stream",
     "name": "stderr",
     "text": [
      "\r  3%|▎         | 185/5700 [04:40<2:07:02,  1.38s/it]"
     ]
    },
    {
     "output_type": "stream",
     "name": "stdout",
     "text": [
      "\n",
      " After self.predict() -->  (68, 1) \n",
      " <class 'numpy.ndarray'> \n",
      "\n",
      "\n",
      "encoded flux shape: (5700, 68)\n",
      "1/1 [==============================] - 2s 2s/step\n"
     ]
    },
    {
     "output_type": "stream",
     "name": "stderr",
     "text": [
      "\r  3%|▎         | 186/5700 [04:42<2:14:21,  1.46s/it]"
     ]
    },
    {
     "output_type": "stream",
     "name": "stdout",
     "text": [
      "\n",
      " After self.predict() -->  (68, 1) \n",
      " <class 'numpy.ndarray'> \n",
      "\n",
      "\n",
      "encoded flux shape: (5700, 68)\n",
      "1/1 [==============================] - 1s 1s/step\n"
     ]
    },
    {
     "output_type": "stream",
     "name": "stderr",
     "text": [
      "\r  3%|▎         | 187/5700 [04:43<2:11:50,  1.43s/it]"
     ]
    },
    {
     "output_type": "stream",
     "name": "stdout",
     "text": [
      "\n",
      " After self.predict() -->  (68, 1) \n",
      " <class 'numpy.ndarray'> \n",
      "\n",
      "\n",
      "encoded flux shape: (5700, 68)\n",
      "1/1 [==============================] - 1s 1s/step\n"
     ]
    },
    {
     "output_type": "stream",
     "name": "stderr",
     "text": [
      "\r  3%|▎         | 188/5700 [04:44<2:09:06,  1.41s/it]"
     ]
    },
    {
     "output_type": "stream",
     "name": "stdout",
     "text": [
      "\n",
      " After self.predict() -->  (68, 1) \n",
      " <class 'numpy.ndarray'> \n",
      "\n",
      "\n",
      "encoded flux shape: (5700, 68)\n",
      "1/1 [==============================] - 1s 1s/step\n"
     ]
    },
    {
     "output_type": "stream",
     "name": "stderr",
     "text": [
      "\r  3%|▎         | 189/5700 [04:46<2:02:18,  1.33s/it]"
     ]
    },
    {
     "output_type": "stream",
     "name": "stdout",
     "text": [
      "\n",
      " After self.predict() -->  (68, 1) \n",
      " <class 'numpy.ndarray'> \n",
      "\n",
      "\n",
      "encoded flux shape: (5700, 68)\n",
      "1/1 [==============================] - 1s 1s/step\n"
     ]
    },
    {
     "output_type": "stream",
     "name": "stderr",
     "text": [
      "\r  3%|▎         | 190/5700 [04:47<1:57:41,  1.28s/it]"
     ]
    },
    {
     "output_type": "stream",
     "name": "stdout",
     "text": [
      "\n",
      " After self.predict() -->  (68, 1) \n",
      " <class 'numpy.ndarray'> \n",
      "\n",
      "\n",
      "encoded flux shape: (5700, 68)\n",
      "1/1 [==============================] - 1s 1s/step\n"
     ]
    },
    {
     "output_type": "stream",
     "name": "stderr",
     "text": [
      "\r  3%|▎         | 191/5700 [04:48<1:55:27,  1.26s/it]"
     ]
    },
    {
     "output_type": "stream",
     "name": "stdout",
     "text": [
      "\n",
      " After self.predict() -->  (68, 1) \n",
      " <class 'numpy.ndarray'> \n",
      "\n",
      "\n",
      "encoded flux shape: (5700, 68)\n",
      "1/1 [==============================] - 1s 1s/step\n"
     ]
    },
    {
     "output_type": "stream",
     "name": "stderr",
     "text": [
      "\r  3%|▎         | 192/5700 [04:49<1:53:30,  1.24s/it]"
     ]
    },
    {
     "output_type": "stream",
     "name": "stdout",
     "text": [
      "\n",
      " After self.predict() -->  (68, 1) \n",
      " <class 'numpy.ndarray'> \n",
      "\n",
      "\n",
      "encoded flux shape: (5700, 68)\n",
      "1/1 [==============================] - 1s 1s/step\n"
     ]
    },
    {
     "output_type": "stream",
     "name": "stderr",
     "text": [
      "\r  3%|▎         | 193/5700 [04:50<1:56:13,  1.27s/it]"
     ]
    },
    {
     "output_type": "stream",
     "name": "stdout",
     "text": [
      "\n",
      " After self.predict() -->  (68, 1) \n",
      " <class 'numpy.ndarray'> \n",
      "\n",
      "\n",
      "encoded flux shape: (5700, 68)\n",
      "1/1 [==============================] - 1s 1s/step\n"
     ]
    },
    {
     "output_type": "stream",
     "name": "stderr",
     "text": [
      "\r  3%|▎         | 194/5700 [04:52<1:58:31,  1.29s/it]"
     ]
    },
    {
     "output_type": "stream",
     "name": "stdout",
     "text": [
      "\n",
      " After self.predict() -->  (68, 1) \n",
      " <class 'numpy.ndarray'> \n",
      "\n",
      "\n",
      "encoded flux shape: (5700, 68)\n",
      "1/1 [==============================] - 1s 1s/step\n"
     ]
    },
    {
     "output_type": "stream",
     "name": "stderr",
     "text": [
      "\r  3%|▎         | 195/5700 [04:54<2:35:01,  1.69s/it]"
     ]
    },
    {
     "output_type": "stream",
     "name": "stdout",
     "text": [
      "\n",
      " After self.predict() -->  (68, 1) \n",
      " <class 'numpy.ndarray'> \n",
      "\n",
      "\n",
      "encoded flux shape: (5700, 68)\n",
      "1/1 [==============================] - 1s 1s/step\n"
     ]
    },
    {
     "output_type": "stream",
     "name": "stderr",
     "text": [
      "\r  3%|▎         | 196/5700 [04:57<3:01:11,  1.98s/it]"
     ]
    },
    {
     "output_type": "stream",
     "name": "stdout",
     "text": [
      "\n",
      " After self.predict() -->  (68, 1) \n",
      " <class 'numpy.ndarray'> \n",
      "\n",
      "\n",
      "encoded flux shape: (5700, 68)\n",
      "1/1 [==============================] - 1s 1s/step\n"
     ]
    },
    {
     "output_type": "stream",
     "name": "stderr",
     "text": [
      "\r  3%|▎         | 197/5700 [04:58<2:39:20,  1.74s/it]"
     ]
    },
    {
     "output_type": "stream",
     "name": "stdout",
     "text": [
      "\n",
      " After self.predict() -->  (68, 1) \n",
      " <class 'numpy.ndarray'> \n",
      "\n",
      "\n",
      "encoded flux shape: (5700, 68)\n",
      "1/1 [==============================] - 1s 1s/step\n"
     ]
    },
    {
     "output_type": "stream",
     "name": "stderr",
     "text": [
      "\r  3%|▎         | 198/5700 [05:00<2:28:19,  1.62s/it]"
     ]
    },
    {
     "output_type": "stream",
     "name": "stdout",
     "text": [
      "\n",
      " After self.predict() -->  (68, 1) \n",
      " <class 'numpy.ndarray'> \n",
      "\n",
      "\n",
      "encoded flux shape: (5700, 68)\n",
      "1/1 [==============================] - 1s 1s/step\n"
     ]
    },
    {
     "output_type": "stream",
     "name": "stderr",
     "text": [
      "\r  3%|▎         | 199/5700 [05:01<2:16:24,  1.49s/it]"
     ]
    },
    {
     "output_type": "stream",
     "name": "stdout",
     "text": [
      "\n",
      " After self.predict() -->  (68, 1) \n",
      " <class 'numpy.ndarray'> \n",
      "\n",
      "\n",
      "encoded flux shape: (5700, 68)\n",
      "1/1 [==============================] - 1s 1s/step\n"
     ]
    },
    {
     "output_type": "stream",
     "name": "stderr",
     "text": [
      "\r  4%|▎         | 200/5700 [05:02<2:08:05,  1.40s/it]"
     ]
    },
    {
     "output_type": "stream",
     "name": "stdout",
     "text": [
      "\n",
      " After self.predict() -->  (68, 1) \n",
      " <class 'numpy.ndarray'> \n",
      "\n",
      "\n",
      "encoded flux shape: (5700, 68)\n",
      "1/1 [==============================] - 1s 1s/step\n"
     ]
    },
    {
     "output_type": "stream",
     "name": "stderr",
     "text": [
      "\r  4%|▎         | 201/5700 [05:03<2:06:28,  1.38s/it]"
     ]
    },
    {
     "output_type": "stream",
     "name": "stdout",
     "text": [
      "\n",
      " After self.predict() -->  (68, 1) \n",
      " <class 'numpy.ndarray'> \n",
      "\n",
      "\n",
      "encoded flux shape: (5700, 68)\n",
      "1/1 [==============================] - 1s 1s/step\n"
     ]
    },
    {
     "output_type": "stream",
     "name": "stderr",
     "text": [
      "\r  4%|▎         | 202/5700 [05:05<2:05:19,  1.37s/it]"
     ]
    },
    {
     "output_type": "stream",
     "name": "stdout",
     "text": [
      "\n",
      " After self.predict() -->  (68, 1) \n",
      " <class 'numpy.ndarray'> \n",
      "\n",
      "\n",
      "encoded flux shape: (5700, 68)\n",
      "1/1 [==============================] - 1s 1s/step\n"
     ]
    },
    {
     "output_type": "stream",
     "name": "stderr",
     "text": [
      "\r  4%|▎         | 203/5700 [05:06<2:05:07,  1.37s/it]"
     ]
    },
    {
     "output_type": "stream",
     "name": "stdout",
     "text": [
      "\n",
      " After self.predict() -->  (68, 1) \n",
      " <class 'numpy.ndarray'> \n",
      "\n",
      "\n",
      "encoded flux shape: (5700, 68)\n",
      "1/1 [==============================] - 2s 2s/step\n"
     ]
    },
    {
     "output_type": "stream",
     "name": "stderr",
     "text": [
      "\r  4%|▎         | 204/5700 [05:08<2:13:01,  1.45s/it]"
     ]
    },
    {
     "output_type": "stream",
     "name": "stdout",
     "text": [
      "\n",
      " After self.predict() -->  (68, 1) \n",
      " <class 'numpy.ndarray'> \n",
      "\n",
      "\n",
      "encoded flux shape: (5700, 68)\n",
      "1/1 [==============================] - 2s 2s/step\n"
     ]
    },
    {
     "output_type": "stream",
     "name": "stderr",
     "text": [
      "\r  4%|▎         | 205/5700 [05:10<2:45:47,  1.81s/it]"
     ]
    },
    {
     "output_type": "stream",
     "name": "stdout",
     "text": [
      "\n",
      " After self.predict() -->  (68, 1) \n",
      " <class 'numpy.ndarray'> \n",
      "\n",
      "\n",
      "encoded flux shape: (5700, 68)\n",
      "1/1 [==============================] - 1s 1s/step\n"
     ]
    },
    {
     "output_type": "stream",
     "name": "stderr",
     "text": [
      "\r  4%|▎         | 206/5700 [05:11<2:28:14,  1.62s/it]"
     ]
    },
    {
     "output_type": "stream",
     "name": "stdout",
     "text": [
      "\n",
      " After self.predict() -->  (68, 1) \n",
      " <class 'numpy.ndarray'> \n",
      "\n",
      "\n",
      "encoded flux shape: (5700, 68)\n",
      "1/1 [==============================] - 1s 1s/step\n"
     ]
    },
    {
     "output_type": "stream",
     "name": "stderr",
     "text": [
      "\r  4%|▎         | 207/5700 [05:13<2:16:34,  1.49s/it]"
     ]
    },
    {
     "output_type": "stream",
     "name": "stdout",
     "text": [
      "\n",
      " After self.predict() -->  (68, 1) \n",
      " <class 'numpy.ndarray'> \n",
      "\n",
      "\n",
      "encoded flux shape: (5700, 68)\n",
      "1/1 [==============================] - 1s 1s/step\n"
     ]
    },
    {
     "output_type": "stream",
     "name": "stderr",
     "text": [
      "\r  4%|▎         | 208/5700 [05:14<2:07:48,  1.40s/it]"
     ]
    },
    {
     "output_type": "stream",
     "name": "stdout",
     "text": [
      "\n",
      " After self.predict() -->  (68, 1) \n",
      " <class 'numpy.ndarray'> \n",
      "\n",
      "\n",
      "encoded flux shape: (5700, 68)\n",
      "1/1 [==============================] - 1s 1s/step\n"
     ]
    },
    {
     "output_type": "stream",
     "name": "stderr",
     "text": [
      "\r  4%|▎         | 209/5700 [05:15<2:06:03,  1.38s/it]"
     ]
    },
    {
     "output_type": "stream",
     "name": "stdout",
     "text": [
      "\n",
      " After self.predict() -->  (68, 1) \n",
      " <class 'numpy.ndarray'> \n",
      "\n",
      "\n",
      "encoded flux shape: (5700, 68)\n",
      "1/1 [==============================] - 1s 1s/step\n"
     ]
    },
    {
     "output_type": "stream",
     "name": "stderr",
     "text": [
      "\r  4%|▎         | 210/5700 [05:16<2:05:12,  1.37s/it]"
     ]
    },
    {
     "output_type": "stream",
     "name": "stdout",
     "text": [
      "\n",
      " After self.predict() -->  (68, 1) \n",
      " <class 'numpy.ndarray'> \n",
      "\n",
      "\n",
      "encoded flux shape: (5700, 68)\n",
      "1/1 [==============================] - 1s 1s/step\n"
     ]
    },
    {
     "output_type": "stream",
     "name": "stderr",
     "text": [
      "\r  4%|▎         | 211/5700 [05:18<2:04:32,  1.36s/it]"
     ]
    },
    {
     "output_type": "stream",
     "name": "stdout",
     "text": [
      "\n",
      " After self.predict() -->  (68, 1) \n",
      " <class 'numpy.ndarray'> \n",
      "\n",
      "\n",
      "encoded flux shape: (5700, 68)\n",
      "1/1 [==============================] - 1s 1s/step\n"
     ]
    },
    {
     "output_type": "stream",
     "name": "stderr",
     "text": [
      "\r  4%|▎         | 212/5700 [05:19<1:59:51,  1.31s/it]"
     ]
    },
    {
     "output_type": "stream",
     "name": "stdout",
     "text": [
      "\n",
      " After self.predict() -->  (68, 1) \n",
      " <class 'numpy.ndarray'> \n",
      "\n",
      "\n",
      "encoded flux shape: (5700, 68)\n",
      "1/1 [==============================] - 1s 1s/step\n"
     ]
    },
    {
     "output_type": "stream",
     "name": "stderr",
     "text": [
      "\r  4%|▎         | 213/5700 [05:22<2:35:38,  1.70s/it]"
     ]
    },
    {
     "output_type": "stream",
     "name": "stdout",
     "text": [
      "\n",
      " After self.predict() -->  (68, 1) \n",
      " <class 'numpy.ndarray'> \n",
      "\n",
      "\n",
      "encoded flux shape: (5700, 68)\n",
      "1/1 [==============================] - 1s 1s/step\n"
     ]
    },
    {
     "output_type": "stream",
     "name": "stderr",
     "text": [
      "\r  4%|▍         | 214/5700 [05:23<2:31:00,  1.65s/it]"
     ]
    },
    {
     "output_type": "stream",
     "name": "stdout",
     "text": [
      "\n",
      " After self.predict() -->  (68, 1) \n",
      " <class 'numpy.ndarray'> \n",
      "\n",
      "\n",
      "encoded flux shape: (5700, 68)\n",
      "1/1 [==============================] - 1s 1s/step\n"
     ]
    },
    {
     "output_type": "stream",
     "name": "stderr",
     "text": [
      "\r  4%|▍         | 215/5700 [05:24<2:22:23,  1.56s/it]"
     ]
    },
    {
     "output_type": "stream",
     "name": "stdout",
     "text": [
      "\n",
      " After self.predict() -->  (68, 1) \n",
      " <class 'numpy.ndarray'> \n",
      "\n",
      "\n",
      "encoded flux shape: (5700, 68)\n",
      "1/1 [==============================] - 1s 1s/step\n"
     ]
    },
    {
     "output_type": "stream",
     "name": "stderr",
     "text": [
      "\r  4%|▍         | 216/5700 [05:26<2:16:26,  1.49s/it]"
     ]
    },
    {
     "output_type": "stream",
     "name": "stdout",
     "text": [
      "\n",
      " After self.predict() -->  (68, 1) \n",
      " <class 'numpy.ndarray'> \n",
      "\n",
      "\n",
      "encoded flux shape: (5700, 68)\n",
      "1/1 [==============================] - 1s 1s/step\n"
     ]
    },
    {
     "output_type": "stream",
     "name": "stderr",
     "text": [
      "\r  4%|▍         | 217/5700 [05:27<2:12:29,  1.45s/it]"
     ]
    },
    {
     "output_type": "stream",
     "name": "stdout",
     "text": [
      "\n",
      " After self.predict() -->  (68, 1) \n",
      " <class 'numpy.ndarray'> \n",
      "\n",
      "\n",
      "encoded flux shape: (5700, 68)\n",
      "1/1 [==============================] - 1s 1s/step\n"
     ]
    },
    {
     "output_type": "stream",
     "name": "stderr",
     "text": [
      "\r  4%|▍         | 218/5700 [05:28<2:04:28,  1.36s/it]"
     ]
    },
    {
     "output_type": "stream",
     "name": "stdout",
     "text": [
      "\n",
      " After self.predict() -->  (68, 1) \n",
      " <class 'numpy.ndarray'> \n",
      "\n",
      "\n",
      "encoded flux shape: (5700, 68)\n",
      "1/1 [==============================] - 1s 1s/step\n"
     ]
    },
    {
     "output_type": "stream",
     "name": "stderr",
     "text": [
      "\r  4%|▍         | 219/5700 [05:29<1:58:55,  1.30s/it]"
     ]
    },
    {
     "output_type": "stream",
     "name": "stdout",
     "text": [
      "\n",
      " After self.predict() -->  (68, 1) \n",
      " <class 'numpy.ndarray'> \n",
      "\n",
      "\n",
      "encoded flux shape: (5700, 68)\n",
      "1/1 [==============================] - 1s 1s/step\n"
     ]
    },
    {
     "output_type": "stream",
     "name": "stderr",
     "text": [
      "\r  4%|▍         | 220/5700 [05:31<1:55:13,  1.26s/it]"
     ]
    },
    {
     "output_type": "stream",
     "name": "stdout",
     "text": [
      "\n",
      " After self.predict() -->  (68, 1) \n",
      " <class 'numpy.ndarray'> \n",
      "\n",
      "\n",
      "encoded flux shape: (5700, 68)\n",
      "1/1 [==============================] - 1s 1s/step\n"
     ]
    },
    {
     "output_type": "stream",
     "name": "stderr",
     "text": [
      "\r  4%|▍         | 221/5700 [05:32<1:57:11,  1.28s/it]"
     ]
    },
    {
     "output_type": "stream",
     "name": "stdout",
     "text": [
      "\n",
      " After self.predict() -->  (68, 1) \n",
      " <class 'numpy.ndarray'> \n",
      "\n",
      "\n",
      "encoded flux shape: (5700, 68)\n",
      "1/1 [==============================] - 1s 1s/step\n"
     ]
    },
    {
     "output_type": "stream",
     "name": "stderr",
     "text": [
      "\r  4%|▍         | 222/5700 [05:35<2:34:00,  1.69s/it]"
     ]
    },
    {
     "output_type": "stream",
     "name": "stdout",
     "text": [
      "\n",
      " After self.predict() -->  (68, 1) \n",
      " <class 'numpy.ndarray'> \n",
      "\n",
      "\n",
      "encoded flux shape: (5700, 68)\n",
      "1/1 [==============================] - 2s 2s/step\n"
     ]
    },
    {
     "output_type": "stream",
     "name": "stderr",
     "text": [
      "\r  4%|▍         | 223/5700 [05:36<2:32:08,  1.67s/it]"
     ]
    },
    {
     "output_type": "stream",
     "name": "stdout",
     "text": [
      "\n",
      " After self.predict() -->  (68, 1) \n",
      " <class 'numpy.ndarray'> \n",
      "\n",
      "\n",
      "encoded flux shape: (5700, 68)\n",
      "1/1 [==============================] - 1s 1s/step\n"
     ]
    },
    {
     "output_type": "stream",
     "name": "stderr",
     "text": [
      "\r  4%|▍         | 224/5700 [05:37<2:18:44,  1.52s/it]"
     ]
    },
    {
     "output_type": "stream",
     "name": "stdout",
     "text": [
      "\n",
      " After self.predict() -->  (68, 1) \n",
      " <class 'numpy.ndarray'> \n",
      "\n",
      "\n",
      "encoded flux shape: (5700, 68)\n",
      "1/1 [==============================] - 1s 1s/step\n"
     ]
    },
    {
     "output_type": "stream",
     "name": "stderr",
     "text": [
      "\r  4%|▍         | 225/5700 [05:39<2:09:20,  1.42s/it]"
     ]
    },
    {
     "output_type": "stream",
     "name": "stdout",
     "text": [
      "\n",
      " After self.predict() -->  (68, 1) \n",
      " <class 'numpy.ndarray'> \n",
      "\n",
      "\n",
      "encoded flux shape: (5700, 68)\n",
      "1/1 [==============================] - 1s 1s/step\n"
     ]
    },
    {
     "output_type": "stream",
     "name": "stderr",
     "text": [
      "\r  4%|▍         | 226/5700 [05:40<2:07:07,  1.39s/it]"
     ]
    },
    {
     "output_type": "stream",
     "name": "stdout",
     "text": [
      "\n",
      " After self.predict() -->  (68, 1) \n",
      " <class 'numpy.ndarray'> \n",
      "\n",
      "\n",
      "encoded flux shape: (5700, 68)\n",
      "1/1 [==============================] - 1s 1s/step\n"
     ]
    },
    {
     "output_type": "stream",
     "name": "stderr",
     "text": [
      "\r  4%|▍         | 227/5700 [05:41<2:01:00,  1.33s/it]"
     ]
    },
    {
     "output_type": "stream",
     "name": "stdout",
     "text": [
      "\n",
      " After self.predict() -->  (68, 1) \n",
      " <class 'numpy.ndarray'> \n",
      "\n",
      "\n",
      "encoded flux shape: (5700, 68)\n",
      "1/1 [==============================] - 1s 1s/step\n"
     ]
    },
    {
     "output_type": "stream",
     "name": "stderr",
     "text": [
      "\r  4%|▍         | 228/5700 [05:42<2:01:16,  1.33s/it]"
     ]
    },
    {
     "output_type": "stream",
     "name": "stdout",
     "text": [
      "\n",
      " After self.predict() -->  (68, 1) \n",
      " <class 'numpy.ndarray'> \n",
      "\n",
      "\n",
      "encoded flux shape: (5700, 68)\n",
      "1/1 [==============================] - 1s 1s/step\n"
     ]
    },
    {
     "output_type": "stream",
     "name": "stderr",
     "text": [
      "\r  4%|▍         | 229/5700 [05:44<2:01:35,  1.33s/it]"
     ]
    },
    {
     "output_type": "stream",
     "name": "stdout",
     "text": [
      "\n",
      " After self.predict() -->  (68, 1) \n",
      " <class 'numpy.ndarray'> \n",
      "\n",
      "\n",
      "encoded flux shape: (5700, 68)\n",
      "1/1 [==============================] - 1s 1s/step\n"
     ]
    },
    {
     "output_type": "stream",
     "name": "stderr",
     "text": [
      "\r  4%|▍         | 230/5700 [05:45<2:01:41,  1.33s/it]"
     ]
    },
    {
     "output_type": "stream",
     "name": "stdout",
     "text": [
      "\n",
      " After self.predict() -->  (68, 1) \n",
      " <class 'numpy.ndarray'> \n",
      "\n",
      "\n",
      "encoded flux shape: (5700, 68)\n",
      "1/1 [==============================] - 1s 1s/step\n"
     ]
    },
    {
     "output_type": "stream",
     "name": "stderr",
     "text": [
      "\r  4%|▍         | 231/5700 [05:46<2:01:50,  1.34s/it]"
     ]
    },
    {
     "output_type": "stream",
     "name": "stdout",
     "text": [
      "\n",
      " After self.predict() -->  (68, 1) \n",
      " <class 'numpy.ndarray'> \n",
      "\n",
      "\n",
      "encoded flux shape: (5700, 68)\n",
      "1/1 [==============================] - 2s 2s/step\n"
     ]
    },
    {
     "output_type": "stream",
     "name": "stderr",
     "text": [
      "\r  4%|▍         | 232/5700 [05:48<2:08:51,  1.41s/it]"
     ]
    },
    {
     "output_type": "stream",
     "name": "stdout",
     "text": [
      "\n",
      " After self.predict() -->  (68, 1) \n",
      " <class 'numpy.ndarray'> \n",
      "\n",
      "\n",
      "encoded flux shape: (5700, 68)\n",
      "1/1 [==============================] - 2s 2s/step\n"
     ]
    },
    {
     "output_type": "stream",
     "name": "stderr",
     "text": [
      "\r  4%|▍         | 233/5700 [05:50<2:15:49,  1.49s/it]"
     ]
    },
    {
     "output_type": "stream",
     "name": "stdout",
     "text": [
      "\n",
      " After self.predict() -->  (68, 1) \n",
      " <class 'numpy.ndarray'> \n",
      "\n",
      "\n",
      "encoded flux shape: (5700, 68)\n",
      "1/1 [==============================] - 1s 1s/step\n"
     ]
    },
    {
     "output_type": "stream",
     "name": "stderr",
     "text": [
      "\r  4%|▍         | 234/5700 [05:51<2:12:31,  1.45s/it]"
     ]
    },
    {
     "output_type": "stream",
     "name": "stdout",
     "text": [
      "\n",
      " After self.predict() -->  (68, 1) \n",
      " <class 'numpy.ndarray'> \n",
      "\n",
      "\n",
      "encoded flux shape: (5700, 68)\n",
      "1/1 [==============================] - 1s 1s/step\n"
     ]
    },
    {
     "output_type": "stream",
     "name": "stderr",
     "text": [
      "\r  4%|▍         | 235/5700 [05:52<2:09:18,  1.42s/it]"
     ]
    },
    {
     "output_type": "stream",
     "name": "stdout",
     "text": [
      "\n",
      " After self.predict() -->  (68, 1) \n",
      " <class 'numpy.ndarray'> \n",
      "\n",
      "\n",
      "encoded flux shape: (5700, 68)\n",
      "1/1 [==============================] - 1s 1s/step\n"
     ]
    },
    {
     "output_type": "stream",
     "name": "stderr",
     "text": [
      "\r  4%|▍         | 236/5700 [05:54<2:07:08,  1.40s/it]"
     ]
    },
    {
     "output_type": "stream",
     "name": "stdout",
     "text": [
      "\n",
      " After self.predict() -->  (68, 1) \n",
      " <class 'numpy.ndarray'> \n",
      "\n",
      "\n",
      "encoded flux shape: (5700, 68)\n",
      "1/1 [==============================] - 1s 1s/step\n"
     ]
    },
    {
     "output_type": "stream",
     "name": "stderr",
     "text": [
      "\r  4%|▍         | 237/5700 [05:55<2:05:41,  1.38s/it]"
     ]
    },
    {
     "output_type": "stream",
     "name": "stdout",
     "text": [
      "\n",
      " After self.predict() -->  (68, 1) \n",
      " <class 'numpy.ndarray'> \n",
      "\n",
      "\n",
      "encoded flux shape: (5700, 68)\n",
      "1/1 [==============================] - 1s 1s/step\n"
     ]
    },
    {
     "output_type": "stream",
     "name": "stderr",
     "text": [
      "\r  4%|▍         | 238/5700 [05:56<2:00:09,  1.32s/it]"
     ]
    },
    {
     "output_type": "stream",
     "name": "stdout",
     "text": [
      "\n",
      " After self.predict() -->  (68, 1) \n",
      " <class 'numpy.ndarray'> \n",
      "\n",
      "\n",
      "encoded flux shape: (5700, 68)\n",
      "1/1 [==============================] - 1s 1s/step\n"
     ]
    },
    {
     "output_type": "stream",
     "name": "stderr",
     "text": [
      "\r  4%|▍         | 239/5700 [05:57<1:56:40,  1.28s/it]"
     ]
    },
    {
     "output_type": "stream",
     "name": "stdout",
     "text": [
      "\n",
      " After self.predict() -->  (68, 1) \n",
      " <class 'numpy.ndarray'> \n",
      "\n",
      "\n",
      "encoded flux shape: (5700, 68)\n",
      "1/1 [==============================] - 1s 1s/step\n"
     ]
    },
    {
     "output_type": "stream",
     "name": "stderr",
     "text": [
      "\r  4%|▍         | 240/5700 [05:59<1:54:00,  1.25s/it]"
     ]
    },
    {
     "output_type": "stream",
     "name": "stdout",
     "text": [
      "\n",
      " After self.predict() -->  (68, 1) \n",
      " <class 'numpy.ndarray'> \n",
      "\n",
      "\n",
      "encoded flux shape: (5700, 68)\n",
      "1/1 [==============================] - 1s 1s/step\n"
     ]
    },
    {
     "output_type": "stream",
     "name": "stderr",
     "text": [
      "\r  4%|▍         | 241/5700 [06:00<1:52:23,  1.24s/it]"
     ]
    },
    {
     "output_type": "stream",
     "name": "stdout",
     "text": [
      "\n",
      " After self.predict() -->  (68, 1) \n",
      " <class 'numpy.ndarray'> \n",
      "\n",
      "\n",
      "encoded flux shape: (5700, 68)\n",
      "1/1 [==============================] - 1s 1s/step\n"
     ]
    },
    {
     "output_type": "stream",
     "name": "stderr",
     "text": [
      "\r  4%|▍         | 242/5700 [06:01<2:00:52,  1.33s/it]"
     ]
    },
    {
     "output_type": "stream",
     "name": "stdout",
     "text": [
      "\n",
      " After self.predict() -->  (68, 1) \n",
      " <class 'numpy.ndarray'> \n",
      "\n",
      "\n",
      "encoded flux shape: (5700, 68)\n",
      "1/1 [==============================] - 2s 2s/step\n"
     ]
    },
    {
     "output_type": "stream",
     "name": "stderr",
     "text": [
      "\r  4%|▍         | 243/5700 [06:03<2:09:13,  1.42s/it]"
     ]
    },
    {
     "output_type": "stream",
     "name": "stdout",
     "text": [
      "\n",
      " After self.predict() -->  (68, 1) \n",
      " <class 'numpy.ndarray'> \n",
      "\n",
      "\n",
      "encoded flux shape: (5700, 68)\n",
      "1/1 [==============================] - 1s 1s/step\n"
     ]
    },
    {
     "output_type": "stream",
     "name": "stderr",
     "text": [
      "\r  4%|▍         | 244/5700 [06:06<2:42:51,  1.79s/it]"
     ]
    },
    {
     "output_type": "stream",
     "name": "stdout",
     "text": [
      "\n",
      " After self.predict() -->  (68, 1) \n",
      " <class 'numpy.ndarray'> \n",
      "\n",
      "\n",
      "encoded flux shape: (5700, 68)\n",
      "1/1 [==============================] - 1s 1s/step\n"
     ]
    },
    {
     "output_type": "stream",
     "name": "stderr",
     "text": [
      "\r  4%|▍         | 245/5700 [06:07<2:26:04,  1.61s/it]"
     ]
    },
    {
     "output_type": "stream",
     "name": "stdout",
     "text": [
      "\n",
      " After self.predict() -->  (68, 1) \n",
      " <class 'numpy.ndarray'> \n",
      "\n",
      "\n",
      "encoded flux shape: (5700, 68)\n",
      "1/1 [==============================] - 1s 1s/step\n"
     ]
    },
    {
     "output_type": "stream",
     "name": "stderr",
     "text": [
      "\r  4%|▍         | 246/5700 [06:08<2:14:40,  1.48s/it]"
     ]
    },
    {
     "output_type": "stream",
     "name": "stdout",
     "text": [
      "\n",
      " After self.predict() -->  (68, 1) \n",
      " <class 'numpy.ndarray'> \n",
      "\n",
      "\n",
      "encoded flux shape: (5700, 68)\n",
      "1/1 [==============================] - 1s 1s/step\n"
     ]
    },
    {
     "output_type": "stream",
     "name": "stderr",
     "text": [
      "\r  4%|▍         | 247/5700 [06:09<2:10:36,  1.44s/it]"
     ]
    },
    {
     "output_type": "stream",
     "name": "stdout",
     "text": [
      "\n",
      " After self.predict() -->  (68, 1) \n",
      " <class 'numpy.ndarray'> \n",
      "\n",
      "\n",
      "encoded flux shape: (5700, 68)\n",
      "1/1 [==============================] - 1s 1s/step\n"
     ]
    },
    {
     "output_type": "stream",
     "name": "stderr",
     "text": [
      "\r  4%|▍         | 248/5700 [06:11<2:08:05,  1.41s/it]"
     ]
    },
    {
     "output_type": "stream",
     "name": "stdout",
     "text": [
      "\n",
      " After self.predict() -->  (68, 1) \n",
      " <class 'numpy.ndarray'> \n",
      "\n",
      "\n",
      "encoded flux shape: (5700, 68)\n",
      "1/1 [==============================] - 1s 1s/step\n"
     ]
    },
    {
     "output_type": "stream",
     "name": "stderr",
     "text": [
      "\r  4%|▍         | 249/5700 [06:12<2:01:36,  1.34s/it]"
     ]
    },
    {
     "output_type": "stream",
     "name": "stdout",
     "text": [
      "\n",
      " After self.predict() -->  (68, 1) \n",
      " <class 'numpy.ndarray'> \n",
      "\n",
      "\n",
      "encoded flux shape: (5700, 68)\n",
      "1/1 [==============================] - 1s 1s/step\n"
     ]
    },
    {
     "output_type": "stream",
     "name": "stderr",
     "text": [
      "\r  4%|▍         | 250/5700 [06:13<1:56:54,  1.29s/it]"
     ]
    },
    {
     "output_type": "stream",
     "name": "stdout",
     "text": [
      "\n",
      " After self.predict() -->  (68, 1) \n",
      " <class 'numpy.ndarray'> \n",
      "\n",
      "\n",
      "encoded flux shape: (5700, 68)\n",
      "1/1 [==============================] - 1s 1s/step\n"
     ]
    },
    {
     "output_type": "stream",
     "name": "stderr",
     "text": [
      "\r  4%|▍         | 251/5700 [06:14<1:58:20,  1.30s/it]"
     ]
    },
    {
     "output_type": "stream",
     "name": "stdout",
     "text": [
      "\n",
      " After self.predict() -->  (68, 1) \n",
      " <class 'numpy.ndarray'> \n",
      "\n",
      "\n",
      "encoded flux shape: (5700, 68)\n",
      "1/1 [==============================] - 2s 2s/step\n"
     ]
    },
    {
     "output_type": "stream",
     "name": "stderr",
     "text": [
      "\r  4%|▍         | 252/5700 [06:17<2:35:03,  1.71s/it]"
     ]
    },
    {
     "output_type": "stream",
     "name": "stdout",
     "text": [
      "\n",
      " After self.predict() -->  (68, 1) \n",
      " <class 'numpy.ndarray'> \n",
      "\n",
      "\n",
      "encoded flux shape: (5700, 68)\n",
      "1/1 [==============================] - 1s 1s/step\n"
     ]
    },
    {
     "output_type": "stream",
     "name": "stderr",
     "text": [
      "\r  4%|▍         | 253/5700 [06:18<2:25:04,  1.60s/it]"
     ]
    },
    {
     "output_type": "stream",
     "name": "stdout",
     "text": [
      "\n",
      " After self.predict() -->  (68, 1) \n",
      " <class 'numpy.ndarray'> \n",
      "\n",
      "\n",
      "encoded flux shape: (5700, 68)\n",
      "1/1 [==============================] - 1s 1s/step\n"
     ]
    },
    {
     "output_type": "stream",
     "name": "stderr",
     "text": [
      "\r  4%|▍         | 254/5700 [06:20<2:13:34,  1.47s/it]"
     ]
    },
    {
     "output_type": "stream",
     "name": "stdout",
     "text": [
      "\n",
      " After self.predict() -->  (68, 1) \n",
      " <class 'numpy.ndarray'> \n",
      "\n",
      "\n",
      "encoded flux shape: (5700, 68)\n",
      "1/1 [==============================] - 1s 1s/step\n"
     ]
    },
    {
     "output_type": "stream",
     "name": "stderr",
     "text": [
      "\r  4%|▍         | 255/5700 [06:21<2:09:46,  1.43s/it]"
     ]
    },
    {
     "output_type": "stream",
     "name": "stdout",
     "text": [
      "\n",
      " After self.predict() -->  (68, 1) \n",
      " <class 'numpy.ndarray'> \n",
      "\n",
      "\n",
      "encoded flux shape: (5700, 68)\n",
      "1/1 [==============================] - 1s 1s/step\n"
     ]
    },
    {
     "output_type": "stream",
     "name": "stderr",
     "text": [
      "\r  4%|▍         | 256/5700 [06:22<2:07:13,  1.40s/it]"
     ]
    },
    {
     "output_type": "stream",
     "name": "stdout",
     "text": [
      "\n",
      " After self.predict() -->  (68, 1) \n",
      " <class 'numpy.ndarray'> \n",
      "\n",
      "\n",
      "encoded flux shape: (5700, 68)\n",
      "1/1 [==============================] - 1s 1s/step\n"
     ]
    },
    {
     "output_type": "stream",
     "name": "stderr",
     "text": [
      "\r  5%|▍         | 257/5700 [06:24<2:05:39,  1.39s/it]"
     ]
    },
    {
     "output_type": "stream",
     "name": "stdout",
     "text": [
      "\n",
      " After self.predict() -->  (68, 1) \n",
      " <class 'numpy.ndarray'> \n",
      "\n",
      "\n",
      "encoded flux shape: (5700, 68)\n",
      "1/1 [==============================] - 1s 1s/step\n"
     ]
    },
    {
     "output_type": "stream",
     "name": "stderr",
     "text": [
      "\r  5%|▍         | 258/5700 [06:25<2:00:31,  1.33s/it]"
     ]
    },
    {
     "output_type": "stream",
     "name": "stdout",
     "text": [
      "\n",
      " After self.predict() -->  (68, 1) \n",
      " <class 'numpy.ndarray'> \n",
      "\n",
      "\n",
      "encoded flux shape: (5700, 68)\n",
      "1/1 [==============================] - 1s 1s/step\n"
     ]
    },
    {
     "output_type": "stream",
     "name": "stderr",
     "text": [
      "\r  5%|▍         | 259/5700 [06:26<1:56:33,  1.29s/it]"
     ]
    },
    {
     "output_type": "stream",
     "name": "stdout",
     "text": [
      "\n",
      " After self.predict() -->  (68, 1) \n",
      " <class 'numpy.ndarray'> \n",
      "\n",
      "\n",
      "encoded flux shape: (5700, 68)\n",
      "1/1 [==============================] - 1s 1s/step\n"
     ]
    },
    {
     "output_type": "stream",
     "name": "stderr",
     "text": [
      "\r  5%|▍         | 260/5700 [06:27<1:53:47,  1.26s/it]"
     ]
    },
    {
     "output_type": "stream",
     "name": "stdout",
     "text": [
      "\n",
      " After self.predict() -->  (68, 1) \n",
      " <class 'numpy.ndarray'> \n",
      "\n",
      "\n",
      "encoded flux shape: (5700, 68)\n",
      "1/1 [==============================] - 1s 1s/step\n"
     ]
    },
    {
     "output_type": "stream",
     "name": "stderr",
     "text": [
      "\r  5%|▍         | 261/5700 [06:29<2:00:09,  1.33s/it]"
     ]
    },
    {
     "output_type": "stream",
     "name": "stdout",
     "text": [
      "\n",
      " After self.predict() -->  (68, 1) \n",
      " <class 'numpy.ndarray'> \n",
      "\n",
      "\n",
      "encoded flux shape: (5700, 68)\n",
      "1/1 [==============================] - 2s 2s/step\n"
     ]
    },
    {
     "output_type": "stream",
     "name": "stderr",
     "text": [
      "\r  5%|▍         | 262/5700 [06:30<2:08:06,  1.41s/it]"
     ]
    },
    {
     "output_type": "stream",
     "name": "stdout",
     "text": [
      "\n",
      " After self.predict() -->  (68, 1) \n",
      " <class 'numpy.ndarray'> \n",
      "\n",
      "\n",
      "encoded flux shape: (5700, 68)\n",
      "1/1 [==============================] - 1s 1s/step\n"
     ]
    },
    {
     "output_type": "stream",
     "name": "stderr",
     "text": [
      "\r  5%|▍         | 263/5700 [06:33<2:41:37,  1.78s/it]"
     ]
    },
    {
     "output_type": "stream",
     "name": "stdout",
     "text": [
      "\n",
      " After self.predict() -->  (68, 1) \n",
      " <class 'numpy.ndarray'> \n",
      "\n",
      "\n",
      "encoded flux shape: (5700, 68)\n",
      "1/1 [==============================] - 1s 1s/step\n"
     ]
    },
    {
     "output_type": "stream",
     "name": "stderr",
     "text": [
      "\r  5%|▍         | 264/5700 [06:34<2:29:35,  1.65s/it]"
     ]
    },
    {
     "output_type": "stream",
     "name": "stdout",
     "text": [
      "\n",
      " After self.predict() -->  (68, 1) \n",
      " <class 'numpy.ndarray'> \n",
      "\n",
      "\n",
      "encoded flux shape: (5700, 68)\n",
      "1/1 [==============================] - 1s 1s/step\n"
     ]
    },
    {
     "output_type": "stream",
     "name": "stderr",
     "text": [
      "\r  5%|▍         | 265/5700 [06:36<2:21:07,  1.56s/it]"
     ]
    },
    {
     "output_type": "stream",
     "name": "stdout",
     "text": [
      "\n",
      " After self.predict() -->  (68, 1) \n",
      " <class 'numpy.ndarray'> \n",
      "\n",
      "\n",
      "encoded flux shape: (5700, 68)\n",
      "1/1 [==============================] - 1s 1s/step\n"
     ]
    },
    {
     "output_type": "stream",
     "name": "stderr",
     "text": [
      "\r  5%|▍         | 266/5700 [06:37<2:11:24,  1.45s/it]"
     ]
    },
    {
     "output_type": "stream",
     "name": "stdout",
     "text": [
      "\n",
      " After self.predict() -->  (68, 1) \n",
      " <class 'numpy.ndarray'> \n",
      "\n",
      "\n",
      "encoded flux shape: (5700, 68)\n",
      "1/1 [==============================] - 1s 1s/step\n"
     ]
    },
    {
     "output_type": "stream",
     "name": "stderr",
     "text": [
      "\r  5%|▍         | 267/5700 [06:38<2:08:15,  1.42s/it]"
     ]
    },
    {
     "output_type": "stream",
     "name": "stdout",
     "text": [
      "\n",
      " After self.predict() -->  (68, 1) \n",
      " <class 'numpy.ndarray'> \n",
      "\n",
      "\n",
      "encoded flux shape: (5700, 68)\n",
      "1/1 [==============================] - 1s 1s/step\n"
     ]
    },
    {
     "output_type": "stream",
     "name": "stderr",
     "text": [
      "\r  5%|▍         | 268/5700 [06:40<2:06:07,  1.39s/it]"
     ]
    },
    {
     "output_type": "stream",
     "name": "stdout",
     "text": [
      "\n",
      " After self.predict() -->  (68, 1) \n",
      " <class 'numpy.ndarray'> \n",
      "\n",
      "\n",
      "encoded flux shape: (5700, 68)\n",
      "1/1 [==============================] - 1s 1s/step\n"
     ]
    },
    {
     "output_type": "stream",
     "name": "stderr",
     "text": [
      "\r  5%|▍         | 269/5700 [06:41<2:04:42,  1.38s/it]"
     ]
    },
    {
     "output_type": "stream",
     "name": "stdout",
     "text": [
      "\n",
      " After self.predict() -->  (68, 1) \n",
      " <class 'numpy.ndarray'> \n",
      "\n",
      "\n",
      "encoded flux shape: (5700, 68)\n",
      "1/1 [==============================] - 1s 1s/step\n"
     ]
    },
    {
     "output_type": "stream",
     "name": "stderr",
     "text": [
      "\r  5%|▍         | 270/5700 [06:43<2:38:41,  1.75s/it]"
     ]
    },
    {
     "output_type": "stream",
     "name": "stdout",
     "text": [
      "\n",
      " After self.predict() -->  (68, 1) \n",
      " <class 'numpy.ndarray'> \n",
      "\n",
      "\n",
      "encoded flux shape: (5700, 68)\n",
      "1/1 [==============================] - 2s 2s/step\n"
     ]
    },
    {
     "output_type": "stream",
     "name": "stderr",
     "text": [
      "\r  5%|▍         | 271/5700 [06:46<3:03:05,  2.02s/it]"
     ]
    },
    {
     "output_type": "stream",
     "name": "stdout",
     "text": [
      "\n",
      " After self.predict() -->  (68, 1) \n",
      " <class 'numpy.ndarray'> \n",
      "\n",
      "\n",
      "encoded flux shape: (5700, 68)\n",
      "1/1 [==============================] - 1s 1s/step\n"
     ]
    },
    {
     "output_type": "stream",
     "name": "stderr",
     "text": [
      "\r  5%|▍         | 272/5700 [06:47<2:44:30,  1.82s/it]"
     ]
    },
    {
     "output_type": "stream",
     "name": "stdout",
     "text": [
      "\n",
      " After self.predict() -->  (68, 1) \n",
      " <class 'numpy.ndarray'> \n",
      "\n",
      "\n",
      "encoded flux shape: (5700, 68)\n",
      "1/1 [==============================] - 1s 1s/step\n"
     ]
    },
    {
     "output_type": "stream",
     "name": "stderr",
     "text": [
      "\r  5%|▍         | 273/5700 [06:49<2:31:37,  1.68s/it]"
     ]
    },
    {
     "output_type": "stream",
     "name": "stdout",
     "text": [
      "\n",
      " After self.predict() -->  (68, 1) \n",
      " <class 'numpy.ndarray'> \n",
      "\n",
      "\n",
      "encoded flux shape: (5700, 68)\n",
      "1/1 [==============================] - 1s 1s/step\n"
     ]
    },
    {
     "output_type": "stream",
     "name": "stderr",
     "text": [
      "\r  5%|▍         | 274/5700 [06:50<2:18:05,  1.53s/it]"
     ]
    },
    {
     "output_type": "stream",
     "name": "stdout",
     "text": [
      "\n",
      " After self.predict() -->  (68, 1) \n",
      " <class 'numpy.ndarray'> \n",
      "\n",
      "\n",
      "encoded flux shape: (5700, 68)\n",
      "1/1 [==============================] - 1s 1s/step\n"
     ]
    },
    {
     "output_type": "stream",
     "name": "stderr",
     "text": [
      "\r  5%|▍         | 275/5700 [06:51<2:08:56,  1.43s/it]"
     ]
    },
    {
     "output_type": "stream",
     "name": "stdout",
     "text": [
      "\n",
      " After self.predict() -->  (68, 1) \n",
      " <class 'numpy.ndarray'> \n",
      "\n",
      "\n",
      "encoded flux shape: (5700, 68)\n",
      "1/1 [==============================] - 1s 1s/step\n"
     ]
    },
    {
     "output_type": "stream",
     "name": "stderr",
     "text": [
      "\r  5%|▍         | 276/5700 [06:53<2:06:32,  1.40s/it]"
     ]
    },
    {
     "output_type": "stream",
     "name": "stdout",
     "text": [
      "\n",
      " After self.predict() -->  (68, 1) \n",
      " <class 'numpy.ndarray'> \n",
      "\n",
      "\n",
      "encoded flux shape: (5700, 68)\n",
      "1/1 [==============================] - 1s 1s/step\n"
     ]
    },
    {
     "output_type": "stream",
     "name": "stderr",
     "text": [
      "\r  5%|▍         | 277/5700 [06:54<2:04:57,  1.38s/it]"
     ]
    },
    {
     "output_type": "stream",
     "name": "stdout",
     "text": [
      "\n",
      " After self.predict() -->  (68, 1) \n",
      " <class 'numpy.ndarray'> \n",
      "\n",
      "\n",
      "encoded flux shape: (5700, 68)\n",
      "1/1 [==============================] - 1s 1s/step\n"
     ]
    },
    {
     "output_type": "stream",
     "name": "stderr",
     "text": [
      "\r  5%|▍         | 278/5700 [06:55<2:01:43,  1.35s/it]"
     ]
    },
    {
     "output_type": "stream",
     "name": "stdout",
     "text": [
      "\n",
      " After self.predict() -->  (68, 1) \n",
      " <class 'numpy.ndarray'> \n",
      "\n",
      "\n",
      "encoded flux shape: (5700, 68)\n",
      "1/1 [==============================] - 2s 2s/step\n"
     ]
    },
    {
     "output_type": "stream",
     "name": "stderr",
     "text": [
      "\r  5%|▍         | 279/5700 [06:58<2:36:56,  1.74s/it]"
     ]
    },
    {
     "output_type": "stream",
     "name": "stdout",
     "text": [
      "\n",
      " After self.predict() -->  (68, 1) \n",
      " <class 'numpy.ndarray'> \n",
      "\n",
      "\n",
      "encoded flux shape: (5700, 68)\n",
      "1/1 [==============================] - 1s 1s/step\n"
     ]
    },
    {
     "output_type": "stream",
     "name": "stderr",
     "text": [
      "\r  5%|▍         | 280/5700 [06:59<2:26:40,  1.62s/it]"
     ]
    },
    {
     "output_type": "stream",
     "name": "stdout",
     "text": [
      "\n",
      " After self.predict() -->  (68, 1) \n",
      " <class 'numpy.ndarray'> \n",
      "\n",
      "\n",
      "encoded flux shape: (5700, 68)\n",
      "1/1 [==============================] - 1s 1s/step\n"
     ]
    },
    {
     "output_type": "stream",
     "name": "stderr",
     "text": [
      "\r  5%|▍         | 281/5700 [07:00<2:18:56,  1.54s/it]"
     ]
    },
    {
     "output_type": "stream",
     "name": "stdout",
     "text": [
      "\n",
      " After self.predict() -->  (68, 1) \n",
      " <class 'numpy.ndarray'> \n",
      "\n",
      "\n",
      "encoded flux shape: (5700, 68)\n",
      "1/1 [==============================] - 1s 1s/step\n"
     ]
    },
    {
     "output_type": "stream",
     "name": "stderr",
     "text": [
      "\r  5%|▍         | 282/5700 [07:02<2:13:36,  1.48s/it]"
     ]
    },
    {
     "output_type": "stream",
     "name": "stdout",
     "text": [
      "\n",
      " After self.predict() -->  (68, 1) \n",
      " <class 'numpy.ndarray'> \n",
      "\n",
      "\n",
      "encoded flux shape: (5700, 68)\n",
      "1/1 [==============================] - 1s 1s/step\n"
     ]
    },
    {
     "output_type": "stream",
     "name": "stderr",
     "text": [
      "\r  5%|▍         | 283/5700 [07:03<2:09:53,  1.44s/it]"
     ]
    },
    {
     "output_type": "stream",
     "name": "stdout",
     "text": [
      "\n",
      " After self.predict() -->  (68, 1) \n",
      " <class 'numpy.ndarray'> \n",
      "\n",
      "\n",
      "encoded flux shape: (5700, 68)\n",
      "1/1 [==============================] - 1s 1s/step\n"
     ]
    },
    {
     "output_type": "stream",
     "name": "stderr",
     "text": [
      "\r  5%|▍         | 284/5700 [07:05<2:07:14,  1.41s/it]"
     ]
    },
    {
     "output_type": "stream",
     "name": "stdout",
     "text": [
      "\n",
      " After self.predict() -->  (68, 1) \n",
      " <class 'numpy.ndarray'> \n",
      "\n",
      "\n",
      "encoded flux shape: (5700, 68)\n",
      "1/1 [==============================] - 1s 1s/step\n"
     ]
    },
    {
     "output_type": "stream",
     "name": "stderr",
     "text": [
      "\r  5%|▌         | 285/5700 [07:06<2:05:25,  1.39s/it]"
     ]
    },
    {
     "output_type": "stream",
     "name": "stdout",
     "text": [
      "\n",
      " After self.predict() -->  (68, 1) \n",
      " <class 'numpy.ndarray'> \n",
      "\n",
      "\n",
      "encoded flux shape: (5700, 68)\n",
      "1/1 [==============================] - 1s 1s/step\n"
     ]
    },
    {
     "output_type": "stream",
     "name": "stderr",
     "text": [
      "\r  5%|▌         | 286/5700 [07:07<1:59:21,  1.32s/it]"
     ]
    },
    {
     "output_type": "stream",
     "name": "stdout",
     "text": [
      "\n",
      " After self.predict() -->  (68, 1) \n",
      " <class 'numpy.ndarray'> \n",
      "\n",
      "\n",
      "encoded flux shape: (5700, 68)\n",
      "1/1 [==============================] - 1s 1s/step\n"
     ]
    },
    {
     "output_type": "stream",
     "name": "stderr",
     "text": [
      "\r  5%|▌         | 287/5700 [07:08<1:59:55,  1.33s/it]"
     ]
    },
    {
     "output_type": "stream",
     "name": "stdout",
     "text": [
      "\n",
      " After self.predict() -->  (68, 1) \n",
      " <class 'numpy.ndarray'> \n",
      "\n",
      "\n",
      "encoded flux shape: (5700, 68)\n",
      "1/1 [==============================] - 2s 2s/step\n"
     ]
    },
    {
     "output_type": "stream",
     "name": "stderr",
     "text": [
      "\r  5%|▌         | 288/5700 [07:10<2:08:19,  1.42s/it]"
     ]
    },
    {
     "output_type": "stream",
     "name": "stdout",
     "text": [
      "\n",
      " After self.predict() -->  (68, 1) \n",
      " <class 'numpy.ndarray'> \n",
      "\n",
      "\n",
      "encoded flux shape: (5700, 68)\n",
      "1/1 [==============================] - 2s 2s/step\n"
     ]
    },
    {
     "output_type": "stream",
     "name": "stderr",
     "text": [
      "\r  5%|▌         | 289/5700 [07:13<2:41:24,  1.79s/it]"
     ]
    },
    {
     "output_type": "stream",
     "name": "stdout",
     "text": [
      "\n",
      " After self.predict() -->  (68, 1) \n",
      " <class 'numpy.ndarray'> \n",
      "\n",
      "\n",
      "encoded flux shape: (5700, 68)\n",
      "1/1 [==============================] - 1s 1s/step\n"
     ]
    },
    {
     "output_type": "stream",
     "name": "stderr",
     "text": [
      "\r  5%|▌         | 290/5700 [07:14<2:29:12,  1.65s/it]"
     ]
    },
    {
     "output_type": "stream",
     "name": "stdout",
     "text": [
      "\n",
      " After self.predict() -->  (68, 1) \n",
      " <class 'numpy.ndarray'> \n",
      "\n",
      "\n",
      "encoded flux shape: (5700, 68)\n",
      "1/1 [==============================] - 1s 1s/step\n"
     ]
    },
    {
     "output_type": "stream",
     "name": "stderr",
     "text": [
      "\r  5%|▌         | 291/5700 [07:15<2:20:55,  1.56s/it]"
     ]
    },
    {
     "output_type": "stream",
     "name": "stdout",
     "text": [
      "\n",
      " After self.predict() -->  (68, 1) \n",
      " <class 'numpy.ndarray'> \n",
      "\n",
      "\n",
      "encoded flux shape: (5700, 68)\n",
      "1/1 [==============================] - 1s 1s/step\n"
     ]
    },
    {
     "output_type": "stream",
     "name": "stderr",
     "text": [
      "\r  5%|▌         | 292/5700 [07:16<2:09:39,  1.44s/it]"
     ]
    },
    {
     "output_type": "stream",
     "name": "stdout",
     "text": [
      "\n",
      " After self.predict() -->  (68, 1) \n",
      " <class 'numpy.ndarray'> \n",
      "\n",
      "\n",
      "encoded flux shape: (5700, 68)\n",
      "1/1 [==============================] - 1s 1s/step\n"
     ]
    },
    {
     "output_type": "stream",
     "name": "stderr",
     "text": [
      "\r  5%|▌         | 293/5700 [07:18<2:06:58,  1.41s/it]"
     ]
    },
    {
     "output_type": "stream",
     "name": "stdout",
     "text": [
      "\n",
      " After self.predict() -->  (68, 1) \n",
      " <class 'numpy.ndarray'> \n",
      "\n",
      "\n",
      "encoded flux shape: (5700, 68)\n",
      "1/1 [==============================] - 1s 1s/step\n"
     ]
    },
    {
     "output_type": "stream",
     "name": "stderr",
     "text": [
      "\r  5%|▌         | 294/5700 [07:19<2:00:26,  1.34s/it]"
     ]
    },
    {
     "output_type": "stream",
     "name": "stdout",
     "text": [
      "\n",
      " After self.predict() -->  (68, 1) \n",
      " <class 'numpy.ndarray'> \n",
      "\n",
      "\n",
      "encoded flux shape: (5700, 68)\n",
      "1/1 [==============================] - 1s 1s/step\n"
     ]
    },
    {
     "output_type": "stream",
     "name": "stderr",
     "text": [
      "\r  5%|▌         | 295/5700 [07:20<2:00:27,  1.34s/it]"
     ]
    },
    {
     "output_type": "stream",
     "name": "stdout",
     "text": [
      "\n",
      " After self.predict() -->  (68, 1) \n",
      " <class 'numpy.ndarray'> \n",
      "\n",
      "\n",
      "encoded flux shape: (5700, 68)\n",
      "1/1 [==============================] - 1s 1s/step\n"
     ]
    },
    {
     "output_type": "stream",
     "name": "stderr",
     "text": [
      "\r  5%|▌         | 296/5700 [07:22<2:00:27,  1.34s/it]"
     ]
    },
    {
     "output_type": "stream",
     "name": "stdout",
     "text": [
      "\n",
      " After self.predict() -->  (68, 1) \n",
      " <class 'numpy.ndarray'> \n",
      "\n",
      "\n",
      "encoded flux shape: (5700, 68)\n",
      "1/1 [==============================] - 1s 1s/step\n"
     ]
    },
    {
     "output_type": "stream",
     "name": "stderr",
     "text": [
      "\r  5%|▌         | 297/5700 [07:24<2:35:18,  1.72s/it]"
     ]
    },
    {
     "output_type": "stream",
     "name": "stdout",
     "text": [
      "\n",
      " After self.predict() -->  (68, 1) \n",
      " <class 'numpy.ndarray'> \n",
      "\n",
      "\n",
      "encoded flux shape: (5700, 68)\n",
      "1/1 [==============================] - 1s 1s/step\n"
     ]
    },
    {
     "output_type": "stream",
     "name": "stderr",
     "text": [
      "\r  5%|▌         | 298/5700 [07:27<3:00:07,  2.00s/it]"
     ]
    },
    {
     "output_type": "stream",
     "name": "stdout",
     "text": [
      "\n",
      " After self.predict() -->  (68, 1) \n",
      " <class 'numpy.ndarray'> \n",
      "\n",
      "\n",
      "encoded flux shape: (5700, 68)\n",
      "1/1 [==============================] - 1s 1s/step\n"
     ]
    },
    {
     "output_type": "stream",
     "name": "stderr",
     "text": [
      "\r  5%|▌         | 299/5700 [07:28<2:38:22,  1.76s/it]"
     ]
    },
    {
     "output_type": "stream",
     "name": "stdout",
     "text": [
      "\n",
      " After self.predict() -->  (68, 1) \n",
      " <class 'numpy.ndarray'> \n",
      "\n",
      "\n",
      "encoded flux shape: (5700, 68)\n",
      "1/1 [==============================] - 1s 1s/step\n"
     ]
    },
    {
     "output_type": "stream",
     "name": "stderr",
     "text": [
      "\r  5%|▌         | 300/5700 [07:29<2:26:55,  1.63s/it]"
     ]
    },
    {
     "output_type": "stream",
     "name": "stdout",
     "text": [
      "\n",
      " After self.predict() -->  (68, 1) \n",
      " <class 'numpy.ndarray'> \n",
      "\n",
      "\n",
      "encoded flux shape: (5700, 68)\n",
      "1/1 [==============================] - 1s 1s/step\n"
     ]
    },
    {
     "output_type": "stream",
     "name": "stderr",
     "text": [
      "\r  5%|▌         | 301/5700 [07:31<2:18:54,  1.54s/it]"
     ]
    },
    {
     "output_type": "stream",
     "name": "stdout",
     "text": [
      "\n",
      " After self.predict() -->  (68, 1) \n",
      " <class 'numpy.ndarray'> \n",
      "\n",
      "\n",
      "encoded flux shape: (5700, 68)\n",
      "1/1 [==============================] - 1s 1s/step\n"
     ]
    },
    {
     "output_type": "stream",
     "name": "stderr",
     "text": [
      "\r  5%|▌         | 302/5700 [07:32<2:09:00,  1.43s/it]"
     ]
    },
    {
     "output_type": "stream",
     "name": "stdout",
     "text": [
      "\n",
      " After self.predict() -->  (68, 1) \n",
      " <class 'numpy.ndarray'> \n",
      "\n",
      "\n",
      "encoded flux shape: (5700, 68)\n",
      "1/1 [==============================] - 1s 1s/step\n"
     ]
    },
    {
     "output_type": "stream",
     "name": "stderr",
     "text": [
      "\r  5%|▌         | 303/5700 [07:33<2:01:51,  1.35s/it]"
     ]
    },
    {
     "output_type": "stream",
     "name": "stdout",
     "text": [
      "\n",
      " After self.predict() -->  (68, 1) \n",
      " <class 'numpy.ndarray'> \n",
      "\n",
      "\n",
      "encoded flux shape: (5700, 68)\n",
      "1/1 [==============================] - 1s 1s/step\n"
     ]
    },
    {
     "output_type": "stream",
     "name": "stderr",
     "text": [
      "\r  5%|▌         | 304/5700 [07:34<1:57:01,  1.30s/it]"
     ]
    },
    {
     "output_type": "stream",
     "name": "stdout",
     "text": [
      "\n",
      " After self.predict() -->  (68, 1) \n",
      " <class 'numpy.ndarray'> \n",
      "\n",
      "\n",
      "encoded flux shape: (5700, 68)\n",
      "1/1 [==============================] - 1s 1s/step\n"
     ]
    },
    {
     "output_type": "stream",
     "name": "stderr",
     "text": [
      "\r  5%|▌         | 305/5700 [07:36<1:58:09,  1.31s/it]"
     ]
    },
    {
     "output_type": "stream",
     "name": "stdout",
     "text": [
      "\n",
      " After self.predict() -->  (68, 1) \n",
      " <class 'numpy.ndarray'> \n",
      "\n",
      "\n",
      "encoded flux shape: (5700, 68)\n",
      "1/1 [==============================] - 2s 2s/step\n"
     ]
    },
    {
     "output_type": "stream",
     "name": "stderr",
     "text": [
      "\r  5%|▌         | 306/5700 [07:37<2:06:54,  1.41s/it]"
     ]
    },
    {
     "output_type": "stream",
     "name": "stdout",
     "text": [
      "\n",
      " After self.predict() -->  (68, 1) \n",
      " <class 'numpy.ndarray'> \n",
      "\n",
      "\n",
      "encoded flux shape: (5700, 68)\n",
      "1/1 [==============================] - 2s 2s/step\n"
     ]
    },
    {
     "output_type": "stream",
     "name": "stderr",
     "text": [
      "\r  5%|▌         | 307/5700 [07:40<2:40:10,  1.78s/it]"
     ]
    },
    {
     "output_type": "stream",
     "name": "stdout",
     "text": [
      "\n",
      " After self.predict() -->  (68, 1) \n",
      " <class 'numpy.ndarray'> \n",
      "\n",
      "\n",
      "encoded flux shape: (5700, 68)\n",
      "1/1 [==============================] - 1s 1s/step\n"
     ]
    },
    {
     "output_type": "stream",
     "name": "stderr",
     "text": [
      "\r  5%|▌         | 308/5700 [07:41<2:28:10,  1.65s/it]"
     ]
    },
    {
     "output_type": "stream",
     "name": "stdout",
     "text": [
      "\n",
      " After self.predict() -->  (68, 1) \n",
      " <class 'numpy.ndarray'> \n",
      "\n",
      "\n",
      "encoded flux shape: (5700, 68)\n",
      "1/1 [==============================] - 1s 1s/step\n"
     ]
    },
    {
     "output_type": "stream",
     "name": "stderr",
     "text": [
      "\r  5%|▌         | 309/5700 [07:42<2:14:49,  1.50s/it]"
     ]
    },
    {
     "output_type": "stream",
     "name": "stdout",
     "text": [
      "\n",
      " After self.predict() -->  (68, 1) \n",
      " <class 'numpy.ndarray'> \n",
      "\n",
      "\n",
      "encoded flux shape: (5700, 68)\n",
      "1/1 [==============================] - 1s 1s/step\n"
     ]
    },
    {
     "output_type": "stream",
     "name": "stderr",
     "text": [
      "\r  5%|▌         | 310/5700 [07:44<2:10:25,  1.45s/it]"
     ]
    },
    {
     "output_type": "stream",
     "name": "stdout",
     "text": [
      "\n",
      " After self.predict() -->  (68, 1) \n",
      " <class 'numpy.ndarray'> \n",
      "\n",
      "\n",
      "encoded flux shape: (5700, 68)\n",
      "1/1 [==============================] - 1s 1s/step\n"
     ]
    },
    {
     "output_type": "stream",
     "name": "stderr",
     "text": [
      "\r  5%|▌         | 311/5700 [07:45<2:07:46,  1.42s/it]"
     ]
    },
    {
     "output_type": "stream",
     "name": "stdout",
     "text": [
      "\n",
      " After self.predict() -->  (68, 1) \n",
      " <class 'numpy.ndarray'> \n",
      "\n",
      "\n",
      "encoded flux shape: (5700, 68)\n",
      "1/1 [==============================] - 1s 1s/step\n"
     ]
    },
    {
     "output_type": "stream",
     "name": "stderr",
     "text": [
      "\r  5%|▌         | 312/5700 [07:46<2:00:56,  1.35s/it]"
     ]
    },
    {
     "output_type": "stream",
     "name": "stdout",
     "text": [
      "\n",
      " After self.predict() -->  (68, 1) \n",
      " <class 'numpy.ndarray'> \n",
      "\n",
      "\n",
      "encoded flux shape: (5700, 68)\n",
      "1/1 [==============================] - 1s 1s/step\n"
     ]
    },
    {
     "output_type": "stream",
     "name": "stderr",
     "text": [
      "\r  5%|▌         | 313/5700 [07:47<1:55:47,  1.29s/it]"
     ]
    },
    {
     "output_type": "stream",
     "name": "stdout",
     "text": [
      "\n",
      " After self.predict() -->  (68, 1) \n",
      " <class 'numpy.ndarray'> \n",
      "\n",
      "\n",
      "encoded flux shape: (5700, 68)\n",
      "1/1 [==============================] - 1s 1s/step\n"
     ]
    },
    {
     "output_type": "stream",
     "name": "stderr",
     "text": [
      "\r  6%|▌         | 314/5700 [07:49<1:57:03,  1.30s/it]"
     ]
    },
    {
     "output_type": "stream",
     "name": "stdout",
     "text": [
      "\n",
      " After self.predict() -->  (68, 1) \n",
      " <class 'numpy.ndarray'> \n",
      "\n",
      "\n",
      "encoded flux shape: (5700, 68)\n",
      "1/1 [==============================] - 1s 1s/step\n"
     ]
    },
    {
     "output_type": "stream",
     "name": "stderr",
     "text": [
      "\r  6%|▌         | 315/5700 [07:51<2:32:28,  1.70s/it]"
     ]
    },
    {
     "output_type": "stream",
     "name": "stdout",
     "text": [
      "\n",
      " After self.predict() -->  (68, 1) \n",
      " <class 'numpy.ndarray'> \n",
      "\n",
      "\n",
      "encoded flux shape: (5700, 68)\n",
      "1/1 [==============================] - 1s 1s/step\n"
     ]
    },
    {
     "output_type": "stream",
     "name": "stderr",
     "text": [
      "\r  6%|▌         | 316/5700 [07:53<2:28:35,  1.66s/it]"
     ]
    },
    {
     "output_type": "stream",
     "name": "stdout",
     "text": [
      "\n",
      " After self.predict() -->  (68, 1) \n",
      " <class 'numpy.ndarray'> \n",
      "\n",
      "\n",
      "encoded flux shape: (5700, 68)\n",
      "1/1 [==============================] - 1s 1s/step\n"
     ]
    },
    {
     "output_type": "stream",
     "name": "stderr",
     "text": [
      "\r  6%|▌         | 317/5700 [07:54<2:16:33,  1.52s/it]"
     ]
    },
    {
     "output_type": "stream",
     "name": "stdout",
     "text": [
      "\n",
      " After self.predict() -->  (68, 1) \n",
      " <class 'numpy.ndarray'> \n",
      "\n",
      "\n",
      "encoded flux shape: (5700, 68)\n",
      "1/1 [==============================] - 1s 1s/step\n"
     ]
    },
    {
     "output_type": "stream",
     "name": "stderr",
     "text": [
      "\r  6%|▌         | 318/5700 [07:55<2:07:07,  1.42s/it]"
     ]
    },
    {
     "output_type": "stream",
     "name": "stdout",
     "text": [
      "\n",
      " After self.predict() -->  (68, 1) \n",
      " <class 'numpy.ndarray'> \n",
      "\n",
      "\n",
      "encoded flux shape: (5700, 68)\n",
      "1/1 [==============================] - 1s 1s/step\n"
     ]
    },
    {
     "output_type": "stream",
     "name": "stderr",
     "text": [
      "\r  6%|▌         | 319/5700 [07:57<2:00:33,  1.34s/it]"
     ]
    },
    {
     "output_type": "stream",
     "name": "stdout",
     "text": [
      "\n",
      " After self.predict() -->  (68, 1) \n",
      " <class 'numpy.ndarray'> \n",
      "\n",
      "\n",
      "encoded flux shape: (5700, 68)\n",
      "1/1 [==============================] - 1s 1s/step\n"
     ]
    },
    {
     "output_type": "stream",
     "name": "stderr",
     "text": [
      "\r  6%|▌         | 320/5700 [07:58<2:00:21,  1.34s/it]"
     ]
    },
    {
     "output_type": "stream",
     "name": "stdout",
     "text": [
      "\n",
      " After self.predict() -->  (68, 1) \n",
      " <class 'numpy.ndarray'> \n",
      "\n",
      "\n",
      "encoded flux shape: (5700, 68)\n",
      "1/1 [==============================] - 1s 1s/step\n"
     ]
    },
    {
     "output_type": "stream",
     "name": "stderr",
     "text": [
      "\r  6%|▌         | 321/5700 [07:59<1:55:30,  1.29s/it]"
     ]
    },
    {
     "output_type": "stream",
     "name": "stdout",
     "text": [
      "\n",
      " After self.predict() -->  (68, 1) \n",
      " <class 'numpy.ndarray'> \n",
      "\n",
      "\n",
      "encoded flux shape: (5700, 68)\n",
      "1/1 [==============================] - 1s 1s/step\n"
     ]
    },
    {
     "output_type": "stream",
     "name": "stderr",
     "text": [
      "\r  6%|▌         | 322/5700 [08:00<1:51:39,  1.25s/it]"
     ]
    },
    {
     "output_type": "stream",
     "name": "stdout",
     "text": [
      "\n",
      " After self.predict() -->  (68, 1) \n",
      " <class 'numpy.ndarray'> \n",
      "\n",
      "\n",
      "encoded flux shape: (5700, 68)\n",
      "1/1 [==============================] - 1s 1s/step\n"
     ]
    },
    {
     "output_type": "stream",
     "name": "stderr",
     "text": [
      "\r  6%|▌         | 323/5700 [08:02<1:54:15,  1.28s/it]"
     ]
    },
    {
     "output_type": "stream",
     "name": "stdout",
     "text": [
      "\n",
      " After self.predict() -->  (68, 1) \n",
      " <class 'numpy.ndarray'> \n",
      "\n",
      "\n",
      "encoded flux shape: (5700, 68)\n",
      "1/1 [==============================] - 1s 1s/step\n"
     ]
    },
    {
     "output_type": "stream",
     "name": "stderr",
     "text": [
      "\r  6%|▌         | 324/5700 [08:03<1:55:57,  1.29s/it]"
     ]
    },
    {
     "output_type": "stream",
     "name": "stdout",
     "text": [
      "\n",
      " After self.predict() -->  (68, 1) \n",
      " <class 'numpy.ndarray'> \n",
      "\n",
      "\n",
      "encoded flux shape: (5700, 68)\n",
      "1/1 [==============================] - 1s 1s/step\n"
     ]
    },
    {
     "output_type": "stream",
     "name": "stderr",
     "text": [
      "\r  6%|▌         | 325/5700 [08:04<2:03:35,  1.38s/it]"
     ]
    },
    {
     "output_type": "stream",
     "name": "stdout",
     "text": [
      "\n",
      " After self.predict() -->  (68, 1) \n",
      " <class 'numpy.ndarray'> \n",
      "\n",
      "\n",
      "encoded flux shape: (5700, 68)\n",
      "1/1 [==============================] - 2s 2s/step\n"
     ]
    },
    {
     "output_type": "stream",
     "name": "stderr",
     "text": [
      "\r  6%|▌         | 326/5700 [08:06<2:10:58,  1.46s/it]"
     ]
    },
    {
     "output_type": "stream",
     "name": "stdout",
     "text": [
      "\n",
      " After self.predict() -->  (68, 1) \n",
      " <class 'numpy.ndarray'> \n",
      "\n",
      "\n",
      "encoded flux shape: (5700, 68)\n",
      "1/1 [==============================] - 1s 1s/step\n"
     ]
    },
    {
     "output_type": "stream",
     "name": "stderr",
     "text": [
      "\r  6%|▌         | 327/5700 [08:07<2:08:16,  1.43s/it]"
     ]
    },
    {
     "output_type": "stream",
     "name": "stdout",
     "text": [
      "\n",
      " After self.predict() -->  (68, 1) \n",
      " <class 'numpy.ndarray'> \n",
      "\n",
      "\n",
      "encoded flux shape: (5700, 68)\n",
      "1/1 [==============================] - 1s 1s/step\n"
     ]
    },
    {
     "output_type": "stream",
     "name": "stderr",
     "text": [
      "\r  6%|▌         | 328/5700 [08:09<2:01:35,  1.36s/it]"
     ]
    },
    {
     "output_type": "stream",
     "name": "stdout",
     "text": [
      "\n",
      " After self.predict() -->  (68, 1) \n",
      " <class 'numpy.ndarray'> \n",
      "\n",
      "\n",
      "encoded flux shape: (5700, 68)\n",
      "1/1 [==============================] - 1s 1s/step\n"
     ]
    },
    {
     "output_type": "stream",
     "name": "stderr",
     "text": [
      "\r  6%|▌         | 329/5700 [08:10<1:56:43,  1.30s/it]"
     ]
    },
    {
     "output_type": "stream",
     "name": "stdout",
     "text": [
      "\n",
      " After self.predict() -->  (68, 1) \n",
      " <class 'numpy.ndarray'> \n",
      "\n",
      "\n",
      "encoded flux shape: (5700, 68)\n",
      "1/1 [==============================] - 1s 1s/step\n"
     ]
    },
    {
     "output_type": "stream",
     "name": "stderr",
     "text": [
      "\r  6%|▌         | 330/5700 [08:11<1:57:43,  1.32s/it]"
     ]
    },
    {
     "output_type": "stream",
     "name": "stdout",
     "text": [
      "\n",
      " After self.predict() -->  (68, 1) \n",
      " <class 'numpy.ndarray'> \n",
      "\n",
      "\n",
      "encoded flux shape: (5700, 68)\n",
      "1/1 [==============================] - 1s 1s/step\n"
     ]
    },
    {
     "output_type": "stream",
     "name": "stderr",
     "text": [
      "\r  6%|▌         | 331/5700 [08:12<1:54:18,  1.28s/it]"
     ]
    },
    {
     "output_type": "stream",
     "name": "stdout",
     "text": [
      "\n",
      " After self.predict() -->  (68, 1) \n",
      " <class 'numpy.ndarray'> \n",
      "\n",
      "\n",
      "encoded flux shape: (5700, 68)\n",
      "1/1 [==============================] - 1s 1s/step\n"
     ]
    },
    {
     "output_type": "stream",
     "name": "stderr",
     "text": [
      "\r  6%|▌         | 332/5700 [08:14<1:55:51,  1.29s/it]"
     ]
    },
    {
     "output_type": "stream",
     "name": "stdout",
     "text": [
      "\n",
      " After self.predict() -->  (68, 1) \n",
      " <class 'numpy.ndarray'> \n",
      "\n",
      "\n",
      "encoded flux shape: (5700, 68)\n",
      "1/1 [==============================] - 1s 1s/step\n"
     ]
    },
    {
     "output_type": "stream",
     "name": "stderr",
     "text": [
      "\r  6%|▌         | 333/5700 [08:15<1:57:29,  1.31s/it]"
     ]
    },
    {
     "output_type": "stream",
     "name": "stdout",
     "text": [
      "\n",
      " After self.predict() -->  (68, 1) \n",
      " <class 'numpy.ndarray'> \n",
      "\n",
      "\n",
      "encoded flux shape: (5700, 68)\n",
      "1/1 [==============================] - 1s 1s/step\n"
     ]
    },
    {
     "output_type": "stream",
     "name": "stderr",
     "text": [
      "\r  6%|▌         | 334/5700 [08:16<1:53:07,  1.26s/it]"
     ]
    },
    {
     "output_type": "stream",
     "name": "stdout",
     "text": [
      "\n",
      " After self.predict() -->  (68, 1) \n",
      " <class 'numpy.ndarray'> \n",
      "\n",
      "\n",
      "encoded flux shape: (5700, 68)\n",
      "1/1 [==============================] - 1s 1s/step\n"
     ]
    },
    {
     "output_type": "stream",
     "name": "stderr",
     "text": [
      "\r  6%|▌         | 335/5700 [08:18<1:58:06,  1.32s/it]"
     ]
    },
    {
     "output_type": "stream",
     "name": "stdout",
     "text": [
      "\n",
      " After self.predict() -->  (68, 1) \n",
      " <class 'numpy.ndarray'> \n",
      "\n",
      "\n",
      "encoded flux shape: (5700, 68)\n",
      "1/1 [==============================] - 2s 2s/step\n"
     ]
    },
    {
     "output_type": "stream",
     "name": "stderr",
     "text": [
      "\r  6%|▌         | 336/5700 [08:20<2:33:59,  1.72s/it]"
     ]
    },
    {
     "output_type": "stream",
     "name": "stdout",
     "text": [
      "\n",
      " After self.predict() -->  (68, 1) \n",
      " <class 'numpy.ndarray'> \n",
      "\n",
      "\n",
      "encoded flux shape: (5700, 68)\n",
      "1/1 [==============================] - 1s 1s/step\n"
     ]
    },
    {
     "output_type": "stream",
     "name": "stderr",
     "text": [
      "\r  6%|▌         | 337/5700 [08:22<2:23:34,  1.61s/it]"
     ]
    },
    {
     "output_type": "stream",
     "name": "stdout",
     "text": [
      "\n",
      " After self.predict() -->  (68, 1) \n",
      " <class 'numpy.ndarray'> \n",
      "\n",
      "\n",
      "encoded flux shape: (5700, 68)\n",
      "1/1 [==============================] - 1s 1s/step\n"
     ]
    },
    {
     "output_type": "stream",
     "name": "stderr",
     "text": [
      "\r  6%|▌         | 338/5700 [08:23<2:16:21,  1.53s/it]"
     ]
    },
    {
     "output_type": "stream",
     "name": "stdout",
     "text": [
      "\n",
      " After self.predict() -->  (68, 1) \n",
      " <class 'numpy.ndarray'> \n",
      "\n",
      "\n",
      "encoded flux shape: (5700, 68)\n",
      "1/1 [==============================] - 1s 1s/step\n"
     ]
    },
    {
     "output_type": "stream",
     "name": "stderr",
     "text": [
      "\r  6%|▌         | 339/5700 [08:24<2:07:20,  1.43s/it]"
     ]
    },
    {
     "output_type": "stream",
     "name": "stdout",
     "text": [
      "\n",
      " After self.predict() -->  (68, 1) \n",
      " <class 'numpy.ndarray'> \n",
      "\n",
      "\n",
      "encoded flux shape: (5700, 68)\n",
      "1/1 [==============================] - 1s 1s/step\n"
     ]
    },
    {
     "output_type": "stream",
     "name": "stderr",
     "text": [
      "\r  6%|▌         | 340/5700 [08:26<2:05:08,  1.40s/it]"
     ]
    },
    {
     "output_type": "stream",
     "name": "stdout",
     "text": [
      "\n",
      " After self.predict() -->  (68, 1) \n",
      " <class 'numpy.ndarray'> \n",
      "\n",
      "\n",
      "encoded flux shape: (5700, 68)\n",
      "1/1 [==============================] - 1s 1s/step\n"
     ]
    },
    {
     "output_type": "stream",
     "name": "stderr",
     "text": [
      "\r  6%|▌         | 341/5700 [08:27<2:03:48,  1.39s/it]"
     ]
    },
    {
     "output_type": "stream",
     "name": "stdout",
     "text": [
      "\n",
      " After self.predict() -->  (68, 1) \n",
      " <class 'numpy.ndarray'> \n",
      "\n",
      "\n",
      "encoded flux shape: (5700, 68)\n",
      "1/1 [==============================] - 1s 1s/step\n"
     ]
    },
    {
     "output_type": "stream",
     "name": "stderr",
     "text": [
      "\r  6%|▌         | 342/5700 [08:28<1:58:26,  1.33s/it]"
     ]
    },
    {
     "output_type": "stream",
     "name": "stdout",
     "text": [
      "\n",
      " After self.predict() -->  (68, 1) \n",
      " <class 'numpy.ndarray'> \n",
      "\n",
      "\n",
      "encoded flux shape: (5700, 68)\n",
      "1/1 [==============================] - 1s 1s/step\n"
     ]
    },
    {
     "output_type": "stream",
     "name": "stderr",
     "text": [
      "\r  6%|▌         | 343/5700 [08:29<1:54:37,  1.28s/it]"
     ]
    },
    {
     "output_type": "stream",
     "name": "stdout",
     "text": [
      "\n",
      " After self.predict() -->  (68, 1) \n",
      " <class 'numpy.ndarray'> \n",
      "\n",
      "\n",
      "encoded flux shape: (5700, 68)\n",
      "1/1 [==============================] - 1s 1s/step\n"
     ]
    },
    {
     "output_type": "stream",
     "name": "stderr",
     "text": [
      "\r  6%|▌         | 344/5700 [08:31<1:54:32,  1.28s/it]"
     ]
    },
    {
     "output_type": "stream",
     "name": "stdout",
     "text": [
      "\n",
      " After self.predict() -->  (68, 1) \n",
      " <class 'numpy.ndarray'> \n",
      "\n",
      "\n",
      "encoded flux shape: (5700, 68)\n",
      "1/1 [==============================] - 2s 2s/step\n"
     ]
    },
    {
     "output_type": "stream",
     "name": "stderr",
     "text": [
      "\r  6%|▌         | 345/5700 [08:33<2:31:09,  1.69s/it]"
     ]
    },
    {
     "output_type": "stream",
     "name": "stdout",
     "text": [
      "\n",
      " After self.predict() -->  (68, 1) \n",
      " <class 'numpy.ndarray'> \n",
      "\n",
      "\n",
      "encoded flux shape: (5700, 68)\n",
      "1/1 [==============================] - 1s 1s/step\n"
     ]
    },
    {
     "output_type": "stream",
     "name": "stderr",
     "text": [
      "\r  6%|▌         | 346/5700 [08:35<2:22:38,  1.60s/it]"
     ]
    },
    {
     "output_type": "stream",
     "name": "stdout",
     "text": [
      "\n",
      " After self.predict() -->  (68, 1) \n",
      " <class 'numpy.ndarray'> \n",
      "\n",
      "\n",
      "encoded flux shape: (5700, 68)\n",
      "1/1 [==============================] - 1s 1s/step\n"
     ]
    },
    {
     "output_type": "stream",
     "name": "stderr",
     "text": [
      "\r  6%|▌         | 347/5700 [08:36<2:15:44,  1.52s/it]"
     ]
    },
    {
     "output_type": "stream",
     "name": "stdout",
     "text": [
      "\n",
      " After self.predict() -->  (68, 1) \n",
      " <class 'numpy.ndarray'> \n",
      "\n",
      "\n",
      "encoded flux shape: (5700, 68)\n",
      "1/1 [==============================] - 1s 1s/step\n"
     ]
    },
    {
     "output_type": "stream",
     "name": "stderr",
     "text": [
      "\r  6%|▌         | 348/5700 [08:37<2:06:14,  1.42s/it]"
     ]
    },
    {
     "output_type": "stream",
     "name": "stdout",
     "text": [
      "\n",
      " After self.predict() -->  (68, 1) \n",
      " <class 'numpy.ndarray'> \n",
      "\n",
      "\n",
      "encoded flux shape: (5700, 68)\n",
      "1/1 [==============================] - 1s 1s/step\n"
     ]
    },
    {
     "output_type": "stream",
     "name": "stderr",
     "text": [
      "\r  6%|▌         | 349/5700 [08:38<2:00:11,  1.35s/it]"
     ]
    },
    {
     "output_type": "stream",
     "name": "stdout",
     "text": [
      "\n",
      " After self.predict() -->  (68, 1) \n",
      " <class 'numpy.ndarray'> \n",
      "\n",
      "\n",
      "encoded flux shape: (5700, 68)\n",
      "1/1 [==============================] - 1s 1s/step\n"
     ]
    },
    {
     "output_type": "stream",
     "name": "stderr",
     "text": [
      "\r  6%|▌         | 350/5700 [08:40<1:59:57,  1.35s/it]"
     ]
    },
    {
     "output_type": "stream",
     "name": "stdout",
     "text": [
      "\n",
      " After self.predict() -->  (68, 1) \n",
      " <class 'numpy.ndarray'> \n",
      "\n",
      "\n",
      "encoded flux shape: (5700, 68)\n",
      "1/1 [==============================] - 1s 1s/step\n",
      "\n",
      " After self.predict() --> "
     ]
    },
    {
     "output_type": "stream",
     "name": "stderr",
     "text": [
      "\r  6%|▌         | 351/5700 [08:41<2:00:01,  1.35s/it]"
     ]
    },
    {
     "output_type": "stream",
     "name": "stdout",
     "text": [
      " (68, 1) \n",
      " <class 'numpy.ndarray'> \n",
      "\n",
      "\n",
      "encoded flux shape: (5700, 68)\n",
      "1/1 [==============================] - 1s 1s/step\n"
     ]
    },
    {
     "output_type": "stream",
     "name": "stderr",
     "text": [
      "\r  6%|▌         | 352/5700 [08:42<1:54:46,  1.29s/it]"
     ]
    },
    {
     "output_type": "stream",
     "name": "stdout",
     "text": [
      "\n",
      " After self.predict() -->  (68, 1) \n",
      " <class 'numpy.ndarray'> \n",
      "\n",
      "\n",
      "encoded flux shape: (5700, 68)\n",
      "1/1 [==============================] - 1s 1s/step\n"
     ]
    },
    {
     "output_type": "stream",
     "name": "stderr",
     "text": [
      "\r  6%|▌         | 353/5700 [08:43<1:56:20,  1.31s/it]"
     ]
    },
    {
     "output_type": "stream",
     "name": "stdout",
     "text": [
      "\n",
      " After self.predict() -->  (68, 1) \n",
      " <class 'numpy.ndarray'> \n",
      "\n",
      "\n",
      "encoded flux shape: (5700, 68)\n",
      "1/1 [==============================] - 1s 1s/step\n"
     ]
    },
    {
     "output_type": "stream",
     "name": "stderr",
     "text": [
      "\r  6%|▌         | 354/5700 [08:45<2:02:55,  1.38s/it]"
     ]
    },
    {
     "output_type": "stream",
     "name": "stdout",
     "text": [
      "\n",
      " After self.predict() -->  (68, 1) \n",
      " <class 'numpy.ndarray'> \n",
      "\n",
      "\n",
      "encoded flux shape: (5700, 68)\n",
      "1/1 [==============================] - 2s 2s/step\n"
     ]
    },
    {
     "output_type": "stream",
     "name": "stderr",
     "text": [
      "\r  6%|▌         | 355/5700 [08:48<2:36:34,  1.76s/it]"
     ]
    },
    {
     "output_type": "stream",
     "name": "stdout",
     "text": [
      "\n",
      " After self.predict() -->  (68, 1) \n",
      " <class 'numpy.ndarray'> \n",
      "\n",
      "\n",
      "encoded flux shape: (5700, 68)\n",
      "1/1 [==============================] - 1s 1s/step\n"
     ]
    },
    {
     "output_type": "stream",
     "name": "stderr",
     "text": [
      "\r  6%|▌         | 356/5700 [08:49<2:25:27,  1.63s/it]"
     ]
    },
    {
     "output_type": "stream",
     "name": "stdout",
     "text": [
      "\n",
      " After self.predict() -->  (68, 1) \n",
      " <class 'numpy.ndarray'> \n",
      "\n",
      "\n",
      "encoded flux shape: (5700, 68)\n",
      "1/1 [==============================] - 1s 1s/step\n"
     ]
    },
    {
     "output_type": "stream",
     "name": "stderr",
     "text": [
      "\r  6%|▋         | 357/5700 [08:50<2:17:40,  1.55s/it]"
     ]
    },
    {
     "output_type": "stream",
     "name": "stdout",
     "text": [
      "\n",
      " After self.predict() -->  (68, 1) \n",
      " <class 'numpy.ndarray'> \n",
      "\n",
      "\n",
      "encoded flux shape: (5700, 68)\n",
      "1/1 [==============================] - 1s 1s/step\n"
     ]
    },
    {
     "output_type": "stream",
     "name": "stderr",
     "text": [
      "\r  6%|▋         | 358/5700 [08:51<2:07:22,  1.43s/it]"
     ]
    },
    {
     "output_type": "stream",
     "name": "stdout",
     "text": [
      "\n",
      " After self.predict() -->  (68, 1) \n",
      " <class 'numpy.ndarray'> \n",
      "\n",
      "\n",
      "encoded flux shape: (5700, 68)\n",
      "1/1 [==============================] - 1s 1s/step\n"
     ]
    },
    {
     "output_type": "stream",
     "name": "stderr",
     "text": [
      "\r  6%|▋         | 359/5700 [08:53<2:05:10,  1.41s/it]"
     ]
    },
    {
     "output_type": "stream",
     "name": "stdout",
     "text": [
      "\n",
      " After self.predict() -->  (68, 1) \n",
      " <class 'numpy.ndarray'> \n",
      "\n",
      "\n",
      "encoded flux shape: (5700, 68)\n",
      "1/1 [==============================] - 1s 1s/step\n"
     ]
    },
    {
     "output_type": "stream",
     "name": "stderr",
     "text": [
      "\r  6%|▋         | 360/5700 [08:54<2:03:42,  1.39s/it]"
     ]
    },
    {
     "output_type": "stream",
     "name": "stdout",
     "text": [
      "\n",
      " After self.predict() -->  (68, 1) \n",
      " <class 'numpy.ndarray'> \n",
      "\n",
      "\n",
      "encoded flux shape: (5700, 68)\n",
      "1/1 [==============================] - 1s 1s/step\n"
     ]
    },
    {
     "output_type": "stream",
     "name": "stderr",
     "text": [
      "\r  6%|▋         | 361/5700 [08:55<1:58:10,  1.33s/it]"
     ]
    },
    {
     "output_type": "stream",
     "name": "stdout",
     "text": [
      "\n",
      " After self.predict() -->  (68, 1) \n",
      " <class 'numpy.ndarray'> \n",
      "\n",
      "\n",
      "encoded flux shape: (5700, 68)\n",
      "1/1 [==============================] - 1s 1s/step\n"
     ]
    },
    {
     "output_type": "stream",
     "name": "stderr",
     "text": [
      "\r  6%|▋         | 362/5700 [08:57<1:58:24,  1.33s/it]"
     ]
    },
    {
     "output_type": "stream",
     "name": "stdout",
     "text": [
      "\n",
      " After self.predict() -->  (68, 1) \n",
      " <class 'numpy.ndarray'> \n",
      "\n",
      "\n",
      "encoded flux shape: (5700, 68)\n",
      "1/1 [==============================] - 1s 1s/step\n"
     ]
    },
    {
     "output_type": "stream",
     "name": "stderr",
     "text": [
      "\r  6%|▋         | 363/5700 [08:59<2:32:55,  1.72s/it]"
     ]
    },
    {
     "output_type": "stream",
     "name": "stdout",
     "text": [
      "\n",
      " After self.predict() -->  (68, 1) \n",
      " <class 'numpy.ndarray'> \n",
      "\n",
      "\n",
      "encoded flux shape: (5700, 68)\n",
      "1/1 [==============================] - 1s 1s/step\n"
     ]
    },
    {
     "output_type": "stream",
     "name": "stderr",
     "text": [
      "\r  6%|▋         | 364/5700 [09:01<2:28:18,  1.67s/it]"
     ]
    },
    {
     "output_type": "stream",
     "name": "stdout",
     "text": [
      "\n",
      " After self.predict() -->  (68, 1) \n",
      " <class 'numpy.ndarray'> \n",
      "\n",
      "\n",
      "encoded flux shape: (5700, 68)\n",
      "1/1 [==============================] - 1s 1s/step\n"
     ]
    },
    {
     "output_type": "stream",
     "name": "stderr",
     "text": [
      "\r  6%|▋         | 365/5700 [09:02<2:19:40,  1.57s/it]"
     ]
    },
    {
     "output_type": "stream",
     "name": "stdout",
     "text": [
      "\n",
      " After self.predict() -->  (68, 1) \n",
      " <class 'numpy.ndarray'> \n",
      "\n",
      "\n",
      "encoded flux shape: (5700, 68)\n",
      "1/1 [==============================] - 1s 1s/step\n"
     ]
    },
    {
     "output_type": "stream",
     "name": "stderr",
     "text": [
      "\r  6%|▋         | 366/5700 [09:04<2:13:37,  1.50s/it]"
     ]
    },
    {
     "output_type": "stream",
     "name": "stdout",
     "text": [
      "\n",
      " After self.predict() -->  (68, 1) \n",
      " <class 'numpy.ndarray'> \n",
      "\n",
      "\n",
      "encoded flux shape: (5700, 68)\n",
      "1/1 [==============================] - 1s 1s/step\n"
     ]
    },
    {
     "output_type": "stream",
     "name": "stderr",
     "text": [
      "\r  6%|▋         | 367/5700 [09:05<2:09:17,  1.45s/it]"
     ]
    },
    {
     "output_type": "stream",
     "name": "stdout",
     "text": [
      "\n",
      " After self.predict() -->  (68, 1) \n",
      " <class 'numpy.ndarray'> \n",
      "\n",
      "\n",
      "encoded flux shape: (5700, 68)\n",
      "1/1 [==============================] - 1s 1s/step\n"
     ]
    },
    {
     "output_type": "stream",
     "name": "stderr",
     "text": [
      "\r  6%|▋         | 368/5700 [09:06<2:06:22,  1.42s/it]"
     ]
    },
    {
     "output_type": "stream",
     "name": "stdout",
     "text": [
      "\n",
      " After self.predict() -->  (68, 1) \n",
      " <class 'numpy.ndarray'> \n",
      "\n",
      "\n",
      "encoded flux shape: (5700, 68)\n",
      "1/1 [==============================] - 1s 1s/step\n"
     ]
    },
    {
     "output_type": "stream",
     "name": "stderr",
     "text": [
      "\r  6%|▋         | 369/5700 [09:08<2:04:18,  1.40s/it]"
     ]
    },
    {
     "output_type": "stream",
     "name": "stdout",
     "text": [
      "\n",
      " After self.predict() -->  (68, 1) \n",
      " <class 'numpy.ndarray'> \n",
      "\n",
      "\n",
      "encoded flux shape: (5700, 68)\n",
      "1/1 [==============================] - 1s 1s/step\n"
     ]
    },
    {
     "output_type": "stream",
     "name": "stderr",
     "text": [
      "\r  6%|▋         | 370/5700 [09:09<2:02:43,  1.38s/it]"
     ]
    },
    {
     "output_type": "stream",
     "name": "stdout",
     "text": [
      "\n",
      " After self.predict() -->  (68, 1) \n",
      " <class 'numpy.ndarray'> \n",
      "\n",
      "\n",
      "encoded flux shape: (5700, 68)\n",
      "1/1 [==============================] - 1s 1s/step\n"
     ]
    },
    {
     "output_type": "stream",
     "name": "stderr",
     "text": [
      "\r  7%|▋         | 371/5700 [09:10<2:01:46,  1.37s/it]"
     ]
    },
    {
     "output_type": "stream",
     "name": "stdout",
     "text": [
      "\n",
      " After self.predict() -->  (68, 1) \n",
      " <class 'numpy.ndarray'> \n",
      "\n",
      "\n",
      "encoded flux shape: (5700, 68)\n",
      "1/1 [==============================] - 1s 1s/step\n"
     ]
    },
    {
     "output_type": "stream",
     "name": "stderr",
     "text": [
      "\r  7%|▋         | 372/5700 [09:13<2:35:04,  1.75s/it]"
     ]
    },
    {
     "output_type": "stream",
     "name": "stdout",
     "text": [
      "\n",
      " After self.predict() -->  (68, 1) \n",
      " <class 'numpy.ndarray'> \n",
      "\n",
      "\n",
      "encoded flux shape: (5700, 68)\n",
      "1/1 [==============================] - 1s 1s/step\n"
     ]
    },
    {
     "output_type": "stream",
     "name": "stderr",
     "text": [
      "\r  7%|▋         | 373/5700 [09:16<2:59:14,  2.02s/it]"
     ]
    },
    {
     "output_type": "stream",
     "name": "stdout",
     "text": [
      "\n",
      " After self.predict() -->  (68, 1) \n",
      " <class 'numpy.ndarray'> \n",
      "\n",
      "\n",
      "encoded flux shape: (5700, 68)\n",
      "1/1 [==============================] - 1s 1s/step\n"
     ]
    },
    {
     "output_type": "stream",
     "name": "stderr",
     "text": [
      "\r  7%|▋         | 374/5700 [09:17<2:41:00,  1.81s/it]"
     ]
    },
    {
     "output_type": "stream",
     "name": "stdout",
     "text": [
      "\n",
      " After self.predict() -->  (68, 1) \n",
      " <class 'numpy.ndarray'> \n",
      "\n",
      "\n",
      "encoded flux shape: (5700, 68)\n",
      "1/1 [==============================] - 1s 1s/step\n"
     ]
    },
    {
     "output_type": "stream",
     "name": "stderr",
     "text": [
      "\r  7%|▋         | 375/5700 [09:18<2:23:47,  1.62s/it]"
     ]
    },
    {
     "output_type": "stream",
     "name": "stdout",
     "text": [
      "\n",
      " After self.predict() -->  (68, 1) \n",
      " <class 'numpy.ndarray'> \n",
      "\n",
      "\n",
      "encoded flux shape: (5700, 68)\n",
      "1/1 [==============================] - 1s 1s/step\n"
     ]
    },
    {
     "output_type": "stream",
     "name": "stderr",
     "text": [
      "\r  7%|▋         | 376/5700 [09:19<2:11:27,  1.48s/it]"
     ]
    },
    {
     "output_type": "stream",
     "name": "stdout",
     "text": [
      "\n",
      " After self.predict() -->  (68, 1) \n",
      " <class 'numpy.ndarray'> \n",
      "\n",
      "\n",
      "encoded flux shape: (5700, 68)\n",
      "1/1 [==============================] - 1s 1s/step\n"
     ]
    },
    {
     "output_type": "stream",
     "name": "stderr",
     "text": [
      "\r  7%|▋         | 377/5700 [09:20<2:03:43,  1.39s/it]"
     ]
    },
    {
     "output_type": "stream",
     "name": "stdout",
     "text": [
      "\n",
      " After self.predict() -->  (68, 1) \n",
      " <class 'numpy.ndarray'> \n",
      "\n",
      "\n",
      "encoded flux shape: (5700, 68)\n",
      "1/1 [==============================] - 1s 1s/step\n"
     ]
    },
    {
     "output_type": "stream",
     "name": "stderr",
     "text": [
      "\r  7%|▋         | 378/5700 [09:22<2:02:11,  1.38s/it]"
     ]
    },
    {
     "output_type": "stream",
     "name": "stdout",
     "text": [
      "\n",
      " After self.predict() -->  (68, 1) \n",
      " <class 'numpy.ndarray'> \n",
      "\n",
      "\n",
      "encoded flux shape: (5700, 68)\n",
      "1/1 [==============================] - 1s 1s/step\n"
     ]
    },
    {
     "output_type": "stream",
     "name": "stderr",
     "text": [
      "\r  7%|▋         | 379/5700 [09:23<1:56:53,  1.32s/it]"
     ]
    },
    {
     "output_type": "stream",
     "name": "stdout",
     "text": [
      "\n",
      " After self.predict() -->  (68, 1) \n",
      " <class 'numpy.ndarray'> \n",
      "\n",
      "\n",
      "encoded flux shape: (5700, 68)\n",
      "1/1 [==============================] - 1s 1s/step\n"
     ]
    },
    {
     "output_type": "stream",
     "name": "stderr",
     "text": [
      "\r  7%|▋         | 380/5700 [09:24<1:54:19,  1.29s/it]"
     ]
    },
    {
     "output_type": "stream",
     "name": "stdout",
     "text": [
      "\n",
      " After self.predict() -->  (68, 1) \n",
      " <class 'numpy.ndarray'> \n",
      "\n",
      "\n",
      "encoded flux shape: (5700, 68)\n",
      "1/1 [==============================] - 2s 2s/step\n"
     ]
    },
    {
     "output_type": "stream",
     "name": "stderr",
     "text": [
      "\r  7%|▋         | 381/5700 [09:27<2:30:21,  1.70s/it]"
     ]
    },
    {
     "output_type": "stream",
     "name": "stdout",
     "text": [
      "\n",
      " After self.predict() -->  (68, 1) \n",
      " <class 'numpy.ndarray'> \n",
      "\n",
      "\n",
      "encoded flux shape: (5700, 68)\n",
      "1/1 [==============================] - 1s 1s/step\n"
     ]
    },
    {
     "output_type": "stream",
     "name": "stderr",
     "text": [
      "\r  7%|▋         | 382/5700 [09:28<2:23:36,  1.62s/it]"
     ]
    },
    {
     "output_type": "stream",
     "name": "stdout",
     "text": [
      "\n",
      " After self.predict() -->  (68, 1) \n",
      " <class 'numpy.ndarray'> \n",
      "\n",
      "\n",
      "encoded flux shape: (5700, 68)\n",
      "1/1 [==============================] - 1s 1s/step\n"
     ]
    },
    {
     "output_type": "stream",
     "name": "stderr",
     "text": [
      "\r  7%|▋         | 383/5700 [09:30<2:16:18,  1.54s/it]"
     ]
    },
    {
     "output_type": "stream",
     "name": "stdout",
     "text": [
      "\n",
      " After self.predict() -->  (68, 1) \n",
      " <class 'numpy.ndarray'> \n",
      "\n",
      "\n",
      "encoded flux shape: (5700, 68)\n",
      "1/1 [==============================] - 1s 1s/step\n"
     ]
    },
    {
     "output_type": "stream",
     "name": "stderr",
     "text": [
      "\r  7%|▋         | 384/5700 [09:31<2:07:04,  1.43s/it]"
     ]
    },
    {
     "output_type": "stream",
     "name": "stdout",
     "text": [
      "\n",
      " After self.predict() -->  (68, 1) \n",
      " <class 'numpy.ndarray'> \n",
      "\n",
      "\n",
      "encoded flux shape: (5700, 68)\n",
      "1/1 [==============================] - 1s 1s/step\n"
     ]
    },
    {
     "output_type": "stream",
     "name": "stderr",
     "text": [
      "\r  7%|▋         | 385/5700 [09:32<2:04:29,  1.41s/it]"
     ]
    },
    {
     "output_type": "stream",
     "name": "stdout",
     "text": [
      "\n",
      " After self.predict() -->  (68, 1) \n",
      " <class 'numpy.ndarray'> \n",
      "\n",
      "\n",
      "encoded flux shape: (5700, 68)\n",
      "1/1 [==============================] - 1s 1s/step\n"
     ]
    },
    {
     "output_type": "stream",
     "name": "stderr",
     "text": [
      "\r  7%|▋         | 386/5700 [09:33<2:02:51,  1.39s/it]"
     ]
    },
    {
     "output_type": "stream",
     "name": "stdout",
     "text": [
      "\n",
      " After self.predict() -->  (68, 1) \n",
      " <class 'numpy.ndarray'> \n",
      "\n",
      "\n",
      "encoded flux shape: (5700, 68)\n",
      "1/1 [==============================] - 1s 1s/step\n"
     ]
    },
    {
     "output_type": "stream",
     "name": "stderr",
     "text": [
      "\r  7%|▋         | 387/5700 [09:35<1:57:23,  1.33s/it]"
     ]
    },
    {
     "output_type": "stream",
     "name": "stdout",
     "text": [
      "\n",
      " After self.predict() -->  (68, 1) \n",
      " <class 'numpy.ndarray'> \n",
      "\n",
      "\n",
      "encoded flux shape: (5700, 68)\n",
      "1/1 [==============================] - 1s 1s/step\n"
     ]
    },
    {
     "output_type": "stream",
     "name": "stderr",
     "text": [
      "\r  7%|▋         | 388/5700 [09:36<1:53:37,  1.28s/it]"
     ]
    },
    {
     "output_type": "stream",
     "name": "stdout",
     "text": [
      "\n",
      " After self.predict() -->  (68, 1) \n",
      " <class 'numpy.ndarray'> \n",
      "\n",
      "\n",
      "encoded flux shape: (5700, 68)\n",
      "1/1 [==============================] - 1s 1s/step\n"
     ]
    },
    {
     "output_type": "stream",
     "name": "stderr",
     "text": [
      "\r  7%|▋         | 389/5700 [09:37<1:50:59,  1.25s/it]"
     ]
    },
    {
     "output_type": "stream",
     "name": "stdout",
     "text": [
      "\n",
      " After self.predict() -->  (68, 1) \n",
      " <class 'numpy.ndarray'> \n",
      "\n",
      "\n",
      "encoded flux shape: (5700, 68)\n",
      "1/1 [==============================] - 1s 1s/step\n"
     ]
    },
    {
     "output_type": "stream",
     "name": "stderr",
     "text": [
      "\r  7%|▋         | 390/5700 [09:38<1:56:53,  1.32s/it]"
     ]
    },
    {
     "output_type": "stream",
     "name": "stdout",
     "text": [
      "\n",
      " After self.predict() -->  (68, 1) \n",
      " <class 'numpy.ndarray'> \n",
      "\n",
      "\n",
      "encoded flux shape: (5700, 68)\n",
      "1/1 [==============================] - 2s 2s/step\n"
     ]
    },
    {
     "output_type": "stream",
     "name": "stderr",
     "text": [
      "\r  7%|▋         | 391/5700 [09:41<2:32:08,  1.72s/it]"
     ]
    },
    {
     "output_type": "stream",
     "name": "stdout",
     "text": [
      "\n",
      " After self.predict() -->  (68, 1) \n",
      " <class 'numpy.ndarray'> \n",
      "\n",
      "\n",
      "encoded flux shape: (5700, 68)\n",
      "1/1 [==============================] - 1s 1s/step\n"
     ]
    },
    {
     "output_type": "stream",
     "name": "stderr",
     "text": [
      "\r  7%|▋         | 392/5700 [09:42<2:17:46,  1.56s/it]"
     ]
    },
    {
     "output_type": "stream",
     "name": "stdout",
     "text": [
      "\n",
      " After self.predict() -->  (68, 1) \n",
      " <class 'numpy.ndarray'> \n",
      "\n",
      "\n",
      "encoded flux shape: (5700, 68)\n",
      "1/1 [==============================] - 1s 1s/step\n"
     ]
    },
    {
     "output_type": "stream",
     "name": "stderr",
     "text": [
      "\r  7%|▋         | 393/5700 [09:43<2:07:25,  1.44s/it]"
     ]
    },
    {
     "output_type": "stream",
     "name": "stdout",
     "text": [
      "\n",
      " After self.predict() -->  (68, 1) \n",
      " <class 'numpy.ndarray'> \n",
      "\n",
      "\n",
      "encoded flux shape: (5700, 68)\n",
      "1/1 [==============================] - 1s 1s/step\n"
     ]
    },
    {
     "output_type": "stream",
     "name": "stderr",
     "text": [
      "\r  7%|▋         | 394/5700 [09:45<2:00:17,  1.36s/it]"
     ]
    },
    {
     "output_type": "stream",
     "name": "stdout",
     "text": [
      "\n",
      " After self.predict() -->  (68, 1) \n",
      " <class 'numpy.ndarray'> \n",
      "\n",
      "\n",
      "encoded flux shape: (5700, 68)\n",
      "1/1 [==============================] - 1s 1s/step\n"
     ]
    },
    {
     "output_type": "stream",
     "name": "stderr",
     "text": [
      "\r  7%|▋         | 395/5700 [09:46<1:59:49,  1.36s/it]"
     ]
    },
    {
     "output_type": "stream",
     "name": "stdout",
     "text": [
      "\n",
      " After self.predict() -->  (68, 1) \n",
      " <class 'numpy.ndarray'> \n",
      "\n",
      "\n",
      "encoded flux shape: (5700, 68)\n",
      "1/1 [==============================] - 1s 1s/step\n"
     ]
    },
    {
     "output_type": "stream",
     "name": "stderr",
     "text": [
      "\r  7%|▋         | 396/5700 [09:47<1:59:29,  1.35s/it]"
     ]
    },
    {
     "output_type": "stream",
     "name": "stdout",
     "text": [
      "\n",
      " After self.predict() -->  (68, 1) \n",
      " <class 'numpy.ndarray'> \n",
      "\n",
      "\n",
      "encoded flux shape: (5700, 68)\n",
      "1/1 [==============================] - 1s 1s/step\n"
     ]
    },
    {
     "output_type": "stream",
     "name": "stderr",
     "text": [
      "\r  7%|▋         | 397/5700 [09:49<1:55:41,  1.31s/it]"
     ]
    },
    {
     "output_type": "stream",
     "name": "stdout",
     "text": [
      "\n",
      " After self.predict() -->  (68, 1) \n",
      " <class 'numpy.ndarray'> \n",
      "\n",
      "\n",
      "encoded flux shape: (5700, 68)\n",
      "1/1 [==============================] - 1s 1s/step\n"
     ]
    },
    {
     "output_type": "stream",
     "name": "stderr",
     "text": [
      "\r  7%|▋         | 398/5700 [09:50<1:56:40,  1.32s/it]"
     ]
    },
    {
     "output_type": "stream",
     "name": "stdout",
     "text": [
      "\n",
      " After self.predict() -->  (68, 1) \n",
      " <class 'numpy.ndarray'> \n",
      "\n",
      "\n",
      "encoded flux shape: (5700, 68)\n",
      "1/1 [==============================] - 1s 1s/step\n"
     ]
    },
    {
     "output_type": "stream",
     "name": "stderr",
     "text": [
      "\r  7%|▋         | 399/5700 [09:51<1:52:57,  1.28s/it]"
     ]
    },
    {
     "output_type": "stream",
     "name": "stdout",
     "text": [
      "\n",
      " After self.predict() -->  (68, 1) \n",
      " <class 'numpy.ndarray'> \n",
      "\n",
      "\n",
      "encoded flux shape: (5700, 68)\n",
      "1/1 [==============================] - 2s 2s/step\n"
     ]
    },
    {
     "output_type": "stream",
     "name": "stderr",
     "text": [
      "\r  7%|▋         | 400/5700 [09:53<2:01:24,  1.37s/it]"
     ]
    },
    {
     "output_type": "stream",
     "name": "stdout",
     "text": [
      "\n",
      " After self.predict() -->  (68, 1) \n",
      " <class 'numpy.ndarray'> \n",
      "\n",
      "\n",
      "encoded flux shape: (5700, 68)\n",
      "1/1 [==============================] - 2s 2s/step\n"
     ]
    },
    {
     "output_type": "stream",
     "name": "stderr",
     "text": [
      "\r  7%|▋         | 401/5700 [09:55<2:35:11,  1.76s/it]"
     ]
    },
    {
     "output_type": "stream",
     "name": "stdout",
     "text": [
      "\n",
      " After self.predict() -->  (68, 1) \n",
      " <class 'numpy.ndarray'> \n",
      "\n",
      "\n",
      "encoded flux shape: (5700, 68)\n",
      "1/1 [==============================] - 1s 1s/step\n"
     ]
    },
    {
     "output_type": "stream",
     "name": "stderr",
     "text": [
      "\r  7%|▋         | 402/5700 [09:57<2:24:09,  1.63s/it]"
     ]
    },
    {
     "output_type": "stream",
     "name": "stdout",
     "text": [
      "\n",
      " After self.predict() -->  (68, 1) \n",
      " <class 'numpy.ndarray'> \n",
      "\n",
      "\n",
      "encoded flux shape: (5700, 68)\n",
      "1/1 [==============================] - 1s 1s/step\n"
     ]
    },
    {
     "output_type": "stream",
     "name": "stderr",
     "text": [
      "\r  7%|▋         | 403/5700 [09:58<2:16:31,  1.55s/it]"
     ]
    },
    {
     "output_type": "stream",
     "name": "stdout",
     "text": [
      "\n",
      " After self.predict() -->  (68, 1) \n",
      " <class 'numpy.ndarray'> \n",
      "\n",
      "\n",
      "encoded flux shape: (5700, 68)\n",
      "1/1 [==============================] - 1s 1s/step\n"
     ]
    },
    {
     "output_type": "stream",
     "name": "stderr",
     "text": [
      "\r  7%|▋         | 404/5700 [09:59<2:11:18,  1.49s/it]"
     ]
    },
    {
     "output_type": "stream",
     "name": "stdout",
     "text": [
      "\n",
      " After self.predict() -->  (68, 1) \n",
      " <class 'numpy.ndarray'> \n",
      "\n",
      "\n",
      "encoded flux shape: (5700, 68)\n",
      "1/1 [==============================] - 1s 1s/step\n"
     ]
    },
    {
     "output_type": "stream",
     "name": "stderr",
     "text": [
      "\r  7%|▋         | 405/5700 [10:01<2:03:00,  1.39s/it]"
     ]
    },
    {
     "output_type": "stream",
     "name": "stdout",
     "text": [
      "\n",
      " After self.predict() -->  (68, 1) \n",
      " <class 'numpy.ndarray'> \n",
      "\n",
      "\n",
      "encoded flux shape: (5700, 68)\n",
      "1/1 [==============================] - 1s 1s/step\n"
     ]
    },
    {
     "output_type": "stream",
     "name": "stderr",
     "text": [
      "\r  7%|▋         | 406/5700 [10:02<1:57:25,  1.33s/it]"
     ]
    },
    {
     "output_type": "stream",
     "name": "stdout",
     "text": [
      "\n",
      " After self.predict() -->  (68, 1) \n",
      " <class 'numpy.ndarray'> \n",
      "\n",
      "\n",
      "encoded flux shape: (5700, 68)\n",
      "1/1 [==============================] - 1s 1s/step\n"
     ]
    },
    {
     "output_type": "stream",
     "name": "stderr",
     "text": [
      "\r  7%|▋         | 407/5700 [10:03<1:57:59,  1.34s/it]"
     ]
    },
    {
     "output_type": "stream",
     "name": "stdout",
     "text": [
      "\n",
      " After self.predict() -->  (68, 1) \n",
      " <class 'numpy.ndarray'> \n",
      "\n",
      "\n",
      "encoded flux shape: (5700, 68)\n",
      "1/1 [==============================] - 1s 1s/step\n"
     ]
    },
    {
     "output_type": "stream",
     "name": "stderr",
     "text": [
      "\r  7%|▋         | 408/5700 [10:04<1:58:10,  1.34s/it]"
     ]
    },
    {
     "output_type": "stream",
     "name": "stdout",
     "text": [
      "\n",
      " After self.predict() -->  (68, 1) \n",
      " <class 'numpy.ndarray'> \n",
      "\n",
      "\n",
      "encoded flux shape: (5700, 68)\n",
      "1/1 [==============================] - 1s 1s/step\n"
     ]
    },
    {
     "output_type": "stream",
     "name": "stderr",
     "text": [
      "\r  7%|▋         | 409/5700 [10:06<2:02:18,  1.39s/it]"
     ]
    },
    {
     "output_type": "stream",
     "name": "stdout",
     "text": [
      "\n",
      " After self.predict() -->  (68, 1) \n",
      " <class 'numpy.ndarray'> \n",
      "\n",
      "\n",
      "encoded flux shape: (5700, 68)\n",
      "1/1 [==============================] - 2s 2s/step\n"
     ]
    },
    {
     "output_type": "stream",
     "name": "stderr",
     "text": [
      "\r  7%|▋         | 410/5700 [10:09<2:36:12,  1.77s/it]"
     ]
    },
    {
     "output_type": "stream",
     "name": "stdout",
     "text": [
      "\n",
      " After self.predict() -->  (68, 1) \n",
      " <class 'numpy.ndarray'> \n",
      "\n",
      "\n",
      "encoded flux shape: (5700, 68)\n",
      "1/1 [==============================] - 1s 1s/step\n"
     ]
    },
    {
     "output_type": "stream",
     "name": "stderr",
     "text": [
      "\r  7%|▋         | 411/5700 [10:10<2:21:00,  1.60s/it]"
     ]
    },
    {
     "output_type": "stream",
     "name": "stdout",
     "text": [
      "\n",
      " After self.predict() -->  (68, 1) \n",
      " <class 'numpy.ndarray'> \n",
      "\n",
      "\n",
      "encoded flux shape: (5700, 68)\n",
      "1/1 [==============================] - 1s 1s/step\n"
     ]
    },
    {
     "output_type": "stream",
     "name": "stderr",
     "text": [
      "\r  7%|▋         | 412/5700 [10:11<2:11:02,  1.49s/it]"
     ]
    },
    {
     "output_type": "stream",
     "name": "stdout",
     "text": [
      "\n",
      " After self.predict() -->  (68, 1) \n",
      " <class 'numpy.ndarray'> \n",
      "\n",
      "\n",
      "encoded flux shape: (5700, 68)\n",
      "1/1 [==============================] - 1s 1s/step\n"
     ]
    },
    {
     "output_type": "stream",
     "name": "stderr",
     "text": [
      "\r  7%|▋         | 413/5700 [10:12<2:03:53,  1.41s/it]"
     ]
    },
    {
     "output_type": "stream",
     "name": "stdout",
     "text": [
      "\n",
      " After self.predict() -->  (68, 1) \n",
      " <class 'numpy.ndarray'> \n",
      "\n",
      "\n",
      "encoded flux shape: (5700, 68)\n",
      "1/1 [==============================] - 1s 1s/step\n"
     ]
    },
    {
     "output_type": "stream",
     "name": "stderr",
     "text": [
      "\r  7%|▋         | 414/5700 [10:13<1:58:22,  1.34s/it]"
     ]
    },
    {
     "output_type": "stream",
     "name": "stdout",
     "text": [
      "\n",
      " After self.predict() -->  (68, 1) \n",
      " <class 'numpy.ndarray'> \n",
      "\n",
      "\n",
      "encoded flux shape: (5700, 68)\n",
      "1/1 [==============================] - 1s 1s/step\n"
     ]
    },
    {
     "output_type": "stream",
     "name": "stderr",
     "text": [
      "\r  7%|▋         | 415/5700 [10:15<1:54:27,  1.30s/it]"
     ]
    },
    {
     "output_type": "stream",
     "name": "stdout",
     "text": [
      "\n",
      " After self.predict() -->  (68, 1) \n",
      " <class 'numpy.ndarray'> \n",
      "\n",
      "\n",
      "encoded flux shape: (5700, 68)\n",
      "1/1 [==============================] - 1s 1s/step\n"
     ]
    },
    {
     "output_type": "stream",
     "name": "stderr",
     "text": [
      "\r  7%|▋         | 416/5700 [10:16<1:51:16,  1.26s/it]"
     ]
    },
    {
     "output_type": "stream",
     "name": "stdout",
     "text": [
      "\n",
      " After self.predict() -->  (68, 1) \n",
      " <class 'numpy.ndarray'> \n",
      "\n",
      "\n",
      "encoded flux shape: (5700, 68)\n",
      "1/1 [==============================] - 1s 1s/step\n"
     ]
    },
    {
     "output_type": "stream",
     "name": "stderr",
     "text": [
      "\r  7%|▋         | 417/5700 [10:17<1:53:14,  1.29s/it]"
     ]
    },
    {
     "output_type": "stream",
     "name": "stdout",
     "text": [
      "\n",
      " After self.predict() -->  (68, 1) \n",
      " <class 'numpy.ndarray'> \n",
      "\n",
      "\n",
      "encoded flux shape: (5700, 68)\n",
      "1/1 [==============================] - 1s 1s/step\n"
     ]
    },
    {
     "output_type": "stream",
     "name": "stderr",
     "text": [
      "\r  7%|▋         | 418/5700 [10:19<1:54:59,  1.31s/it]"
     ]
    },
    {
     "output_type": "stream",
     "name": "stdout",
     "text": [
      "\n",
      " After self.predict() -->  (68, 1) \n",
      " <class 'numpy.ndarray'> \n",
      "\n",
      "\n",
      "encoded flux shape: (5700, 68)\n",
      "1/1 [==============================] - 2s 2s/step\n"
     ]
    },
    {
     "output_type": "stream",
     "name": "stderr",
     "text": [
      "\r  7%|▋         | 419/5700 [10:20<2:04:53,  1.42s/it]"
     ]
    },
    {
     "output_type": "stream",
     "name": "stdout",
     "text": [
      "\n",
      " After self.predict() -->  (68, 1) \n",
      " <class 'numpy.ndarray'> \n",
      "\n",
      "\n",
      "encoded flux shape: (5700, 68)\n",
      "1/1 [==============================] - 2s 2s/step\n"
     ]
    },
    {
     "output_type": "stream",
     "name": "stderr",
     "text": [
      "\r  7%|▋         | 420/5700 [10:22<2:12:45,  1.51s/it]"
     ]
    },
    {
     "output_type": "stream",
     "name": "stdout",
     "text": [
      "\n",
      " After self.predict() -->  (68, 1) \n",
      " <class 'numpy.ndarray'> \n",
      "\n",
      "\n",
      "encoded flux shape: (5700, 68)\n",
      "1/1 [==============================] - 1s 1s/step\n"
     ]
    },
    {
     "output_type": "stream",
     "name": "stderr",
     "text": [
      "\r  7%|▋         | 421/5700 [10:23<2:09:14,  1.47s/it]"
     ]
    },
    {
     "output_type": "stream",
     "name": "stdout",
     "text": [
      "\n",
      " After self.predict() -->  (68, 1) \n",
      " <class 'numpy.ndarray'> \n",
      "\n",
      "\n",
      "encoded flux shape: (5700, 68)\n",
      "1/1 [==============================] - 1s 1s/step\n"
     ]
    },
    {
     "output_type": "stream",
     "name": "stderr",
     "text": [
      "\r  7%|▋         | 422/5700 [10:24<2:01:50,  1.39s/it]"
     ]
    },
    {
     "output_type": "stream",
     "name": "stdout",
     "text": [
      "\n",
      " After self.predict() -->  (68, 1) \n",
      " <class 'numpy.ndarray'> \n",
      "\n",
      "\n",
      "encoded flux shape: (5700, 68)\n",
      "1/1 [==============================] - 1s 1s/step\n"
     ]
    },
    {
     "output_type": "stream",
     "name": "stderr",
     "text": [
      "\r  7%|▋         | 423/5700 [10:26<1:56:22,  1.32s/it]"
     ]
    },
    {
     "output_type": "stream",
     "name": "stdout",
     "text": [
      "\n",
      " After self.predict() -->  (68, 1) \n",
      " <class 'numpy.ndarray'> \n",
      "\n",
      "\n",
      "encoded flux shape: (5700, 68)\n",
      "1/1 [==============================] - 1s 1s/step\n"
     ]
    },
    {
     "output_type": "stream",
     "name": "stderr",
     "text": [
      "\r  7%|▋         | 424/5700 [10:27<1:56:55,  1.33s/it]"
     ]
    },
    {
     "output_type": "stream",
     "name": "stdout",
     "text": [
      "\n",
      " After self.predict() -->  (68, 1) \n",
      " <class 'numpy.ndarray'> \n",
      "\n",
      "\n",
      "encoded flux shape: (5700, 68)\n",
      "1/1 [==============================] - 1s 1s/step\n"
     ]
    },
    {
     "output_type": "stream",
     "name": "stderr",
     "text": [
      "\r  7%|▋         | 425/5700 [10:28<1:53:43,  1.29s/it]"
     ]
    },
    {
     "output_type": "stream",
     "name": "stdout",
     "text": [
      "\n",
      " After self.predict() -->  (68, 1) \n",
      " <class 'numpy.ndarray'> \n",
      "\n",
      "\n",
      "encoded flux shape: (5700, 68)\n",
      "1/1 [==============================] - 1s 1s/step\n"
     ]
    },
    {
     "output_type": "stream",
     "name": "stderr",
     "text": [
      "\r  7%|▋         | 426/5700 [10:29<1:50:37,  1.26s/it]"
     ]
    },
    {
     "output_type": "stream",
     "name": "stdout",
     "text": [
      "\n",
      " After self.predict() -->  (68, 1) \n",
      " <class 'numpy.ndarray'> \n",
      "\n",
      "\n",
      "encoded flux shape: (5700, 68)\n",
      "1/1 [==============================] - 1s 1s/step\n"
     ]
    },
    {
     "output_type": "stream",
     "name": "stderr",
     "text": [
      "\r  7%|▋         | 427/5700 [10:31<1:49:18,  1.24s/it]"
     ]
    },
    {
     "output_type": "stream",
     "name": "stdout",
     "text": [
      "\n",
      " After self.predict() -->  (68, 1) \n",
      " <class 'numpy.ndarray'> \n",
      "\n",
      "\n",
      "encoded flux shape: (5700, 68)\n",
      "1/1 [==============================] - 1s 1s/step\n"
     ]
    },
    {
     "output_type": "stream",
     "name": "stderr",
     "text": [
      "\r  8%|▊         | 428/5700 [10:32<1:47:50,  1.23s/it]"
     ]
    },
    {
     "output_type": "stream",
     "name": "stdout",
     "text": [
      "\n",
      " After self.predict() -->  (68, 1) \n",
      " <class 'numpy.ndarray'> \n",
      "\n",
      "\n",
      "encoded flux shape: (5700, 68)\n",
      "1/1 [==============================] - 1s 1s/step\n"
     ]
    },
    {
     "output_type": "stream",
     "name": "stderr",
     "text": [
      "\r  8%|▊         | 429/5700 [10:34<2:24:33,  1.65s/it]"
     ]
    },
    {
     "output_type": "stream",
     "name": "stdout",
     "text": [
      "\n",
      " After self.predict() -->  (68, 1) \n",
      " <class 'numpy.ndarray'> \n",
      "\n",
      "\n",
      "encoded flux shape: (5700, 68)\n",
      "1/1 [==============================] - 2s 2s/step\n"
     ]
    },
    {
     "output_type": "stream",
     "name": "stderr",
     "text": [
      "\r  8%|▊         | 430/5700 [10:37<2:51:19,  1.95s/it]"
     ]
    },
    {
     "output_type": "stream",
     "name": "stdout",
     "text": [
      "\n",
      " After self.predict() -->  (68, 1) \n",
      " <class 'numpy.ndarray'> \n",
      "\n",
      "\n",
      "encoded flux shape: (5700, 68)\n",
      "1/1 [==============================] - 1s 1s/step\n"
     ]
    },
    {
     "output_type": "stream",
     "name": "stderr",
     "text": [
      "\r  8%|▊         | 431/5700 [10:38<2:32:03,  1.73s/it]"
     ]
    },
    {
     "output_type": "stream",
     "name": "stdout",
     "text": [
      "\n",
      " After self.predict() -->  (68, 1) \n",
      " <class 'numpy.ndarray'> \n",
      "\n",
      "\n",
      "encoded flux shape: (5700, 68)\n",
      "1/1 [==============================] - 1s 1s/step\n"
     ]
    },
    {
     "output_type": "stream",
     "name": "stderr",
     "text": [
      "\r  8%|▊         | 432/5700 [10:39<2:17:36,  1.57s/it]"
     ]
    },
    {
     "output_type": "stream",
     "name": "stdout",
     "text": [
      "\n",
      " After self.predict() -->  (68, 1) \n",
      " <class 'numpy.ndarray'> \n",
      "\n",
      "\n",
      "encoded flux shape: (5700, 68)\n",
      "1/1 [==============================] - 1s 1s/step\n"
     ]
    },
    {
     "output_type": "stream",
     "name": "stderr",
     "text": [
      "\r  8%|▊         | 433/5700 [10:41<2:11:35,  1.50s/it]"
     ]
    },
    {
     "output_type": "stream",
     "name": "stdout",
     "text": [
      "\n",
      " After self.predict() -->  (68, 1) \n",
      " <class 'numpy.ndarray'> \n",
      "\n",
      "\n",
      "encoded flux shape: (5700, 68)\n",
      "1/1 [==============================] - 1s 1s/step\n"
     ]
    },
    {
     "output_type": "stream",
     "name": "stderr",
     "text": [
      "\r  8%|▊         | 434/5700 [10:42<2:07:33,  1.45s/it]"
     ]
    },
    {
     "output_type": "stream",
     "name": "stdout",
     "text": [
      "\n",
      " After self.predict() -->  (68, 1) \n",
      " <class 'numpy.ndarray'> \n",
      "\n",
      "\n",
      "encoded flux shape: (5700, 68)\n",
      "1/1 [==============================] - 1s 1s/step\n"
     ]
    },
    {
     "output_type": "stream",
     "name": "stderr",
     "text": [
      "\r  8%|▊         | 435/5700 [10:44<2:04:43,  1.42s/it]"
     ]
    },
    {
     "output_type": "stream",
     "name": "stdout",
     "text": [
      "\n",
      " After self.predict() -->  (68, 1) \n",
      " <class 'numpy.ndarray'> \n",
      "\n",
      "\n",
      "encoded flux shape: (5700, 68)\n",
      "1/1 [==============================] - 1s 1s/step\n"
     ]
    },
    {
     "output_type": "stream",
     "name": "stderr",
     "text": [
      "\r  8%|▊         | 436/5700 [10:45<2:02:54,  1.40s/it]"
     ]
    },
    {
     "output_type": "stream",
     "name": "stdout",
     "text": [
      "\n",
      " After self.predict() -->  (68, 1) \n",
      " <class 'numpy.ndarray'> \n",
      "\n",
      "\n",
      "encoded flux shape: (5700, 68)\n",
      "1/1 [==============================] - 1s 1s/step\n"
     ]
    },
    {
     "output_type": "stream",
     "name": "stderr",
     "text": [
      "\r  8%|▊         | 437/5700 [10:46<2:01:39,  1.39s/it]"
     ]
    },
    {
     "output_type": "stream",
     "name": "stdout",
     "text": [
      "\n",
      " After self.predict() -->  (68, 1) \n",
      " <class 'numpy.ndarray'> \n",
      "\n",
      "\n",
      "encoded flux shape: (5700, 68)\n",
      "1/1 [==============================] - 2s 2s/step\n"
     ]
    },
    {
     "output_type": "stream",
     "name": "stderr",
     "text": [
      "\r  8%|▊         | 438/5700 [10:48<2:08:32,  1.47s/it]"
     ]
    },
    {
     "output_type": "stream",
     "name": "stdout",
     "text": [
      "\n",
      " After self.predict() -->  (68, 1) \n",
      " <class 'numpy.ndarray'> \n",
      "\n",
      "\n",
      "encoded flux shape: (5700, 68)\n",
      "1/1 [==============================] - 2s 2s/step\n"
     ]
    },
    {
     "output_type": "stream",
     "name": "stderr",
     "text": [
      "\r  8%|▊         | 439/5700 [10:50<2:15:33,  1.55s/it]"
     ]
    },
    {
     "output_type": "stream",
     "name": "stdout",
     "text": [
      "\n",
      " After self.predict() -->  (68, 1) \n",
      " <class 'numpy.ndarray'> \n",
      "\n",
      "\n",
      "encoded flux shape: (5700, 68)\n",
      "1/1 [==============================] - 1s 1s/step\n"
     ]
    },
    {
     "output_type": "stream",
     "name": "stderr",
     "text": [
      "\r  8%|▊         | 440/5700 [10:51<2:10:57,  1.49s/it]"
     ]
    },
    {
     "output_type": "stream",
     "name": "stdout",
     "text": [
      "\n",
      " After self.predict() -->  (68, 1) \n",
      " <class 'numpy.ndarray'> \n",
      "\n",
      "\n",
      "encoded flux shape: (5700, 68)\n",
      "1/1 [==============================] - 1s 1s/step\n"
     ]
    },
    {
     "output_type": "stream",
     "name": "stderr",
     "text": [
      "\r  8%|▊         | 441/5700 [10:52<2:06:46,  1.45s/it]"
     ]
    },
    {
     "output_type": "stream",
     "name": "stdout",
     "text": [
      "\n",
      " After self.predict() -->  (68, 1) \n",
      " <class 'numpy.ndarray'> \n",
      "\n",
      "\n",
      "encoded flux shape: (5700, 68)\n",
      "1/1 [==============================] - 1s 1s/step\n"
     ]
    },
    {
     "output_type": "stream",
     "name": "stderr",
     "text": [
      "\r  8%|▊         | 442/5700 [10:54<2:01:03,  1.38s/it]"
     ]
    },
    {
     "output_type": "stream",
     "name": "stdout",
     "text": [
      "\n",
      " After self.predict() -->  (68, 1) \n",
      " <class 'numpy.ndarray'> \n",
      "\n",
      "\n",
      "encoded flux shape: (5700, 68)\n",
      "1/1 [==============================] - 1s 1s/step\n"
     ]
    },
    {
     "output_type": "stream",
     "name": "stderr",
     "text": [
      "\r  8%|▊         | 443/5700 [10:55<2:00:07,  1.37s/it]"
     ]
    },
    {
     "output_type": "stream",
     "name": "stdout",
     "text": [
      "\n",
      " After self.predict() -->  (68, 1) \n",
      " <class 'numpy.ndarray'> \n",
      "\n",
      "\n",
      "encoded flux shape: (5700, 68)\n",
      "1/1 [==============================] - 1s 1s/step\n"
     ]
    },
    {
     "output_type": "stream",
     "name": "stderr",
     "text": [
      "\r  8%|▊         | 444/5700 [10:56<1:55:58,  1.32s/it]"
     ]
    },
    {
     "output_type": "stream",
     "name": "stdout",
     "text": [
      "\n",
      " After self.predict() -->  (68, 1) \n",
      " <class 'numpy.ndarray'> \n",
      "\n",
      "\n",
      "encoded flux shape: (5700, 68)\n",
      "1/1 [==============================] - 1s 1s/step\n"
     ]
    },
    {
     "output_type": "stream",
     "name": "stderr",
     "text": [
      "\r  8%|▊         | 445/5700 [10:57<1:53:14,  1.29s/it]"
     ]
    },
    {
     "output_type": "stream",
     "name": "stdout",
     "text": [
      "\n",
      " After self.predict() -->  (68, 1) \n",
      " <class 'numpy.ndarray'> \n",
      "\n",
      "\n",
      "encoded flux shape: (5700, 68)\n",
      "1/1 [==============================] - 1s 1s/step\n"
     ]
    },
    {
     "output_type": "stream",
     "name": "stderr",
     "text": [
      "\r  8%|▊         | 446/5700 [10:59<1:54:25,  1.31s/it]"
     ]
    },
    {
     "output_type": "stream",
     "name": "stdout",
     "text": [
      "\n",
      " After self.predict() -->  (68, 1) \n",
      " <class 'numpy.ndarray'> \n",
      "\n",
      "\n",
      "encoded flux shape: (5700, 68)\n",
      "1/1 [==============================] - 1s 1s/step\n"
     ]
    },
    {
     "output_type": "stream",
     "name": "stderr",
     "text": [
      "\r  8%|▊         | 447/5700 [11:00<1:50:57,  1.27s/it]"
     ]
    },
    {
     "output_type": "stream",
     "name": "stdout",
     "text": [
      "\n",
      " After self.predict() -->  (68, 1) \n",
      " <class 'numpy.ndarray'> \n",
      "\n",
      "\n",
      "encoded flux shape: (5700, 68)\n",
      "1/1 [==============================] - 2s 2s/step\n"
     ]
    },
    {
     "output_type": "stream",
     "name": "stderr",
     "text": [
      "\r  8%|▊         | 448/5700 [11:02<2:27:46,  1.69s/it]"
     ]
    },
    {
     "output_type": "stream",
     "name": "stdout",
     "text": [
      "\n",
      " After self.predict() -->  (68, 1) \n",
      " <class 'numpy.ndarray'> \n",
      "\n",
      "\n",
      "encoded flux shape: (5700, 68)\n",
      "1/1 [==============================] - 1s 1s/step\n"
     ]
    },
    {
     "output_type": "stream",
     "name": "stderr",
     "text": [
      "\r  8%|▊         | 449/5700 [11:05<2:53:18,  1.98s/it]"
     ]
    },
    {
     "output_type": "stream",
     "name": "stdout",
     "text": [
      "\n",
      " After self.predict() -->  (68, 1) \n",
      " <class 'numpy.ndarray'> \n",
      "\n",
      "\n",
      "encoded flux shape: (5700, 68)\n",
      "1/1 [==============================] - 1s 1s/step\n"
     ]
    },
    {
     "output_type": "stream",
     "name": "stderr",
     "text": [
      "\r  8%|▊         | 450/5700 [11:06<2:32:44,  1.75s/it]"
     ]
    },
    {
     "output_type": "stream",
     "name": "stdout",
     "text": [
      "\n",
      " After self.predict() -->  (68, 1) \n",
      " <class 'numpy.ndarray'> \n",
      "\n",
      "\n",
      "encoded flux shape: (5700, 68)\n",
      "1/1 [==============================] - 1s 1s/step\n"
     ]
    },
    {
     "output_type": "stream",
     "name": "stderr",
     "text": [
      "\r  8%|▊         | 451/5700 [11:08<2:18:04,  1.58s/it]"
     ]
    },
    {
     "output_type": "stream",
     "name": "stdout",
     "text": [
      "\n",
      " After self.predict() -->  (68, 1) \n",
      " <class 'numpy.ndarray'> \n",
      "\n",
      "\n",
      "encoded flux shape: (5700, 68)\n",
      "1/1 [==============================] - 1s 1s/step\n"
     ]
    },
    {
     "output_type": "stream",
     "name": "stderr",
     "text": [
      "\r  8%|▊         | 452/5700 [11:09<2:07:59,  1.46s/it]"
     ]
    },
    {
     "output_type": "stream",
     "name": "stdout",
     "text": [
      "\n",
      " After self.predict() -->  (68, 1) \n",
      " <class 'numpy.ndarray'> \n",
      "\n",
      "\n",
      "encoded flux shape: (5700, 68)\n",
      "1/1 [==============================] - 1s 1s/step\n"
     ]
    },
    {
     "output_type": "stream",
     "name": "stderr",
     "text": [
      "\r  8%|▊         | 453/5700 [11:10<2:01:01,  1.38s/it]"
     ]
    },
    {
     "output_type": "stream",
     "name": "stdout",
     "text": [
      "\n",
      " After self.predict() -->  (68, 1) \n",
      " <class 'numpy.ndarray'> \n",
      "\n",
      "\n",
      "encoded flux shape: (5700, 68)\n",
      "1/1 [==============================] - 1s 1s/step\n"
     ]
    },
    {
     "output_type": "stream",
     "name": "stderr",
     "text": [
      "\r  8%|▊         | 454/5700 [11:11<2:00:06,  1.37s/it]"
     ]
    },
    {
     "output_type": "stream",
     "name": "stdout",
     "text": [
      "\n",
      " After self.predict() -->  (68, 1) \n",
      " <class 'numpy.ndarray'> \n",
      "\n",
      "\n",
      "encoded flux shape: (5700, 68)\n",
      "1/1 [==============================] - 1s 1s/step\n"
     ]
    },
    {
     "output_type": "stream",
     "name": "stderr",
     "text": [
      "\r  8%|▊         | 455/5700 [11:13<1:59:25,  1.37s/it]"
     ]
    },
    {
     "output_type": "stream",
     "name": "stdout",
     "text": [
      "\n",
      " After self.predict() -->  (68, 1) \n",
      " <class 'numpy.ndarray'> \n",
      "\n",
      "\n",
      "encoded flux shape: (5700, 68)\n",
      "1/1 [==============================] - 1s 1s/step\n"
     ]
    },
    {
     "output_type": "stream",
     "name": "stderr",
     "text": [
      "\r  8%|▊         | 456/5700 [11:15<2:32:20,  1.74s/it]"
     ]
    },
    {
     "output_type": "stream",
     "name": "stdout",
     "text": [
      "\n",
      " After self.predict() -->  (68, 1) \n",
      " <class 'numpy.ndarray'> \n",
      "\n",
      "\n",
      "encoded flux shape: (5700, 68)\n",
      "1/1 [==============================] - 2s 2s/step\n"
     ]
    },
    {
     "output_type": "stream",
     "name": "stderr",
     "text": [
      "\r  8%|▊         | 457/5700 [11:17<2:28:10,  1.70s/it]"
     ]
    },
    {
     "output_type": "stream",
     "name": "stdout",
     "text": [
      "\n",
      " After self.predict() -->  (68, 1) \n",
      " <class 'numpy.ndarray'> \n",
      "\n",
      "\n",
      "encoded flux shape: (5700, 68)\n",
      "1/1 [==============================] - 1s 1s/step\n"
     ]
    },
    {
     "output_type": "stream",
     "name": "stderr",
     "text": [
      "\r  8%|▊         | 458/5700 [11:18<2:18:48,  1.59s/it]"
     ]
    },
    {
     "output_type": "stream",
     "name": "stdout",
     "text": [
      "\n",
      " After self.predict() -->  (68, 1) \n",
      " <class 'numpy.ndarray'> \n",
      "\n",
      "\n",
      "encoded flux shape: (5700, 68)\n",
      "1/1 [==============================] - 1s 1s/step\n"
     ]
    },
    {
     "output_type": "stream",
     "name": "stderr",
     "text": [
      "\r  8%|▊         | 459/5700 [11:19<2:07:10,  1.46s/it]"
     ]
    },
    {
     "output_type": "stream",
     "name": "stdout",
     "text": [
      "\n",
      " After self.predict() -->  (68, 1) \n",
      " <class 'numpy.ndarray'> \n",
      "\n",
      "\n",
      "encoded flux shape: (5700, 68)\n",
      "1/1 [==============================] - 1s 1s/step\n"
     ]
    },
    {
     "output_type": "stream",
     "name": "stderr",
     "text": [
      "\r  8%|▊         | 460/5700 [11:21<2:01:06,  1.39s/it]"
     ]
    },
    {
     "output_type": "stream",
     "name": "stdout",
     "text": [
      "\n",
      " After self.predict() -->  (68, 1) \n",
      " <class 'numpy.ndarray'> \n",
      "\n",
      "\n",
      "encoded flux shape: (5700, 68)\n",
      "1/1 [==============================] - 1s 1s/step\n"
     ]
    },
    {
     "output_type": "stream",
     "name": "stderr",
     "text": [
      "\r  8%|▊         | 461/5700 [11:22<1:59:58,  1.37s/it]"
     ]
    },
    {
     "output_type": "stream",
     "name": "stdout",
     "text": [
      "\n",
      " After self.predict() -->  (68, 1) \n",
      " <class 'numpy.ndarray'> \n",
      "\n",
      "\n",
      "encoded flux shape: (5700, 68)\n",
      "1/1 [==============================] - 1s 1s/step\n"
     ]
    },
    {
     "output_type": "stream",
     "name": "stderr",
     "text": [
      "\r  8%|▊         | 462/5700 [11:23<1:54:47,  1.31s/it]"
     ]
    },
    {
     "output_type": "stream",
     "name": "stdout",
     "text": [
      "\n",
      " After self.predict() -->  (68, 1) \n",
      " <class 'numpy.ndarray'> \n",
      "\n",
      "\n",
      "encoded flux shape: (5700, 68)\n",
      "1/1 [==============================] - 1s 1s/step\n"
     ]
    },
    {
     "output_type": "stream",
     "name": "stderr",
     "text": [
      "\r  8%|▊         | 463/5700 [11:24<1:51:37,  1.28s/it]"
     ]
    },
    {
     "output_type": "stream",
     "name": "stdout",
     "text": [
      "\n",
      " After self.predict() -->  (68, 1) \n",
      " <class 'numpy.ndarray'> \n",
      "\n",
      "\n",
      "encoded flux shape: (5700, 68)\n",
      "1/1 [==============================] - 1s 1s/step\n"
     ]
    },
    {
     "output_type": "stream",
     "name": "stderr",
     "text": [
      "\r  8%|▊         | 464/5700 [11:26<1:53:18,  1.30s/it]"
     ]
    },
    {
     "output_type": "stream",
     "name": "stdout",
     "text": [
      "\n",
      " After self.predict() -->  (68, 1) \n",
      " <class 'numpy.ndarray'> \n",
      "\n",
      "\n",
      "encoded flux shape: (5700, 68)\n",
      "1/1 [==============================] - 1s 1s/step\n"
     ]
    },
    {
     "output_type": "stream",
     "name": "stderr",
     "text": [
      "\r  8%|▊         | 465/5700 [11:27<1:51:18,  1.28s/it]"
     ]
    },
    {
     "output_type": "stream",
     "name": "stdout",
     "text": [
      "\n",
      " After self.predict() -->  (68, 1) \n",
      " <class 'numpy.ndarray'> \n",
      "\n",
      "\n",
      "encoded flux shape: (5700, 68)\n",
      "1/1 [==============================] - 2s 2s/step\n"
     ]
    },
    {
     "output_type": "stream",
     "name": "stderr",
     "text": [
      "\r  8%|▊         | 466/5700 [11:29<2:01:36,  1.39s/it]"
     ]
    },
    {
     "output_type": "stream",
     "name": "stdout",
     "text": [
      "\n",
      " After self.predict() -->  (68, 1) \n",
      " <class 'numpy.ndarray'> \n",
      "\n",
      "\n",
      "encoded flux shape: (5700, 68)\n",
      "1/1 [==============================] - 2s 2s/step\n"
     ]
    },
    {
     "output_type": "stream",
     "name": "stderr",
     "text": [
      "\r  8%|▊         | 467/5700 [11:30<2:08:33,  1.47s/it]"
     ]
    },
    {
     "output_type": "stream",
     "name": "stdout",
     "text": [
      "\n",
      " After self.predict() -->  (68, 1) \n",
      " <class 'numpy.ndarray'> \n",
      "\n",
      "\n",
      "encoded flux shape: (5700, 68)\n",
      "1/1 [==============================] - 1s 1s/step\n"
     ]
    },
    {
     "output_type": "stream",
     "name": "stderr",
     "text": [
      "\r  8%|▊         | 468/5700 [11:32<2:06:18,  1.45s/it]"
     ]
    },
    {
     "output_type": "stream",
     "name": "stdout",
     "text": [
      "\n",
      " After self.predict() -->  (68, 1) \n",
      " <class 'numpy.ndarray'> \n",
      "\n",
      "\n",
      "encoded flux shape: (5700, 68)\n",
      "1/1 [==============================] - 1s 1s/step\n"
     ]
    },
    {
     "output_type": "stream",
     "name": "stderr",
     "text": [
      "\r  8%|▊         | 469/5700 [11:33<2:03:36,  1.42s/it]"
     ]
    },
    {
     "output_type": "stream",
     "name": "stdout",
     "text": [
      "\n",
      " After self.predict() -->  (68, 1) \n",
      " <class 'numpy.ndarray'> \n",
      "\n",
      "\n",
      "encoded flux shape: (5700, 68)\n",
      "1/1 [==============================] - 1s 1s/step\n"
     ]
    },
    {
     "output_type": "stream",
     "name": "stderr",
     "text": [
      "\r  8%|▊         | 470/5700 [11:34<1:57:29,  1.35s/it]"
     ]
    },
    {
     "output_type": "stream",
     "name": "stdout",
     "text": [
      "\n",
      " After self.predict() -->  (68, 1) \n",
      " <class 'numpy.ndarray'> \n",
      "\n",
      "\n",
      "encoded flux shape: (5700, 68)\n",
      "1/1 [==============================] - 1s 1s/step\n"
     ]
    },
    {
     "output_type": "stream",
     "name": "stderr",
     "text": [
      "\r  8%|▊         | 471/5700 [11:35<1:57:17,  1.35s/it]"
     ]
    },
    {
     "output_type": "stream",
     "name": "stdout",
     "text": [
      "\n",
      " After self.predict() -->  (68, 1) \n",
      " <class 'numpy.ndarray'> \n",
      "\n",
      "\n",
      "encoded flux shape: (5700, 68)\n",
      "1/1 [==============================] - 1s 1s/step\n"
     ]
    },
    {
     "output_type": "stream",
     "name": "stderr",
     "text": [
      "\r  8%|▊         | 472/5700 [11:37<1:57:27,  1.35s/it]"
     ]
    },
    {
     "output_type": "stream",
     "name": "stdout",
     "text": [
      "\n",
      " After self.predict() -->  (68, 1) \n",
      " <class 'numpy.ndarray'> \n",
      "\n",
      "\n",
      "encoded flux shape: (5700, 68)\n",
      "1/1 [==============================] - 1s 1s/step\n"
     ]
    },
    {
     "output_type": "stream",
     "name": "stderr",
     "text": [
      "\r  8%|▊         | 473/5700 [11:38<1:53:16,  1.30s/it]"
     ]
    },
    {
     "output_type": "stream",
     "name": "stdout",
     "text": [
      "\n",
      " After self.predict() -->  (68, 1) \n",
      " <class 'numpy.ndarray'> \n",
      "\n",
      "\n",
      "encoded flux shape: (5700, 68)\n",
      "1/1 [==============================] - 1s 1s/step\n"
     ]
    },
    {
     "output_type": "stream",
     "name": "stderr",
     "text": [
      "\r  8%|▊         | 474/5700 [11:39<1:54:21,  1.31s/it]"
     ]
    },
    {
     "output_type": "stream",
     "name": "stdout",
     "text": [
      "\n",
      " After self.predict() -->  (68, 1) \n",
      " <class 'numpy.ndarray'> \n",
      "\n",
      "\n",
      "encoded flux shape: (5700, 68)\n",
      "1/1 [==============================] - 1s 1s/step\n"
     ]
    },
    {
     "output_type": "stream",
     "name": "stderr",
     "text": [
      "\r  8%|▊         | 475/5700 [11:41<1:55:06,  1.32s/it]"
     ]
    },
    {
     "output_type": "stream",
     "name": "stdout",
     "text": [
      "\n",
      " After self.predict() -->  (68, 1) \n",
      " <class 'numpy.ndarray'> \n",
      "\n",
      "\n",
      "encoded flux shape: (5700, 68)\n",
      "1/1 [==============================] - 1s 1s/step\n"
     ]
    },
    {
     "output_type": "stream",
     "name": "stderr",
     "text": [
      "\r  8%|▊         | 476/5700 [11:42<2:01:08,  1.39s/it]"
     ]
    },
    {
     "output_type": "stream",
     "name": "stdout",
     "text": [
      "\n",
      " After self.predict() -->  (68, 1) \n",
      " <class 'numpy.ndarray'> \n",
      "\n",
      "\n",
      "encoded flux shape: (5700, 68)\n",
      "1/1 [==============================] - 2s 2s/step\n"
     ]
    },
    {
     "output_type": "stream",
     "name": "stderr",
     "text": [
      "\r  8%|▊         | 477/5700 [11:45<2:33:58,  1.77s/it]"
     ]
    },
    {
     "output_type": "stream",
     "name": "stdout",
     "text": [
      "\n",
      " After self.predict() -->  (68, 1) \n",
      " <class 'numpy.ndarray'> \n",
      "\n",
      "\n",
      "encoded flux shape: (5700, 68)\n",
      "1/1 [==============================] - 1s 1s/step\n"
     ]
    },
    {
     "output_type": "stream",
     "name": "stderr",
     "text": [
      "\r  8%|▊         | 478/5700 [11:46<2:22:54,  1.64s/it]"
     ]
    },
    {
     "output_type": "stream",
     "name": "stdout",
     "text": [
      "\n",
      " After self.predict() -->  (68, 1) \n",
      " <class 'numpy.ndarray'> \n",
      "\n",
      "\n",
      "encoded flux shape: (5700, 68)\n",
      "1/1 [==============================] - 1s 1s/step\n"
     ]
    },
    {
     "output_type": "stream",
     "name": "stderr",
     "text": [
      "\r  8%|▊         | 479/5700 [11:48<2:14:58,  1.55s/it]"
     ]
    },
    {
     "output_type": "stream",
     "name": "stdout",
     "text": [
      "\n",
      " After self.predict() -->  (68, 1) \n",
      " <class 'numpy.ndarray'> \n",
      "\n",
      "\n",
      "encoded flux shape: (5700, 68)\n",
      "1/1 [==============================] - 1s 1s/step\n"
     ]
    },
    {
     "output_type": "stream",
     "name": "stderr",
     "text": [
      "\r  8%|▊         | 480/5700 [11:49<2:09:50,  1.49s/it]"
     ]
    },
    {
     "output_type": "stream",
     "name": "stdout",
     "text": [
      "\n",
      " After self.predict() -->  (68, 1) \n",
      " <class 'numpy.ndarray'> \n",
      "\n",
      "\n",
      "encoded flux shape: (5700, 68)\n",
      "1/1 [==============================] - 1s 1s/step\n"
     ]
    },
    {
     "output_type": "stream",
     "name": "stderr",
     "text": [
      "\r  8%|▊         | 481/5700 [11:50<2:06:10,  1.45s/it]"
     ]
    },
    {
     "output_type": "stream",
     "name": "stdout",
     "text": [
      "\n",
      " After self.predict() -->  (68, 1) \n",
      " <class 'numpy.ndarray'> \n",
      "\n",
      "\n",
      "encoded flux shape: (5700, 68)\n",
      "1/1 [==============================] - 1s 1s/step\n"
     ]
    },
    {
     "output_type": "stream",
     "name": "stderr",
     "text": [
      "\r  8%|▊         | 482/5700 [11:52<2:03:30,  1.42s/it]"
     ]
    },
    {
     "output_type": "stream",
     "name": "stdout",
     "text": [
      "\n",
      " After self.predict() -->  (68, 1) \n",
      " <class 'numpy.ndarray'> \n",
      "\n",
      "\n",
      "encoded flux shape: (5700, 68)\n",
      "1/1 [==============================] - 1s 1s/step\n"
     ]
    },
    {
     "output_type": "stream",
     "name": "stderr",
     "text": [
      "\r  8%|▊         | 483/5700 [11:53<2:01:31,  1.40s/it]"
     ]
    },
    {
     "output_type": "stream",
     "name": "stdout",
     "text": [
      "\n",
      " After self.predict() -->  (68, 1) \n",
      " <class 'numpy.ndarray'> \n",
      "\n",
      "\n",
      "encoded flux shape: (5700, 68)\n",
      "1/1 [==============================] - 1s 1s/step\n"
     ]
    },
    {
     "output_type": "stream",
     "name": "stderr",
     "text": [
      "\r  8%|▊         | 484/5700 [11:54<2:00:20,  1.38s/it]"
     ]
    },
    {
     "output_type": "stream",
     "name": "stdout",
     "text": [
      "\n",
      " After self.predict() -->  (68, 1) \n",
      " <class 'numpy.ndarray'> \n",
      "\n",
      "\n",
      "encoded flux shape: (5700, 68)\n",
      "1/1 [==============================] - 1s 1s/step\n"
     ]
    },
    {
     "output_type": "stream",
     "name": "stderr",
     "text": [
      "\r  9%|▊         | 485/5700 [11:57<2:32:47,  1.76s/it]"
     ]
    },
    {
     "output_type": "stream",
     "name": "stdout",
     "text": [
      "\n",
      " After self.predict() -->  (68, 1) \n",
      " <class 'numpy.ndarray'> \n",
      "\n",
      "\n",
      "encoded flux shape: (5700, 68)\n",
      "1/1 [==============================] - 1s 1s/step\n"
     ]
    },
    {
     "output_type": "stream",
     "name": "stderr",
     "text": [
      "\r  9%|▊         | 486/5700 [12:00<2:56:12,  2.03s/it]"
     ]
    },
    {
     "output_type": "stream",
     "name": "stdout",
     "text": [
      "\n",
      " After self.predict() -->  (68, 1) \n",
      " <class 'numpy.ndarray'> \n",
      "\n",
      "\n",
      "encoded flux shape: (5700, 68)\n",
      "1/1 [==============================] - 1s 1s/step\n"
     ]
    },
    {
     "output_type": "stream",
     "name": "stderr",
     "text": [
      "\r  9%|▊         | 487/5700 [12:01<2:34:23,  1.78s/it]"
     ]
    },
    {
     "output_type": "stream",
     "name": "stdout",
     "text": [
      "\n",
      " After self.predict() -->  (68, 1) \n",
      " <class 'numpy.ndarray'> \n",
      "\n",
      "\n",
      "encoded flux shape: (5700, 68)\n",
      "1/1 [==============================] - 1s 1s/step\n"
     ]
    },
    {
     "output_type": "stream",
     "name": "stderr",
     "text": [
      "\r  9%|▊         | 488/5700 [12:02<2:22:52,  1.64s/it]"
     ]
    },
    {
     "output_type": "stream",
     "name": "stdout",
     "text": [
      "\n",
      " After self.predict() -->  (68, 1) \n",
      " <class 'numpy.ndarray'> \n",
      "\n",
      "\n",
      "encoded flux shape: (5700, 68)\n",
      "1/1 [==============================] - 1s 1s/step\n"
     ]
    },
    {
     "output_type": "stream",
     "name": "stderr",
     "text": [
      "\r  9%|▊         | 489/5700 [12:03<2:10:30,  1.50s/it]"
     ]
    },
    {
     "output_type": "stream",
     "name": "stdout",
     "text": [
      "\n",
      " After self.predict() -->  (68, 1) \n",
      " <class 'numpy.ndarray'> \n",
      "\n",
      "\n",
      "encoded flux shape: (5700, 68)\n",
      "1/1 [==============================] - 1s 1s/step\n"
     ]
    },
    {
     "output_type": "stream",
     "name": "stderr",
     "text": [
      "\r  9%|▊         | 490/5700 [12:04<2:02:09,  1.41s/it]"
     ]
    },
    {
     "output_type": "stream",
     "name": "stdout",
     "text": [
      "\n",
      " After self.predict() -->  (68, 1) \n",
      " <class 'numpy.ndarray'> \n",
      "\n",
      "\n",
      "encoded flux shape: (5700, 68)\n",
      "1/1 [==============================] - 1s 1s/step\n"
     ]
    },
    {
     "output_type": "stream",
     "name": "stderr",
     "text": [
      "\r  9%|▊         | 491/5700 [12:06<2:00:26,  1.39s/it]"
     ]
    },
    {
     "output_type": "stream",
     "name": "stdout",
     "text": [
      "\n",
      " After self.predict() -->  (68, 1) \n",
      " <class 'numpy.ndarray'> \n",
      "\n",
      "\n",
      "encoded flux shape: (5700, 68)\n",
      "1/1 [==============================] - 1s 1s/step\n"
     ]
    },
    {
     "output_type": "stream",
     "name": "stderr",
     "text": [
      "\r  9%|▊         | 492/5700 [12:07<1:54:44,  1.32s/it]"
     ]
    },
    {
     "output_type": "stream",
     "name": "stdout",
     "text": [
      "\n",
      " After self.predict() -->  (68, 1) \n",
      " <class 'numpy.ndarray'> \n",
      "\n",
      "\n",
      "encoded flux shape: (5700, 68)\n",
      "1/1 [==============================] - 1s 1s/step\n"
     ]
    },
    {
     "output_type": "stream",
     "name": "stderr",
     "text": [
      "\r  9%|▊         | 493/5700 [12:08<1:54:34,  1.32s/it]"
     ]
    },
    {
     "output_type": "stream",
     "name": "stdout",
     "text": [
      "\n",
      " After self.predict() -->  (68, 1) \n",
      " <class 'numpy.ndarray'> \n",
      "\n",
      "\n",
      "encoded flux shape: (5700, 68)\n",
      "1/1 [==============================] - 2s 2s/step\n"
     ]
    },
    {
     "output_type": "stream",
     "name": "stderr",
     "text": [
      "\r  9%|▊         | 494/5700 [12:11<2:28:54,  1.72s/it]"
     ]
    },
    {
     "output_type": "stream",
     "name": "stdout",
     "text": [
      "\n",
      " After self.predict() -->  (68, 1) \n",
      " <class 'numpy.ndarray'> \n",
      "\n",
      "\n",
      "encoded flux shape: (5700, 68)\n",
      "1/1 [==============================] - 1s 1s/step\n"
     ]
    },
    {
     "output_type": "stream",
     "name": "stderr",
     "text": [
      "\r  9%|▊         | 495/5700 [12:12<2:19:54,  1.61s/it]"
     ]
    },
    {
     "output_type": "stream",
     "name": "stdout",
     "text": [
      "\n",
      " After self.predict() -->  (68, 1) \n",
      " <class 'numpy.ndarray'> \n",
      "\n",
      "\n",
      "encoded flux shape: (5700, 68)\n",
      "1/1 [==============================] - 1s 1s/step\n"
     ]
    },
    {
     "output_type": "stream",
     "name": "stderr",
     "text": [
      "\r  9%|▊         | 496/5700 [12:14<2:12:46,  1.53s/it]"
     ]
    },
    {
     "output_type": "stream",
     "name": "stdout",
     "text": [
      "\n",
      " After self.predict() -->  (68, 1) \n",
      " <class 'numpy.ndarray'> \n",
      "\n",
      "\n",
      "encoded flux shape: (5700, 68)\n",
      "1/1 [==============================] - 1s 1s/step\n"
     ]
    },
    {
     "output_type": "stream",
     "name": "stderr",
     "text": [
      "\r  9%|▊         | 497/5700 [12:15<2:04:07,  1.43s/it]"
     ]
    },
    {
     "output_type": "stream",
     "name": "stdout",
     "text": [
      "\n",
      " After self.predict() -->  (68, 1) \n",
      " <class 'numpy.ndarray'> \n",
      "\n",
      "\n",
      "encoded flux shape: (5700, 68)\n",
      "1/1 [==============================] - 1s 1s/step\n"
     ]
    },
    {
     "output_type": "stream",
     "name": "stderr",
     "text": [
      "\r  9%|▊         | 498/5700 [12:16<1:57:19,  1.35s/it]"
     ]
    },
    {
     "output_type": "stream",
     "name": "stdout",
     "text": [
      "\n",
      " After self.predict() -->  (68, 1) \n",
      " <class 'numpy.ndarray'> \n",
      "\n",
      "\n",
      "encoded flux shape: (5700, 68)\n",
      "1/1 [==============================] - 1s 1s/step\n"
     ]
    },
    {
     "output_type": "stream",
     "name": "stderr",
     "text": [
      "\r  9%|▉         | 499/5700 [12:17<1:52:22,  1.30s/it]"
     ]
    },
    {
     "output_type": "stream",
     "name": "stdout",
     "text": [
      "\n",
      " After self.predict() -->  (68, 1) \n",
      " <class 'numpy.ndarray'> \n",
      "\n",
      "\n",
      "encoded flux shape: (5700, 68)\n",
      "1/1 [==============================] - 1s 1s/step\n"
     ]
    },
    {
     "output_type": "stream",
     "name": "stderr",
     "text": [
      "\r  9%|▉         | 500/5700 [12:19<1:53:45,  1.31s/it]"
     ]
    },
    {
     "output_type": "stream",
     "name": "stdout",
     "text": [
      "\n",
      " After self.predict() -->  (68, 1) \n",
      " <class 'numpy.ndarray'> \n",
      "\n",
      "\n",
      "encoded flux shape: (5700, 68)\n",
      "1/1 [==============================] - 1s 1s/step\n"
     ]
    },
    {
     "output_type": "stream",
     "name": "stderr",
     "text": [
      "\r  9%|▉         | 501/5700 [12:20<1:54:39,  1.32s/it]"
     ]
    },
    {
     "output_type": "stream",
     "name": "stdout",
     "text": [
      "\n",
      " After self.predict() -->  (68, 1) \n",
      " <class 'numpy.ndarray'> \n",
      "\n",
      "\n",
      "encoded flux shape: (5700, 68)\n",
      "1/1 [==============================] - 1s 1s/step\n"
     ]
    },
    {
     "output_type": "stream",
     "name": "stderr",
     "text": [
      "\r  9%|▉         | 502/5700 [12:21<1:50:50,  1.28s/it]"
     ]
    },
    {
     "output_type": "stream",
     "name": "stdout",
     "text": [
      "\n",
      " After self.predict() -->  (68, 1) \n",
      " <class 'numpy.ndarray'> \n",
      "\n",
      "\n",
      "encoded flux shape: (5700, 68)\n",
      "1/1 [==============================] - 1s 1s/step\n"
     ]
    },
    {
     "output_type": "stream",
     "name": "stderr",
     "text": [
      "\r  9%|▉         | 503/5700 [12:23<1:56:52,  1.35s/it]"
     ]
    },
    {
     "output_type": "stream",
     "name": "stdout",
     "text": [
      "\n",
      " After self.predict() -->  (68, 1) \n",
      " <class 'numpy.ndarray'> \n",
      "\n",
      "\n",
      "encoded flux shape: (5700, 68)\n",
      "1/1 [==============================] - 2s 2s/step\n"
     ]
    },
    {
     "output_type": "stream",
     "name": "stderr",
     "text": [
      "\r  9%|▉         | 504/5700 [12:24<2:05:45,  1.45s/it]"
     ]
    },
    {
     "output_type": "stream",
     "name": "stdout",
     "text": [
      "\n",
      " After self.predict() -->  (68, 1) \n",
      " <class 'numpy.ndarray'> \n",
      "\n",
      "\n",
      "encoded flux shape: (5700, 68)\n",
      "1/1 [==============================] - 1s 1s/step\n"
     ]
    },
    {
     "output_type": "stream",
     "name": "stderr",
     "text": [
      "\r  9%|▉         | 505/5700 [12:27<2:37:10,  1.82s/it]"
     ]
    },
    {
     "output_type": "stream",
     "name": "stdout",
     "text": [
      "\n",
      " After self.predict() -->  (68, 1) \n",
      " <class 'numpy.ndarray'> \n",
      "\n",
      "\n",
      "encoded flux shape: (5700, 68)\n",
      "1/1 [==============================] - 1s 1s/step\n"
     ]
    },
    {
     "output_type": "stream",
     "name": "stderr",
     "text": [
      "\r  9%|▉         | 506/5700 [12:28<2:20:41,  1.63s/it]"
     ]
    },
    {
     "output_type": "stream",
     "name": "stdout",
     "text": [
      "\n",
      " After self.predict() -->  (68, 1) \n",
      " <class 'numpy.ndarray'> \n",
      "\n",
      "\n",
      "encoded flux shape: (5700, 68)\n",
      "1/1 [==============================] - 1s 1s/step\n"
     ]
    },
    {
     "output_type": "stream",
     "name": "stderr",
     "text": [
      "\r  9%|▉         | 507/5700 [12:29<2:13:27,  1.54s/it]"
     ]
    },
    {
     "output_type": "stream",
     "name": "stdout",
     "text": [
      "\n",
      " After self.predict() -->  (68, 1) \n",
      " <class 'numpy.ndarray'> \n",
      "\n",
      "\n",
      "encoded flux shape: (5700, 68)\n",
      "1/1 [==============================] - 1s 1s/step\n"
     ]
    },
    {
     "output_type": "stream",
     "name": "stderr",
     "text": [
      "\r  9%|▉         | 508/5700 [12:31<2:04:33,  1.44s/it]"
     ]
    },
    {
     "output_type": "stream",
     "name": "stdout",
     "text": [
      "\n",
      " After self.predict() -->  (68, 1) \n",
      " <class 'numpy.ndarray'> \n",
      "\n",
      "\n",
      "encoded flux shape: (5700, 68)\n",
      "1/1 [==============================] - 1s 1s/step\n"
     ]
    },
    {
     "output_type": "stream",
     "name": "stderr",
     "text": [
      "\r  9%|▉         | 509/5700 [12:32<1:56:57,  1.35s/it]"
     ]
    },
    {
     "output_type": "stream",
     "name": "stdout",
     "text": [
      "\n",
      " After self.predict() -->  (68, 1) \n",
      " <class 'numpy.ndarray'> \n",
      "\n",
      "\n",
      "encoded flux shape: (5700, 68)\n",
      "1/1 [==============================] - 1s 1s/step\n"
     ]
    },
    {
     "output_type": "stream",
     "name": "stderr",
     "text": [
      "\r  9%|▉         | 510/5700 [12:33<1:52:11,  1.30s/it]"
     ]
    },
    {
     "output_type": "stream",
     "name": "stdout",
     "text": [
      "\n",
      " After self.predict() -->  (68, 1) \n",
      " <class 'numpy.ndarray'> \n",
      "\n",
      "\n",
      "encoded flux shape: (5700, 68)\n",
      "1/1 [==============================] - 1s 1s/step\n"
     ]
    },
    {
     "output_type": "stream",
     "name": "stderr",
     "text": [
      "\r  9%|▉         | 511/5700 [12:34<1:53:28,  1.31s/it]"
     ]
    },
    {
     "output_type": "stream",
     "name": "stdout",
     "text": [
      "\n",
      " After self.predict() -->  (68, 1) \n",
      " <class 'numpy.ndarray'> \n",
      "\n",
      "\n",
      "encoded flux shape: (5700, 68)\n",
      "1/1 [==============================] - 1s 1s/step\n"
     ]
    },
    {
     "output_type": "stream",
     "name": "stderr",
     "text": [
      "\r  9%|▉         | 512/5700 [12:36<1:54:21,  1.32s/it]"
     ]
    },
    {
     "output_type": "stream",
     "name": "stdout",
     "text": [
      "\n",
      " After self.predict() -->  (68, 1) \n",
      " <class 'numpy.ndarray'> \n",
      "\n",
      "\n",
      "encoded flux shape: (5700, 68)\n",
      "1/1 [==============================] - 2s 2s/step\n"
     ]
    },
    {
     "output_type": "stream",
     "name": "stderr",
     "text": [
      "\r  9%|▉         | 513/5700 [12:37<2:03:24,  1.43s/it]"
     ]
    },
    {
     "output_type": "stream",
     "name": "stdout",
     "text": [
      "\n",
      " After self.predict() -->  (68, 1) \n",
      " <class 'numpy.ndarray'> \n",
      "\n",
      "\n",
      "encoded flux shape: (5700, 68)\n",
      "1/1 [==============================] - 2s 2s/step\n"
     ]
    },
    {
     "output_type": "stream",
     "name": "stderr",
     "text": [
      "\r  9%|▉         | 514/5700 [12:39<2:09:09,  1.49s/it]"
     ]
    },
    {
     "output_type": "stream",
     "name": "stdout",
     "text": [
      "\n",
      " After self.predict() -->  (68, 1) \n",
      " <class 'numpy.ndarray'> \n",
      "\n",
      "\n",
      "encoded flux shape: (5700, 68)\n",
      "1/1 [==============================] - 1s 1s/step\n"
     ]
    },
    {
     "output_type": "stream",
     "name": "stderr",
     "text": [
      "\r  9%|▉         | 515/5700 [12:40<2:05:51,  1.46s/it]"
     ]
    },
    {
     "output_type": "stream",
     "name": "stdout",
     "text": [
      "\n",
      " After self.predict() -->  (68, 1) \n",
      " <class 'numpy.ndarray'> \n",
      "\n",
      "\n",
      "encoded flux shape: (5700, 68)\n",
      "1/1 [==============================] - 1s 1s/step\n"
     ]
    },
    {
     "output_type": "stream",
     "name": "stderr",
     "text": [
      "\r  9%|▉         | 516/5700 [12:42<2:02:49,  1.42s/it]"
     ]
    },
    {
     "output_type": "stream",
     "name": "stdout",
     "text": [
      "\n",
      " After self.predict() -->  (68, 1) \n",
      " <class 'numpy.ndarray'> \n",
      "\n",
      "\n",
      "encoded flux shape: (5700, 68)\n",
      "1/1 [==============================] - 1s 1s/step\n"
     ]
    },
    {
     "output_type": "stream",
     "name": "stderr",
     "text": [
      "\r  9%|▉         | 517/5700 [12:43<1:56:45,  1.35s/it]"
     ]
    },
    {
     "output_type": "stream",
     "name": "stdout",
     "text": [
      "\n",
      " After self.predict() -->  (68, 1) \n",
      " <class 'numpy.ndarray'> \n",
      "\n",
      "\n",
      "encoded flux shape: (5700, 68)\n",
      "1/1 [==============================] - 1s 1s/step\n"
     ]
    },
    {
     "output_type": "stream",
     "name": "stderr",
     "text": [
      "\r  9%|▉         | 518/5700 [12:44<1:52:12,  1.30s/it]"
     ]
    },
    {
     "output_type": "stream",
     "name": "stdout",
     "text": [
      "\n",
      " After self.predict() -->  (68, 1) \n",
      " <class 'numpy.ndarray'> \n",
      "\n",
      "\n",
      "encoded flux shape: (5700, 68)\n",
      "1/1 [==============================] - 1s 1s/step\n"
     ]
    },
    {
     "output_type": "stream",
     "name": "stderr",
     "text": [
      "\r  9%|▉         | 519/5700 [12:45<1:53:13,  1.31s/it]"
     ]
    },
    {
     "output_type": "stream",
     "name": "stdout",
     "text": [
      "\n",
      " After self.predict() -->  (68, 1) \n",
      " <class 'numpy.ndarray'> \n",
      "\n",
      "\n",
      "encoded flux shape: (5700, 68)\n",
      "1/1 [==============================] - 1s 1s/step\n"
     ]
    },
    {
     "output_type": "stream",
     "name": "stderr",
     "text": [
      "\r  9%|▉         | 520/5700 [12:47<1:50:01,  1.27s/it]"
     ]
    },
    {
     "output_type": "stream",
     "name": "stdout",
     "text": [
      "\n",
      " After self.predict() -->  (68, 1) \n",
      " <class 'numpy.ndarray'> \n",
      "\n",
      "\n",
      "encoded flux shape: (5700, 68)\n",
      "1/1 [==============================] - 1s 1s/step\n"
     ]
    },
    {
     "output_type": "stream",
     "name": "stderr",
     "text": [
      "\r  9%|▉         | 521/5700 [12:48<1:48:29,  1.26s/it]"
     ]
    },
    {
     "output_type": "stream",
     "name": "stdout",
     "text": [
      "\n",
      " After self.predict() -->  (68, 1) \n",
      " <class 'numpy.ndarray'> \n",
      "\n",
      "\n",
      "encoded flux shape: (5700, 68)\n",
      "1/1 [==============================] - 1s 1s/step\n"
     ]
    },
    {
     "output_type": "stream",
     "name": "stderr",
     "text": [
      "\r  9%|▉         | 522/5700 [12:49<1:46:13,  1.23s/it]"
     ]
    },
    {
     "output_type": "stream",
     "name": "stdout",
     "text": [
      "\n",
      " After self.predict() -->  (68, 1) \n",
      " <class 'numpy.ndarray'> \n",
      "\n",
      "\n",
      "encoded flux shape: (5700, 68)\n",
      "1/1 [==============================] - 1s 1s/step\n"
     ]
    },
    {
     "output_type": "stream",
     "name": "stderr",
     "text": [
      "\r  9%|▉         | 523/5700 [12:50<1:51:36,  1.29s/it]"
     ]
    },
    {
     "output_type": "stream",
     "name": "stdout",
     "text": [
      "\n",
      " After self.predict() -->  (68, 1) \n",
      " <class 'numpy.ndarray'> \n",
      "\n",
      "\n",
      "encoded flux shape: (5700, 68)\n",
      "1/1 [==============================] - 2s 2s/step\n"
     ]
    },
    {
     "output_type": "stream",
     "name": "stderr",
     "text": [
      "\r  9%|▉         | 524/5700 [12:53<2:26:27,  1.70s/it]"
     ]
    },
    {
     "output_type": "stream",
     "name": "stdout",
     "text": [
      "\n",
      " After self.predict() -->  (68, 1) \n",
      " <class 'numpy.ndarray'> \n",
      "\n",
      "\n",
      "encoded flux shape: (5700, 68)\n",
      "1/1 [==============================] - 1s 1s/step\n"
     ]
    },
    {
     "output_type": "stream",
     "name": "stderr",
     "text": [
      "\r  9%|▉         | 525/5700 [12:54<2:17:10,  1.59s/it]"
     ]
    },
    {
     "output_type": "stream",
     "name": "stdout",
     "text": [
      "\n",
      " After self.predict() -->  (68, 1) \n",
      " <class 'numpy.ndarray'> \n",
      "\n",
      "\n",
      "encoded flux shape: (5700, 68)\n",
      "1/1 [==============================] - 1s 1s/step\n"
     ]
    },
    {
     "output_type": "stream",
     "name": "stderr",
     "text": [
      "\r  9%|▉         | 526/5700 [12:56<2:06:49,  1.47s/it]"
     ]
    },
    {
     "output_type": "stream",
     "name": "stdout",
     "text": [
      "\n",
      " After self.predict() -->  (68, 1) \n",
      " <class 'numpy.ndarray'> \n",
      "\n",
      "\n",
      "encoded flux shape: (5700, 68)\n",
      "1/1 [==============================] - 1s 1s/step\n"
     ]
    },
    {
     "output_type": "stream",
     "name": "stderr",
     "text": [
      "\r  9%|▉         | 527/5700 [12:57<2:03:44,  1.44s/it]"
     ]
    },
    {
     "output_type": "stream",
     "name": "stdout",
     "text": [
      "\n",
      " After self.predict() -->  (68, 1) \n",
      " <class 'numpy.ndarray'> \n",
      "\n",
      "\n",
      "encoded flux shape: (5700, 68)\n",
      "1/1 [==============================] - 1s 1s/step\n"
     ]
    },
    {
     "output_type": "stream",
     "name": "stderr",
     "text": [
      "\r  9%|▉         | 528/5700 [12:58<1:57:13,  1.36s/it]"
     ]
    },
    {
     "output_type": "stream",
     "name": "stdout",
     "text": [
      "\n",
      " After self.predict() -->  (68, 1) \n",
      " <class 'numpy.ndarray'> \n",
      "\n",
      "\n",
      "encoded flux shape: (5700, 68)\n",
      "1/1 [==============================] - 1s 1s/step\n"
     ]
    },
    {
     "output_type": "stream",
     "name": "stderr",
     "text": [
      "\r  9%|▉         | 529/5700 [12:59<1:56:39,  1.35s/it]"
     ]
    },
    {
     "output_type": "stream",
     "name": "stdout",
     "text": [
      "\n",
      " After self.predict() -->  (68, 1) \n",
      " <class 'numpy.ndarray'> \n",
      "\n",
      "\n",
      "encoded flux shape: (5700, 68)\n",
      "1/1 [==============================] - 1s 1s/step\n"
     ]
    },
    {
     "output_type": "stream",
     "name": "stderr",
     "text": [
      "\r  9%|▉         | 530/5700 [13:01<1:51:21,  1.29s/it]"
     ]
    },
    {
     "output_type": "stream",
     "name": "stdout",
     "text": [
      "\n",
      " After self.predict() -->  (68, 1) \n",
      " <class 'numpy.ndarray'> \n",
      "\n",
      "\n",
      "encoded flux shape: (5700, 68)\n",
      "1/1 [==============================] - 1s 1s/step\n"
     ]
    },
    {
     "output_type": "stream",
     "name": "stderr",
     "text": [
      "\r  9%|▉         | 531/5700 [13:02<1:48:22,  1.26s/it]"
     ]
    },
    {
     "output_type": "stream",
     "name": "stdout",
     "text": [
      "\n",
      " After self.predict() -->  (68, 1) \n",
      " <class 'numpy.ndarray'> \n",
      "\n",
      "\n",
      "encoded flux shape: (5700, 68)\n",
      "1/1 [==============================] - 1s 1s/step\n"
     ]
    },
    {
     "output_type": "stream",
     "name": "stderr",
     "text": [
      "\r  9%|▉         | 532/5700 [13:03<1:50:28,  1.28s/it]"
     ]
    },
    {
     "output_type": "stream",
     "name": "stdout",
     "text": [
      "\n",
      " After self.predict() -->  (68, 1) \n",
      " <class 'numpy.ndarray'> \n",
      "\n",
      "\n",
      "encoded flux shape: (5700, 68)\n",
      "1/1 [==============================] - 2s 2s/step\n"
     ]
    },
    {
     "output_type": "stream",
     "name": "stderr",
     "text": [
      "\r  9%|▉         | 533/5700 [13:05<1:59:07,  1.38s/it]"
     ]
    },
    {
     "output_type": "stream",
     "name": "stdout",
     "text": [
      "\n",
      " After self.predict() -->  (68, 1) \n",
      " <class 'numpy.ndarray'> \n",
      "\n",
      "\n",
      "encoded flux shape: (5700, 68)\n",
      "1/1 [==============================] - 2s 2s/step\n"
     ]
    },
    {
     "output_type": "stream",
     "name": "stderr",
     "text": [
      "\r  9%|▉         | 534/5700 [13:06<2:05:47,  1.46s/it]"
     ]
    },
    {
     "output_type": "stream",
     "name": "stdout",
     "text": [
      "\n",
      " After self.predict() -->  (68, 1) \n",
      " <class 'numpy.ndarray'> \n",
      "\n",
      "\n",
      "encoded flux shape: (5700, 68)\n",
      "1/1 [==============================] - 1s 1s/step\n"
     ]
    },
    {
     "output_type": "stream",
     "name": "stderr",
     "text": [
      "\r  9%|▉         | 535/5700 [13:08<2:04:10,  1.44s/it]"
     ]
    },
    {
     "output_type": "stream",
     "name": "stdout",
     "text": [
      "\n",
      " After self.predict() -->  (68, 1) \n",
      " <class 'numpy.ndarray'> \n",
      "\n",
      "\n",
      "encoded flux shape: (5700, 68)\n",
      "1/1 [==============================] - 1s 1s/step\n"
     ]
    },
    {
     "output_type": "stream",
     "name": "stderr",
     "text": [
      "\r  9%|▉         | 536/5700 [13:09<1:57:46,  1.37s/it]"
     ]
    },
    {
     "output_type": "stream",
     "name": "stdout",
     "text": [
      "\n",
      " After self.predict() -->  (68, 1) \n",
      " <class 'numpy.ndarray'> \n",
      "\n",
      "\n",
      "encoded flux shape: (5700, 68)\n",
      "1/1 [==============================] - 1s 1s/step\n"
     ]
    },
    {
     "output_type": "stream",
     "name": "stderr",
     "text": [
      "\r  9%|▉         | 537/5700 [13:10<1:57:10,  1.36s/it]"
     ]
    },
    {
     "output_type": "stream",
     "name": "stdout",
     "text": [
      "\n",
      " After self.predict() -->  (68, 1) \n",
      " <class 'numpy.ndarray'> \n",
      "\n",
      "\n",
      "encoded flux shape: (5700, 68)\n",
      "1/1 [==============================] - 1s 1s/step\n"
     ]
    },
    {
     "output_type": "stream",
     "name": "stderr",
     "text": [
      "\r  9%|▉         | 538/5700 [13:12<1:57:05,  1.36s/it]"
     ]
    },
    {
     "output_type": "stream",
     "name": "stdout",
     "text": [
      "\n",
      " After self.predict() -->  (68, 1) \n",
      " <class 'numpy.ndarray'> \n",
      "\n",
      "\n",
      "encoded flux shape: (5700, 68)\n",
      "1/1 [==============================] - 1s 1s/step\n"
     ]
    },
    {
     "output_type": "stream",
     "name": "stderr",
     "text": [
      "\r  9%|▉         | 539/5700 [13:13<1:52:12,  1.30s/it]"
     ]
    },
    {
     "output_type": "stream",
     "name": "stdout",
     "text": [
      "\n",
      " After self.predict() -->  (68, 1) \n",
      " <class 'numpy.ndarray'> \n",
      "\n",
      "\n",
      "encoded flux shape: (5700, 68)\n",
      "1/1 [==============================] - 1s 1s/step\n"
     ]
    },
    {
     "output_type": "stream",
     "name": "stderr",
     "text": [
      "\r  9%|▉         | 540/5700 [13:14<1:48:55,  1.27s/it]"
     ]
    },
    {
     "output_type": "stream",
     "name": "stdout",
     "text": [
      "\n",
      " After self.predict() -->  (68, 1) \n",
      " <class 'numpy.ndarray'> \n",
      "\n",
      "\n",
      "encoded flux shape: (5700, 68)\n",
      "1/1 [==============================] - 1s 1s/step\n"
     ]
    },
    {
     "output_type": "stream",
     "name": "stderr",
     "text": [
      "\r  9%|▉         | 541/5700 [13:15<1:46:40,  1.24s/it]"
     ]
    },
    {
     "output_type": "stream",
     "name": "stdout",
     "text": [
      "\n",
      " After self.predict() -->  (68, 1) \n",
      " <class 'numpy.ndarray'> \n",
      "\n",
      "\n",
      "encoded flux shape: (5700, 68)\n",
      "1/1 [==============================] - 1s 1s/step\n"
     ]
    },
    {
     "output_type": "stream",
     "name": "stderr",
     "text": [
      "\r 10%|▉         | 542/5700 [13:17<1:49:07,  1.27s/it]"
     ]
    },
    {
     "output_type": "stream",
     "name": "stdout",
     "text": [
      "\n",
      " After self.predict() -->  (68, 1) \n",
      " <class 'numpy.ndarray'> \n",
      "\n",
      "\n",
      "encoded flux shape: (5700, 68)\n",
      "1/1 [==============================] - 1s 1s/step\n"
     ]
    },
    {
     "output_type": "stream",
     "name": "stderr",
     "text": [
      "\r 10%|▉         | 543/5700 [13:18<1:54:44,  1.34s/it]"
     ]
    },
    {
     "output_type": "stream",
     "name": "stdout",
     "text": [
      "\n",
      " After self.predict() -->  (68, 1) \n",
      " <class 'numpy.ndarray'> \n",
      "\n",
      "\n",
      "encoded flux shape: (5700, 68)\n",
      "1/1 [==============================] - 2s 2s/step\n"
     ]
    },
    {
     "output_type": "stream",
     "name": "stderr",
     "text": [
      "\r 10%|▉         | 544/5700 [13:20<2:02:28,  1.43s/it]"
     ]
    },
    {
     "output_type": "stream",
     "name": "stdout",
     "text": [
      "\n",
      " After self.predict() -->  (68, 1) \n",
      " <class 'numpy.ndarray'> \n",
      "\n",
      "\n",
      "encoded flux shape: (5700, 68)\n",
      "1/1 [==============================] - 2s 2s/step\n"
     ]
    },
    {
     "output_type": "stream",
     "name": "stderr",
     "text": [
      "\r 10%|▉         | 545/5700 [13:21<2:06:39,  1.47s/it]"
     ]
    },
    {
     "output_type": "stream",
     "name": "stdout",
     "text": [
      "\n",
      " After self.predict() -->  (68, 1) \n",
      " <class 'numpy.ndarray'> \n",
      "\n",
      "\n",
      "encoded flux shape: (5700, 68)\n",
      "1/1 [==============================] - 1s 1s/step\n"
     ]
    },
    {
     "output_type": "stream",
     "name": "stderr",
     "text": [
      "\r 10%|▉         | 546/5700 [13:22<1:59:15,  1.39s/it]"
     ]
    },
    {
     "output_type": "stream",
     "name": "stdout",
     "text": [
      "\n",
      " After self.predict() -->  (68, 1) \n",
      " <class 'numpy.ndarray'> \n",
      "\n",
      "\n",
      "encoded flux shape: (5700, 68)\n",
      "1/1 [==============================] - 1s 1s/step\n"
     ]
    },
    {
     "output_type": "stream",
     "name": "stderr",
     "text": [
      "\r 10%|▉         | 547/5700 [13:24<1:54:14,  1.33s/it]"
     ]
    },
    {
     "output_type": "stream",
     "name": "stdout",
     "text": [
      "\n",
      " After self.predict() -->  (68, 1) \n",
      " <class 'numpy.ndarray'> \n",
      "\n",
      "\n",
      "encoded flux shape: (5700, 68)\n",
      "1/1 [==============================] - 1s 1s/step\n"
     ]
    },
    {
     "output_type": "stream",
     "name": "stderr",
     "text": [
      "\r 10%|▉         | 548/5700 [13:25<1:54:44,  1.34s/it]"
     ]
    },
    {
     "output_type": "stream",
     "name": "stdout",
     "text": [
      "\n",
      " After self.predict() -->  (68, 1) \n",
      " <class 'numpy.ndarray'> \n",
      "\n",
      "\n",
      "encoded flux shape: (5700, 68)\n",
      "1/1 [==============================] - 1s 1s/step\n"
     ]
    },
    {
     "output_type": "stream",
     "name": "stderr",
     "text": [
      "\r 10%|▉         | 549/5700 [13:26<1:54:51,  1.34s/it]"
     ]
    },
    {
     "output_type": "stream",
     "name": "stdout",
     "text": [
      "\n",
      " After self.predict() -->  (68, 1) \n",
      " <class 'numpy.ndarray'> \n",
      "\n",
      "\n",
      "encoded flux shape: (5700, 68)\n",
      "1/1 [==============================] - 1s 1s/step\n"
     ]
    },
    {
     "output_type": "stream",
     "name": "stderr",
     "text": [
      "\r 10%|▉         | 550/5700 [13:28<1:50:27,  1.29s/it]"
     ]
    },
    {
     "output_type": "stream",
     "name": "stdout",
     "text": [
      "\n",
      " After self.predict() -->  (68, 1) \n",
      " <class 'numpy.ndarray'> \n",
      "\n",
      "\n",
      "encoded flux shape: (5700, 68)\n",
      "1/1 [==============================] - 1s 1s/step\n"
     ]
    },
    {
     "output_type": "stream",
     "name": "stderr",
     "text": [
      "\r 10%|▉         | 551/5700 [13:29<1:48:10,  1.26s/it]"
     ]
    },
    {
     "output_type": "stream",
     "name": "stdout",
     "text": [
      "\n",
      " After self.predict() -->  (68, 1) \n",
      " <class 'numpy.ndarray'> \n",
      "\n",
      "\n",
      "encoded flux shape: (5700, 68)\n",
      "1/1 [==============================] - 1s 1s/step\n"
     ]
    },
    {
     "output_type": "stream",
     "name": "stderr",
     "text": [
      "\r 10%|▉         | 552/5700 [13:30<1:50:25,  1.29s/it]"
     ]
    },
    {
     "output_type": "stream",
     "name": "stdout",
     "text": [
      "\n",
      " After self.predict() -->  (68, 1) \n",
      " <class 'numpy.ndarray'> \n",
      "\n",
      "\n",
      "encoded flux shape: (5700, 68)\n",
      "1/1 [==============================] - 1s 1s/step\n"
     ]
    },
    {
     "output_type": "stream",
     "name": "stderr",
     "text": [
      "\r 10%|▉         | 553/5700 [13:31<1:51:56,  1.30s/it]"
     ]
    },
    {
     "output_type": "stream",
     "name": "stdout",
     "text": [
      "\n",
      " After self.predict() -->  (68, 1) \n",
      " <class 'numpy.ndarray'> \n",
      "\n",
      "\n",
      "encoded flux shape: (5700, 68)\n",
      "1/1 [==============================] - 2s 2s/step\n"
     ]
    },
    {
     "output_type": "stream",
     "name": "stderr",
     "text": [
      "\r 10%|▉         | 554/5700 [13:33<1:59:46,  1.40s/it]"
     ]
    },
    {
     "output_type": "stream",
     "name": "stdout",
     "text": [
      "\n",
      " After self.predict() -->  (68, 1) \n",
      " <class 'numpy.ndarray'> \n",
      "\n",
      "\n",
      "encoded flux shape: (5700, 68)\n",
      "1/1 [==============================] - 2s 2s/step\n"
     ]
    },
    {
     "output_type": "stream",
     "name": "stderr",
     "text": [
      "\r 10%|▉         | 555/5700 [13:35<2:08:07,  1.49s/it]"
     ]
    },
    {
     "output_type": "stream",
     "name": "stdout",
     "text": [
      "\n",
      " After self.predict() -->  (68, 1) \n",
      " <class 'numpy.ndarray'> \n",
      "\n",
      "\n",
      "encoded flux shape: (5700, 68)\n",
      "1/1 [==============================] - 1s 1s/step\n"
     ]
    },
    {
     "output_type": "stream",
     "name": "stderr",
     "text": [
      "\r 10%|▉         | 556/5700 [13:36<2:04:10,  1.45s/it]"
     ]
    },
    {
     "output_type": "stream",
     "name": "stdout",
     "text": [
      "\n",
      " After self.predict() -->  (68, 1) \n",
      " <class 'numpy.ndarray'> \n",
      "\n",
      "\n",
      "encoded flux shape: (5700, 68)\n",
      "1/1 [==============================] - 1s 1s/step\n"
     ]
    },
    {
     "output_type": "stream",
     "name": "stderr",
     "text": [
      "\r 10%|▉         | 557/5700 [13:37<2:01:46,  1.42s/it]"
     ]
    },
    {
     "output_type": "stream",
     "name": "stdout",
     "text": [
      "\n",
      " After self.predict() -->  (68, 1) \n",
      " <class 'numpy.ndarray'> \n",
      "\n",
      "\n",
      "encoded flux shape: (5700, 68)\n",
      "1/1 [==============================] - 1s 1s/step\n"
     ]
    },
    {
     "output_type": "stream",
     "name": "stderr",
     "text": [
      "\r 10%|▉         | 558/5700 [13:39<1:56:06,  1.35s/it]"
     ]
    },
    {
     "output_type": "stream",
     "name": "stdout",
     "text": [
      "\n",
      " After self.predict() -->  (68, 1) \n",
      " <class 'numpy.ndarray'> \n",
      "\n",
      "\n",
      "encoded flux shape: (5700, 68)\n",
      "1/1 [==============================] - 1s 1s/step\n"
     ]
    },
    {
     "output_type": "stream",
     "name": "stderr",
     "text": [
      "\r 10%|▉         | 559/5700 [13:40<1:51:52,  1.31s/it]"
     ]
    },
    {
     "output_type": "stream",
     "name": "stdout",
     "text": [
      "\n",
      " After self.predict() -->  (68, 1) \n",
      " <class 'numpy.ndarray'> \n",
      "\n",
      "\n",
      "encoded flux shape: (5700, 68)\n",
      "1/1 [==============================] - 1s 1s/step\n"
     ]
    },
    {
     "output_type": "stream",
     "name": "stderr",
     "text": [
      "\r 10%|▉         | 560/5700 [13:41<1:49:07,  1.27s/it]"
     ]
    },
    {
     "output_type": "stream",
     "name": "stdout",
     "text": [
      "\n",
      " After self.predict() -->  (68, 1) \n",
      " <class 'numpy.ndarray'> \n",
      "\n",
      "\n",
      "encoded flux shape: (5700, 68)\n",
      "1/1 [==============================] - 1s 1s/step\n"
     ]
    },
    {
     "output_type": "stream",
     "name": "stderr",
     "text": [
      "\r 10%|▉         | 561/5700 [13:42<1:46:36,  1.24s/it]"
     ]
    },
    {
     "output_type": "stream",
     "name": "stdout",
     "text": [
      "\n",
      " After self.predict() -->  (68, 1) \n",
      " <class 'numpy.ndarray'> \n",
      "\n",
      "\n",
      "encoded flux shape: (5700, 68)\n",
      "1/1 [==============================] - 1s 1s/step\n"
     ]
    },
    {
     "output_type": "stream",
     "name": "stderr",
     "text": [
      "\r 10%|▉         | 562/5700 [13:43<1:45:29,  1.23s/it]"
     ]
    },
    {
     "output_type": "stream",
     "name": "stdout",
     "text": [
      "\n",
      " After self.predict() -->  (68, 1) \n",
      " <class 'numpy.ndarray'> \n",
      "\n",
      "\n",
      "encoded flux shape: (5700, 68)\n",
      "1/1 [==============================] - 1s 1s/step\n"
     ]
    },
    {
     "output_type": "stream",
     "name": "stderr",
     "text": [
      "\r 10%|▉         | 563/5700 [13:45<1:45:05,  1.23s/it]"
     ]
    },
    {
     "output_type": "stream",
     "name": "stdout",
     "text": [
      "\n",
      " After self.predict() -->  (68, 1) \n",
      " <class 'numpy.ndarray'> \n",
      "\n",
      "\n",
      "encoded flux shape: (5700, 68)\n",
      "1/1 [==============================] - 1s 1s/step\n"
     ]
    },
    {
     "output_type": "stream",
     "name": "stderr",
     "text": [
      "\r 10%|▉         | 564/5700 [13:47<2:20:54,  1.65s/it]"
     ]
    },
    {
     "output_type": "stream",
     "name": "stdout",
     "text": [
      "\n",
      " After self.predict() -->  (68, 1) \n",
      " <class 'numpy.ndarray'> \n",
      "\n",
      "\n",
      "encoded flux shape: (5700, 68)\n",
      "1/1 [==============================] - 1s 1s/step\n"
     ]
    },
    {
     "output_type": "stream",
     "name": "stderr",
     "text": [
      "\r 10%|▉         | 565/5700 [13:50<2:46:48,  1.95s/it]"
     ]
    },
    {
     "output_type": "stream",
     "name": "stdout",
     "text": [
      "\n",
      " After self.predict() -->  (68, 1) \n",
      " <class 'numpy.ndarray'> \n",
      "\n",
      "\n",
      "encoded flux shape: (5700, 68)\n",
      "1/1 [==============================] - 1s 1s/step\n"
     ]
    },
    {
     "output_type": "stream",
     "name": "stderr",
     "text": [
      "\r 10%|▉         | 566/5700 [13:51<2:26:46,  1.72s/it]"
     ]
    },
    {
     "output_type": "stream",
     "name": "stdout",
     "text": [
      "\n",
      " After self.predict() -->  (68, 1) \n",
      " <class 'numpy.ndarray'> \n",
      "\n",
      "\n",
      "encoded flux shape: (5700, 68)\n",
      "1/1 [==============================] - 1s 1s/step\n"
     ]
    },
    {
     "output_type": "stream",
     "name": "stderr",
     "text": [
      "\r 10%|▉         | 567/5700 [13:52<2:12:58,  1.55s/it]"
     ]
    },
    {
     "output_type": "stream",
     "name": "stdout",
     "text": [
      "\n",
      " After self.predict() -->  (68, 1) \n",
      " <class 'numpy.ndarray'> \n",
      "\n",
      "\n",
      "encoded flux shape: (5700, 68)\n",
      "1/1 [==============================] - 1s 1s/step\n"
     ]
    },
    {
     "output_type": "stream",
     "name": "stderr",
     "text": [
      "\r 10%|▉         | 568/5700 [13:54<2:07:42,  1.49s/it]"
     ]
    },
    {
     "output_type": "stream",
     "name": "stdout",
     "text": [
      "\n",
      " After self.predict() -->  (68, 1) \n",
      " <class 'numpy.ndarray'> \n",
      "\n",
      "\n",
      "encoded flux shape: (5700, 68)\n",
      "1/1 [==============================] - 1s 1s/step\n"
     ]
    },
    {
     "output_type": "stream",
     "name": "stderr",
     "text": [
      "\r 10%|▉         | 569/5700 [13:55<2:04:11,  1.45s/it]"
     ]
    },
    {
     "output_type": "stream",
     "name": "stdout",
     "text": [
      "\n",
      " After self.predict() -->  (68, 1) \n",
      " <class 'numpy.ndarray'> \n",
      "\n",
      "\n",
      "encoded flux shape: (5700, 68)\n",
      "1/1 [==============================] - 1s 1s/step\n"
     ]
    },
    {
     "output_type": "stream",
     "name": "stderr",
     "text": [
      "\r 10%|█         | 570/5700 [13:56<1:57:16,  1.37s/it]"
     ]
    },
    {
     "output_type": "stream",
     "name": "stdout",
     "text": [
      "\n",
      " After self.predict() -->  (68, 1) \n",
      " <class 'numpy.ndarray'> \n",
      "\n",
      "\n",
      "encoded flux shape: (5700, 68)\n",
      "1/1 [==============================] - 1s 1s/step\n"
     ]
    },
    {
     "output_type": "stream",
     "name": "stderr",
     "text": [
      "\r 10%|█         | 571/5700 [13:57<1:56:34,  1.36s/it]"
     ]
    },
    {
     "output_type": "stream",
     "name": "stdout",
     "text": [
      "\n",
      " After self.predict() -->  (68, 1) \n",
      " <class 'numpy.ndarray'> \n",
      "\n",
      "\n",
      "encoded flux shape: (5700, 68)\n",
      "1/1 [==============================] - 1s 1s/step\n"
     ]
    },
    {
     "output_type": "stream",
     "name": "stderr",
     "text": [
      "\r 10%|█         | 572/5700 [13:59<1:51:32,  1.31s/it]"
     ]
    },
    {
     "output_type": "stream",
     "name": "stdout",
     "text": [
      "\n",
      " After self.predict() -->  (68, 1) \n",
      " <class 'numpy.ndarray'> \n",
      "\n",
      "\n",
      "encoded flux shape: (5700, 68)\n",
      "1/1 [==============================] - 2s 2s/step\n"
     ]
    },
    {
     "output_type": "stream",
     "name": "stderr",
     "text": [
      "\r 10%|█         | 573/5700 [14:00<2:00:14,  1.41s/it]"
     ]
    },
    {
     "output_type": "stream",
     "name": "stdout",
     "text": [
      "\n",
      " After self.predict() -->  (68, 1) \n",
      " <class 'numpy.ndarray'> \n",
      "\n",
      "\n",
      "encoded flux shape: (5700, 68)\n",
      "1/1 [==============================] - 2s 2s/step\n"
     ]
    },
    {
     "output_type": "stream",
     "name": "stderr",
     "text": [
      "\r 10%|█         | 574/5700 [14:02<2:06:37,  1.48s/it]"
     ]
    },
    {
     "output_type": "stream",
     "name": "stdout",
     "text": [
      "\n",
      " After self.predict() -->  (68, 1) \n",
      " <class 'numpy.ndarray'> \n",
      "\n",
      "\n",
      "encoded flux shape: (5700, 68)\n",
      "1/1 [==============================] - 1s 1s/step\n"
     ]
    },
    {
     "output_type": "stream",
     "name": "stderr",
     "text": [
      "\r 10%|█         | 575/5700 [14:03<2:04:57,  1.46s/it]"
     ]
    },
    {
     "output_type": "stream",
     "name": "stdout",
     "text": [
      "\n",
      " After self.predict() -->  (68, 1) \n",
      " <class 'numpy.ndarray'> \n",
      "\n",
      "\n",
      "encoded flux shape: (5700, 68)\n",
      "1/1 [==============================] - 1s 1s/step\n"
     ]
    },
    {
     "output_type": "stream",
     "name": "stderr",
     "text": [
      "\r 10%|█         | 576/5700 [14:05<2:01:49,  1.43s/it]"
     ]
    },
    {
     "output_type": "stream",
     "name": "stdout",
     "text": [
      "\n",
      " After self.predict() -->  (68, 1) \n",
      " <class 'numpy.ndarray'> \n",
      "\n",
      "\n",
      "encoded flux shape: (5700, 68)\n",
      "1/1 [==============================] - 1s 1s/step\n"
     ]
    },
    {
     "output_type": "stream",
     "name": "stderr",
     "text": [
      "\r 10%|█         | 577/5700 [14:06<1:56:03,  1.36s/it]"
     ]
    },
    {
     "output_type": "stream",
     "name": "stdout",
     "text": [
      "\n",
      " After self.predict() -->  (68, 1) \n",
      " <class 'numpy.ndarray'> \n",
      "\n",
      "\n",
      "encoded flux shape: (5700, 68)\n",
      "1/1 [==============================] - 1s 1s/step\n"
     ]
    },
    {
     "output_type": "stream",
     "name": "stderr",
     "text": [
      "\r 10%|█         | 578/5700 [14:07<1:51:29,  1.31s/it]"
     ]
    },
    {
     "output_type": "stream",
     "name": "stdout",
     "text": [
      "\n",
      " After self.predict() -->  (68, 1) \n",
      " <class 'numpy.ndarray'> \n",
      "\n",
      "\n",
      "encoded flux shape: (5700, 68)\n",
      "1/1 [==============================] - 1s 1s/step\n"
     ]
    },
    {
     "output_type": "stream",
     "name": "stderr",
     "text": [
      "\r 10%|█         | 579/5700 [14:08<1:52:23,  1.32s/it]"
     ]
    },
    {
     "output_type": "stream",
     "name": "stdout",
     "text": [
      "\n",
      " After self.predict() -->  (68, 1) \n",
      " <class 'numpy.ndarray'> \n",
      "\n",
      "\n",
      "encoded flux shape: (5700, 68)\n",
      "1/1 [==============================] - 1s 1s/step\n"
     ]
    },
    {
     "output_type": "stream",
     "name": "stderr",
     "text": [
      "\r 10%|█         | 580/5700 [14:10<1:53:17,  1.33s/it]"
     ]
    },
    {
     "output_type": "stream",
     "name": "stdout",
     "text": [
      "\n",
      " After self.predict() -->  (68, 1) \n",
      " <class 'numpy.ndarray'> \n",
      "\n",
      "\n",
      "encoded flux shape: (5700, 68)\n",
      "1/1 [==============================] - 1s 1s/step\n"
     ]
    },
    {
     "output_type": "stream",
     "name": "stderr",
     "text": [
      "\r 10%|█         | 581/5700 [14:11<1:53:50,  1.33s/it]"
     ]
    },
    {
     "output_type": "stream",
     "name": "stdout",
     "text": [
      "\n",
      " After self.predict() -->  (68, 1) \n",
      " <class 'numpy.ndarray'> \n",
      "\n",
      "\n",
      "encoded flux shape: (5700, 68)\n",
      "1/1 [==============================] - 1s 1s/step\n"
     ]
    },
    {
     "output_type": "stream",
     "name": "stderr",
     "text": [
      "\r 10%|█         | 582/5700 [14:12<1:54:09,  1.34s/it]"
     ]
    },
    {
     "output_type": "stream",
     "name": "stdout",
     "text": [
      "\n",
      " After self.predict() -->  (68, 1) \n",
      " <class 'numpy.ndarray'> \n",
      "\n",
      "\n",
      "encoded flux shape: (5700, 68)\n",
      "1/1 [==============================] - 1s 1s/step\n"
     ]
    },
    {
     "output_type": "stream",
     "name": "stderr",
     "text": [
      "\r 10%|█         | 583/5700 [14:15<2:27:09,  1.73s/it]"
     ]
    },
    {
     "output_type": "stream",
     "name": "stdout",
     "text": [
      "\n",
      " After self.predict() -->  (68, 1) \n",
      " <class 'numpy.ndarray'> \n",
      "\n",
      "\n",
      "encoded flux shape: (5700, 68)\n",
      "1/1 [==============================] - 1s 1s/step\n"
     ]
    },
    {
     "output_type": "stream",
     "name": "stderr",
     "text": [
      "\r 10%|█         | 584/5700 [14:17<2:21:11,  1.66s/it]"
     ]
    },
    {
     "output_type": "stream",
     "name": "stdout",
     "text": [
      "\n",
      " After self.predict() -->  (68, 1) \n",
      " <class 'numpy.ndarray'> \n",
      "\n",
      "\n",
      "encoded flux shape: (5700, 68)\n",
      "1/1 [==============================] - 1s 1s/step\n"
     ]
    },
    {
     "output_type": "stream",
     "name": "stderr",
     "text": [
      "\r 10%|█         | 585/5700 [14:18<2:09:06,  1.51s/it]"
     ]
    },
    {
     "output_type": "stream",
     "name": "stdout",
     "text": [
      "\n",
      " After self.predict() -->  (68, 1) \n",
      " <class 'numpy.ndarray'> \n",
      "\n",
      "\n",
      "encoded flux shape: (5700, 68)\n",
      "1/1 [==============================] - 1s 1s/step\n"
     ]
    },
    {
     "output_type": "stream",
     "name": "stderr",
     "text": [
      "\r 10%|█         | 586/5700 [14:19<2:00:44,  1.42s/it]"
     ]
    },
    {
     "output_type": "stream",
     "name": "stdout",
     "text": [
      "\n",
      " After self.predict() -->  (68, 1) \n",
      " <class 'numpy.ndarray'> \n",
      "\n",
      "\n",
      "encoded flux shape: (5700, 68)\n",
      "1/1 [==============================] - 1s 1s/step\n"
     ]
    },
    {
     "output_type": "stream",
     "name": "stderr",
     "text": [
      "\r 10%|█         | 587/5700 [14:20<1:55:11,  1.35s/it]"
     ]
    },
    {
     "output_type": "stream",
     "name": "stdout",
     "text": [
      "\n",
      " After self.predict() -->  (68, 1) \n",
      " <class 'numpy.ndarray'> \n",
      "\n",
      "\n",
      "encoded flux shape: (5700, 68)\n",
      "1/1 [==============================] - 1s 1s/step\n"
     ]
    },
    {
     "output_type": "stream",
     "name": "stderr",
     "text": [
      "\r 10%|█         | 588/5700 [14:22<1:54:53,  1.35s/it]"
     ]
    },
    {
     "output_type": "stream",
     "name": "stdout",
     "text": [
      "\n",
      " After self.predict() -->  (68, 1) \n",
      " <class 'numpy.ndarray'> \n",
      "\n",
      "\n",
      "encoded flux shape: (5700, 68)\n",
      "1/1 [==============================] - 1s 1s/step\n"
     ]
    },
    {
     "output_type": "stream",
     "name": "stderr",
     "text": [
      "\r 10%|█         | 589/5700 [14:23<1:49:58,  1.29s/it]"
     ]
    },
    {
     "output_type": "stream",
     "name": "stdout",
     "text": [
      "\n",
      " After self.predict() -->  (68, 1) \n",
      " <class 'numpy.ndarray'> \n",
      "\n",
      "\n",
      "encoded flux shape: (5700, 68)\n",
      "1/1 [==============================] - 1s 1s/step\n"
     ]
    },
    {
     "output_type": "stream",
     "name": "stderr",
     "text": [
      "\r 10%|█         | 590/5700 [14:24<1:51:13,  1.31s/it]"
     ]
    },
    {
     "output_type": "stream",
     "name": "stdout",
     "text": [
      "\n",
      " After self.predict() -->  (68, 1) \n",
      " <class 'numpy.ndarray'> \n",
      "\n",
      "\n",
      "encoded flux shape: (5700, 68)\n",
      "1/1 [==============================] - 1s 1s/step\n"
     ]
    },
    {
     "output_type": "stream",
     "name": "stderr",
     "text": [
      "\r 10%|█         | 591/5700 [14:25<1:48:03,  1.27s/it]"
     ]
    },
    {
     "output_type": "stream",
     "name": "stdout",
     "text": [
      "\n",
      " After self.predict() -->  (68, 1) \n",
      " <class 'numpy.ndarray'> \n",
      "\n",
      "\n",
      "encoded flux shape: (5700, 68)\n",
      "1/1 [==============================] - 1s 1s/step\n"
     ]
    },
    {
     "output_type": "stream",
     "name": "stderr",
     "text": [
      "\r 10%|█         | 592/5700 [14:27<1:48:46,  1.28s/it]"
     ]
    },
    {
     "output_type": "stream",
     "name": "stdout",
     "text": [
      "\n",
      " After self.predict() -->  (68, 1) \n",
      " <class 'numpy.ndarray'> \n",
      "\n",
      "\n",
      "encoded flux shape: (5700, 68)\n",
      "1/1 [==============================] - 2s 2s/step\n"
     ]
    },
    {
     "output_type": "stream",
     "name": "stderr",
     "text": [
      "\r 10%|█         | 593/5700 [14:28<1:57:25,  1.38s/it]"
     ]
    },
    {
     "output_type": "stream",
     "name": "stdout",
     "text": [
      "\n",
      " After self.predict() -->  (68, 1) \n",
      " <class 'numpy.ndarray'> \n",
      "\n",
      "\n",
      "encoded flux shape: (5700, 68)\n",
      "1/1 [==============================] - 2s 2s/step\n"
     ]
    },
    {
     "output_type": "stream",
     "name": "stderr",
     "text": [
      "\r 10%|█         | 594/5700 [14:30<2:04:11,  1.46s/it]"
     ]
    },
    {
     "output_type": "stream",
     "name": "stdout",
     "text": [
      "\n",
      " After self.predict() -->  (68, 1) \n",
      " <class 'numpy.ndarray'> \n",
      "\n",
      "\n",
      "encoded flux shape: (5700, 68)\n",
      "1/1 [==============================] - 1s 1s/step\n"
     ]
    },
    {
     "output_type": "stream",
     "name": "stderr",
     "text": [
      "\r 10%|█         | 595/5700 [14:31<2:02:13,  1.44s/it]"
     ]
    },
    {
     "output_type": "stream",
     "name": "stdout",
     "text": [
      "\n",
      " After self.predict() -->  (68, 1) \n",
      " <class 'numpy.ndarray'> \n",
      "\n",
      "\n",
      "encoded flux shape: (5700, 68)\n",
      "1/1 [==============================] - 1s 1s/step\n"
     ]
    },
    {
     "output_type": "stream",
     "name": "stderr",
     "text": [
      "\r 10%|█         | 596/5700 [14:33<1:59:43,  1.41s/it]"
     ]
    },
    {
     "output_type": "stream",
     "name": "stdout",
     "text": [
      "\n",
      " After self.predict() -->  (68, 1) \n",
      " <class 'numpy.ndarray'> \n",
      "\n",
      "\n",
      "encoded flux shape: (5700, 68)\n",
      "1/1 [==============================] - 1s 1s/step\n"
     ]
    },
    {
     "output_type": "stream",
     "name": "stderr",
     "text": [
      "\r 10%|█         | 597/5700 [14:34<1:58:14,  1.39s/it]"
     ]
    },
    {
     "output_type": "stream",
     "name": "stdout",
     "text": [
      "\n",
      " After self.predict() -->  (68, 1) \n",
      " <class 'numpy.ndarray'> \n",
      "\n",
      "\n",
      "encoded flux shape: (5700, 68)\n",
      "1/1 [==============================] - 1s 1s/step\n"
     ]
    },
    {
     "output_type": "stream",
     "name": "stderr",
     "text": [
      "\r 10%|█         | 598/5700 [14:35<1:57:16,  1.38s/it]"
     ]
    },
    {
     "output_type": "stream",
     "name": "stdout",
     "text": [
      "\n",
      " After self.predict() -->  (68, 1) \n",
      " <class 'numpy.ndarray'> \n",
      "\n",
      "\n",
      "encoded flux shape: (5700, 68)\n",
      "1/1 [==============================] - 1s 1s/step\n"
     ]
    },
    {
     "output_type": "stream",
     "name": "stderr",
     "text": [
      "\r 11%|█         | 599/5700 [14:36<1:52:54,  1.33s/it]"
     ]
    },
    {
     "output_type": "stream",
     "name": "stdout",
     "text": [
      "\n",
      " After self.predict() -->  (68, 1) \n",
      " <class 'numpy.ndarray'> \n",
      "\n",
      "\n",
      "encoded flux shape: (5700, 68)\n",
      "1/1 [==============================] - 1s 1s/step\n"
     ]
    },
    {
     "output_type": "stream",
     "name": "stderr",
     "text": [
      "\r 11%|█         | 600/5700 [14:38<1:53:15,  1.33s/it]"
     ]
    },
    {
     "output_type": "stream",
     "name": "stdout",
     "text": [
      "\n",
      " After self.predict() -->  (68, 1) \n",
      " <class 'numpy.ndarray'> \n",
      "\n",
      "\n",
      "encoded flux shape: (5700, 68)\n",
      "1/1 [==============================] - 1s 1s/step\n"
     ]
    },
    {
     "output_type": "stream",
     "name": "stderr",
     "text": [
      "\r 11%|█         | 601/5700 [14:39<1:53:47,  1.34s/it]"
     ]
    },
    {
     "output_type": "stream",
     "name": "stdout",
     "text": [
      "\n",
      " After self.predict() -->  (68, 1) \n",
      " <class 'numpy.ndarray'> \n",
      "\n",
      "\n",
      "encoded flux shape: (5700, 68)\n",
      "1/1 [==============================] - 1s 1s/step\n"
     ]
    },
    {
     "output_type": "stream",
     "name": "stderr",
     "text": [
      "\r 11%|█         | 602/5700 [14:40<1:53:55,  1.34s/it]"
     ]
    },
    {
     "output_type": "stream",
     "name": "stdout",
     "text": [
      "\n",
      " After self.predict() -->  (68, 1) \n",
      " <class 'numpy.ndarray'> \n",
      "\n",
      "\n",
      "encoded flux shape: (5700, 68)\n",
      "1/1 [==============================] - 2s 2s/step\n"
     ]
    },
    {
     "output_type": "stream",
     "name": "stderr",
     "text": [
      "\r 11%|█         | 603/5700 [14:43<2:27:34,  1.74s/it]"
     ]
    },
    {
     "output_type": "stream",
     "name": "stdout",
     "text": [
      "\n",
      " After self.predict() -->  (68, 1) \n",
      " <class 'numpy.ndarray'> \n",
      "\n",
      "\n",
      "encoded flux shape: (5700, 68)\n",
      "1/1 [==============================] - 1s 1s/step\n"
     ]
    },
    {
     "output_type": "stream",
     "name": "stderr",
     "text": [
      "\r 11%|█         | 604/5700 [14:45<2:18:32,  1.63s/it]"
     ]
    },
    {
     "output_type": "stream",
     "name": "stdout",
     "text": [
      "\n",
      " After self.predict() -->  (68, 1) \n",
      " <class 'numpy.ndarray'> \n",
      "\n",
      "\n",
      "encoded flux shape: (5700, 68)\n",
      "1/1 [==============================] - 1s 1s/step\n"
     ]
    },
    {
     "output_type": "stream",
     "name": "stderr",
     "text": [
      "\r 11%|█         | 605/5700 [14:46<2:11:20,  1.55s/it]"
     ]
    },
    {
     "output_type": "stream",
     "name": "stdout",
     "text": [
      "\n",
      " After self.predict() -->  (68, 1) \n",
      " <class 'numpy.ndarray'> \n",
      "\n",
      "\n",
      "encoded flux shape: (5700, 68)\n",
      "1/1 [==============================] - 1s 1s/step\n"
     ]
    },
    {
     "output_type": "stream",
     "name": "stderr",
     "text": [
      "\r 11%|█         | 606/5700 [14:47<2:02:10,  1.44s/it]"
     ]
    },
    {
     "output_type": "stream",
     "name": "stdout",
     "text": [
      "\n",
      " After self.predict() -->  (68, 1) \n",
      " <class 'numpy.ndarray'> \n",
      "\n",
      "\n",
      "encoded flux shape: (5700, 68)\n",
      "1/1 [==============================] - 1s 1s/step\n"
     ]
    },
    {
     "output_type": "stream",
     "name": "stderr",
     "text": [
      "\r 11%|█         | 607/5700 [14:48<1:55:57,  1.37s/it]"
     ]
    },
    {
     "output_type": "stream",
     "name": "stdout",
     "text": [
      "\n",
      " After self.predict() -->  (68, 1) \n",
      " <class 'numpy.ndarray'> \n",
      "\n",
      "\n",
      "encoded flux shape: (5700, 68)\n",
      "1/1 [==============================] - 1s 1s/step\n"
     ]
    },
    {
     "output_type": "stream",
     "name": "stderr",
     "text": [
      "\r 11%|█         | 608/5700 [14:50<1:55:19,  1.36s/it]"
     ]
    },
    {
     "output_type": "stream",
     "name": "stdout",
     "text": [
      "\n",
      " After self.predict() -->  (68, 1) \n",
      " <class 'numpy.ndarray'> \n",
      "\n",
      "\n",
      "encoded flux shape: (5700, 68)\n",
      "1/1 [==============================] - 1s 1s/step\n"
     ]
    },
    {
     "output_type": "stream",
     "name": "stderr",
     "text": [
      "\r 11%|█         | 609/5700 [14:51<1:55:00,  1.36s/it]"
     ]
    },
    {
     "output_type": "stream",
     "name": "stdout",
     "text": [
      "\n",
      " After self.predict() -->  (68, 1) \n",
      " <class 'numpy.ndarray'> \n",
      "\n",
      "\n",
      "encoded flux shape: (5700, 68)\n",
      "1/1 [==============================] - 1s 1s/step\n"
     ]
    },
    {
     "output_type": "stream",
     "name": "stderr",
     "text": [
      "\r 11%|█         | 610/5700 [14:52<1:50:25,  1.30s/it]"
     ]
    },
    {
     "output_type": "stream",
     "name": "stdout",
     "text": [
      "\n",
      " After self.predict() -->  (68, 1) \n",
      " <class 'numpy.ndarray'> \n",
      "\n",
      "\n",
      "encoded flux shape: (5700, 68)\n",
      "1/1 [==============================] - 1s 1s/step\n"
     ]
    },
    {
     "output_type": "stream",
     "name": "stderr",
     "text": [
      "\r 11%|█         | 611/5700 [14:53<1:51:30,  1.31s/it]"
     ]
    },
    {
     "output_type": "stream",
     "name": "stdout",
     "text": [
      "\n",
      " After self.predict() -->  (68, 1) \n",
      " <class 'numpy.ndarray'> \n",
      "\n",
      "\n",
      "encoded flux shape: (5700, 68)\n",
      "1/1 [==============================] - 1s 1s/step\n"
     ]
    },
    {
     "output_type": "stream",
     "name": "stderr",
     "text": [
      "\r 11%|█         | 612/5700 [14:56<2:24:56,  1.71s/it]"
     ]
    },
    {
     "output_type": "stream",
     "name": "stdout",
     "text": [
      "\n",
      " After self.predict() -->  (68, 1) \n",
      " <class 'numpy.ndarray'> \n",
      "\n",
      "\n",
      "encoded flux shape: (5700, 68)\n",
      "1/1 [==============================] - 1s 1s/step\n"
     ]
    },
    {
     "output_type": "stream",
     "name": "stderr",
     "text": [
      "\r 11%|█         | 613/5700 [14:58<2:20:20,  1.66s/it]"
     ]
    },
    {
     "output_type": "stream",
     "name": "stdout",
     "text": [
      "\n",
      " After self.predict() -->  (68, 1) \n",
      " <class 'numpy.ndarray'> \n",
      "\n",
      "\n",
      "encoded flux shape: (5700, 68)\n",
      "1/1 [==============================] - 1s 1s/step\n"
     ]
    },
    {
     "output_type": "stream",
     "name": "stderr",
     "text": [
      "\r 11%|█         | 614/5700 [14:59<2:07:59,  1.51s/it]"
     ]
    },
    {
     "output_type": "stream",
     "name": "stdout",
     "text": [
      "\n",
      " After self.predict() -->  (68, 1) \n",
      " <class 'numpy.ndarray'> \n",
      "\n",
      "\n",
      "encoded flux shape: (5700, 68)\n",
      "1/1 [==============================] - 1s 1s/step\n"
     ]
    },
    {
     "output_type": "stream",
     "name": "stderr",
     "text": [
      "\r 11%|█         | 615/5700 [15:00<2:03:49,  1.46s/it]"
     ]
    },
    {
     "output_type": "stream",
     "name": "stdout",
     "text": [
      "\n",
      " After self.predict() -->  (68, 1) \n",
      " <class 'numpy.ndarray'> \n",
      "\n",
      "\n",
      "encoded flux shape: (5700, 68)\n",
      "1/1 [==============================] - 1s 1s/step\n"
     ]
    },
    {
     "output_type": "stream",
     "name": "stderr",
     "text": [
      "\r 11%|█         | 616/5700 [15:01<1:56:25,  1.37s/it]"
     ]
    },
    {
     "output_type": "stream",
     "name": "stdout",
     "text": [
      "\n",
      " After self.predict() -->  (68, 1) \n",
      " <class 'numpy.ndarray'> \n",
      "\n",
      "\n",
      "encoded flux shape: (5700, 68)\n",
      "1/1 [==============================] - 1s 1s/step\n"
     ]
    },
    {
     "output_type": "stream",
     "name": "stderr",
     "text": [
      "\r 11%|█         | 617/5700 [15:03<1:55:42,  1.37s/it]"
     ]
    },
    {
     "output_type": "stream",
     "name": "stdout",
     "text": [
      "\n",
      " After self.predict() -->  (68, 1) \n",
      " <class 'numpy.ndarray'> \n",
      "\n",
      "\n",
      "encoded flux shape: (5700, 68)\n",
      "1/1 [==============================] - 1s 1s/step\n"
     ]
    },
    {
     "output_type": "stream",
     "name": "stderr",
     "text": [
      "\r 11%|█         | 618/5700 [15:04<1:55:15,  1.36s/it]"
     ]
    },
    {
     "output_type": "stream",
     "name": "stdout",
     "text": [
      "\n",
      " After self.predict() -->  (68, 1) \n",
      " <class 'numpy.ndarray'> \n",
      "\n",
      "\n",
      "encoded flux shape: (5700, 68)\n",
      "1/1 [==============================] - 1s 1s/step\n"
     ]
    },
    {
     "output_type": "stream",
     "name": "stderr",
     "text": [
      "\r 11%|█         | 619/5700 [15:05<1:54:58,  1.36s/it]"
     ]
    },
    {
     "output_type": "stream",
     "name": "stdout",
     "text": [
      "\n",
      " After self.predict() -->  (68, 1) \n",
      " <class 'numpy.ndarray'> \n",
      "\n",
      "\n",
      "encoded flux shape: (5700, 68)\n",
      "1/1 [==============================] - 1s 1s/step\n"
     ]
    },
    {
     "output_type": "stream",
     "name": "stderr",
     "text": [
      "\r 11%|█         | 620/5700 [15:07<1:50:57,  1.31s/it]"
     ]
    },
    {
     "output_type": "stream",
     "name": "stdout",
     "text": [
      "\n",
      " After self.predict() -->  (68, 1) \n",
      " <class 'numpy.ndarray'> \n",
      "\n",
      "\n",
      "encoded flux shape: (5700, 68)\n",
      "1/1 [==============================] - 1s 1s/step\n"
     ]
    },
    {
     "output_type": "stream",
     "name": "stderr",
     "text": [
      "\r 11%|█         | 621/5700 [15:09<2:24:34,  1.71s/it]"
     ]
    },
    {
     "output_type": "stream",
     "name": "stdout",
     "text": [
      "\n",
      " After self.predict() -->  (68, 1) \n",
      " <class 'numpy.ndarray'> \n",
      "\n",
      "\n",
      "encoded flux shape: (5700, 68)\n",
      "1/1 [==============================] - 2s 2s/step\n"
     ]
    },
    {
     "output_type": "stream",
     "name": "stderr",
     "text": [
      "\r 11%|█         | 622/5700 [15:12<2:48:56,  2.00s/it]"
     ]
    },
    {
     "output_type": "stream",
     "name": "stdout",
     "text": [
      "\n",
      " After self.predict() -->  (68, 1) \n",
      " <class 'numpy.ndarray'> \n",
      "\n",
      "\n",
      "encoded flux shape: (5700, 68)\n",
      "1/1 [==============================] - 1s 1s/step\n"
     ]
    },
    {
     "output_type": "stream",
     "name": "stderr",
     "text": [
      "\r 11%|█         | 623/5700 [15:13<2:32:35,  1.80s/it]"
     ]
    },
    {
     "output_type": "stream",
     "name": "stdout",
     "text": [
      "\n",
      " After self.predict() -->  (68, 1) \n",
      " <class 'numpy.ndarray'> \n",
      "\n",
      "\n",
      "encoded flux shape: (5700, 68)\n",
      "1/1 [==============================] - 1s 1s/step\n"
     ]
    },
    {
     "output_type": "stream",
     "name": "stderr",
     "text": [
      "\r 11%|█         | 624/5700 [15:14<2:18:52,  1.64s/it]"
     ]
    },
    {
     "output_type": "stream",
     "name": "stdout",
     "text": [
      "\n",
      " After self.predict() -->  (68, 1) \n",
      " <class 'numpy.ndarray'> \n",
      "\n",
      "\n",
      "encoded flux shape: (5700, 68)\n",
      "1/1 [==============================] - 1s 1s/step\n"
     ]
    },
    {
     "output_type": "stream",
     "name": "stderr",
     "text": [
      "\r 11%|█         | 625/5700 [15:16<2:11:44,  1.56s/it]"
     ]
    },
    {
     "output_type": "stream",
     "name": "stdout",
     "text": [
      "\n",
      " After self.predict() -->  (68, 1) \n",
      " <class 'numpy.ndarray'> \n",
      "\n",
      "\n",
      "encoded flux shape: (5700, 68)\n",
      "1/1 [==============================] - 1s 1s/step\n"
     ]
    },
    {
     "output_type": "stream",
     "name": "stderr",
     "text": [
      "\r 11%|█         | 626/5700 [15:17<2:04:30,  1.47s/it]"
     ]
    },
    {
     "output_type": "stream",
     "name": "stdout",
     "text": [
      "\n",
      " After self.predict() -->  (68, 1) \n",
      " <class 'numpy.ndarray'> \n",
      "\n",
      "\n",
      "encoded flux shape: (5700, 68)\n",
      "1/1 [==============================] - 1s 1s/step\n"
     ]
    },
    {
     "output_type": "stream",
     "name": "stderr",
     "text": [
      "\r 11%|█         | 627/5700 [15:18<2:01:22,  1.44s/it]"
     ]
    },
    {
     "output_type": "stream",
     "name": "stdout",
     "text": [
      "\n",
      " After self.predict() -->  (68, 1) \n",
      " <class 'numpy.ndarray'> \n",
      "\n",
      "\n",
      "encoded flux shape: (5700, 68)\n",
      "1/1 [==============================] - 1s 1s/step\n"
     ]
    },
    {
     "output_type": "stream",
     "name": "stderr",
     "text": [
      "\r 11%|█         | 628/5700 [15:20<1:58:58,  1.41s/it]"
     ]
    },
    {
     "output_type": "stream",
     "name": "stdout",
     "text": [
      "\n",
      " After self.predict() -->  (68, 1) \n",
      " <class 'numpy.ndarray'> \n",
      "\n",
      "\n",
      "encoded flux shape: (5700, 68)\n",
      "1/1 [==============================] - 1s 1s/step\n"
     ]
    },
    {
     "output_type": "stream",
     "name": "stderr",
     "text": [
      "\r 11%|█         | 629/5700 [15:22<2:30:08,  1.78s/it]"
     ]
    },
    {
     "output_type": "stream",
     "name": "stdout",
     "text": [
      "\n",
      " After self.predict() -->  (68, 1) \n",
      " <class 'numpy.ndarray'> \n",
      "\n",
      "\n",
      "encoded flux shape: (5700, 68)\n",
      "1/1 [==============================] - 2s 2s/step\n"
     ]
    },
    {
     "output_type": "stream",
     "name": "stderr",
     "text": [
      "\r 11%|█         | 630/5700 [15:25<2:53:02,  2.05s/it]"
     ]
    },
    {
     "output_type": "stream",
     "name": "stdout",
     "text": [
      "\n",
      " After self.predict() -->  (68, 1) \n",
      " <class 'numpy.ndarray'> \n",
      "\n",
      "\n",
      "encoded flux shape: (5700, 68)\n",
      "1/1 [==============================] - 1s 1s/step\n"
     ]
    },
    {
     "output_type": "stream",
     "name": "stderr",
     "text": [
      "\r 11%|█         | 631/5700 [15:26<2:34:42,  1.83s/it]"
     ]
    },
    {
     "output_type": "stream",
     "name": "stdout",
     "text": [
      "\n",
      " After self.predict() -->  (68, 1) \n",
      " <class 'numpy.ndarray'> \n",
      "\n",
      "\n",
      "encoded flux shape: (5700, 68)\n",
      "1/1 [==============================] - 1s 1s/step\n"
     ]
    },
    {
     "output_type": "stream",
     "name": "stderr",
     "text": [
      "\r 11%|█         | 632/5700 [15:28<2:21:23,  1.67s/it]"
     ]
    },
    {
     "output_type": "stream",
     "name": "stdout",
     "text": [
      "\n",
      " After self.predict() -->  (68, 1) \n",
      " <class 'numpy.ndarray'> \n",
      "\n",
      "\n",
      "encoded flux shape: (5700, 68)\n",
      "1/1 [==============================] - 1s 1s/step\n"
     ]
    },
    {
     "output_type": "stream",
     "name": "stderr",
     "text": [
      "\r 11%|█         | 633/5700 [15:29<2:10:21,  1.54s/it]"
     ]
    },
    {
     "output_type": "stream",
     "name": "stdout",
     "text": [
      "\n",
      " After self.predict() -->  (68, 1) \n",
      " <class 'numpy.ndarray'> \n",
      "\n",
      "\n",
      "encoded flux shape: (5700, 68)\n",
      "1/1 [==============================] - 1s 1s/step\n"
     ]
    },
    {
     "output_type": "stream",
     "name": "stderr",
     "text": [
      "\r 11%|█         | 634/5700 [15:30<2:02:59,  1.46s/it]"
     ]
    },
    {
     "output_type": "stream",
     "name": "stdout",
     "text": [
      "\n",
      " After self.predict() -->  (68, 1) \n",
      " <class 'numpy.ndarray'> \n",
      "\n",
      "\n",
      "encoded flux shape: (5700, 68)\n",
      "1/1 [==============================] - 1s 1s/step\n"
     ]
    },
    {
     "output_type": "stream",
     "name": "stderr",
     "text": [
      "\r 11%|█         | 635/5700 [15:32<2:00:24,  1.43s/it]"
     ]
    },
    {
     "output_type": "stream",
     "name": "stdout",
     "text": [
      "\n",
      " After self.predict() -->  (68, 1) \n",
      " <class 'numpy.ndarray'> \n",
      "\n",
      "\n",
      "encoded flux shape: (5700, 68)\n",
      "1/1 [==============================] - 1s 1s/step\n"
     ]
    },
    {
     "output_type": "stream",
     "name": "stderr",
     "text": [
      "\r 11%|█         | 636/5700 [15:33<1:58:27,  1.40s/it]"
     ]
    },
    {
     "output_type": "stream",
     "name": "stdout",
     "text": [
      "\n",
      " After self.predict() -->  (68, 1) \n",
      " <class 'numpy.ndarray'> \n",
      "\n",
      "\n",
      "encoded flux shape: (5700, 68)\n",
      "1/1 [==============================] - 1s 1s/step\n"
     ]
    },
    {
     "output_type": "stream",
     "name": "stderr",
     "text": [
      "\r 11%|█         | 637/5700 [15:34<1:54:45,  1.36s/it]"
     ]
    },
    {
     "output_type": "stream",
     "name": "stdout",
     "text": [
      "\n",
      " After self.predict() -->  (68, 1) \n",
      " <class 'numpy.ndarray'> \n",
      "\n",
      "\n",
      "encoded flux shape: (5700, 68)\n",
      "1/1 [==============================] - 2s 2s/step\n"
     ]
    },
    {
     "output_type": "stream",
     "name": "stderr",
     "text": [
      "\r 11%|█         | 638/5700 [15:37<2:27:40,  1.75s/it]"
     ]
    },
    {
     "output_type": "stream",
     "name": "stdout",
     "text": [
      "\n",
      " After self.predict() -->  (68, 1) \n",
      " <class 'numpy.ndarray'> \n",
      "\n",
      "\n",
      "encoded flux shape: (5700, 68)\n",
      "1/1 [==============================] - 1s 1s/step\n"
     ]
    },
    {
     "output_type": "stream",
     "name": "stderr",
     "text": [
      "\r 11%|█         | 639/5700 [15:40<2:50:57,  2.03s/it]"
     ]
    },
    {
     "output_type": "stream",
     "name": "stdout",
     "text": [
      "\n",
      " After self.predict() -->  (68, 1) \n",
      " <class 'numpy.ndarray'> \n",
      "\n",
      "\n",
      "encoded flux shape: (5700, 68)\n",
      "1/1 [==============================] - 1s 1s/step\n"
     ]
    },
    {
     "output_type": "stream",
     "name": "stderr",
     "text": [
      "\r 11%|█         | 640/5700 [15:41<2:32:22,  1.81s/it]"
     ]
    },
    {
     "output_type": "stream",
     "name": "stdout",
     "text": [
      "\n",
      " After self.predict() -->  (68, 1) \n",
      " <class 'numpy.ndarray'> \n",
      "\n",
      "\n",
      "encoded flux shape: (5700, 68)\n",
      "1/1 [==============================] - 1s 1s/step\n"
     ]
    },
    {
     "output_type": "stream",
     "name": "stderr",
     "text": [
      "\r 11%|█         | 641/5700 [15:42<2:21:26,  1.68s/it]"
     ]
    },
    {
     "output_type": "stream",
     "name": "stdout",
     "text": [
      "\n",
      " After self.predict() -->  (68, 1) \n",
      " <class 'numpy.ndarray'> \n",
      "\n",
      "\n",
      "encoded flux shape: (5700, 68)\n",
      "1/1 [==============================] - 1s 1s/step\n"
     ]
    },
    {
     "output_type": "stream",
     "name": "stderr",
     "text": [
      "\r 11%|█▏        | 642/5700 [15:45<2:45:35,  1.96s/it]"
     ]
    },
    {
     "output_type": "stream",
     "name": "stdout",
     "text": [
      "\n",
      " After self.predict() -->  (68, 1) \n",
      " <class 'numpy.ndarray'> \n",
      "\n",
      "\n",
      "encoded flux shape: (5700, 68)\n",
      "1/1 [==============================] - 1s 1s/step\n"
     ]
    },
    {
     "output_type": "stream",
     "name": "stderr",
     "text": [
      "\r 11%|█▏        | 643/5700 [15:46<2:31:32,  1.80s/it]"
     ]
    },
    {
     "output_type": "stream",
     "name": "stdout",
     "text": [
      "\n",
      " After self.predict() -->  (68, 1) \n",
      " <class 'numpy.ndarray'> \n",
      "\n",
      "\n",
      "encoded flux shape: (5700, 68)\n",
      "1/1 [==============================] - 1s 1s/step\n"
     ]
    },
    {
     "output_type": "stream",
     "name": "stderr",
     "text": [
      "\r 11%|█▏        | 644/5700 [15:48<2:20:19,  1.67s/it]"
     ]
    },
    {
     "output_type": "stream",
     "name": "stdout",
     "text": [
      "\n",
      " After self.predict() -->  (68, 1) \n",
      " <class 'numpy.ndarray'> \n",
      "\n",
      "\n",
      "encoded flux shape: (5700, 68)\n",
      "1/1 [==============================] - 2s 2s/step\n"
     ]
    },
    {
     "output_type": "stream",
     "name": "stderr",
     "text": [
      "\r 11%|█▏        | 645/5700 [15:50<2:45:12,  1.96s/it]"
     ]
    },
    {
     "output_type": "stream",
     "name": "stdout",
     "text": [
      "\n",
      " After self.predict() -->  (68, 1) \n",
      " <class 'numpy.ndarray'> \n",
      "\n",
      "\n",
      "encoded flux shape: (5700, 68)\n",
      "1/1 [==============================] - 2s 2s/step\n"
     ]
    },
    {
     "output_type": "stream",
     "name": "stderr",
     "text": [
      "\r 11%|█▏        | 646/5700 [15:52<2:37:28,  1.87s/it]"
     ]
    },
    {
     "output_type": "stream",
     "name": "stdout",
     "text": [
      "\n",
      " After self.predict() -->  (68, 1) \n",
      " <class 'numpy.ndarray'> \n",
      "\n",
      "\n",
      "encoded flux shape: (5700, 68)\n",
      "1/1 [==============================] - 1s 1s/step\n"
     ]
    },
    {
     "output_type": "stream",
     "name": "stderr",
     "text": [
      "\r 11%|█▏        | 647/5700 [15:53<2:24:24,  1.71s/it]"
     ]
    },
    {
     "output_type": "stream",
     "name": "stdout",
     "text": [
      "\n",
      " After self.predict() -->  (68, 1) \n",
      " <class 'numpy.ndarray'> \n",
      "\n",
      "\n",
      "encoded flux shape: (5700, 68)\n",
      "1/1 [==============================] - 1s 1s/step\n"
     ]
    },
    {
     "output_type": "stream",
     "name": "stderr",
     "text": [
      "\r 11%|█▏        | 648/5700 [15:54<2:12:14,  1.57s/it]"
     ]
    },
    {
     "output_type": "stream",
     "name": "stdout",
     "text": [
      "\n",
      " After self.predict() -->  (68, 1) \n",
      " <class 'numpy.ndarray'> \n",
      "\n",
      "\n",
      "encoded flux shape: (5700, 68)\n",
      "1/1 [==============================] - 1s 1s/step\n"
     ]
    },
    {
     "output_type": "stream",
     "name": "stderr",
     "text": [
      "\r 11%|█▏        | 649/5700 [15:56<2:06:36,  1.50s/it]"
     ]
    },
    {
     "output_type": "stream",
     "name": "stdout",
     "text": [
      "\n",
      " After self.predict() -->  (68, 1) \n",
      " <class 'numpy.ndarray'> \n",
      "\n",
      "\n",
      "encoded flux shape: (5700, 68)\n",
      "1/1 [==============================] - 1s 1s/step\n"
     ]
    },
    {
     "output_type": "stream",
     "name": "stderr",
     "text": [
      "\r 11%|█▏        | 650/5700 [15:57<2:02:28,  1.46s/it]"
     ]
    },
    {
     "output_type": "stream",
     "name": "stdout",
     "text": [
      "\n",
      " After self.predict() -->  (68, 1) \n",
      " <class 'numpy.ndarray'> \n",
      "\n",
      "\n",
      "encoded flux shape: (5700, 68)\n",
      "1/1 [==============================] - 1s 1s/step\n"
     ]
    },
    {
     "output_type": "stream",
     "name": "stderr",
     "text": [
      "\r 11%|█▏        | 651/5700 [15:58<1:56:39,  1.39s/it]"
     ]
    },
    {
     "output_type": "stream",
     "name": "stdout",
     "text": [
      "\n",
      " After self.predict() -->  (68, 1) \n",
      " <class 'numpy.ndarray'> \n",
      "\n",
      "\n",
      "encoded flux shape: (5700, 68)\n",
      "1/1 [==============================] - 1s 1s/step\n"
     ]
    },
    {
     "output_type": "stream",
     "name": "stderr",
     "text": [
      "\r 11%|█▏        | 652/5700 [16:00<1:52:43,  1.34s/it]"
     ]
    },
    {
     "output_type": "stream",
     "name": "stdout",
     "text": [
      "\n",
      " After self.predict() -->  (68, 1) \n",
      " <class 'numpy.ndarray'> \n",
      "\n",
      "\n",
      "encoded flux shape: (5700, 68)\n",
      "1/1 [==============================] - 1s 1s/step\n"
     ]
    },
    {
     "output_type": "stream",
     "name": "stderr",
     "text": [
      "\r 11%|█▏        | 653/5700 [16:01<1:50:39,  1.32s/it]"
     ]
    },
    {
     "output_type": "stream",
     "name": "stdout",
     "text": [
      "\n",
      " After self.predict() -->  (68, 1) \n",
      " <class 'numpy.ndarray'> \n",
      "\n",
      "\n",
      "encoded flux shape: (5700, 68)\n",
      "1/1 [==============================] - 2s 2s/step\n"
     ]
    },
    {
     "output_type": "stream",
     "name": "stderr",
     "text": [
      "\r 11%|█▏        | 654/5700 [16:03<1:58:01,  1.40s/it]"
     ]
    },
    {
     "output_type": "stream",
     "name": "stdout",
     "text": [
      "\n",
      " After self.predict() -->  (68, 1) \n",
      " <class 'numpy.ndarray'> \n",
      "\n",
      "\n",
      "encoded flux shape: (5700, 68)\n",
      "1/1 [==============================] - 2s 2s/step\n"
     ]
    },
    {
     "output_type": "stream",
     "name": "stderr",
     "text": [
      "\r 11%|█▏        | 655/5700 [16:05<2:30:44,  1.79s/it]"
     ]
    },
    {
     "output_type": "stream",
     "name": "stdout",
     "text": [
      "\n",
      " After self.predict() -->  (68, 1) \n",
      " <class 'numpy.ndarray'> \n",
      "\n",
      "\n",
      "encoded flux shape: (5700, 68)\n",
      "1/1 [==============================] - 1s 1s/step\n"
     ]
    },
    {
     "output_type": "stream",
     "name": "stderr",
     "text": [
      "\r 12%|█▏        | 656/5700 [16:07<2:19:24,  1.66s/it]"
     ]
    },
    {
     "output_type": "stream",
     "name": "stdout",
     "text": [
      "\n",
      " After self.predict() -->  (68, 1) \n",
      " <class 'numpy.ndarray'> \n",
      "\n",
      "\n",
      "encoded flux shape: (5700, 68)\n",
      "1/1 [==============================] - 1s 1s/step\n"
     ]
    },
    {
     "output_type": "stream",
     "name": "stderr",
     "text": [
      "\r 12%|█▏        | 657/5700 [16:08<2:11:36,  1.57s/it]"
     ]
    },
    {
     "output_type": "stream",
     "name": "stdout",
     "text": [
      "\n",
      " After self.predict() -->  (68, 1) \n",
      " <class 'numpy.ndarray'> \n",
      "\n",
      "\n",
      "encoded flux shape: (5700, 68)\n",
      "1/1 [==============================] - 1s 1s/step\n"
     ]
    },
    {
     "output_type": "stream",
     "name": "stderr",
     "text": [
      "\r 12%|█▏        | 658/5700 [16:09<2:06:12,  1.50s/it]"
     ]
    },
    {
     "output_type": "stream",
     "name": "stdout",
     "text": [
      "\n",
      " After self.predict() -->  (68, 1) \n",
      " <class 'numpy.ndarray'> \n",
      "\n",
      "\n",
      "encoded flux shape: (5700, 68)\n",
      "1/1 [==============================] - 1s 1s/step\n"
     ]
    },
    {
     "output_type": "stream",
     "name": "stderr",
     "text": [
      "\r 12%|█▏        | 659/5700 [16:11<2:02:10,  1.45s/it]"
     ]
    },
    {
     "output_type": "stream",
     "name": "stdout",
     "text": [
      "\n",
      " After self.predict() -->  (68, 1) \n",
      " <class 'numpy.ndarray'> \n",
      "\n",
      "\n",
      "encoded flux shape: (5700, 68)\n",
      "1/1 [==============================] - 1s 1s/step\n"
     ]
    },
    {
     "output_type": "stream",
     "name": "stderr",
     "text": [
      "\r 12%|█▏        | 660/5700 [16:12<1:55:56,  1.38s/it]"
     ]
    },
    {
     "output_type": "stream",
     "name": "stdout",
     "text": [
      "\n",
      " After self.predict() -->  (68, 1) \n",
      " <class 'numpy.ndarray'> \n",
      "\n",
      "\n",
      "encoded flux shape: (5700, 68)\n",
      "1/1 [==============================] - 1s 1s/step\n"
     ]
    },
    {
     "output_type": "stream",
     "name": "stderr",
     "text": [
      "\r 12%|█▏        | 661/5700 [16:13<1:51:28,  1.33s/it]"
     ]
    },
    {
     "output_type": "stream",
     "name": "stdout",
     "text": [
      "\n",
      " After self.predict() -->  (68, 1) \n",
      " <class 'numpy.ndarray'> \n",
      "\n",
      "\n",
      "encoded flux shape: (5700, 68)\n",
      "1/1 [==============================] - 1s 1s/step\n"
     ]
    },
    {
     "output_type": "stream",
     "name": "stderr",
     "text": [
      "\r 12%|█▏        | 662/5700 [16:14<1:51:53,  1.33s/it]"
     ]
    },
    {
     "output_type": "stream",
     "name": "stdout",
     "text": [
      "\n",
      " After self.predict() -->  (68, 1) \n",
      " <class 'numpy.ndarray'> \n",
      "\n",
      "\n",
      "encoded flux shape: (5700, 68)\n",
      "1/1 [==============================] - 1s 1s/step\n"
     ]
    },
    {
     "output_type": "stream",
     "name": "stderr",
     "text": [
      "\r 12%|█▏        | 663/5700 [16:16<1:54:57,  1.37s/it]"
     ]
    },
    {
     "output_type": "stream",
     "name": "stdout",
     "text": [
      "\n",
      " After self.predict() -->  (68, 1) \n",
      " <class 'numpy.ndarray'> \n",
      "\n",
      "\n",
      "encoded flux shape: (5700, 68)\n",
      "1/1 [==============================] - 2s 2s/step\n"
     ]
    },
    {
     "output_type": "stream",
     "name": "stderr",
     "text": [
      "\r 12%|█▏        | 664/5700 [16:17<2:02:04,  1.45s/it]"
     ]
    },
    {
     "output_type": "stream",
     "name": "stdout",
     "text": [
      "\n",
      " After self.predict() -->  (68, 1) \n",
      " <class 'numpy.ndarray'> \n",
      "\n",
      "\n",
      "encoded flux shape: (5700, 68)\n",
      "1/1 [==============================] - 2s 2s/step\n"
     ]
    },
    {
     "output_type": "stream",
     "name": "stderr",
     "text": [
      "\r 12%|█▏        | 665/5700 [16:19<2:07:40,  1.52s/it]"
     ]
    },
    {
     "output_type": "stream",
     "name": "stdout",
     "text": [
      "\n",
      " After self.predict() -->  (68, 1) \n",
      " <class 'numpy.ndarray'> \n",
      "\n",
      "\n",
      "encoded flux shape: (5700, 68)\n",
      "1/1 [==============================] - 1s 1s/step\n"
     ]
    },
    {
     "output_type": "stream",
     "name": "stderr",
     "text": [
      "\r 12%|█▏        | 666/5700 [16:20<2:03:22,  1.47s/it]"
     ]
    },
    {
     "output_type": "stream",
     "name": "stdout",
     "text": [
      "\n",
      " After self.predict() -->  (68, 1) \n",
      " <class 'numpy.ndarray'> \n",
      "\n",
      "\n",
      "encoded flux shape: (5700, 68)\n",
      "1/1 [==============================] - 1s 1s/step\n"
     ]
    },
    {
     "output_type": "stream",
     "name": "stderr",
     "text": [
      "\r 12%|█▏        | 667/5700 [16:22<2:00:26,  1.44s/it]"
     ]
    },
    {
     "output_type": "stream",
     "name": "stdout",
     "text": [
      "\n",
      " After self.predict() -->  (68, 1) \n",
      " <class 'numpy.ndarray'> \n",
      "\n",
      "\n",
      "encoded flux shape: (5700, 68)\n",
      "1/1 [==============================] - 1s 1s/step\n"
     ]
    },
    {
     "output_type": "stream",
     "name": "stderr",
     "text": [
      "\r 12%|█▏        | 668/5700 [16:23<1:58:12,  1.41s/it]"
     ]
    },
    {
     "output_type": "stream",
     "name": "stdout",
     "text": [
      "\n",
      " After self.predict() -->  (68, 1) \n",
      " <class 'numpy.ndarray'> \n",
      "\n",
      "\n",
      "encoded flux shape: (5700, 68)\n",
      "1/1 [==============================] - 1s 1s/step\n"
     ]
    },
    {
     "output_type": "stream",
     "name": "stderr",
     "text": [
      "\r 12%|█▏        | 669/5700 [16:24<1:53:20,  1.35s/it]"
     ]
    },
    {
     "output_type": "stream",
     "name": "stdout",
     "text": [
      "\n",
      " After self.predict() -->  (68, 1) \n",
      " <class 'numpy.ndarray'> \n",
      "\n",
      "\n",
      "encoded flux shape: (5700, 68)\n",
      "1/1 [==============================] - 1s 1s/step\n"
     ]
    },
    {
     "output_type": "stream",
     "name": "stderr",
     "text": [
      "\r 12%|█▏        | 670/5700 [16:26<1:53:20,  1.35s/it]"
     ]
    },
    {
     "output_type": "stream",
     "name": "stdout",
     "text": [
      "\n",
      " After self.predict() -->  (68, 1) \n",
      " <class 'numpy.ndarray'> \n",
      "\n",
      "\n",
      "encoded flux shape: (5700, 68)\n",
      "1/1 [==============================] - 1s 1s/step\n"
     ]
    },
    {
     "output_type": "stream",
     "name": "stderr",
     "text": [
      "\r 12%|█▏        | 671/5700 [16:27<1:49:41,  1.31s/it]"
     ]
    },
    {
     "output_type": "stream",
     "name": "stdout",
     "text": [
      "\n",
      " After self.predict() -->  (68, 1) \n",
      " <class 'numpy.ndarray'> \n",
      "\n",
      "\n",
      "encoded flux shape: (5700, 68)\n",
      "1/1 [==============================] - 1s 1s/step\n"
     ]
    },
    {
     "output_type": "stream",
     "name": "stderr",
     "text": [
      "\r 12%|█▏        | 672/5700 [16:28<1:47:28,  1.28s/it]"
     ]
    },
    {
     "output_type": "stream",
     "name": "stdout",
     "text": [
      "\n",
      " After self.predict() -->  (68, 1) \n",
      " <class 'numpy.ndarray'> \n",
      "\n",
      "\n",
      "encoded flux shape: (5700, 68)\n",
      "1/1 [==============================] - 1s 1s/step\n"
     ]
    },
    {
     "output_type": "stream",
     "name": "stderr",
     "text": [
      "\r 12%|█▏        | 673/5700 [16:30<1:50:40,  1.32s/it]"
     ]
    },
    {
     "output_type": "stream",
     "name": "stdout",
     "text": [
      "\n",
      " After self.predict() -->  (68, 1) \n",
      " <class 'numpy.ndarray'> \n",
      "\n",
      "\n",
      "encoded flux shape: (5700, 68)\n",
      "1/1 [==============================] - 2s 2s/step\n"
     ]
    },
    {
     "output_type": "stream",
     "name": "stderr",
     "text": [
      "\r 12%|█▏        | 674/5700 [16:32<2:24:05,  1.72s/it]"
     ]
    },
    {
     "output_type": "stream",
     "name": "stdout",
     "text": [
      "\n",
      " After self.predict() -->  (68, 1) \n",
      " <class 'numpy.ndarray'> \n",
      "\n",
      "\n",
      "encoded flux shape: (5700, 68)\n",
      "1/1 [==============================] - 1s 1s/step\n"
     ]
    },
    {
     "output_type": "stream",
     "name": "stderr",
     "text": [
      "\r 12%|█▏        | 675/5700 [16:34<2:14:17,  1.60s/it]"
     ]
    },
    {
     "output_type": "stream",
     "name": "stdout",
     "text": [
      "\n",
      " After self.predict() -->  (68, 1) \n",
      " <class 'numpy.ndarray'> \n",
      "\n",
      "\n",
      "encoded flux shape: (5700, 68)\n",
      "1/1 [==============================] - 1s 1s/step\n"
     ]
    },
    {
     "output_type": "stream",
     "name": "stderr",
     "text": [
      "\r 12%|█▏        | 676/5700 [16:35<2:04:55,  1.49s/it]"
     ]
    },
    {
     "output_type": "stream",
     "name": "stdout",
     "text": [
      "\n",
      " After self.predict() -->  (68, 1) \n",
      " <class 'numpy.ndarray'> \n",
      "\n",
      "\n",
      "encoded flux shape: (5700, 68)\n",
      "1/1 [==============================] - 1s 1s/step\n"
     ]
    },
    {
     "output_type": "stream",
     "name": "stderr",
     "text": [
      "\r 12%|█▏        | 677/5700 [16:36<2:01:21,  1.45s/it]"
     ]
    },
    {
     "output_type": "stream",
     "name": "stdout",
     "text": [
      "\n",
      " After self.predict() -->  (68, 1) \n",
      " <class 'numpy.ndarray'> \n",
      "\n",
      "\n",
      "encoded flux shape: (5700, 68)\n",
      "1/1 [==============================] - 1s 1s/step\n"
     ]
    },
    {
     "output_type": "stream",
     "name": "stderr",
     "text": [
      "\r 12%|█▏        | 678/5700 [16:37<1:55:23,  1.38s/it]"
     ]
    },
    {
     "output_type": "stream",
     "name": "stdout",
     "text": [
      "\n",
      " After self.predict() -->  (68, 1) \n",
      " <class 'numpy.ndarray'> \n",
      "\n",
      "\n",
      "encoded flux shape: (5700, 68)\n",
      "1/1 [==============================] - 1s 1s/step\n"
     ]
    },
    {
     "output_type": "stream",
     "name": "stderr",
     "text": [
      "\r 12%|█▏        | 679/5700 [16:39<1:51:27,  1.33s/it]"
     ]
    },
    {
     "output_type": "stream",
     "name": "stdout",
     "text": [
      "\n",
      " After self.predict() -->  (68, 1) \n",
      " <class 'numpy.ndarray'> \n",
      "\n",
      "\n",
      "encoded flux shape: (5700, 68)\n",
      "1/1 [==============================] - 1s 1s/step\n"
     ]
    },
    {
     "output_type": "stream",
     "name": "stderr",
     "text": [
      "\r 12%|█▏        | 680/5700 [16:40<1:47:59,  1.29s/it]"
     ]
    },
    {
     "output_type": "stream",
     "name": "stdout",
     "text": [
      "\n",
      " After self.predict() -->  (68, 1) \n",
      " <class 'numpy.ndarray'> \n",
      "\n",
      "\n",
      "encoded flux shape: (5700, 68)\n",
      "1/1 [==============================] - 1s 1s/step\n"
     ]
    },
    {
     "output_type": "stream",
     "name": "stderr",
     "text": [
      "\r 12%|█▏        | 681/5700 [16:41<1:45:41,  1.26s/it]"
     ]
    },
    {
     "output_type": "stream",
     "name": "stdout",
     "text": [
      "\n",
      " After self.predict() -->  (68, 1) \n",
      " <class 'numpy.ndarray'> \n",
      "\n",
      "\n",
      "encoded flux shape: (5700, 68)\n",
      "1/1 [==============================] - 1s 1s/step\n"
     ]
    },
    {
     "output_type": "stream",
     "name": "stderr",
     "text": [
      "\r 12%|█▏        | 682/5700 [16:42<1:47:51,  1.29s/it]"
     ]
    },
    {
     "output_type": "stream",
     "name": "stdout",
     "text": [
      "\n",
      " After self.predict() -->  (68, 1) \n",
      " <class 'numpy.ndarray'> \n",
      "\n",
      "\n",
      "encoded flux shape: (5700, 68)\n",
      "1/1 [==============================] - 1s 1s/step\n"
     ]
    },
    {
     "output_type": "stream",
     "name": "stderr",
     "text": [
      "\r 12%|█▏        | 683/5700 [16:45<2:21:30,  1.69s/it]"
     ]
    },
    {
     "output_type": "stream",
     "name": "stdout",
     "text": [
      "\n",
      " After self.predict() -->  (68, 1) \n",
      " <class 'numpy.ndarray'> \n",
      "\n",
      "\n",
      "encoded flux shape: (5700, 68)\n",
      "1/1 [==============================] - 1s 1s/step\n"
     ]
    },
    {
     "output_type": "stream",
     "name": "stderr",
     "text": [
      "\r 12%|█▏        | 684/5700 [16:47<2:17:42,  1.65s/it]"
     ]
    },
    {
     "output_type": "stream",
     "name": "stdout",
     "text": [
      "\n",
      " After self.predict() -->  (68, 1) \n",
      " <class 'numpy.ndarray'> \n",
      "\n",
      "\n",
      "encoded flux shape: (5700, 68)\n",
      "1/1 [==============================] - 1s 1s/step\n"
     ]
    },
    {
     "output_type": "stream",
     "name": "stderr",
     "text": [
      "\r 12%|█▏        | 685/5700 [16:48<2:06:33,  1.51s/it]"
     ]
    },
    {
     "output_type": "stream",
     "name": "stdout",
     "text": [
      "\n",
      " After self.predict() -->  (68, 1) \n",
      " <class 'numpy.ndarray'> \n",
      "\n",
      "\n",
      "encoded flux shape: (5700, 68)\n",
      "1/1 [==============================] - 1s 1s/step\n"
     ]
    },
    {
     "output_type": "stream",
     "name": "stderr",
     "text": [
      "\r 12%|█▏        | 686/5700 [16:49<1:58:49,  1.42s/it]"
     ]
    },
    {
     "output_type": "stream",
     "name": "stdout",
     "text": [
      "\n",
      " After self.predict() -->  (68, 1) \n",
      " <class 'numpy.ndarray'> \n",
      "\n",
      "\n",
      "encoded flux shape: (5700, 68)\n",
      "1/1 [==============================] - 1s 1s/step\n"
     ]
    },
    {
     "output_type": "stream",
     "name": "stderr",
     "text": [
      "\r 12%|█▏        | 687/5700 [16:50<1:53:36,  1.36s/it]"
     ]
    },
    {
     "output_type": "stream",
     "name": "stdout",
     "text": [
      "\n",
      " After self.predict() -->  (68, 1) \n",
      " <class 'numpy.ndarray'> \n",
      "\n",
      "\n",
      "encoded flux shape: (5700, 68)\n"
     ]
    }
   ]
  }
 ]
}