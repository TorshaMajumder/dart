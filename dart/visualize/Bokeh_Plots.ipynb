{
 "cells": [
  {
   "cell_type": "code",
   "execution_count": 1,
   "id": "2377f0ed",
   "metadata": {},
   "outputs": [
    {
     "name": "stdout",
     "output_type": "stream",
     "text": [
      "Requirement already satisfied: bokeh in c:\\users\\torsh\\anaconda3\\lib\\site-packages (2.4.2)\n",
      "Requirement already satisfied: typing-extensions>=3.10.0 in c:\\users\\torsh\\anaconda3\\lib\\site-packages (from bokeh) (4.1.1)\n",
      "Requirement already satisfied: PyYAML>=3.10 in c:\\users\\torsh\\anaconda3\\lib\\site-packages (from bokeh) (6.0)\n",
      "Requirement already satisfied: Jinja2>=2.9 in c:\\users\\torsh\\anaconda3\\lib\\site-packages (from bokeh) (2.11.3)\n",
      "Requirement already satisfied: tornado>=5.1 in c:\\users\\torsh\\anaconda3\\lib\\site-packages (from bokeh) (6.1)\n",
      "Requirement already satisfied: packaging>=16.8 in c:\\users\\torsh\\anaconda3\\lib\\site-packages (from bokeh) (21.3)\n",
      "Requirement already satisfied: numpy>=1.11.3 in c:\\users\\torsh\\anaconda3\\lib\\site-packages (from bokeh) (1.21.5)\n",
      "Requirement already satisfied: pillow>=7.1.0 in c:\\users\\torsh\\anaconda3\\lib\\site-packages (from bokeh) (9.0.1)\n",
      "Requirement already satisfied: MarkupSafe>=0.23 in c:\\users\\torsh\\anaconda3\\lib\\site-packages (from Jinja2>=2.9->bokeh) (2.0.1)\n",
      "Requirement already satisfied: pyparsing!=3.0.5,>=2.0.2 in c:\\users\\torsh\\anaconda3\\lib\\site-packages (from packaging>=16.8->bokeh) (3.0.4)\n"
     ]
    },
    {
     "name": "stderr",
     "output_type": "stream",
     "text": [
      "\n",
      "[notice] A new release of pip available: 22.2.2 -> 23.0.1\n",
      "[notice] To update, run: python.exe -m pip install --upgrade pip\n"
     ]
    }
   ],
   "source": [
    "#!pip install mplcursors\n",
    "!pip install bokeh"
   ]
  },
  {
   "cell_type": "code",
   "execution_count": 2,
   "id": "73d5cd2d",
   "metadata": {},
   "outputs": [],
   "source": [
    "import os\n",
    "import umap\n",
    "import pickle\n",
    "import matplotlib.pyplot as plt\n",
    "from bokeh.palettes import plasma\n",
    "from bokeh.plotting import figure\n",
    "from bokeh.transform import transform\n",
    "from bokeh.io import output_file, show, save\n",
    "from bokeh.models import ColumnDataSource, HoverTool, LinearColorMapper, WheelZoomTool, ColorBar"
   ]
  },
  {
   "cell_type": "code",
   "execution_count": 12,
   "id": "2aded02f",
   "metadata": {},
   "outputs": [
    {
     "name": "stdout",
     "output_type": "stream",
     "text": [
      "0\n",
      "1\n",
      "2\n",
      "3\n",
      "4\n",
      "5\n",
      "6\n",
      "7\n",
      "8\n",
      "9\n",
      "10\n",
      "11\n",
      "12\n",
      "[Errno 2] No such file or directory: 'C:/Users/torsh/git/TESS/LOF/cluster_11.pickle'\n"
     ]
    }
   ],
   "source": [
    "for i in range(20):\n",
    "    print(i)\n",
    "    try:\n",
    "        with open(f\"C:/Users/torsh/git/TESS/LOF/cluster_{i-1}.pickle\", 'rb') as f:\n",
    "            labels = pickle.load(f)\n",
    "        cluster_data = labels[\"cluster_data\"]\n",
    "        cluster_ids_ = labels[\"cluster_ids_\"]\n",
    "        df = labels[\"df\"]\n",
    "        idx = labels[\"index\"][0]\n",
    "        umap_xtrain = labels[\"umap\"]\n",
    "        #print(umap_xtrain.shape, len(idx))\n",
    "        source = ColumnDataSource(data=dict(x=umap_xtrain[idx,0], y=umap_xtrain[idx,1], desc=cluster_ids_, score=df[\"score\"]))\n",
    "        hover = HoverTool(tooltips=[\n",
    "        #     (\"(x,y)\", \"(@x, @y)\"),\n",
    "        ('Label:', '@desc'),\n",
    "        ('Score:', '@score'),\n",
    "        ])\n",
    "\n",
    "        mapper = LinearColorMapper(palette=plasma(256), low=min(df[\"score\"]), high=max(df[\"score\"]))\n",
    "        p = figure(plot_width=1000, plot_height=800, tools=[hover, WheelZoomTool()], title=f\"Cluster_{i-1}\", toolbar_location = \"below\")\n",
    "        p.circle(\"x\", \"y\",size=10, source=source, line_color=None,\n",
    "                fill_color={\"field\":\"score\",\"transform\":mapper})\n",
    "\n",
    "        bar = ColorBar(color_mapper=mapper, location=(0,0))\n",
    "        p.add_layout(bar, \"left\")\n",
    "\n",
    "        output_file(f\"C:/Users/torsh/git/TESS/LOF/cluster_{i-1}.html\")\n",
    "        save(p)\n",
    "        #show(p)\n",
    "    except Exception as e:\n",
    "        print(e)\n",
    "        break\n"
   ]
  }
 ],
 "metadata": {
  "kernelspec": {
   "display_name": "Python 3 (ipykernel)",
   "language": "python",
   "name": "python3"
  },
  "language_info": {
   "codemirror_mode": {
    "name": "ipython",
    "version": 3
   },
   "file_extension": ".py",
   "mimetype": "text/x-python",
   "name": "python",
   "nbconvert_exporter": "python",
   "pygments_lexer": "ipython3",
   "version": "3.9.12"
  }
 },
 "nbformat": 4,
 "nbformat_minor": 5
}
