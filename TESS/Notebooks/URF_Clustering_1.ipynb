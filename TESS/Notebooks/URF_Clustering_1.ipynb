{
 "cells": [
  {
   "cell_type": "code",
   "execution_count": 1,
   "id": "b36c000a",
   "metadata": {},
   "outputs": [
    {
     "name": "stdout",
     "output_type": "stream",
     "text": [
      "Populating the interactive namespace from numpy and matplotlib\n"
     ]
    }
   ],
   "source": [
    "%pylab inline\n",
    "import numpy as np\n",
    "import sklearn\n",
    "#from sklearn.preprocessing import Imputer\n",
    "import matplotlib.pyplot as plt\n",
    "\n",
    "from sklearn.ensemble import RandomForestClassifier\n",
    "from sklearn.feature_selection import SelectFromModel\n",
    "import pandas as pd\n",
    "import pickle"
   ]
  },
  {
   "cell_type": "code",
   "execution_count": 2,
   "id": "9c15fece",
   "metadata": {},
   "outputs": [],
   "source": [
    "def read_data_samples():\n",
    "    with open('data/lightcurves.pickle', 'rb') as file:\n",
    "        lightcurves = pickle.load(file)\n",
    "    data = lightcurves\n",
    "    return data"
   ]
  },
  {
   "cell_type": "code",
   "execution_count": 3,
   "id": "dd37f48b",
   "metadata": {},
   "outputs": [],
   "source": [
    "data = read_data_samples()\n",
    "pca = data['pca']\n",
    "flux = pca['flux_pca']\n",
    "meta_data = pca['metadata_pca']\n",
    "phase = data['phase']"
   ]
  },
  {
   "cell_type": "code",
   "execution_count": 4,
   "id": "37a3a681",
   "metadata": {},
   "outputs": [
    {
     "name": "stdout",
     "output_type": "stream",
     "text": [
      "(3873, 300)\n"
     ]
    }
   ],
   "source": [
    "print(flux.shape)"
   ]
  },
  {
   "cell_type": "code",
   "execution_count": 5,
   "id": "ef71760f",
   "metadata": {},
   "outputs": [],
   "source": [
    "def return_synthetic_data(X):\n",
    "    \"\"\"\n",
    "    The function returns a matrix with the same dimensions as X but with synthetic data\n",
    "    based on the marginal distributions of its featues\n",
    "    \"\"\"\n",
    "    features = X.shape[1]\n",
    "    X_syn = numpy.zeros(X.shape)\n",
    "\n",
    "    for i in range(features):\n",
    "        obs_vec = X[:,i]\n",
    "        syn_vec = numpy.random.choice(obs_vec, len(obs_vec)) # here we chose the synthetic data to match the marginal distribution of the real data\n",
    "        X_syn[:,i] += syn_vec\n",
    "\n",
    "    return X_syn\n",
    "\n",
    "X_syn = return_synthetic_data(flux)"
   ]
  },
  {
   "cell_type": "code",
   "execution_count": 6,
   "id": "1b654696",
   "metadata": {},
   "outputs": [
    {
     "name": "stdout",
     "output_type": "stream",
     "text": [
      "[[ 0.87039603  0.89207965  0.9340022  ...  0.77572262  0.98799521\n",
      "   0.94057749]\n",
      " [ 0.89157942  0.88564134  0.88251    ...  0.87349786  0.87208494\n",
      "   0.85858583]\n",
      " [ 1.0331203   1.10943235  0.77404528 ...  0.7454127   1.14610694\n",
      "   0.57260888]\n",
      " ...\n",
      " [ 1.23220703  1.34989259  0.56704751 ...  1.60950911  0.53090642\n",
      "  -0.5076051 ]\n",
      " [ 0.98968787  1.17763284  1.05577175 ...  0.90162656  1.12397758\n",
      "   0.91814753]\n",
      " [-0.19865873  1.43994627  1.98398724 ...  0.50902667  0.28158479\n",
      "  -0.70096411]]\n",
      "[[ 0.95087771  1.35048693  1.0513435  ...  0.65829069  1.1402684\n",
      "   1.35293877]\n",
      " [ 1.0033295   0.91572732  0.43218899 ...  0.88677084  0.65853938\n",
      "   1.59877533]\n",
      " [ 1.53164962  0.08739923 -0.10313909 ...  1.45943237  2.39459419\n",
      "  -0.40527259]\n",
      " ...\n",
      " [ 0.89026055  1.66417424  0.54751493 ...  2.21856371  1.35518221\n",
      "   1.02616562]\n",
      " [ 0.34482245 -0.01797493  1.19562508 ...  0.87965226  0.55037004\n",
      "   0.66455338]\n",
      " [ 1.02148401  1.22682722  0.83445962 ...  0.67047639  0.15122623\n",
      "   1.4188236 ]]\n"
     ]
    }
   ],
   "source": [
    "print(flux)\n",
    "print(X_syn)"
   ]
  },
  {
   "cell_type": "code",
   "execution_count": 7,
   "id": "d2bc0846",
   "metadata": {},
   "outputs": [
    {
     "name": "stdout",
     "output_type": "stream",
     "text": [
      "100\n",
      "250\n"
     ]
    },
    {
     "data": {
      "image/png": "[encoded data removed]",
      "text/plain": [
       "<Figure size 648x432 with 4 Axes>"
      ]
     },
     "metadata": {
      "needs_background": "light"
     },
     "output_type": "display_data"
    }
   ],
   "source": [
    "# plots synthetic features against real data checking correct distribution has been achieved.\n",
    "plt.rcParams['figure.figsize'] = 8, 6\n",
    "T=[100,250]\n",
    "j=-1\n",
    "plt.rcParams['figure.figsize'] = 9,6\n",
    "for i in T:\n",
    "    j=j+2\n",
    "    print(i)\n",
    "    plt.subplot(2,2,j)\n",
    "    plt.title('Real Data',fontsize=18)\n",
    "    plt.hist(flux[:, i] ,color=\"k\",edgecolor='grey', label=\"Feature {}\".format(i))\n",
    "    plt.yscale('log')\n",
    "    plt.legend(loc='best')\n",
    "    plt.xlabel('Flux')\n",
    "    plt.ylabel('N')\n",
    "    \n",
    "    plt.subplot(2,2,j+1)\n",
    "    plt.title('Synthetic Data',fontsize=18)\n",
    "    plt.hist(X_syn[:, i], color=\"darkgreen\",edgecolor='black', label=\"Feature {}\".format(i))\n",
    "    plt.yscale('log')\n",
    "    plt.xlabel('Flux')\n",
    "    plt.legend(loc='best')\n"
   ]
  },
  {
   "cell_type": "code",
   "execution_count": 8,
   "id": "fbed1105",
   "metadata": {},
   "outputs": [],
   "source": [
    "def merge_work_and_synthetic_samples(X, X_syn):\n",
    "    \"\"\"\n",
    "    The function merges the data into one sample, giving the label \"1\" to the real data and label \"2\" to the synthetic data\n",
    "    \"\"\"\n",
    "    # build the labels vector\n",
    "    Y = numpy.ones(len(X))\n",
    "    Y_syn = numpy.ones(len(X_syn)) * 2\n",
    "\n",
    "    Y_total = numpy.concatenate((Y, Y_syn))\n",
    "    X_total = numpy.concatenate((X, X_syn))\n",
    "    return X_total, Y_total"
   ]
  },
  {
   "cell_type": "code",
   "execution_count": 9,
   "id": "9f1adc2e",
   "metadata": {},
   "outputs": [
    {
     "name": "stdout",
     "output_type": "stream",
     "text": [
      "(7746, 300) (7746,)\n",
      "[1. 2.]\n"
     ]
    }
   ],
   "source": [
    "X_total, Y_total = merge_work_and_synthetic_samples(flux, X_syn)\n",
    "\n",
    "print(X_total.shape, Y_total.shape)\n",
    "print(np.unique(Y_total))\n"
   ]
  },
  {
   "cell_type": "code",
   "execution_count": 10,
   "id": "7cde8ef1",
   "metadata": {},
   "outputs": [
    {
     "name": "stdout",
     "output_type": "stream",
     "text": [
      "[2.] [1. 2.]\n"
     ]
    }
   ],
   "source": [
    "# declare an RF\n",
    "N_TRAIN = 50 # number of trees in the forest\n",
    "#m_depths = [1,5,10,50,100,500,1000] # number of trees in the forest\n",
    "scores = []\n",
    "#for ene in N_TRAIN:\n",
    "rand_f = RandomForestClassifier(n_estimators=N_TRAIN, \n",
    "                                                    max_features='log2', max_depth=100,\n",
    "                                                min_impurity_decrease=0.000001,min_samples_split=3,\n",
    "                                                bootstrap=False,warm_start=False, random_state=0)\n",
    "rand_f.fit(X_total, Y_total)\n",
    "y_pred = rand_f.predict(X_total[4000:])\n",
    "scores.append(rand_f.score(X_total[4000:],Y_total[4000:]))\n",
    "print(np.unique(y_pred), np.unique(Y_total))"
   ]
  },
  {
   "cell_type": "code",
   "execution_count": 11,
   "id": "90ec377d",
   "metadata": {},
   "outputs": [
    {
     "name": "stdout",
     "output_type": "stream",
     "text": [
      "[0.00267867 0.00301731 0.0029227  0.00274388 0.00332338 0.00255462\n",
      " 0.0029976  0.0027993  0.00268652 0.00287997 0.00288133 0.00239812\n",
      " 0.0027902  0.00226728 0.00306414 0.00289765 0.00280531 0.00299157\n",
      " 0.00280101 0.00252344 0.00274832 0.00269107 0.00284732 0.0028261\n",
      " 0.00261095 0.00290898 0.00275222 0.00269162 0.00270779 0.00257993\n",
      " 0.00249436 0.00282522 0.00295002 0.00255614 0.00268108 0.00282521\n",
      " 0.0021894  0.00248868 0.0023182  0.00285269 0.00303947 0.00240747\n",
      " 0.00289621 0.00286404 0.00271675 0.00268543 0.00283909 0.00250241\n",
      " 0.00325948 0.0024632  0.00270876 0.00276838 0.00249626 0.00237023\n",
      " 0.00278303 0.00348346 0.00293053 0.00260184 0.00236315 0.00300818\n",
      " 0.00274847 0.0033904  0.00284776 0.00271239 0.00295766 0.00302863\n",
      " 0.00276842 0.00267351 0.00243885 0.00245712 0.00294623 0.002557\n",
      " 0.00236397 0.00283384 0.0029073  0.00338185 0.00219717 0.00265255\n",
      " 0.00259362 0.00244323 0.00247048 0.00251224 0.00254977 0.00220816\n",
      " 0.00232266 0.00262573 0.00247074 0.00287834 0.00248318 0.00249844\n",
      " 0.00271943 0.00263961 0.00258263 0.00249038 0.0028434  0.00308178\n",
      " 0.00272492 0.00248916 0.00335796 0.00283666 0.00335016 0.00334833\n",
      " 0.00331273 0.00289657 0.00320633 0.00301048 0.00312418 0.00279218\n",
      " 0.00394091 0.00439416 0.00316092 0.00298324 0.00377028 0.00353912\n",
      " 0.00328213 0.00480061 0.00375504 0.00413229 0.00446861 0.00334981\n",
      " 0.00490283 0.00433323 0.00571584 0.00448501 0.00645533 0.00384701\n",
      " 0.00458633 0.00433625 0.00543833 0.00473724 0.00390203 0.0051991\n",
      " 0.0047379  0.00506249 0.00402223 0.0048461  0.00553778 0.00743263\n",
      " 0.00584586 0.00580356 0.00436059 0.00482706 0.00526351 0.00521024\n",
      " 0.00597641 0.00522134 0.00517859 0.00544855 0.0049961  0.00479136\n",
      " 0.00543597 0.00537852 0.00496491 0.00554797 0.00566792 0.00552148\n",
      " 0.00570978 0.0058737  0.00480697 0.00572129 0.00537784 0.00442808\n",
      " 0.00441048 0.00633359 0.00460659 0.00406521 0.00389709 0.00546283\n",
      " 0.00478054 0.00592833 0.00589158 0.00440521 0.00513438 0.00470065\n",
      " 0.00576611 0.00481989 0.00358305 0.00399337 0.00671154 0.00390294\n",
      " 0.00369949 0.00410318 0.0035461  0.00410478 0.00348296 0.00363486\n",
      " 0.00349709 0.00437275 0.0037561  0.00331892 0.00412996 0.00333407\n",
      " 0.00407159 0.00334204 0.00370851 0.0033471  0.0030308  0.00310635\n",
      " 0.00298135 0.0035428  0.00271923 0.00285552 0.00265769 0.00294084\n",
      " 0.00321631 0.00287738 0.00251317 0.00243347 0.00267673 0.00259161\n",
      " 0.0026494  0.00249682 0.00273449 0.00252223 0.00260478 0.00272396\n",
      " 0.00258417 0.00223283 0.00291733 0.00284551 0.00232761 0.0026403\n",
      " 0.00251849 0.0025004  0.00265038 0.00280524 0.00243643 0.00241032\n",
      " 0.00249666 0.00334201 0.00245616 0.0024801  0.00281946 0.00250306\n",
      " 0.00339869 0.00246344 0.00264399 0.00267253 0.00334593 0.00262915\n",
      " 0.00264434 0.00241725 0.00262781 0.002728   0.00274516 0.00315052\n",
      " 0.00278845 0.00256497 0.00294316 0.00268823 0.00250216 0.0029752\n",
      " 0.00348645 0.0031465  0.00273288 0.00313867 0.00283293 0.00243865\n",
      " 0.00255582 0.00306515 0.00270068 0.00260556 0.00291646 0.00310816\n",
      " 0.00297133 0.00279579 0.00303045 0.00248702 0.0025531  0.00301809\n",
      " 0.00284577 0.00265708 0.00286773 0.00333234 0.00262675 0.00324243\n",
      " 0.00256111 0.00308849 0.0030041  0.00323388 0.00284881 0.0027223\n",
      " 0.00352676 0.00284404 0.00322941 0.00300156 0.00231865 0.00305709\n",
      " 0.00282778 0.00242339 0.00305069 0.00307633 0.00314277 0.00270449\n",
      " 0.0031476  0.00264016 0.00323378 0.00336542 0.00272306 0.00246362]\n"
     ]
    }
   ],
   "source": [
    "imp = rand_f.feature_importances_\n",
    "print(imp)"
   ]
  },
  {
   "cell_type": "code",
   "execution_count": 12,
   "id": "88796fa3",
   "metadata": {},
   "outputs": [],
   "source": [
    "model = SelectFromModel(rand_f, prefit=True)"
   ]
  },
  {
   "cell_type": "code",
   "execution_count": 13,
   "id": "85cb4fa1",
   "metadata": {},
   "outputs": [],
   "source": [
    "#\n",
    "# Mask for the selected features\n",
    "#\n",
    "selected_features=model.get_support()\n",
    "#\n",
    "# Return scores for the features [only for tree-based classifiers]\n",
    "#\n",
    "features_score=rand_f.feature_importances_"
   ]
  },
  {
   "cell_type": "code",
   "execution_count": 14,
   "id": "99bd70ea",
   "metadata": {},
   "outputs": [
    {
     "name": "stdout",
     "output_type": "stream",
     "text": [
      "Masked Selected Features are: [False False False False False False False False False False False False\n",
      " False False False False False False False False False False False False\n",
      " False False False False False False False False False False False False\n",
      " False False False False False False False False False False False False\n",
      " False False False False False False False  True False False False False\n",
      " False  True False False False False False False False False False False\n",
      " False False False  True False False False False False False False False\n",
      " False False False False False False False False False False False False\n",
      " False False  True False  True  True False False False False False False\n",
      "  True  True False False  True  True False  True  True  True  True  True\n",
      "  True  True  True  True  True  True  True  True  True  True  True  True\n",
      "  True  True  True  True  True  True  True  True  True  True  True  True\n",
      "  True  True  True  True  True  True  True  True  True  True  True  True\n",
      "  True  True  True  True  True  True  True  True  True  True  True  True\n",
      "  True  True  True  True  True  True  True  True  True  True  True  True\n",
      "  True  True  True  True  True  True  True  True  True False  True  True\n",
      "  True  True  True  True False False False  True False False False False\n",
      " False False False False False False False False False False False False\n",
      " False False False False False False False False False False False False\n",
      " False  True False False False False  True False False False  True False\n",
      " False False False False False False False False False False False False\n",
      "  True False False False False False False False False False False False\n",
      " False False False False False False False False False False False False\n",
      " False False False False False False  True False False False False False\n",
      " False False False False False False False False False  True False False]\n",
      "\n",
      " Features' score is: [0.00267867 0.00301731 0.0029227  0.00274388 0.00332338 0.00255462\n",
      " 0.0029976  0.0027993  0.00268652 0.00287997 0.00288133 0.00239812\n",
      " 0.0027902  0.00226728 0.00306414 0.00289765 0.00280531 0.00299157\n",
      " 0.00280101 0.00252344 0.00274832 0.00269107 0.00284732 0.0028261\n",
      " 0.00261095 0.00290898 0.00275222 0.00269162 0.00270779 0.00257993\n",
      " 0.00249436 0.00282522 0.00295002 0.00255614 0.00268108 0.00282521\n",
      " 0.0021894  0.00248868 0.0023182  0.00285269 0.00303947 0.00240747\n",
      " 0.00289621 0.00286404 0.00271675 0.00268543 0.00283909 0.00250241\n",
      " 0.00325948 0.0024632  0.00270876 0.00276838 0.00249626 0.00237023\n",
      " 0.00278303 0.00348346 0.00293053 0.00260184 0.00236315 0.00300818\n",
      " 0.00274847 0.0033904  0.00284776 0.00271239 0.00295766 0.00302863\n",
      " 0.00276842 0.00267351 0.00243885 0.00245712 0.00294623 0.002557\n",
      " 0.00236397 0.00283384 0.0029073  0.00338185 0.00219717 0.00265255\n",
      " 0.00259362 0.00244323 0.00247048 0.00251224 0.00254977 0.00220816\n",
      " 0.00232266 0.00262573 0.00247074 0.00287834 0.00248318 0.00249844\n",
      " 0.00271943 0.00263961 0.00258263 0.00249038 0.0028434  0.00308178\n",
      " 0.00272492 0.00248916 0.00335796 0.00283666 0.00335016 0.00334833\n",
      " 0.00331273 0.00289657 0.00320633 0.00301048 0.00312418 0.00279218\n",
      " 0.00394091 0.00439416 0.00316092 0.00298324 0.00377028 0.00353912\n",
      " 0.00328213 0.00480061 0.00375504 0.00413229 0.00446861 0.00334981\n",
      " 0.00490283 0.00433323 0.00571584 0.00448501 0.00645533 0.00384701\n",
      " 0.00458633 0.00433625 0.00543833 0.00473724 0.00390203 0.0051991\n",
      " 0.0047379  0.00506249 0.00402223 0.0048461  0.00553778 0.00743263\n",
      " 0.00584586 0.00580356 0.00436059 0.00482706 0.00526351 0.00521024\n",
      " 0.00597641 0.00522134 0.00517859 0.00544855 0.0049961  0.00479136\n",
      " 0.00543597 0.00537852 0.00496491 0.00554797 0.00566792 0.00552148\n",
      " 0.00570978 0.0058737  0.00480697 0.00572129 0.00537784 0.00442808\n",
      " 0.00441048 0.00633359 0.00460659 0.00406521 0.00389709 0.00546283\n",
      " 0.00478054 0.00592833 0.00589158 0.00440521 0.00513438 0.00470065\n",
      " 0.00576611 0.00481989 0.00358305 0.00399337 0.00671154 0.00390294\n",
      " 0.00369949 0.00410318 0.0035461  0.00410478 0.00348296 0.00363486\n",
      " 0.00349709 0.00437275 0.0037561  0.00331892 0.00412996 0.00333407\n",
      " 0.00407159 0.00334204 0.00370851 0.0033471  0.0030308  0.00310635\n",
      " 0.00298135 0.0035428  0.00271923 0.00285552 0.00265769 0.00294084\n",
      " 0.00321631 0.00287738 0.00251317 0.00243347 0.00267673 0.00259161\n",
      " 0.0026494  0.00249682 0.00273449 0.00252223 0.00260478 0.00272396\n",
      " 0.00258417 0.00223283 0.00291733 0.00284551 0.00232761 0.0026403\n",
      " 0.00251849 0.0025004  0.00265038 0.00280524 0.00243643 0.00241032\n",
      " 0.00249666 0.00334201 0.00245616 0.0024801  0.00281946 0.00250306\n",
      " 0.00339869 0.00246344 0.00264399 0.00267253 0.00334593 0.00262915\n",
      " 0.00264434 0.00241725 0.00262781 0.002728   0.00274516 0.00315052\n",
      " 0.00278845 0.00256497 0.00294316 0.00268823 0.00250216 0.0029752\n",
      " 0.00348645 0.0031465  0.00273288 0.00313867 0.00283293 0.00243865\n",
      " 0.00255582 0.00306515 0.00270068 0.00260556 0.00291646 0.00310816\n",
      " 0.00297133 0.00279579 0.00303045 0.00248702 0.0025531  0.00301809\n",
      " 0.00284577 0.00265708 0.00286773 0.00333234 0.00262675 0.00324243\n",
      " 0.00256111 0.00308849 0.0030041  0.00323388 0.00284881 0.0027223\n",
      " 0.00352676 0.00284404 0.00322941 0.00300156 0.00231865 0.00305709\n",
      " 0.00282778 0.00242339 0.00305069 0.00307633 0.00314277 0.00270449\n",
      " 0.0031476  0.00264016 0.00323378 0.00336542 0.00272306 0.00246362]\n"
     ]
    }
   ],
   "source": [
    "print(f\"Masked Selected Features are: {selected_features}\\n\\n Features' score is: {features_score}\")"
   ]
  },
  {
   "cell_type": "code",
   "execution_count": 15,
   "id": "ced19ac6",
   "metadata": {},
   "outputs": [
    {
     "name": "stdout",
     "output_type": "stream",
     "text": [
      "[55, 61, 75, 98, 100, 101, 108, 109, 112, 113, 115, 116, 117, 118, 119, 120, 121, 122, 123, 124, 125, 126, 127, 128, 129, 130, 131, 132, 133, 134, 135, 136, 137, 138, 139, 140, 141, 142, 143, 144, 145, 146, 147, 148, 149, 150, 151, 152, 153, 154, 155, 156, 157, 158, 159, 160, 161, 162, 163, 164, 165, 166, 167, 168, 169, 170, 171, 172, 173, 174, 175, 176, 177, 178, 179, 180, 181, 182, 183, 184, 185, 186, 187, 188, 190, 191, 192, 193, 194, 195, 199, 229, 234, 238, 252, 282, 297]\n",
      "[0.00348346 0.0033904  0.00338185 0.00335796 0.00335016 0.00334833\n",
      " 0.00394091 0.00439416 0.00377028 0.00353912 0.00480061 0.00375504\n",
      " 0.00413229 0.00446861 0.00334981 0.00490283 0.00433323 0.00571584\n",
      " 0.00448501 0.00645533 0.00384701 0.00458633 0.00433625 0.00543833\n",
      " 0.00473724 0.00390203 0.0051991  0.0047379  0.00506249 0.00402223\n",
      " 0.0048461  0.00553778 0.00743263 0.00584586 0.00580356 0.00436059\n",
      " 0.00482706 0.00526351 0.00521024 0.00597641 0.00522134 0.00517859\n",
      " 0.00544855 0.0049961  0.00479136 0.00543597 0.00537852 0.00496491\n",
      " 0.00554797 0.00566792 0.00552148 0.00570978 0.0058737  0.00480697\n",
      " 0.00572129 0.00537784 0.00442808 0.00441048 0.00633359 0.00460659\n",
      " 0.00406521 0.00389709 0.00546283 0.00478054 0.00592833 0.00589158\n",
      " 0.00440521 0.00513438 0.00470065 0.00576611 0.00481989 0.00358305\n",
      " 0.00399337 0.00671154 0.00390294 0.00369949 0.00410318 0.0035461\n",
      " 0.00410478 0.00348296 0.00363486 0.00349709 0.00437275 0.0037561\n",
      " 0.00412996 0.00333407 0.00407159 0.00334204 0.00370851 0.0033471\n",
      " 0.0035428  0.00334201 0.00339869 0.00334593 0.00348645 0.00352676\n",
      " 0.00336542]\n"
     ]
    }
   ],
   "source": [
    "features = np.arange(300)\n",
    "feature_set = [y for x,y in zip(selected_features, features) if x]\n",
    "print(feature_set)\n",
    "feature_set_score=features_score[selected_features]\n",
    "print(feature_set_score)"
   ]
  },
  {
   "cell_type": "code",
   "execution_count": 19,
   "id": "5e4ef7f4",
   "metadata": {},
   "outputs": [],
   "source": [
    "sorted_set = sorted(zip(feature_set, feature_set_score), key=lambda x: x[1], reverse=True)"
   ]
  },
  {
   "cell_type": "code",
   "execution_count": 22,
   "id": "8a7ff8cd",
   "metadata": {},
   "outputs": [
    {
     "data": {
      "text/plain": [
       "[(137, 0.00743262840283167),\n",
       " (178, 0.006711542464641204),\n",
       " (124, 0.006455325135160905),\n",
       " (163, 0.006333593547580237),\n",
       " (144, 0.005976411052410293),\n",
       " (169, 0.005928331787669966),\n",
       " (170, 0.005891582400505784),\n",
       " (157, 0.005873699147145881),\n",
       " (138, 0.005845862433566479),\n",
       " (139, 0.005803560344592939),\n",
       " (174, 0.005766114174432165),\n",
       " (159, 0.005721292463560129),\n",
       " (122, 0.005715836332763323),\n",
       " (156, 0.005709776542539554),\n",
       " (154, 0.005667918780083892),\n",
       " (153, 0.005547971377930601),\n",
       " (136, 0.005537781013566727),\n",
       " (155, 0.005521481982144929),\n",
       " (167, 0.005462831194477332),\n",
       " (147, 0.005448547948578395),\n",
       " (128, 0.005438330530534936),\n",
       " (150, 0.005435967118243396),\n",
       " (151, 0.0053785152538658254),\n",
       " (160, 0.005377841099181924),\n",
       " (142, 0.005263512593958996),\n",
       " (145, 0.005221344091104362),\n",
       " (143, 0.005210241004249729),\n",
       " (131, 0.005199098968217911),\n",
       " (146, 0.00517859271586879),\n",
       " (172, 0.005134376734558636),\n",
       " (133, 0.005062494525691799),\n",
       " (148, 0.004996104377041195),\n",
       " (152, 0.004964910199283398),\n",
       " (120, 0.0049028278716697965),\n",
       " (135, 0.004846096288641179),\n",
       " (141, 0.004827060990894343),\n",
       " (175, 0.004819887901121308),\n",
       " (158, 0.004806973694334105),\n",
       " (115, 0.004800609613139289),\n",
       " (149, 0.0047913639556405735),\n",
       " (168, 0.004780542919887585),\n",
       " (132, 0.00473790194373705),\n",
       " (129, 0.00473723519453877),\n",
       " (173, 0.004700650279123214),\n",
       " (164, 0.004606588108133529),\n",
       " (126, 0.004586326297766052),\n",
       " (123, 0.0044850077091179155),\n",
       " (118, 0.004468610144742961),\n",
       " (161, 0.004428081418221586),\n",
       " (162, 0.004410476687134643),\n",
       " (171, 0.0044052057115166856),\n",
       " (109, 0.004394161592454699),\n",
       " (187, 0.004372753237150646),\n",
       " (140, 0.0043605919592119395),\n",
       " (127, 0.004336253898663538),\n",
       " (121, 0.0043332331448279835),\n",
       " (117, 0.004132287321639415),\n",
       " (190, 0.004129961725867081),\n",
       " (183, 0.004104781832408903),\n",
       " (181, 0.004103183831034148),\n",
       " (192, 0.004071593352001073),\n",
       " (165, 0.004065207816690765),\n",
       " (134, 0.004022234682892643),\n",
       " (177, 0.003993373776391667),\n",
       " (108, 0.003940908665152741),\n",
       " (179, 0.0039029350911179406),\n",
       " (130, 0.003902032897593728),\n",
       " (166, 0.003897094751839581),\n",
       " (125, 0.003847014672993569),\n",
       " (112, 0.0037702828395399833),\n",
       " (188, 0.0037561045715295027),\n",
       " (116, 0.0037550434523717603),\n",
       " (194, 0.003708507782290602),\n",
       " (180, 0.003699486750994735),\n",
       " (185, 0.003634857536978877),\n",
       " (176, 0.003583048190047358),\n",
       " (182, 0.0035460973316078547),\n",
       " (199, 0.0035428022634500446),\n",
       " (113, 0.0035391243836376237),\n",
       " (282, 0.003526756772496289),\n",
       " (186, 0.003497086048333034),\n",
       " (252, 0.0034864501167609914),\n",
       " (55, 0.0034834614004907415),\n",
       " (184, 0.00348296359223581),\n",
       " (234, 0.003398689423009574),\n",
       " (61, 0.003390395241049943),\n",
       " (75, 0.0033818462579647034),\n",
       " (297, 0.003365423896841645),\n",
       " (98, 0.0033579595856303474),\n",
       " (100, 0.0033501620599323905),\n",
       " (119, 0.0033498107645925424),\n",
       " (101, 0.003348326901217522),\n",
       " (195, 0.003347099939207611),\n",
       " (238, 0.003345930453071664),\n",
       " (193, 0.003342040788426035),\n",
       " (229, 0.003342005276256033),\n",
       " (191, 0.0033340672882889457)]"
      ]
     },
     "execution_count": 22,
     "metadata": {},
     "output_type": "execute_result"
    }
   ],
   "source": [
    "sorted_set"
   ]
  },
  {
   "cell_type": "code",
   "execution_count": 16,
   "id": "3e7989a9",
   "metadata": {},
   "outputs": [
    {
     "ename": "NameError",
     "evalue": "name 'm_depths' is not defined",
     "output_type": "error",
     "traceback": [
      "\u001b[0;31m---------------------------------------------------------------------------\u001b[0m",
      "\u001b[0;31mNameError\u001b[0m                                 Traceback (most recent call last)",
      "\u001b[0;32m<ipython-input-16-f6c28dff89e6>\u001b[0m in \u001b[0;36m<module>\u001b[0;34m\u001b[0m\n\u001b[1;32m      3\u001b[0m \u001b[0mplt\u001b[0m\u001b[0;34m.\u001b[0m\u001b[0mscatter\u001b[0m\u001b[0;34m(\u001b[0m\u001b[0mN_TRAIN\u001b[0m\u001b[0;34m,\u001b[0m\u001b[0mscores\u001b[0m\u001b[0;34m,\u001b[0m\u001b[0mcolor\u001b[0m\u001b[0;34m=\u001b[0m\u001b[0;34m'black'\u001b[0m\u001b[0;34m)\u001b[0m\u001b[0;34m\u001b[0m\u001b[0;34m\u001b[0m\u001b[0m\n\u001b[1;32m      4\u001b[0m \u001b[0mplt\u001b[0m\u001b[0;34m.\u001b[0m\u001b[0mplot\u001b[0m\u001b[0;34m(\u001b[0m\u001b[0mN_TRAIN\u001b[0m\u001b[0;34m,\u001b[0m\u001b[0mscores\u001b[0m\u001b[0;34m,\u001b[0m\u001b[0mcolor\u001b[0m\u001b[0;34m=\u001b[0m\u001b[0;34m'black'\u001b[0m\u001b[0;34m)\u001b[0m\u001b[0;34m\u001b[0m\u001b[0;34m\u001b[0m\u001b[0m\n\u001b[0;32m----> 5\u001b[0;31m \u001b[0mplt\u001b[0m\u001b[0;34m.\u001b[0m\u001b[0mscatter\u001b[0m\u001b[0;34m(\u001b[0m\u001b[0mm_depths\u001b[0m\u001b[0;34m,\u001b[0m\u001b[0mscores1\u001b[0m\u001b[0;34m,\u001b[0m\u001b[0mcolor\u001b[0m\u001b[0;34m=\u001b[0m\u001b[0;34m'gray'\u001b[0m\u001b[0;34m)\u001b[0m\u001b[0;34m\u001b[0m\u001b[0;34m\u001b[0m\u001b[0m\n\u001b[0m\u001b[1;32m      6\u001b[0m \u001b[0mplt\u001b[0m\u001b[0;34m.\u001b[0m\u001b[0mplot\u001b[0m\u001b[0;34m(\u001b[0m\u001b[0mm_depths\u001b[0m\u001b[0;34m,\u001b[0m\u001b[0mscores1\u001b[0m\u001b[0;34m,\u001b[0m\u001b[0mcolor\u001b[0m\u001b[0;34m=\u001b[0m\u001b[0;34m'gray'\u001b[0m\u001b[0;34m)\u001b[0m\u001b[0;34m\u001b[0m\u001b[0;34m\u001b[0m\u001b[0m\n\u001b[1;32m      7\u001b[0m \u001b[0mplt\u001b[0m\u001b[0;34m.\u001b[0m\u001b[0mxscale\u001b[0m\u001b[0;34m(\u001b[0m\u001b[0;34m'log'\u001b[0m\u001b[0;34m)\u001b[0m\u001b[0;34m\u001b[0m\u001b[0;34m\u001b[0m\u001b[0m\n",
      "\u001b[0;31mNameError\u001b[0m: name 'm_depths' is not defined"
     ]
    },
    {
     "data": {
      "image/png": "[encoded data removed]",
      "text/plain": [
       "<Figure size 432x288 with 1 Axes>"
      ]
     },
     "metadata": {
      "needs_background": "light"
     },
     "output_type": "display_data"
    }
   ],
   "source": [
    "from matplotlib.ticker import ScalarFormatter\n",
    "plt.rcParams['figure.figsize'] = 6, 4\n",
    "plt.scatter(N_TRAIN,scores,color='black')\n",
    "plt.plot(N_TRAIN,scores,color='black')\n",
    "plt.scatter(m_depths,scores1,color='gray')\n",
    "plt.plot(m_depths,scores1,color='gray')\n",
    "plt.xscale('log')\n",
    "plt.xlabel('max_depth',size=15)\n",
    "plt.ylabel('Accuracy',size=15)\n",
    "plt.xticks([1,10,100,1000])\n",
    "ax = gca().xaxis\n",
    "ax.set_major_formatter(ScalarFormatter())\n",
    "#plt.savefig('maxdepth_accuracy.ps',dpi=300,bbox_inches='tight')\n",
    "#ax.set_ticklabel_format(style='plain', axis='x')"
   ]
  },
  {
   "cell_type": "code",
   "execution_count": 17,
   "id": "c0e56ccf",
   "metadata": {},
   "outputs": [
    {
     "name": "stdout",
     "output_type": "stream",
     "text": [
      "Feature ranking:\n",
      "1. feature 172 (0.007533)\n",
      "2. feature 139 (0.007206)\n",
      "3. feature 158 (0.007049)\n",
      "4. feature 163 (0.006563)\n",
      "5. feature 140 (0.006376)\n",
      "6. feature 147 (0.006248)\n",
      "7. feature 171 (0.006148)\n",
      "8. feature 136 (0.006139)\n",
      "9. feature 174 (0.005934)\n",
      "10. feature 167 (0.005910)\n",
      "11. feature 148 (0.005842)\n",
      "12. feature 150 (0.005829)\n",
      "13. feature 157 (0.005769)\n",
      "14. feature 141 (0.005729)\n",
      "15. feature 149 (0.005684)\n",
      "16. feature 121 (0.005650)\n",
      "17. feature 135 (0.005638)\n",
      "18. feature 164 (0.005637)\n",
      "19. feature 165 (0.005603)\n",
      "20. feature 166 (0.005603)\n"
     ]
    }
   ],
   "source": [
    "importances = rand_f.feature_importances_\n",
    "std = np.std([rand_f.feature_importances_ for tree in rand_f.estimators_],\n",
    "             axis=0)\n",
    "indices = np.argsort(importances)[::-1]\n",
    "\n",
    "# Print the feature ranking for the top 20 most important features\n",
    "print(\"Feature ranking:\")\n",
    "\n",
    "for f in range(20):\n",
    "    print(\"%d. feature %d (%f)\" % (f + 1, indices[f], importances[indices[f]]))"
   ]
  },
  {
   "cell_type": "code",
   "execution_count": 28,
   "id": "b6aec163",
   "metadata": {},
   "outputs": [
    {
     "name": "stdout",
     "output_type": "stream",
     "text": [
      "300\n"
     ]
    },
    {
     "data": {
      "image/png": "[encoded data removed]",
      "text/plain": [
       "<Figure size 1080x360 with 2 Axes>"
      ]
     },
     "metadata": {
      "needs_background": "light"
     },
     "output_type": "display_data"
    }
   ],
   "source": [
    "# Plot the features and their importances\n",
    "importances = rand_f.feature_importances_\n",
    "print(len(importances))\n",
    "feats = arange(len(importances))\n",
    "# print(feats)\n",
    "# plt.rcParams['figure.figsize'] = 18, 4\n",
    "plt.figure(figsize=(15, 5))\n",
    "#plt.axvline(x=337, color='r')\n",
    "# plt.axvline(x=3520, color='black',linewidth=1)\n",
    "cm = plt.cm.get_cmap('viridis')\n",
    "im = plt.scatter(feats,importances/np.max(importances),c=importances/np.max(importances),cmap=cm)\n",
    "im.axes.yaxis.set_ticklabels([])\n",
    "#xlim(0,637)\n",
    "xlim(0,300)\n",
    "ylim(0, 1.1)\n",
    "# plt.text(1300,1.25,'Light curve fluxes',size=15)\n",
    "# plt.text(4600,1.25,'Spectral power',size=15)\n",
    "# plt.text(5400,1.15,'Short periods (hours)',size=12)\n",
    "# plt.text(3634,1.15,'Long periods (weeks)',size=12)\n",
    "#print(np.sum(importances[:3234]),np.sum(importances[3234:]))\n",
    "plt.xlabel('Feature ID',size=15)\n",
    "cbar = plt.colorbar(im,pad=0.05)\n",
    "cbar.set_label('Importance',size=15,rotation=270,labelpad=17)"
   ]
  },
  {
   "cell_type": "code",
   "execution_count": 74,
   "id": "8b817745",
   "metadata": {},
   "outputs": [],
   "source": [
    "light_curves=3873\n",
    "def build_similarity_matrix(rand_f, X):\n",
    "    \"\"\"\n",
    "    The function builds the similarity matrix based on the feature matrix X for the results Y\n",
    "    based on the random forest we've trained\n",
    "    the matrix is normalised so that the biggest similarity is 1 and the lowest is 0\n",
    "\n",
    "    This function counts only leaves in which the object is classified as a \"real\" object \n",
    "    it is also implemented to optimize running time, asumming one has enough running memory\n",
    "    \"\"\"\n",
    "\n",
    "    # apply to get the leaf indices\n",
    "    apply_mat = rand_f.apply(X)\n",
    "#     print(apply_mat.shape)\n",
    "    # find the predictions of the sample\n",
    "    is_good_matrix = np.zeros(apply_mat.shape)\n",
    "#     print(is_good_matrix)\n",
    "    for i, est in enumerate(rand_f.estimators_):\n",
    "#         print(\"2222::: \",est.predict_proba(X)[1, 1])\n",
    "        d = est.predict_proba(X)[:, 0] == 1\n",
    "#         print(\"3333::: \",d)\n",
    "#         print(\"4444::: \",est.classes_)\n",
    "        is_good_matrix[:, i] = d\n",
    "#         print(\"44444::: \", is_good_matrix, np.unique(is_good_matrix))\n",
    "    # mark leaves that make the wrong prediction as -1, in order to remove them from the distance measurement\n",
    "    apply_mat[is_good_matrix == False] = -1\n",
    "#     print(np.max(apply_mat))\n",
    "    leaf_pop=np.zeros((np.max(apply_mat[:,:]+1),N_TRAIN))\n",
    "    for i in range(light_curves):\n",
    "        for j in range(N_TRAIN):\n",
    "            if apply_mat[i,j]!= -1:\n",
    "                leaf_pop[apply_mat[i,j],j]+=1\n",
    "                \n",
    "    print(leaf_pop)\n",
    "    \n",
    "    #used to normalize and wieght the results heavily towards trees that corretly identify objects as real or synthetic\n",
    "    Normalization=np.sum(leaf_pop,axis=0)\n",
    "    Norm_mean=np.mean(Normalization)\n",
    "    print('Normalization=',Normalization.shape, Norm_mean)\n",
    "    \n",
    "    #creates the similarity matrix by using the leaf populations rather then pair matching each light curve\n",
    "    sim_vec=np.zeros(light_curves)\n",
    "    for i in range(light_curves):\n",
    "        for j in range(N_TRAIN):\n",
    "            sim_vec[i]+=(leaf_pop[(apply_mat[i,j]),j])/Normalization[j] #adds normalization here '/Normalization[j]'\n",
    "    \n",
    "    print(sim_vec)\n",
    "#     sim_vec/= float(len(sim_vec-1))*N_TRAIN\n",
    "    sim_vec/= N_TRAIN\n",
    "    print(sim_vec)\n",
    "    return sim_vec\n",
    "\n"
   ]
  },
  {
   "cell_type": "code",
   "execution_count": 75,
   "id": "12f59875",
   "metadata": {},
   "outputs": [
    {
     "name": "stdout",
     "output_type": "stream",
     "text": [
      "[[ 0.  0.  0. ...  0.  0.  0.]\n",
      " [ 0.  0.  0. ...  0.  0.  0.]\n",
      " [ 0.  0.  0. ... 16.  0.  0.]\n",
      " ...\n",
      " [ 0.  0.  0. ...  0.  0.  0.]\n",
      " [ 0.  0.  0. ...  0.  0.  0.]\n",
      " [ 0.  0.  0. ...  0.  0.  0.]]\n",
      "Normalization= (50,) 3830.28\n",
      "[7.6507547  7.83581109 6.346375   ... 0.17066166 5.20335194 0.16263548]\n",
      "[0.15301509 0.15671622 0.1269275  ... 0.00341323 0.10406704 0.00325271]\n",
      "[0.84698491 0.84328378 0.8730725  ... 0.99658677 0.89593296 0.99674729]\n"
     ]
    }
   ],
   "source": [
    "sim_matrix = build_similarity_matrix(rand_f, flux)\n",
    "dis_matrix = 1 - sim_matrix\n",
    "print(dis_matrix)"
   ]
  },
  {
   "cell_type": "code",
   "execution_count": 76,
   "id": "eba39dd5",
   "metadata": {},
   "outputs": [
    {
     "data": {
      "text/plain": [
       "Text(0.5, 0, 'Weirdness Score')"
      ]
     },
     "execution_count": 76,
     "metadata": {},
     "output_type": "execute_result"
    },
    {
     "data": {
      "image/png": "[encoded data removed]",
      "text/plain": [
       "<Figure size 432x288 with 1 Axes>"
      ]
     },
     "metadata": {
      "needs_background": "light"
     },
     "output_type": "display_data"
    }
   ],
   "source": [
    "#Plot of Weirdness as a histogram for all objects.\n",
    "sum_vec=dis_matrix\n",
    "plt.rcParams['figure.figsize'] = 6, 4\n",
    "plt.title(\"Weirdness Score Histogram\")\n",
    "tmp = plt.hist(dis_matrix, bins=30, color=\"g\", edgecolor='black', linewidth=1.2)\n",
    "plt.ylabel(\"N\")\n",
    "plt.xlabel(\"Weirdness Score\")"
   ]
  },
  {
   "cell_type": "code",
   "execution_count": 72,
   "id": "74f41847",
   "metadata": {},
   "outputs": [],
   "source": [
    "N_outliers = 200\n",
    "obj_ids = numpy.arange(flux.shape[0])\n",
    "sum_vec_outliers = numpy.sort(sum_vec)[::-1][:N_outliers]\n",
    "obj_ids_outliers = obj_ids[numpy.argsort(sum_vec)][::-1][:N_outliers]\n"
   ]
  },
  {
   "cell_type": "code",
   "execution_count": 73,
   "id": "3c3103e7",
   "metadata": {},
   "outputs": [
    {
     "data": {
      "text/plain": [
       "array([3617, 2963, 2182,  303,  863, 2755, 3593, 1044, 2340,  780, 3139,\n",
       "       3746, 3286, 3295, 1212,  585, 1867, 3607, 1863, 3608, 1389, 1857,\n",
       "       1215, 3745, 3135, 3047, 3712,  454, 3283, 2765, 1475, 1493, 3390,\n",
       "       1162,  691,  501,  973, 1363,  410, 3520, 3346, 2702, 2869, 3397,\n",
       "       1677, 1967, 2527, 2856, 2431, 3379, 3249, 3257,   57,  659, 3179,\n",
       "       3317, 3263,  370, 3402, 3265, 1367, 2135, 1891, 3335,  112, 2130,\n",
       "       2292,   33, 3477, 2096, 2184, 2053, 2070, 1332, 1128, 2180, 3015,\n",
       "        806, 1660, 3495, 3835,  456, 3330, 1416, 2384, 3775, 3605,  171,\n",
       "       1840, 3206,  612, 1583,  847,  304, 3426, 2301, 3872,  411, 3331,\n",
       "       2458,  671,  413, 3509,  617, 1147,  215, 2824, 2111, 1145, 3819,\n",
       "       2146, 1843, 1438, 2794, 3732, 2821, 2455, 1173, 3609, 2302, 3674,\n",
       "       3264,  374, 2551, 2486,  439,   97, 1584, 1797, 1615,  687,  945,\n",
       "       3573,  238, 3735, 3270,  107, 3823, 1451, 1006, 1556, 2954, 3856,\n",
       "       1334, 3526, 1136,  860, 3456, 2114,   75, 3180, 3687,  636,  778,\n",
       "        733, 3493, 1368, 3184, 1804, 2997, 3364, 1184, 1531, 3842, 2380,\n",
       "         35, 2261, 1310, 3365, 1561, 3387,  745, 3471, 1221, 2411, 2349,\n",
       "        995, 1124, 3789,   25, 3787, 3380, 1189, 3863,  711, 2829, 1201,\n",
       "       2542, 2522,  176, 2861,  124,  474, 2454, 1550, 3399, 3106,  869,\n",
       "        465, 3009])"
      ]
     },
     "execution_count": 73,
     "metadata": {},
     "output_type": "execute_result"
    }
   ],
   "source": [
    "obj_ids_outliers"
   ]
  },
  {
   "cell_type": "code",
   "execution_count": 74,
   "id": "99b0f357",
   "metadata": {},
   "outputs": [
    {
     "data": {
      "text/plain": [
       "array([0.99837335, 0.99836303, 0.99834753, 0.99816163, 0.99814098,\n",
       "       0.99812548, 0.9980945 , 0.99808934, 0.99808934, 0.99805319,\n",
       "       0.99805319, 0.99793958, 0.99793442, 0.99792925, 0.99791893,\n",
       "       0.99790343, 0.99790343, 0.99786212, 0.99786212, 0.99786212,\n",
       "       0.99784663, 0.99784147, 0.99782597, 0.99782597, 0.99782597,\n",
       "       0.99780532, 0.99780015, 0.99778983, 0.99778466, 0.99775368,\n",
       "       0.99774852, 0.99774335, 0.99773302, 0.99773302, 0.99772786,\n",
       "       0.9977227 , 0.99770204, 0.99770204, 0.99769171, 0.99768138,\n",
       "       0.99767622, 0.99766589, 0.99766589, 0.99765556, 0.9976504 ,\n",
       "       0.99764524, 0.99763491, 0.99763491, 0.99763491, 0.99760909,\n",
       "       0.99760909, 0.99760909, 0.9975936 , 0.99758843, 0.99758843,\n",
       "       0.9975781 , 0.99757294, 0.99756778, 0.99756778, 0.99755229,\n",
       "       0.99754712, 0.99754196, 0.99753163, 0.99753163, 0.9975213 ,\n",
       "       0.99751097, 0.99750065, 0.99750065, 0.99750065, 0.99749548,\n",
       "       0.99749548, 0.99749548, 0.99749548, 0.99749032, 0.99749032,\n",
       "       0.99748515, 0.99747999, 0.99747483, 0.99746966, 0.99746966,\n",
       "       0.9974645 , 0.99745933, 0.99745933, 0.99745933, 0.99745417,\n",
       "       0.99744901, 0.99744384, 0.99743868, 0.99743868, 0.99743351,\n",
       "       0.99743351, 0.99743351, 0.99742835, 0.99742319, 0.99742319,\n",
       "       0.99742319, 0.99741802, 0.99741286, 0.99740769, 0.99740769,\n",
       "       0.99740769, 0.99740253, 0.99740253, 0.99740253, 0.99739737,\n",
       "       0.9973922 , 0.99738704, 0.99738187, 0.99738187, 0.99737671,\n",
       "       0.99737155, 0.99736638, 0.99736122, 0.99736122, 0.99736122,\n",
       "       0.99735605, 0.99735605, 0.99735089, 0.99735089, 0.99734056,\n",
       "       0.9973354 , 0.9973354 , 0.9973354 , 0.99732507, 0.99731474,\n",
       "       0.99730958, 0.99730958, 0.99730958, 0.99730958, 0.99730442,\n",
       "       0.99730442, 0.99729925, 0.99729409, 0.99729409, 0.99728892,\n",
       "       0.99728376, 0.99728376, 0.9972786 , 0.9972786 , 0.9972786 ,\n",
       "       0.9972786 , 0.99727343, 0.99726827, 0.99726827, 0.99726827,\n",
       "       0.99726827, 0.99725794, 0.99725794, 0.99725278, 0.99725278,\n",
       "       0.99724761, 0.99724761, 0.99723728, 0.99723212, 0.99723212,\n",
       "       0.99721663, 0.99721146, 0.99721146, 0.99721146, 0.99720114,\n",
       "       0.99720114, 0.99720114, 0.99719597, 0.99719597, 0.99719597,\n",
       "       0.99719081, 0.99718564, 0.99718564, 0.99718564, 0.99718564,\n",
       "       0.99717532, 0.99717015, 0.99716499, 0.99716499, 0.99716499,\n",
       "       0.99716499, 0.99716499, 0.99715982, 0.99715982, 0.99715982,\n",
       "       0.99715982, 0.99715982, 0.99715982, 0.99715982, 0.99715466,\n",
       "       0.99715466, 0.9971495 , 0.99714433, 0.99714433, 0.99713917,\n",
       "       0.99713917, 0.99713917, 0.99713917, 0.99713917, 0.997134  ,\n",
       "       0.997134  , 0.997134  , 0.99712368, 0.99712368, 0.99711335])"
      ]
     },
     "execution_count": 74,
     "metadata": {},
     "output_type": "execute_result"
    }
   ],
   "source": [
    "sum_vec_outliers"
   ]
  },
  {
   "cell_type": "code",
   "execution_count": 80,
   "id": "f49e827f",
   "metadata": {},
   "outputs": [
    {
     "name": "stdout",
     "output_type": "stream",
     "text": [
      "[5, 4, 3, 2, 1]\n"
     ]
    }
   ],
   "source": [
    "l=[1,2,3,4,5]\n",
    "print(l[::-1])"
   ]
  },
  {
   "cell_type": "code",
   "execution_count": null,
   "id": "be8d728d",
   "metadata": {},
   "outputs": [],
   "source": []
  }
 ],
 "metadata": {
  "kernelspec": {
   "display_name": "Python 3",
   "language": "python",
   "name": "python3"
  },
  "language_info": {
   "codemirror_mode": {
    "name": "ipython",
    "version": 3
   },
   "file_extension": ".py",
   "mimetype": "text/x-python",
   "name": "python",
   "nbconvert_exporter": "python",
   "pygments_lexer": "ipython3",
   "version": "3.8.8"
  }
 },
 "nbformat": 4,
 "nbformat_minor": 5
}
