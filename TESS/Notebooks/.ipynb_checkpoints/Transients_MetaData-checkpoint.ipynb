{
 "cells": [
  {
   "cell_type": "code",
   "execution_count": 1,
   "id": "75382187",
   "metadata": {},
   "outputs": [],
   "source": [
    "import os\n",
    "import re\n",
    "import pickle\n",
    "import numpy as np\n",
    "import pandas as pd\n",
    "import matplotlib.pyplot as plt"
   ]
  },
  {
   "cell_type": "code",
   "execution_count": 2,
   "id": "39431b6b",
   "metadata": {},
   "outputs": [],
   "source": [
    "path = os.path.dirname(os.path.abspath('Transients_MetaData.ipynb'))\n",
    "total_files=list()\n",
    "cleaned_files=list()\n",
    "ids=list()"
   ]
  },
  {
   "cell_type": "code",
   "execution_count": 4,
   "id": "6ac782b6",
   "metadata": {},
   "outputs": [],
   "source": [
    "for file in os.listdir(\"../light_curves_fausnaugh/light_curves_fausnaugh\"):\n",
    "    total_files.append(file)\n",
    "    if bool(re.search(r\"\\blc_\\d+[a-zA-Z]{1,5}_cleaned\\b\", file)):\n",
    "        cleaned_files.append(file)\n",
    "        ids.extend(re.findall(\"_(.*?)_cleaned\", file))   "
   ]
  },
  {
   "cell_type": "code",
   "execution_count": 4,
   "id": "fc878af2",
   "metadata": {},
   "outputs": [
    {
     "name": "stdout",
     "output_type": "stream",
     "text": [
      "3836 3857 3836\n"
     ]
    }
   ],
   "source": [
    "print(len(cleaned_files), len(total_files), len(ids))"
   ]
  },
  {
   "cell_type": "code",
   "execution_count": 5,
   "id": "072eecda",
   "metadata": {},
   "outputs": [],
   "source": [
    "diff = set(total_files)-set(cleaned_files)"
   ]
  },
  {
   "cell_type": "code",
   "execution_count": 6,
   "id": "742910f3",
   "metadata": {},
   "outputs": [
    {
     "data": {
      "text/plain": [
       "{'lc_2018fhw_detrended_cleaned',\n",
       " 'lc_2018fvi_detrended_cleaned',\n",
       " 'lc_2018hib_detrended_cleaned',\n",
       " 'lc_2018hss_detrended_cleaned',\n",
       " 'lc_2018kfv_detrended_cleaned',\n",
       " 'lc_2019mue_detrended-detrended_cleaned',\n",
       " 'lc_2019mue_detrended_cleaned',\n",
       " 'lc_2019pnw_detrended_cleaned',\n",
       " 'lc_2019prw_detrended_cleaned',\n",
       " 'lc_2019ptv_detrended_cleaned',\n",
       " 'lc_2019qmm_detrended_cleaned',\n",
       " 'lc_2019qsc_detrended_cleaned',\n",
       " 'lc_2019ulr_detrended_cleaned',\n",
       " 'lc_2020kbq_detrended_cleaned',\n",
       " 'lc_2020npk_detrended_cleaned',\n",
       " 'lc_2020to_detrended_cleaned',\n",
       " 'lc_2020wd_detrended_cleaned',\n",
       " 'lc_2020zjf_detrended_cleaned',\n",
       " 'lc_2021bix_detrended_cleaned',\n",
       " 'lc_2021caf_detrended_cleaned',\n",
       " 'lc_GRB191016a_cleaned'}"
      ]
     },
     "execution_count": 6,
     "metadata": {},
     "output_type": "execute_result"
    }
   ],
   "source": [
    "diff"
   ]
  },
  {
   "cell_type": "code",
   "execution_count": 7,
   "id": "b5f89a90",
   "metadata": {},
   "outputs": [
    {
     "data": {
      "text/html": [
       "<div>\n",
       "<style scoped>\n",
       "    .dataframe tbody tr th:only-of-type {\n",
       "        vertical-align: middle;\n",
       "    }\n",
       "\n",
       "    .dataframe tbody tr th {\n",
       "        vertical-align: top;\n",
       "    }\n",
       "\n",
       "    .dataframe thead th {\n",
       "        text-align: right;\n",
       "    }\n",
       "</style>\n",
       "<table border=\"1\" class=\"dataframe\">\n",
       "  <thead>\n",
       "    <tr style=\"text-align: right;\">\n",
       "      <th></th>\n",
       "      <th>0</th>\n",
       "      <th>1</th>\n",
       "      <th>2</th>\n",
       "      <th>3</th>\n",
       "      <th>4</th>\n",
       "      <th>5</th>\n",
       "      <th>6</th>\n",
       "      <th>7</th>\n",
       "      <th>8</th>\n",
       "      <th>9</th>\n",
       "      <th>10</th>\n",
       "      <th>11</th>\n",
       "      <th>12</th>\n",
       "    </tr>\n",
       "  </thead>\n",
       "  <tbody>\n",
       "    <tr>\n",
       "      <th>0</th>\n",
       "      <td>1</td>\n",
       "      <td>327.160083</td>\n",
       "      <td>-43.380019</td>\n",
       "      <td>17.800</td>\n",
       "      <td>1340.34000</td>\n",
       "      <td>SN</td>\n",
       "      <td>SNIa</td>\n",
       "      <td>2018evo</td>\n",
       "      <td>ASAS-SN</td>\n",
       "      <td>1</td>\n",
       "      <td>1</td>\n",
       "      <td>1860.105</td>\n",
       "      <td>322.643</td>\n",
       "    </tr>\n",
       "    <tr>\n",
       "      <th>1</th>\n",
       "      <td>1</td>\n",
       "      <td>315.033417</td>\n",
       "      <td>-40.358594</td>\n",
       "      <td>17.869</td>\n",
       "      <td>1341.92600</td>\n",
       "      <td>SN</td>\n",
       "      <td>SNIa</td>\n",
       "      <td>2018exc</td>\n",
       "      <td>ATLAS</td>\n",
       "      <td>1</td>\n",
       "      <td>1</td>\n",
       "      <td>528.652</td>\n",
       "      <td>1304.728</td>\n",
       "    </tr>\n",
       "    <tr>\n",
       "      <th>2</th>\n",
       "      <td>1</td>\n",
       "      <td>313.474583</td>\n",
       "      <td>-38.015594</td>\n",
       "      <td>18.781</td>\n",
       "      <td>1347.90100</td>\n",
       "      <td>SN</td>\n",
       "      <td>SNII</td>\n",
       "      <td>2018fgb</td>\n",
       "      <td>ATLAS</td>\n",
       "      <td>1</td>\n",
       "      <td>1</td>\n",
       "      <td>424.192</td>\n",
       "      <td>1751.547</td>\n",
       "    </tr>\n",
       "    <tr>\n",
       "      <th>3</th>\n",
       "      <td>1</td>\n",
       "      <td>332.648000</td>\n",
       "      <td>-27.250161</td>\n",
       "      <td>16.700</td>\n",
       "      <td>1331.63000</td>\n",
       "      <td>SN</td>\n",
       "      <td>SNII</td>\n",
       "      <td>2018emt</td>\n",
       "      <td>ASAS-SN</td>\n",
       "      <td>1</td>\n",
       "      <td>3</td>\n",
       "      <td>642.568</td>\n",
       "      <td>1607.839</td>\n",
       "    </tr>\n",
       "    <tr>\n",
       "      <th>4</th>\n",
       "      <td>1</td>\n",
       "      <td>327.584333</td>\n",
       "      <td>-26.300131</td>\n",
       "      <td>19.405</td>\n",
       "      <td>1337.96500</td>\n",
       "      <td>AT</td>\n",
       "      <td>Unclassified</td>\n",
       "      <td>2018esp</td>\n",
       "      <td>ATLAS</td>\n",
       "      <td>1</td>\n",
       "      <td>3</td>\n",
       "      <td>1303.439</td>\n",
       "      <td>1157.924</td>\n",
       "    </tr>\n",
       "    <tr>\n",
       "      <th>5</th>\n",
       "      <td>1</td>\n",
       "      <td>333.257750</td>\n",
       "      <td>-27.671597</td>\n",
       "      <td>18.889</td>\n",
       "      <td>1337.97100</td>\n",
       "      <td>AT</td>\n",
       "      <td>Unclassified</td>\n",
       "      <td>2018esw</td>\n",
       "      <td>ATLAS</td>\n",
       "      <td>1</td>\n",
       "      <td>3</td>\n",
       "      <td>586.494</td>\n",
       "      <td>1712.718</td>\n",
       "    </tr>\n",
       "    <tr>\n",
       "      <th>6</th>\n",
       "      <td>1</td>\n",
       "      <td>331.012583</td>\n",
       "      <td>-22.352822</td>\n",
       "      <td>20.790</td>\n",
       "      <td>1336.98000</td>\n",
       "      <td>AT</td>\n",
       "      <td>Unclassified</td>\n",
       "      <td>2018ewp</td>\n",
       "      <td>Pan-STARRS1</td>\n",
       "      <td>1</td>\n",
       "      <td>3</td>\n",
       "      <td>521.615</td>\n",
       "      <td>711.170</td>\n",
       "    </tr>\n",
       "    <tr>\n",
       "      <th>7</th>\n",
       "      <td>1</td>\n",
       "      <td>323.422667</td>\n",
       "      <td>-22.692589</td>\n",
       "      <td>20.290</td>\n",
       "      <td>1337.91300</td>\n",
       "      <td>AT</td>\n",
       "      <td>Unclassified</td>\n",
       "      <td>2018ezk</td>\n",
       "      <td>Pan-STARRS1</td>\n",
       "      <td>1</td>\n",
       "      <td>3</td>\n",
       "      <td>1692.933</td>\n",
       "      <td>332.070</td>\n",
       "    </tr>\n",
       "    <tr>\n",
       "      <th>8</th>\n",
       "      <td>1</td>\n",
       "      <td>327.721750</td>\n",
       "      <td>-22.455419</td>\n",
       "      <td>20.810</td>\n",
       "      <td>1344.94100</td>\n",
       "      <td>AT</td>\n",
       "      <td>Unclassified</td>\n",
       "      <td>2018fkr</td>\n",
       "      <td>Pan-STARRS1</td>\n",
       "      <td>1</td>\n",
       "      <td>3</td>\n",
       "      <td>1028.213</td>\n",
       "      <td>532.398</td>\n",
       "    </tr>\n",
       "    <tr>\n",
       "      <th>9</th>\n",
       "      <td>1</td>\n",
       "      <td>330.474792</td>\n",
       "      <td>-22.490219</td>\n",
       "      <td>20.660</td>\n",
       "      <td>1343.97899</td>\n",
       "      <td>AT</td>\n",
       "      <td>Unclassified</td>\n",
       "      <td>2018gau</td>\n",
       "      <td>Pan-STARRS1</td>\n",
       "      <td>1</td>\n",
       "      <td>3</td>\n",
       "      <td>613.672</td>\n",
       "      <td>701.318</td>\n",
       "    </tr>\n",
       "  </tbody>\n",
       "</table>\n",
       "</div>"
      ],
      "text/plain": [
       "   0           1          2       3           4   5             6        7   \\\n",
       "0   1  327.160083 -43.380019  17.800  1340.34000  SN          SNIa  2018evo   \n",
       "1   1  315.033417 -40.358594  17.869  1341.92600  SN          SNIa  2018exc   \n",
       "2   1  313.474583 -38.015594  18.781  1347.90100  SN          SNII  2018fgb   \n",
       "3   1  332.648000 -27.250161  16.700  1331.63000  SN          SNII  2018emt   \n",
       "4   1  327.584333 -26.300131  19.405  1337.96500  AT  Unclassified  2018esp   \n",
       "5   1  333.257750 -27.671597  18.889  1337.97100  AT  Unclassified  2018esw   \n",
       "6   1  331.012583 -22.352822  20.790  1336.98000  AT  Unclassified  2018ewp   \n",
       "7   1  323.422667 -22.692589  20.290  1337.91300  AT  Unclassified  2018ezk   \n",
       "8   1  327.721750 -22.455419  20.810  1344.94100  AT  Unclassified  2018fkr   \n",
       "9   1  330.474792 -22.490219  20.660  1343.97899  AT  Unclassified  2018gau   \n",
       "\n",
       "            8   9   10        11        12  \n",
       "0      ASAS-SN   1   1  1860.105   322.643  \n",
       "1        ATLAS   1   1   528.652  1304.728  \n",
       "2        ATLAS   1   1   424.192  1751.547  \n",
       "3      ASAS-SN   1   3   642.568  1607.839  \n",
       "4        ATLAS   1   3  1303.439  1157.924  \n",
       "5        ATLAS   1   3   586.494  1712.718  \n",
       "6  Pan-STARRS1   1   3   521.615   711.170  \n",
       "7  Pan-STARRS1   1   3  1692.933   332.070  \n",
       "8  Pan-STARRS1   1   3  1028.213   532.398  \n",
       "9  Pan-STARRS1   1   3   613.672   701.318  "
      ]
     },
     "execution_count": 7,
     "metadata": {},
     "output_type": "execute_result"
    }
   ],
   "source": [
    "data = pd.read_csv(path+\"/AT_count_transients_s1-47.txt\", sep=r'\\s+', header=None)\n",
    "data.head(10)"
   ]
  },
  {
   "cell_type": "code",
   "execution_count": 8,
   "id": "5cf1a427",
   "metadata": {},
   "outputs": [],
   "source": [
    "classes = data[6].unique()"
   ]
  },
  {
   "cell_type": "code",
   "execution_count": 9,
   "id": "1a8180be",
   "metadata": {},
   "outputs": [
    {
     "name": "stdout",
     "output_type": "stream",
     "text": [
      "26 \n",
      "\n",
      " ['SNIa' 'SNII' 'Unclassified' 'CV' 'SLSN-I' 'AGN' 'SNIc-BL' 'SNIbn' 'SN'\n",
      " 'FRB' 'SNIc' 'SNIb/c' 'SNIIn' 'SNIb' 'SNIa-91T-like' 'Mdwarf' 'SNIIb'\n",
      " 'Nova' 'SNIa-91bg-like' 'Other' 'SNIIP' 'SNI' 'Varstar' 'SNII-pec'\n",
      " 'SNIa-pec' 'SNIa-SC']\n"
     ]
    }
   ],
   "source": [
    "print(len(classes), \"\\n\\n\", classes)"
   ]
  },
  {
   "cell_type": "code",
   "execution_count": 10,
   "id": "042f1b84",
   "metadata": {},
   "outputs": [
    {
     "data": {
      "text/plain": [
       "4403"
      ]
     },
     "execution_count": 10,
     "metadata": {},
     "output_type": "execute_result"
    }
   ],
   "source": [
    "len(data[6])"
   ]
  },
  {
   "cell_type": "code",
   "execution_count": 11,
   "id": "4f7bd406",
   "metadata": {},
   "outputs": [],
   "source": [
    "survey = data[7].unique()"
   ]
  },
  {
   "cell_type": "code",
   "execution_count": 12,
   "id": "1a67a843",
   "metadata": {},
   "outputs": [
    {
     "name": "stdout",
     "output_type": "stream",
     "text": [
      "4400 \n",
      "\n",
      " ['2018evo' '2018exc' '2018fgb' ... '2022gn' '2022op' '2022eg']\n"
     ]
    }
   ],
   "source": [
    "print(len(survey), \"\\n\\n\",survey)"
   ]
  },
  {
   "cell_type": "code",
   "execution_count": 13,
   "id": "3bb1574b",
   "metadata": {},
   "outputs": [],
   "source": [
    "diff_ids =set(ids)- set(survey)"
   ]
  },
  {
   "cell_type": "code",
   "execution_count": 14,
   "id": "174c105c",
   "metadata": {},
   "outputs": [
    {
     "name": "stdout",
     "output_type": "stream",
     "text": [
      "566\n"
     ]
    }
   ],
   "source": [
    "print(len(diff_ids))"
   ]
  },
  {
   "cell_type": "code",
   "execution_count": 15,
   "id": "35804f70",
   "metadata": {},
   "outputs": [],
   "source": [
    "classification = data[5].unique()"
   ]
  },
  {
   "cell_type": "code",
   "execution_count": 16,
   "id": "d3cc5078",
   "metadata": {},
   "outputs": [
    {
     "name": "stdout",
     "output_type": "stream",
     "text": [
      "['SN' 'AT']\n"
     ]
    }
   ],
   "source": [
    "print(classification)"
   ]
  },
  {
   "cell_type": "code",
   "execution_count": 15,
   "id": "0e97e2df",
   "metadata": {},
   "outputs": [],
   "source": [
    "column_names = [\"sector\",\"ra\",\"dec\",\"magnitude at discovery\",\"time of discovery in TESS JD\",\"SN\",\"classification\",\n",
    "                \"IAU name\",\"discovery survey\",\"cam\",\"ccd\",\"column\",\"row\"]"
   ]
  },
  {
   "cell_type": "code",
   "execution_count": 16,
   "id": "97290649",
   "metadata": {},
   "outputs": [],
   "source": [
    "data.columns = column_names"
   ]
  },
  {
   "cell_type": "code",
   "execution_count": 17,
   "id": "70dfd927",
   "metadata": {},
   "outputs": [
    {
     "data": {
      "text/html": [
       "<div>\n",
       "<style scoped>\n",
       "    .dataframe tbody tr th:only-of-type {\n",
       "        vertical-align: middle;\n",
       "    }\n",
       "\n",
       "    .dataframe tbody tr th {\n",
       "        vertical-align: top;\n",
       "    }\n",
       "\n",
       "    .dataframe thead th {\n",
       "        text-align: right;\n",
       "    }\n",
       "</style>\n",
       "<table border=\"1\" class=\"dataframe\">\n",
       "  <thead>\n",
       "    <tr style=\"text-align: right;\">\n",
       "      <th></th>\n",
       "      <th>sector</th>\n",
       "      <th>ra</th>\n",
       "      <th>dec</th>\n",
       "      <th>magnitude at discovery</th>\n",
       "      <th>time of discovery in TESS JD</th>\n",
       "      <th>classification</th>\n",
       "      <th>IAU name</th>\n",
       "      <th>discovery survey</th>\n",
       "      <th>cam</th>\n",
       "      <th>ccd</th>\n",
       "      <th>column</th>\n",
       "      <th>row</th>\n",
       "      <th>idx</th>\n",
       "    </tr>\n",
       "  </thead>\n",
       "  <tbody>\n",
       "    <tr>\n",
       "      <th>0</th>\n",
       "      <td>1</td>\n",
       "      <td>327.160083</td>\n",
       "      <td>-43.380019</td>\n",
       "      <td>17.800</td>\n",
       "      <td>1340.340</td>\n",
       "      <td>SN</td>\n",
       "      <td>SNIa</td>\n",
       "      <td>2018evo</td>\n",
       "      <td>ASAS-SN</td>\n",
       "      <td>1</td>\n",
       "      <td>1</td>\n",
       "      <td>1860.105</td>\n",
       "      <td>322.643</td>\n",
       "    </tr>\n",
       "    <tr>\n",
       "      <th>1</th>\n",
       "      <td>1</td>\n",
       "      <td>315.033417</td>\n",
       "      <td>-40.358594</td>\n",
       "      <td>17.869</td>\n",
       "      <td>1341.926</td>\n",
       "      <td>SN</td>\n",
       "      <td>SNIa</td>\n",
       "      <td>2018exc</td>\n",
       "      <td>ATLAS</td>\n",
       "      <td>1</td>\n",
       "      <td>1</td>\n",
       "      <td>528.652</td>\n",
       "      <td>1304.728</td>\n",
       "    </tr>\n",
       "    <tr>\n",
       "      <th>2</th>\n",
       "      <td>1</td>\n",
       "      <td>313.474583</td>\n",
       "      <td>-38.015594</td>\n",
       "      <td>18.781</td>\n",
       "      <td>1347.901</td>\n",
       "      <td>SN</td>\n",
       "      <td>SNII</td>\n",
       "      <td>2018fgb</td>\n",
       "      <td>ATLAS</td>\n",
       "      <td>1</td>\n",
       "      <td>1</td>\n",
       "      <td>424.192</td>\n",
       "      <td>1751.547</td>\n",
       "    </tr>\n",
       "    <tr>\n",
       "      <th>3</th>\n",
       "      <td>1</td>\n",
       "      <td>332.648000</td>\n",
       "      <td>-27.250161</td>\n",
       "      <td>16.700</td>\n",
       "      <td>1331.630</td>\n",
       "      <td>SN</td>\n",
       "      <td>SNII</td>\n",
       "      <td>2018emt</td>\n",
       "      <td>ASAS-SN</td>\n",
       "      <td>1</td>\n",
       "      <td>3</td>\n",
       "      <td>642.568</td>\n",
       "      <td>1607.839</td>\n",
       "    </tr>\n",
       "    <tr>\n",
       "      <th>4</th>\n",
       "      <td>1</td>\n",
       "      <td>327.584333</td>\n",
       "      <td>-26.300131</td>\n",
       "      <td>19.405</td>\n",
       "      <td>1337.965</td>\n",
       "      <td>AT</td>\n",
       "      <td>Unclassified</td>\n",
       "      <td>2018esp</td>\n",
       "      <td>ATLAS</td>\n",
       "      <td>1</td>\n",
       "      <td>3</td>\n",
       "      <td>1303.439</td>\n",
       "      <td>1157.924</td>\n",
       "    </tr>\n",
       "  </tbody>\n",
       "</table>\n",
       "</div>"
      ],
      "text/plain": [
       "   sector          ra        dec  magnitude at discovery  \\\n",
       "0       1  327.160083 -43.380019                  17.800   \n",
       "1       1  315.033417 -40.358594                  17.869   \n",
       "2       1  313.474583 -38.015594                  18.781   \n",
       "3       1  332.648000 -27.250161                  16.700   \n",
       "4       1  327.584333 -26.300131                  19.405   \n",
       "\n",
       "   time of discovery in TESS JD classification      IAU name discovery survey  \\\n",
       "0                      1340.340             SN          SNIa          2018evo   \n",
       "1                      1341.926             SN          SNIa          2018exc   \n",
       "2                      1347.901             SN          SNII          2018fgb   \n",
       "3                      1331.630             SN          SNII          2018emt   \n",
       "4                      1337.965             AT  Unclassified          2018esp   \n",
       "\n",
       "       cam  ccd  column       row       idx  \n",
       "0  ASAS-SN    1       1  1860.105   322.643  \n",
       "1    ATLAS    1       1   528.652  1304.728  \n",
       "2    ATLAS    1       1   424.192  1751.547  \n",
       "3  ASAS-SN    1       3   642.568  1607.839  \n",
       "4    ATLAS    1       3  1303.439  1157.924  "
      ]
     },
     "execution_count": 17,
     "metadata": {},
     "output_type": "execute_result"
    }
   ],
   "source": [
    "data.head()"
   ]
  },
  {
   "cell_type": "code",
   "execution_count": 18,
   "id": "4ee3525b",
   "metadata": {},
   "outputs": [],
   "source": [
    "data.to_csv(path_or_buf=path+\"/data/Cleaned_AT_Counts_Transients.csv.gz\", header=True, index=False, compression='gzip')"
   ]
  },
  {
   "cell_type": "code",
   "execution_count": null,
   "id": "239bf7c3",
   "metadata": {},
   "outputs": [],
   "source": []
  }
 ],
 "metadata": {
  "kernelspec": {
   "display_name": "Python 3",
   "language": "python",
   "name": "python3"
  },
  "language_info": {
   "codemirror_mode": {
    "name": "ipython",
    "version": 3
   },
   "file_extension": ".py",
   "mimetype": "text/x-python",
   "name": "python",
   "nbconvert_exporter": "python",
   "pygments_lexer": "ipython3",
   "version": "3.8.8"
  }
 },
 "nbformat": 4,
 "nbformat_minor": 5
}
