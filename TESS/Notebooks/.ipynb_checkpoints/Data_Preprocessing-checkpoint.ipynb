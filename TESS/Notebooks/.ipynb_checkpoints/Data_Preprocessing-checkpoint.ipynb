{
 "cells": [
  {
   "cell_type": "code",
   "execution_count": 1,
   "id": "1ead43c4",
   "metadata": {},
   "outputs": [
    {
     "ename": "ModuleNotFoundError",
     "evalue": "No module named 'IForest'",
     "output_type": "error",
     "traceback": [
      "\u001b[0;31m---------------------------------------------------------------------------\u001b[0m",
      "\u001b[0;31mModuleNotFoundError\u001b[0m                       Traceback (most recent call last)",
      "\u001b[0;32m<ipython-input-1-66ae9ba083e0>\u001b[0m in \u001b[0;36m<module>\u001b[0;34m\u001b[0m\n\u001b[1;32m      6\u001b[0m \u001b[0;32mimport\u001b[0m \u001b[0mmatplotlib\u001b[0m\u001b[0;34m.\u001b[0m\u001b[0mpyplot\u001b[0m \u001b[0;32mas\u001b[0m \u001b[0mplt\u001b[0m\u001b[0;34m\u001b[0m\u001b[0;34m\u001b[0m\u001b[0m\n\u001b[1;32m      7\u001b[0m \u001b[0;32mfrom\u001b[0m \u001b[0msklearn\u001b[0m\u001b[0;34m.\u001b[0m\u001b[0mensemble\u001b[0m \u001b[0;32mimport\u001b[0m \u001b[0mIsolationForest\u001b[0m\u001b[0;34m\u001b[0m\u001b[0;34m\u001b[0m\u001b[0m\n\u001b[0;32m----> 8\u001b[0;31m \u001b[0;32mfrom\u001b[0m \u001b[0mIForest\u001b[0m \u001b[0;32mimport\u001b[0m \u001b[0mread_data_samples\u001b[0m\u001b[0;34m\u001b[0m\u001b[0;34m\u001b[0m\u001b[0m\n\u001b[0m\u001b[1;32m      9\u001b[0m \u001b[0;32mfrom\u001b[0m \u001b[0msklearn\u001b[0m\u001b[0;34m.\u001b[0m\u001b[0mpreprocessing\u001b[0m \u001b[0;32mimport\u001b[0m \u001b[0mMinMaxScaler\u001b[0m\u001b[0;34m,\u001b[0m \u001b[0mStandardScaler\u001b[0m\u001b[0;34m\u001b[0m\u001b[0;34m\u001b[0m\u001b[0m\n",
      "\u001b[0;31mModuleNotFoundError\u001b[0m: No module named 'IForest'"
     ]
    }
   ],
   "source": [
    "import os\n",
    "import copy\n",
    "import pickle\n",
    "import numpy as np\n",
    "import pandas as pd\n",
    "import matplotlib.pyplot as plt\n",
    "from sklearn.ensemble import IsolationForest\n",
    "from IForest import read_data_samples\n",
    "from sklearn.preprocessing import MinMaxScaler, StandardScaler"
   ]
  },
  {
   "cell_type": "code",
   "execution_count": 3,
   "id": "94eb86ea",
   "metadata": {},
   "outputs": [],
   "source": [
    "def read_data_samples():\n",
    "\n",
    "    with open('data/lightcurves.pickle', 'rb') as file:\n",
    "        lightcurves = pickle.load(file)\n",
    "\n",
    "    flux = lightcurves['flux']\n",
    "    flux_err = lightcurves['flux_err']\n",
    "    meta_data = lightcurves['metadata']\n",
    "    phase = lightcurves['phase']\n",
    "\n",
    "    return flux, meta_data, flux_err, phase"
   ]
  },
  {
   "cell_type": "code",
   "execution_count": 4,
   "id": "8b053dad",
   "metadata": {},
   "outputs": [],
   "source": [
    "flux, meta_data_pca, flux_err, phase = read_data_samples()"
   ]
  },
  {
   "cell_type": "code",
   "execution_count": 5,
   "id": "a1d0ee8e",
   "metadata": {},
   "outputs": [
    {
     "data": {
      "text/plain": [
       "(3873, 300)"
      ]
     },
     "execution_count": 5,
     "metadata": {},
     "output_type": "execute_result"
    }
   ],
   "source": [
    "flux.shape"
   ]
  },
  {
   "cell_type": "code",
   "execution_count": 6,
   "id": "862c1eaf",
   "metadata": {},
   "outputs": [
    {
     "data": {
      "text/plain": [
       "3873"
      ]
     },
     "execution_count": 6,
     "metadata": {},
     "output_type": "execute_result"
    }
   ],
   "source": [
    "len(meta_data_pca)"
   ]
  },
  {
   "cell_type": "code",
   "execution_count": 7,
   "id": "4aa0d4bd",
   "metadata": {},
   "outputs": [],
   "source": [
    "flux_err = pd.DataFrame(flux_err)"
   ]
  },
  {
   "cell_type": "code",
   "execution_count": 8,
   "id": "050923eb",
   "metadata": {},
   "outputs": [
    {
     "data": {
      "text/plain": [
       "13.594051776590865"
      ]
     },
     "execution_count": 8,
     "metadata": {},
     "output_type": "execute_result"
    }
   ],
   "source": [
    "# max value of the flux_err in (3873, 300) lightcurves before scaling\n",
    "max(flux_err.max())"
   ]
  },
  {
   "cell_type": "code",
   "execution_count": 9,
   "id": "e78c369f",
   "metadata": {},
   "outputs": [
    {
     "data": {
      "text/plain": [
       "-17.259438057093753"
      ]
     },
     "execution_count": 9,
     "metadata": {},
     "output_type": "execute_result"
    }
   ],
   "source": [
    "# min value of the flux_err in (3873, 300) lightcurves before scaling\n",
    "min(flux_err.min())"
   ]
  },
  {
   "cell_type": "code",
   "execution_count": 10,
   "id": "84422f55",
   "metadata": {},
   "outputs": [
    {
     "data": {
      "text/plain": [
       "0      0\n",
       "1      0\n",
       "2      0\n",
       "3      0\n",
       "4      0\n",
       "      ..\n",
       "295    0\n",
       "296    0\n",
       "297    0\n",
       "298    0\n",
       "299    0\n",
       "Length: 300, dtype: int64"
      ]
     },
     "execution_count": 10,
     "metadata": {},
     "output_type": "execute_result"
    }
   ],
   "source": [
    "nan_count = flux_err.isna().sum()\n",
    "nan_count"
   ]
  },
  {
   "cell_type": "code",
   "execution_count": 95,
   "id": "0f9e320f",
   "metadata": {},
   "outputs": [],
   "source": [
    "flux = pd.DataFrame(data)"
   ]
  },
  {
   "cell_type": "code",
   "execution_count": 96,
   "id": "62f74d2b",
   "metadata": {},
   "outputs": [
    {
     "data": {
      "text/plain": [
       "8.49740402632788"
      ]
     },
     "execution_count": 96,
     "metadata": {},
     "output_type": "execute_result"
    }
   ],
   "source": [
    "# max value of the flux in (3873, 300) lightcurves before scaling\n",
    "max(flux.max())"
   ]
  },
  {
   "cell_type": "code",
   "execution_count": 97,
   "id": "9a162c85",
   "metadata": {},
   "outputs": [
    {
     "data": {
      "text/plain": [
       "-14.473855738346012"
      ]
     },
     "execution_count": 97,
     "metadata": {},
     "output_type": "execute_result"
    }
   ],
   "source": [
    "# min value of the flux in (3873, 300) lightcurves before scaling\n",
    "min(flux.min())"
   ]
  },
  {
   "cell_type": "code",
   "execution_count": 44,
   "id": "97cbfebc",
   "metadata": {},
   "outputs": [],
   "source": [
    "#scaler_flux = MinMaxScaler(feature_range=(-1,1), copy=1)\n",
    "scaler_flux = StandardScaler()"
   ]
  },
  {
   "cell_type": "code",
   "execution_count": 45,
   "id": "8a137bc3",
   "metadata": {},
   "outputs": [
    {
     "data": {
      "text/plain": [
       "(3873, 300)"
      ]
     },
     "execution_count": 45,
     "metadata": {},
     "output_type": "execute_result"
    }
   ],
   "source": [
    "flux_1=flux.to_numpy()\n",
    "flux_1.shape"
   ]
  },
  {
   "cell_type": "code",
   "execution_count": 46,
   "id": "c5de456c",
   "metadata": {},
   "outputs": [
    {
     "data": {
      "text/plain": [
       "StandardScaler()"
      ]
     },
     "execution_count": 46,
     "metadata": {},
     "output_type": "execute_result"
    }
   ],
   "source": [
    "scaler_flux.fit(flux_1)"
   ]
  },
  {
   "cell_type": "code",
   "execution_count": 48,
   "id": "4c5939a7",
   "metadata": {},
   "outputs": [
    {
     "data": {
      "text/plain": [
       "300"
      ]
     },
     "execution_count": 48,
     "metadata": {},
     "output_type": "execute_result"
    }
   ],
   "source": [
    "len(scaler_flux.mean_)"
   ]
  },
  {
   "cell_type": "code",
   "execution_count": 60,
   "id": "b7abb5f4",
   "metadata": {},
   "outputs": [],
   "source": [
    "transformed_flux = pd.DataFrame(scaler_flux.transform(flux_1))"
   ]
  },
  {
   "cell_type": "code",
   "execution_count": 61,
   "id": "797b4ad7",
   "metadata": {},
   "outputs": [],
   "source": [
    "nan_count = transformed_flux.isna().sum()"
   ]
  },
  {
   "cell_type": "code",
   "execution_count": 62,
   "id": "c3a8d964",
   "metadata": {},
   "outputs": [
    {
     "data": {
      "text/plain": [
       "0      224\n",
       "1      204\n",
       "2      235\n",
       "3      225\n",
       "4      210\n",
       "      ... \n",
       "295    202\n",
       "296    223\n",
       "297    208\n",
       "298    224\n",
       "299    226\n",
       "Length: 300, dtype: int64"
      ]
     },
     "execution_count": 62,
     "metadata": {},
     "output_type": "execute_result"
    }
   ],
   "source": [
    "nan_count"
   ]
  },
  {
   "cell_type": "code",
   "execution_count": 59,
   "id": "8205a9bd",
   "metadata": {},
   "outputs": [],
   "source": [
    "#transformed_flux = transformed_flux.to_numpy()"
   ]
  },
  {
   "cell_type": "code",
   "execution_count": 52,
   "id": "6d340c76",
   "metadata": {},
   "outputs": [],
   "source": [
    "scaler_flux_err = StandardScaler()"
   ]
  },
  {
   "cell_type": "code",
   "execution_count": 53,
   "id": "55ccd614",
   "metadata": {},
   "outputs": [
    {
     "data": {
      "text/plain": [
       "(3873, 300)"
      ]
     },
     "execution_count": 53,
     "metadata": {},
     "output_type": "execute_result"
    }
   ],
   "source": [
    "flux_2=flux_err.to_numpy()\n",
    "flux_2.shape"
   ]
  },
  {
   "cell_type": "code",
   "execution_count": 54,
   "id": "6ad6932d",
   "metadata": {},
   "outputs": [
    {
     "data": {
      "text/plain": [
       "StandardScaler()"
      ]
     },
     "execution_count": 54,
     "metadata": {},
     "output_type": "execute_result"
    }
   ],
   "source": [
    "scaler_flux_err.fit(flux_2)"
   ]
  },
  {
   "cell_type": "code",
   "execution_count": 55,
   "id": "c391e757",
   "metadata": {},
   "outputs": [],
   "source": [
    "transformed_flux_err = pd.DataFrame(scaler_flux_err.transform(flux_2))"
   ]
  },
  {
   "cell_type": "code",
   "execution_count": 56,
   "id": "28725a55",
   "metadata": {},
   "outputs": [],
   "source": [
    "nan_count = transformed_flux_err.isna().sum()"
   ]
  },
  {
   "cell_type": "code",
   "execution_count": 57,
   "id": "ba6b9984",
   "metadata": {},
   "outputs": [
    {
     "data": {
      "text/plain": [
       "0      224\n",
       "1      204\n",
       "2      235\n",
       "3      225\n",
       "4      210\n",
       "      ... \n",
       "295    202\n",
       "296    223\n",
       "297    208\n",
       "298    224\n",
       "299    226\n",
       "Length: 300, dtype: int64"
      ]
     },
     "execution_count": 57,
     "metadata": {},
     "output_type": "execute_result"
    }
   ],
   "source": [
    "nan_count"
   ]
  },
  {
   "cell_type": "code",
   "execution_count": 58,
   "id": "53577064",
   "metadata": {},
   "outputs": [
    {
     "data": {
      "text/plain": [
       "array([0.0019639 , 0.00195706, 0.0019928 , 0.00197404, 0.0019689 ,\n",
       "       0.00196085, 0.00195912, 0.00195386, 0.00197867, 0.001975  ,\n",
       "       0.00196696, 0.00198874, 0.00196554, 0.002018  , 0.00198528,\n",
       "       0.00203839, 0.00195356, 0.00199115, 0.00195042, 0.00197574,\n",
       "       0.00195374, 0.00194518, 0.00195948, 0.00197378, 0.0019734 ,\n",
       "       0.00196636, 0.0019962 , 0.00198078, 0.00199925, 0.00194976,\n",
       "       0.00198779, 0.00198642, 0.00200184, 0.00196433, 0.00198704,\n",
       "       0.0019774 , 0.00201015, 0.00196547, 0.00200119, 0.00194977,\n",
       "       0.00198642, 0.00198299, 0.00197948, 0.00197389, 0.00194685,\n",
       "       0.00201644, 0.00196416, 0.00197142, 0.0019538 , 0.00197243,\n",
       "       0.00196105, 0.00198217, 0.00198171, 0.00199084, 0.00201336,\n",
       "       0.00196864, 0.00197942, 0.00199148, 0.00196323, 0.0019998 ,\n",
       "       0.0019735 , 0.00196866, 0.00195621, 0.00194017, 0.00200733,\n",
       "       0.00196208, 0.00194853, 0.00195123, 0.001998  , 0.00197594,\n",
       "       0.00198686, 0.00199129, 0.00196707, 0.00197195, 0.00197755,\n",
       "       0.00198301, 0.00196101, 0.00197876, 0.00197264, 0.00196376,\n",
       "       0.00198023, 0.00198216, 0.0020034 , 0.00196982, 0.00198777,\n",
       "       0.00199946, 0.00194815, 0.00196498, 0.00198652, 0.00197096,\n",
       "       0.00197401, 0.00192945, 0.00201001, 0.00197799, 0.00198471,\n",
       "       0.00197493, 0.00197555, 0.00200078, 0.00200133, 0.00201857,\n",
       "       0.00196159, 0.00199431, 0.00193885, 0.00197668, 0.00194556,\n",
       "       0.00194359, 0.00199521, 0.00195852, 0.00195345, 0.00196034,\n",
       "       0.0019902 , 0.00199079, 0.0019767 , 0.00199666, 0.00196796,\n",
       "       0.0019802 , 0.00197423, 0.0019483 , 0.00199959, 0.00195864,\n",
       "       0.00199215, 0.00196544, 0.00198189, 0.00196597, 0.00196782,\n",
       "       0.00195608, 0.00200167, 0.00197729, 0.00195451, 0.00200045,\n",
       "       0.00195054, 0.0019551 , 0.00196268, 0.00195989, 0.00198792,\n",
       "       0.00199153, 0.00197301, 0.00199517, 0.00196518, 0.00196483,\n",
       "       0.00200483, 0.00201171, 0.0019283 , 0.00201296, 0.001993  ,\n",
       "       0.00194625, 0.0019813 , 0.00198542, 0.00197957, 0.00200784,\n",
       "       0.00196679, 0.0019516 , 0.00195372, 0.00197466, 0.00196516,\n",
       "       0.00198075, 0.00199617, 0.00200842, 0.00195813, 0.00196503,\n",
       "       0.00201649, 0.00197922, 0.00198535, 0.00197777, 0.00193343,\n",
       "       0.00199531, 0.00197119, 0.0019771 , 0.00199186, 0.00196753,\n",
       "       0.00199686, 0.00196853, 0.00201203, 0.00194142, 0.00196708,\n",
       "       0.00194863, 0.00201133, 0.00195576, 0.00196478, 0.00200076,\n",
       "       0.00197499, 0.00200378, 0.00196985, 0.0020178 , 0.00201277,\n",
       "       0.00198339, 0.00197326, 0.00195595, 0.00197941, 0.0019494 ,\n",
       "       0.00200128, 0.00194044, 0.00194103, 0.00200273, 0.00198239,\n",
       "       0.00196746, 0.00197412, 0.00198955, 0.00200391, 0.00198007,\n",
       "       0.00200133, 0.00197428, 0.0019852 , 0.00199438, 0.00196832,\n",
       "       0.00196743, 0.00198956, 0.00194475, 0.00197656, 0.00197427,\n",
       "       0.00196563, 0.0019842 , 0.00195385, 0.00197213, 0.00199016,\n",
       "       0.00196367, 0.00197881, 0.00197169, 0.00199984, 0.00195397,\n",
       "       0.00196324, 0.00201561, 0.00194338, 0.00197922, 0.00198907,\n",
       "       0.00195424, 0.00199724, 0.00197393, 0.00198435, 0.00194309,\n",
       "       0.00196782, 0.00193705, 0.00200054, 0.00196816, 0.00199193,\n",
       "       0.00193836, 0.00198066, 0.00199686, 0.00196198, 0.00200759,\n",
       "       0.00197984, 0.00198758, 0.00200395, 0.00196848, 0.00199063,\n",
       "       0.00200375, 0.00196038, 0.00197887, 0.00195911, 0.00199053,\n",
       "       0.00197735, 0.00198973, 0.00196272, 0.0019875 , 0.00198347,\n",
       "       0.0019968 , 0.0019917 , 0.00198035, 0.0019625 , 0.00195546,\n",
       "       0.00200717, 0.00195938, 0.00201381, 0.00197118, 0.00197571,\n",
       "       0.00198229, 0.00197926, 0.00197375, 0.00200687, 0.00196531,\n",
       "       0.00198727, 0.00198702, 0.00198281, 0.00195896, 0.00195956,\n",
       "       0.00199421, 0.00195292, 0.00201342, 0.00197849, 0.00199287,\n",
       "       0.00196752, 0.00199263, 0.00200026, 0.00200468, 0.00198241,\n",
       "       0.00196024, 0.00200506, 0.00196206, 0.00197426, 0.00198288,\n",
       "       0.00197149, 0.00195827, 0.00196456, 0.00196993, 0.0019822 ,\n",
       "       0.00196319, 0.00197615, 0.00197902, 0.00200754, 0.00198379])"
      ]
     },
     "execution_count": 58,
     "metadata": {},
     "output_type": "execute_result"
    }
   ],
   "source": [
    "scaler_flux_err.mean_"
   ]
  },
  {
   "cell_type": "code",
   "execution_count": null,
   "id": "430e2fe5",
   "metadata": {},
   "outputs": [],
   "source": [
    "for i in transformed_flux.index:\n",
    "    transformed_flux[i,:].fillna(value=scaler_flux_.mean_[0], inplace=True)"
   ]
  },
  {
   "cell_type": "code",
   "execution_count": null,
   "id": "a3ba9f21",
   "metadata": {},
   "outputs": [],
   "source": []
  },
  {
   "cell_type": "code",
   "execution_count": 6,
   "id": "8c56e4eb",
   "metadata": {},
   "outputs": [
    {
     "data": {
      "text/plain": [
       "0     -999.000000\n",
       "1     -999.000000\n",
       "2        1.118141\n",
       "3        2.222276\n",
       "4     -999.000000\n",
       "          ...    \n",
       "295   -999.000000\n",
       "296   -999.000000\n",
       "297      0.937858\n",
       "298      0.828275\n",
       "299      0.148749\n",
       "Name: 5294, Length: 300, dtype: float64"
      ]
     },
     "execution_count": 6,
     "metadata": {},
     "output_type": "execute_result"
    }
   ],
   "source": [
    "data.iloc[5294]"
   ]
  },
  {
   "cell_type": "code",
   "execution_count": 19,
   "id": "5490e50b",
   "metadata": {},
   "outputs": [],
   "source": [
    "#data.isin([0]).any().any()"
   ]
  },
  {
   "cell_type": "code",
   "execution_count": 20,
   "id": "3e22d612",
   "metadata": {},
   "outputs": [
    {
     "data": {
      "text/plain": [
       "array([[[0.73780313, 0.11979088],\n",
       "        [0.78423858, 0.216099  ],\n",
       "        [0.25334111, 0.79521053],\n",
       "        [0.89138637, 0.31256196]],\n",
       "\n",
       "       [[0.0946679 , 0.96123092],\n",
       "        [0.45316563, 0.30332329],\n",
       "        [0.88558653, 0.03752898],\n",
       "        [0.24731652, 0.17714908]],\n",
       "\n",
       "       [[0.38790479, 0.43424324],\n",
       "        [0.22609088, 0.93649581],\n",
       "        [0.82349327, 0.90302694],\n",
       "        [0.37770751, 0.54909372]],\n",
       "\n",
       "       [[0.31172601, 0.78406488],\n",
       "        [0.98086383, 0.52837903],\n",
       "        [0.86845391, 0.34937429],\n",
       "        [0.4628602 , 0.63763982]],\n",
       "\n",
       "       [[0.41092724, 0.23234796],\n",
       "        [0.84799911, 0.92188879],\n",
       "        [0.56561307, 0.28682943],\n",
       "        [0.84141901, 0.23122348]],\n",
       "\n",
       "       [[0.87310696, 0.97156844],\n",
       "        [0.59137954, 0.35583593],\n",
       "        [0.74087426, 0.44109485],\n",
       "        [0.7126623 , 0.63964945]],\n",
       "\n",
       "       [[0.50878668, 0.44350428],\n",
       "        [0.85963172, 0.08419489],\n",
       "        [0.39430652, 0.88904934],\n",
       "        [0.63605222, 0.72457631]],\n",
       "\n",
       "       [[0.27459007, 0.85462766],\n",
       "        [0.11474009, 0.40376789],\n",
       "        [0.01921469, 0.00538424],\n",
       "        [0.8126267 , 0.9076475 ]],\n",
       "\n",
       "       [[0.45352244, 0.45877648],\n",
       "        [0.02730504, 0.26189669],\n",
       "        [0.75275942, 0.20190406],\n",
       "        [0.62775079, 0.50815855]],\n",
       "\n",
       "       [[0.64596163, 0.92544804],\n",
       "        [0.11270969, 0.15795428],\n",
       "        [0.8832367 , 0.91462033],\n",
       "        [0.41407605, 0.92993664]]])"
      ]
     },
     "execution_count": 20,
     "metadata": {},
     "output_type": "execute_result"
    }
   ],
   "source": [
    "x = np.random.random((10, 4, 2))\n",
    "x"
   ]
  },
  {
   "cell_type": "code",
   "execution_count": 27,
   "id": "bb261882",
   "metadata": {},
   "outputs": [
    {
     "data": {
      "text/plain": [
       "array([[0.73780313, 0.11979088],\n",
       "       [0.78423858, 0.216099  ],\n",
       "       [0.25334111, 0.79521053],\n",
       "       [0.89138637, 0.31256196]])"
      ]
     },
     "execution_count": 27,
     "metadata": {},
     "output_type": "execute_result"
    }
   ],
   "source": [
    "x[0,:,:]"
   ]
  },
  {
   "cell_type": "code",
   "execution_count": 21,
   "id": "c6148bb8",
   "metadata": {},
   "outputs": [],
   "source": [
    "from sklearn.decomposition import KernelPCA"
   ]
  },
  {
   "cell_type": "code",
   "execution_count": 24,
   "id": "b1cb037a",
   "metadata": {},
   "outputs": [],
   "source": [
    "# Estimator = KernelPCA(n_components=5, kernel='rbf',\n",
    "#                                 gamma= 0.001, alpha= 0.001,\n",
    "#                                 fit_inverse_transform=True,\n",
    "#                                 n_jobs=-1)\n",
    "\n"
   ]
  },
  {
   "cell_type": "code",
   "execution_count": 25,
   "id": "02e33981",
   "metadata": {},
   "outputs": [],
   "source": [
    "x_transform = np.zeros((x.shape[0], 5))"
   ]
  },
  {
   "cell_type": "code",
   "execution_count": 30,
   "id": "fb9d03ba",
   "metadata": {},
   "outputs": [
    {
     "name": "stdout",
     "output_type": "stream",
     "text": [
      "(4, 4) (4, 2)\n"
     ]
    },
    {
     "ename": "ValueError",
     "evalue": "could not broadcast input array from shape (4,4) into shape (5,)",
     "output_type": "error",
     "traceback": [
      "\u001b[0;31m---------------------------------------------------------------------------\u001b[0m",
      "\u001b[0;31mValueError\u001b[0m                                Traceback (most recent call last)",
      "\u001b[0;32m<ipython-input-30-2d3e508485f8>\u001b[0m in \u001b[0;36m<module>\u001b[0;34m\u001b[0m\n\u001b[1;32m      7\u001b[0m     \u001b[0mprint\u001b[0m\u001b[0;34m(\u001b[0m\u001b[0mf\u001b[0m\u001b[0;34m.\u001b[0m\u001b[0mshape\u001b[0m\u001b[0;34m,\u001b[0m \u001b[0mx\u001b[0m\u001b[0;34m[\u001b[0m\u001b[0mi\u001b[0m\u001b[0;34m,\u001b[0m\u001b[0;34m:\u001b[0m\u001b[0;34m,\u001b[0m\u001b[0;34m:\u001b[0m\u001b[0;34m]\u001b[0m\u001b[0;34m.\u001b[0m\u001b[0mshape\u001b[0m\u001b[0;34m)\u001b[0m\u001b[0;34m\u001b[0m\u001b[0;34m\u001b[0m\u001b[0m\n\u001b[1;32m      8\u001b[0m \u001b[0;34m\u001b[0m\u001b[0m\n\u001b[0;32m----> 9\u001b[0;31m     \u001b[0mx_transform\u001b[0m\u001b[0;34m[\u001b[0m\u001b[0mi\u001b[0m\u001b[0;34m,\u001b[0m\u001b[0;34m:\u001b[0m\u001b[0;34m]\u001b[0m \u001b[0;34m=\u001b[0m \u001b[0mf\u001b[0m\u001b[0;34m\u001b[0m\u001b[0;34m\u001b[0m\u001b[0m\n\u001b[0m\u001b[1;32m     10\u001b[0m \u001b[0;34m\u001b[0m\u001b[0m\n\u001b[1;32m     11\u001b[0m \u001b[0;34m\u001b[0m\u001b[0m\n",
      "\u001b[0;31mValueError\u001b[0m: could not broadcast input array from shape (4,4) into shape (5,)"
     ]
    }
   ],
   "source": [
    "for i in range(x.shape[0]):\n",
    "    Estimator = KernelPCA(n_components=5, kernel='rbf',\n",
    "                                gamma= 0.001, alpha= 0.001,\n",
    "                                fit_inverse_transform=True,\n",
    "                                n_jobs=-1)\n",
    "    f  = Estimator.fit_transform(x[i, :, :])\n",
    "    print(f.shape, x[i,:,:].shape)\n",
    "\n",
    "    x_transform[i,:] = f\n",
    "\n",
    "    "
   ]
  },
  {
   "cell_type": "code",
   "execution_count": 23,
   "id": "677d8634",
   "metadata": {},
   "outputs": [
    {
     "ename": "ValueError",
     "evalue": "Found array with dim 3. Estimator expected <= 2.",
     "output_type": "error",
     "traceback": [
      "\u001b[0;31m---------------------------------------------------------------------------\u001b[0m",
      "\u001b[0;31mValueError\u001b[0m                                Traceback (most recent call last)",
      "\u001b[0;32m<ipython-input-23-27d1271cb065>\u001b[0m in \u001b[0;36m<module>\u001b[0;34m\u001b[0m\n\u001b[0;32m----> 1\u001b[0;31m \u001b[0mEstimator\u001b[0m\u001b[0;34m.\u001b[0m\u001b[0mfit\u001b[0m\u001b[0;34m(\u001b[0m\u001b[0mx\u001b[0m\u001b[0;34m,\u001b[0m \u001b[0my\u001b[0m\u001b[0;34m=\u001b[0m\u001b[0;32mNone\u001b[0m\u001b[0;34m)\u001b[0m\u001b[0;34m\u001b[0m\u001b[0;34m\u001b[0m\u001b[0m\n\u001b[0m",
      "\u001b[0;32m/opt/anaconda3/lib/python3.8/site-packages/sklearn/decomposition/_kernel_pca.py\u001b[0m in \u001b[0;36mfit\u001b[0;34m(self, X, y)\u001b[0m\n\u001b[1;32m    281\u001b[0m             \u001b[0mReturns\u001b[0m \u001b[0mthe\u001b[0m \u001b[0minstance\u001b[0m \u001b[0mitself\u001b[0m\u001b[0;34m.\u001b[0m\u001b[0;34m\u001b[0m\u001b[0;34m\u001b[0m\u001b[0m\n\u001b[1;32m    282\u001b[0m         \"\"\"\n\u001b[0;32m--> 283\u001b[0;31m         \u001b[0mX\u001b[0m \u001b[0;34m=\u001b[0m \u001b[0mself\u001b[0m\u001b[0;34m.\u001b[0m\u001b[0m_validate_data\u001b[0m\u001b[0;34m(\u001b[0m\u001b[0mX\u001b[0m\u001b[0;34m,\u001b[0m \u001b[0maccept_sparse\u001b[0m\u001b[0;34m=\u001b[0m\u001b[0;34m'csr'\u001b[0m\u001b[0;34m,\u001b[0m \u001b[0mcopy\u001b[0m\u001b[0;34m=\u001b[0m\u001b[0mself\u001b[0m\u001b[0;34m.\u001b[0m\u001b[0mcopy_X\u001b[0m\u001b[0;34m)\u001b[0m\u001b[0;34m\u001b[0m\u001b[0;34m\u001b[0m\u001b[0m\n\u001b[0m\u001b[1;32m    284\u001b[0m         \u001b[0mself\u001b[0m\u001b[0;34m.\u001b[0m\u001b[0m_centerer\u001b[0m \u001b[0;34m=\u001b[0m \u001b[0mKernelCenterer\u001b[0m\u001b[0;34m(\u001b[0m\u001b[0;34m)\u001b[0m\u001b[0;34m\u001b[0m\u001b[0;34m\u001b[0m\u001b[0m\n\u001b[1;32m    285\u001b[0m         \u001b[0mK\u001b[0m \u001b[0;34m=\u001b[0m \u001b[0mself\u001b[0m\u001b[0;34m.\u001b[0m\u001b[0m_get_kernel\u001b[0m\u001b[0;34m(\u001b[0m\u001b[0mX\u001b[0m\u001b[0;34m)\u001b[0m\u001b[0;34m\u001b[0m\u001b[0;34m\u001b[0m\u001b[0m\n",
      "\u001b[0;32m/opt/anaconda3/lib/python3.8/site-packages/sklearn/base.py\u001b[0m in \u001b[0;36m_validate_data\u001b[0;34m(self, X, y, reset, validate_separately, **check_params)\u001b[0m\n\u001b[1;32m    419\u001b[0m             \u001b[0mout\u001b[0m \u001b[0;34m=\u001b[0m \u001b[0mX\u001b[0m\u001b[0;34m\u001b[0m\u001b[0;34m\u001b[0m\u001b[0m\n\u001b[1;32m    420\u001b[0m         \u001b[0;32melif\u001b[0m \u001b[0misinstance\u001b[0m\u001b[0;34m(\u001b[0m\u001b[0my\u001b[0m\u001b[0;34m,\u001b[0m \u001b[0mstr\u001b[0m\u001b[0;34m)\u001b[0m \u001b[0;32mand\u001b[0m \u001b[0my\u001b[0m \u001b[0;34m==\u001b[0m \u001b[0;34m'no_validation'\u001b[0m\u001b[0;34m:\u001b[0m\u001b[0;34m\u001b[0m\u001b[0;34m\u001b[0m\u001b[0m\n\u001b[0;32m--> 421\u001b[0;31m             \u001b[0mX\u001b[0m \u001b[0;34m=\u001b[0m \u001b[0mcheck_array\u001b[0m\u001b[0;34m(\u001b[0m\u001b[0mX\u001b[0m\u001b[0;34m,\u001b[0m \u001b[0;34m**\u001b[0m\u001b[0mcheck_params\u001b[0m\u001b[0;34m)\u001b[0m\u001b[0;34m\u001b[0m\u001b[0;34m\u001b[0m\u001b[0m\n\u001b[0m\u001b[1;32m    422\u001b[0m             \u001b[0mout\u001b[0m \u001b[0;34m=\u001b[0m \u001b[0mX\u001b[0m\u001b[0;34m\u001b[0m\u001b[0;34m\u001b[0m\u001b[0m\n\u001b[1;32m    423\u001b[0m         \u001b[0;32melse\u001b[0m\u001b[0;34m:\u001b[0m\u001b[0;34m\u001b[0m\u001b[0;34m\u001b[0m\u001b[0m\n",
      "\u001b[0;32m/opt/anaconda3/lib/python3.8/site-packages/sklearn/utils/validation.py\u001b[0m in \u001b[0;36minner_f\u001b[0;34m(*args, **kwargs)\u001b[0m\n\u001b[1;32m     61\u001b[0m             \u001b[0mextra_args\u001b[0m \u001b[0;34m=\u001b[0m \u001b[0mlen\u001b[0m\u001b[0;34m(\u001b[0m\u001b[0margs\u001b[0m\u001b[0;34m)\u001b[0m \u001b[0;34m-\u001b[0m \u001b[0mlen\u001b[0m\u001b[0;34m(\u001b[0m\u001b[0mall_args\u001b[0m\u001b[0;34m)\u001b[0m\u001b[0;34m\u001b[0m\u001b[0;34m\u001b[0m\u001b[0m\n\u001b[1;32m     62\u001b[0m             \u001b[0;32mif\u001b[0m \u001b[0mextra_args\u001b[0m \u001b[0;34m<=\u001b[0m \u001b[0;36m0\u001b[0m\u001b[0;34m:\u001b[0m\u001b[0;34m\u001b[0m\u001b[0;34m\u001b[0m\u001b[0m\n\u001b[0;32m---> 63\u001b[0;31m                 \u001b[0;32mreturn\u001b[0m \u001b[0mf\u001b[0m\u001b[0;34m(\u001b[0m\u001b[0;34m*\u001b[0m\u001b[0margs\u001b[0m\u001b[0;34m,\u001b[0m \u001b[0;34m**\u001b[0m\u001b[0mkwargs\u001b[0m\u001b[0;34m)\u001b[0m\u001b[0;34m\u001b[0m\u001b[0;34m\u001b[0m\u001b[0m\n\u001b[0m\u001b[1;32m     64\u001b[0m \u001b[0;34m\u001b[0m\u001b[0m\n\u001b[1;32m     65\u001b[0m             \u001b[0;31m# extra_args > 0\u001b[0m\u001b[0;34m\u001b[0m\u001b[0;34m\u001b[0m\u001b[0;34m\u001b[0m\u001b[0m\n",
      "\u001b[0;32m/opt/anaconda3/lib/python3.8/site-packages/sklearn/utils/validation.py\u001b[0m in \u001b[0;36mcheck_array\u001b[0;34m(array, accept_sparse, accept_large_sparse, dtype, order, copy, force_all_finite, ensure_2d, allow_nd, ensure_min_samples, ensure_min_features, estimator)\u001b[0m\n\u001b[1;32m    657\u001b[0m                     \"into decimal numbers with dtype='numeric'\") from e\n\u001b[1;32m    658\u001b[0m         \u001b[0;32mif\u001b[0m \u001b[0;32mnot\u001b[0m \u001b[0mallow_nd\u001b[0m \u001b[0;32mand\u001b[0m \u001b[0marray\u001b[0m\u001b[0;34m.\u001b[0m\u001b[0mndim\u001b[0m \u001b[0;34m>=\u001b[0m \u001b[0;36m3\u001b[0m\u001b[0;34m:\u001b[0m\u001b[0;34m\u001b[0m\u001b[0;34m\u001b[0m\u001b[0m\n\u001b[0;32m--> 659\u001b[0;31m             raise ValueError(\"Found array with dim %d. %s expected <= 2.\"\n\u001b[0m\u001b[1;32m    660\u001b[0m                              % (array.ndim, estimator_name))\n\u001b[1;32m    661\u001b[0m \u001b[0;34m\u001b[0m\u001b[0m\n",
      "\u001b[0;31mValueError\u001b[0m: Found array with dim 3. Estimator expected <= 2."
     ]
    }
   ],
   "source": [
    "print((x_transform.shape))"
   ]
  },
  {
   "cell_type": "code",
   "execution_count": null,
   "id": "7c7e51b6",
   "metadata": {},
   "outputs": [],
   "source": []
  }
 ],
 "metadata": {
  "kernelspec": {
   "display_name": "Python 3",
   "language": "python",
   "name": "python3"
  },
  "language_info": {
   "codemirror_mode": {
    "name": "ipython",
    "version": 3
   },
   "file_extension": ".py",
   "mimetype": "text/x-python",
   "name": "python",
   "nbconvert_exporter": "python",
   "pygments_lexer": "ipython3",
   "version": "3.8.8"
  }
 },
 "nbformat": 4,
 "nbformat_minor": 5
}
