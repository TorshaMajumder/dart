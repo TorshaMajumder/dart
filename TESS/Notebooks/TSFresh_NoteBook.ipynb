{
 "cells": [
  {
   "cell_type": "code",
   "execution_count": 78,
   "id": "ef104a70",
   "metadata": {},
   "outputs": [],
   "source": [
    "import os\n",
    "import copy\n",
    "import pickle\n",
    "import numpy as np\n",
    "import pandas as pd\n",
    "import tsfresh as tf\n",
    "import matplotlib.pyplot as plt\n",
    "from sklearn.ensemble import IsolationForest\n",
    "from IForest import read_data_samples"
   ]
  },
  {
   "cell_type": "code",
   "execution_count": 79,
   "id": "7908cc28",
   "metadata": {},
   "outputs": [],
   "source": [
    "# X_train = read_data_samples()\n",
    "# type(X_train)\n",
    "# X_train = pd.DataFrame(X_train)\n",
    "# print(type(X_train), X_train.shape)\n",
    "def read_data_samples():\n",
    "\n",
    "    with open('data/lightcurves.pickle', 'rb') as file:\n",
    "        lightcurves = pickle.load(file)\n",
    "\n",
    "    filtered_lcs = lightcurves['pca']\n",
    "    flux = filtered_lcs['flux_pca']\n",
    "    phase = lightcurves['phase']\n",
    "    metadata = filtered_lcs['metadata_pca']\n",
    "    return flux, phase, metadata\n",
    "\n"
   ]
  },
  {
   "cell_type": "code",
   "execution_count": 80,
   "id": "add482e0",
   "metadata": {},
   "outputs": [
    {
     "name": "stdout",
     "output_type": "stream",
     "text": [
      "TOI 101.01\n"
     ]
    }
   ],
   "source": [
    "flux, phase, metadata  = read_data_samples()\n",
    "print(metadata[0][1])"
   ]
  },
  {
   "cell_type": "code",
   "execution_count": 92,
   "id": "e2c1da5b",
   "metadata": {},
   "outputs": [],
   "source": [
    "df = pd.DataFrame()\n",
    "data = []"
   ]
  },
  {
   "cell_type": "code",
   "execution_count": null,
   "id": "f8188b1b",
   "metadata": {},
   "outputs": [
    {
     "name": "stdout",
     "output_type": "stream",
     "text": [
      "0 TOI 101.01\n",
      "1 TOI 102.01\n",
      "2 TOI 103.01\n",
      "3 TOI 104.01\n",
      "4 TOI 105.01\n",
      "5 TOI 106.01\n",
      "6 TOI 107.01\n",
      "7 TOI 108.01\n",
      "8 TOI 109.01\n"
     ]
    }
   ],
   "source": [
    "\n",
    "for idx in range(10):\n",
    "    print(idx, metadata[idx][1])\n",
    "    for i, lc in enumerate(zip(phase, flux[idx])):\n",
    "        #data = [metadata[idx][1],idx, len(lc)]\n",
    "        #print(i)\n",
    "        #data_1 = [metadata[idx][1],idx, phase[i],flux[idx][i]]\n",
    "        data.append([idx,metadata[idx][1],phase[i],flux[idx][i]])\n",
    "        df = df.append(data, ignore_index=True)\n",
    "print(len(data), df.shape)"
   ]
  },
  {
   "cell_type": "code",
   "execution_count": 83,
   "id": "b6437ac3",
   "metadata": {},
   "outputs": [
    {
     "data": {
      "text/plain": [
       "(45150, 4)"
      ]
     },
     "execution_count": 83,
     "metadata": {},
     "output_type": "execute_result"
    }
   ],
   "source": [
    "df.columns = ['ID', 'TOI', 'PHASE', 'FLUX']\n",
    "df.head()"
   ]
  },
  {
   "cell_type": "code",
   "execution_count": 29,
   "id": "2b76a40d",
   "metadata": {},
   "outputs": [
    {
     "name": "stdout",
     "output_type": "stream",
     "text": [
      "        id\n",
      "0        0\n",
      "1        1\n",
      "2        2\n",
      "3        3\n",
      "4        4\n",
      "...    ...\n",
      "3868  3868\n",
      "3869  3869\n",
      "3870  3870\n",
      "3871  3871\n",
      "3872  3872\n",
      "\n",
      "[3873 rows x 1 columns]\n"
     ]
    }
   ],
   "source": [
    "id = pd.DataFrame(np.arange(X_train.shape[0]), columns=['id'])\n",
    "\n",
    "print(id)"
   ]
  },
  {
   "cell_type": "code",
   "execution_count": 30,
   "id": "466bf06d",
   "metadata": {},
   "outputs": [],
   "source": [
    "X_train_new = pd.concat([X_train,id], axis=1)"
   ]
  },
  {
   "cell_type": "code",
   "execution_count": 31,
   "id": "99fc4687",
   "metadata": {},
   "outputs": [
    {
     "data": {
      "text/html": [
       "<div>\n",
       "<style scoped>\n",
       "    .dataframe tbody tr th:only-of-type {\n",
       "        vertical-align: middle;\n",
       "    }\n",
       "\n",
       "    .dataframe tbody tr th {\n",
       "        vertical-align: top;\n",
       "    }\n",
       "\n",
       "    .dataframe thead th {\n",
       "        text-align: right;\n",
       "    }\n",
       "</style>\n",
       "<table border=\"1\" class=\"dataframe\">\n",
       "  <thead>\n",
       "    <tr style=\"text-align: right;\">\n",
       "      <th></th>\n",
       "      <th>0</th>\n",
       "      <th>1</th>\n",
       "      <th>2</th>\n",
       "      <th>3</th>\n",
       "      <th>4</th>\n",
       "      <th>5</th>\n",
       "      <th>6</th>\n",
       "      <th>7</th>\n",
       "      <th>8</th>\n",
       "      <th>9</th>\n",
       "      <th>...</th>\n",
       "      <th>291</th>\n",
       "      <th>292</th>\n",
       "      <th>293</th>\n",
       "      <th>294</th>\n",
       "      <th>295</th>\n",
       "      <th>296</th>\n",
       "      <th>297</th>\n",
       "      <th>298</th>\n",
       "      <th>299</th>\n",
       "      <th>id</th>\n",
       "    </tr>\n",
       "  </thead>\n",
       "  <tbody>\n",
       "    <tr>\n",
       "      <th>0</th>\n",
       "      <td>0.870396</td>\n",
       "      <td>0.892080</td>\n",
       "      <td>0.934002</td>\n",
       "      <td>0.886314</td>\n",
       "      <td>1.100369</td>\n",
       "      <td>0.875189</td>\n",
       "      <td>0.501849</td>\n",
       "      <td>0.992154</td>\n",
       "      <td>0.685734</td>\n",
       "      <td>0.498926</td>\n",
       "      <td>...</td>\n",
       "      <td>0.340511</td>\n",
       "      <td>0.750367</td>\n",
       "      <td>0.926630</td>\n",
       "      <td>0.686004</td>\n",
       "      <td>1.036088</td>\n",
       "      <td>0.746951</td>\n",
       "      <td>0.775723</td>\n",
       "      <td>0.987995</td>\n",
       "      <td>0.940577</td>\n",
       "      <td>0</td>\n",
       "    </tr>\n",
       "    <tr>\n",
       "      <th>1</th>\n",
       "      <td>0.891579</td>\n",
       "      <td>0.885641</td>\n",
       "      <td>0.882510</td>\n",
       "      <td>0.924268</td>\n",
       "      <td>0.871970</td>\n",
       "      <td>0.877393</td>\n",
       "      <td>0.885909</td>\n",
       "      <td>0.850567</td>\n",
       "      <td>0.858567</td>\n",
       "      <td>0.884687</td>\n",
       "      <td>...</td>\n",
       "      <td>0.858509</td>\n",
       "      <td>0.879722</td>\n",
       "      <td>0.889632</td>\n",
       "      <td>0.854519</td>\n",
       "      <td>0.877679</td>\n",
       "      <td>0.864638</td>\n",
       "      <td>0.873498</td>\n",
       "      <td>0.872085</td>\n",
       "      <td>0.858586</td>\n",
       "      <td>1</td>\n",
       "    </tr>\n",
       "    <tr>\n",
       "      <th>2</th>\n",
       "      <td>1.033120</td>\n",
       "      <td>1.109432</td>\n",
       "      <td>0.774045</td>\n",
       "      <td>1.025128</td>\n",
       "      <td>0.618060</td>\n",
       "      <td>1.007426</td>\n",
       "      <td>0.979914</td>\n",
       "      <td>0.871384</td>\n",
       "      <td>0.813820</td>\n",
       "      <td>0.979216</td>\n",
       "      <td>...</td>\n",
       "      <td>0.965747</td>\n",
       "      <td>0.925661</td>\n",
       "      <td>1.049105</td>\n",
       "      <td>0.985989</td>\n",
       "      <td>0.589104</td>\n",
       "      <td>0.605810</td>\n",
       "      <td>0.745413</td>\n",
       "      <td>1.146107</td>\n",
       "      <td>0.572609</td>\n",
       "      <td>2</td>\n",
       "    </tr>\n",
       "    <tr>\n",
       "      <th>3</th>\n",
       "      <td>0.942708</td>\n",
       "      <td>0.819871</td>\n",
       "      <td>0.933520</td>\n",
       "      <td>0.897263</td>\n",
       "      <td>0.910409</td>\n",
       "      <td>0.732020</td>\n",
       "      <td>0.860440</td>\n",
       "      <td>1.113676</td>\n",
       "      <td>0.953098</td>\n",
       "      <td>1.125904</td>\n",
       "      <td>...</td>\n",
       "      <td>0.788844</td>\n",
       "      <td>0.974442</td>\n",
       "      <td>0.957480</td>\n",
       "      <td>0.850687</td>\n",
       "      <td>0.766828</td>\n",
       "      <td>1.063142</td>\n",
       "      <td>0.862136</td>\n",
       "      <td>0.726471</td>\n",
       "      <td>0.988012</td>\n",
       "      <td>3</td>\n",
       "    </tr>\n",
       "    <tr>\n",
       "      <th>4</th>\n",
       "      <td>0.870169</td>\n",
       "      <td>0.870146</td>\n",
       "      <td>0.832725</td>\n",
       "      <td>0.818645</td>\n",
       "      <td>0.859520</td>\n",
       "      <td>1.033828</td>\n",
       "      <td>0.911043</td>\n",
       "      <td>0.950082</td>\n",
       "      <td>0.900807</td>\n",
       "      <td>0.898007</td>\n",
       "      <td>...</td>\n",
       "      <td>0.950862</td>\n",
       "      <td>0.885890</td>\n",
       "      <td>0.834767</td>\n",
       "      <td>0.927843</td>\n",
       "      <td>0.862388</td>\n",
       "      <td>0.772227</td>\n",
       "      <td>0.810497</td>\n",
       "      <td>0.900142</td>\n",
       "      <td>0.858969</td>\n",
       "      <td>4</td>\n",
       "    </tr>\n",
       "  </tbody>\n",
       "</table>\n",
       "<p>5 rows × 301 columns</p>\n",
       "</div>"
      ],
      "text/plain": [
       "          0         1         2         3         4         5         6  \\\n",
       "0  0.870396  0.892080  0.934002  0.886314  1.100369  0.875189  0.501849   \n",
       "1  0.891579  0.885641  0.882510  0.924268  0.871970  0.877393  0.885909   \n",
       "2  1.033120  1.109432  0.774045  1.025128  0.618060  1.007426  0.979914   \n",
       "3  0.942708  0.819871  0.933520  0.897263  0.910409  0.732020  0.860440   \n",
       "4  0.870169  0.870146  0.832725  0.818645  0.859520  1.033828  0.911043   \n",
       "\n",
       "          7         8         9  ...       291       292       293       294  \\\n",
       "0  0.992154  0.685734  0.498926  ...  0.340511  0.750367  0.926630  0.686004   \n",
       "1  0.850567  0.858567  0.884687  ...  0.858509  0.879722  0.889632  0.854519   \n",
       "2  0.871384  0.813820  0.979216  ...  0.965747  0.925661  1.049105  0.985989   \n",
       "3  1.113676  0.953098  1.125904  ...  0.788844  0.974442  0.957480  0.850687   \n",
       "4  0.950082  0.900807  0.898007  ...  0.950862  0.885890  0.834767  0.927843   \n",
       "\n",
       "        295       296       297       298       299  id  \n",
       "0  1.036088  0.746951  0.775723  0.987995  0.940577   0  \n",
       "1  0.877679  0.864638  0.873498  0.872085  0.858586   1  \n",
       "2  0.589104  0.605810  0.745413  1.146107  0.572609   2  \n",
       "3  0.766828  1.063142  0.862136  0.726471  0.988012   3  \n",
       "4  0.862388  0.772227  0.810497  0.900142  0.858969   4  \n",
       "\n",
       "[5 rows x 301 columns]"
      ]
     },
     "execution_count": 31,
     "metadata": {},
     "output_type": "execute_result"
    }
   ],
   "source": [
    "X_train_new.head()\n"
   ]
  },
  {
   "cell_type": "code",
   "execution_count": 33,
   "id": "3f0e8617",
   "metadata": {},
   "outputs": [
    {
     "name": "stderr",
     "output_type": "stream",
     "text": [
      "Feature Extraction:   0%|          | 0/10 [06:11<?, ?it/s]\n"
     ]
    },
    {
     "ename": "KeyboardInterrupt",
     "evalue": "",
     "output_type": "error",
     "traceback": [
      "\u001b[0;31m---------------------------------------------------------------------------\u001b[0m",
      "\u001b[0;31mIndexError\u001b[0m                                Traceback (most recent call last)",
      "\u001b[0;32m/opt/anaconda3/lib/python3.8/multiprocessing/pool.py\u001b[0m in \u001b[0;36mnext\u001b[0;34m(self, timeout)\u001b[0m\n\u001b[1;32m    850\u001b[0m             \u001b[0;32mtry\u001b[0m\u001b[0;34m:\u001b[0m\u001b[0;34m\u001b[0m\u001b[0;34m\u001b[0m\u001b[0m\n\u001b[0;32m--> 851\u001b[0;31m                 \u001b[0mitem\u001b[0m \u001b[0;34m=\u001b[0m \u001b[0mself\u001b[0m\u001b[0;34m.\u001b[0m\u001b[0m_items\u001b[0m\u001b[0;34m.\u001b[0m\u001b[0mpopleft\u001b[0m\u001b[0;34m(\u001b[0m\u001b[0;34m)\u001b[0m\u001b[0;34m\u001b[0m\u001b[0;34m\u001b[0m\u001b[0m\n\u001b[0m\u001b[1;32m    852\u001b[0m             \u001b[0;32mexcept\u001b[0m \u001b[0mIndexError\u001b[0m\u001b[0;34m:\u001b[0m\u001b[0;34m\u001b[0m\u001b[0;34m\u001b[0m\u001b[0m\n",
      "\u001b[0;31mIndexError\u001b[0m: pop from an empty deque",
      "\nDuring handling of the above exception, another exception occurred:\n",
      "\u001b[0;31mKeyboardInterrupt\u001b[0m                         Traceback (most recent call last)",
      "\u001b[0;32m<ipython-input-33-684b19d68938>\u001b[0m in \u001b[0;36m<module>\u001b[0;34m\u001b[0m\n\u001b[0;32m----> 1\u001b[0;31m \u001b[0mX\u001b[0m \u001b[0;34m=\u001b[0m \u001b[0mtf\u001b[0m\u001b[0;34m.\u001b[0m\u001b[0mextract_features\u001b[0m\u001b[0;34m(\u001b[0m\u001b[0mX_train_new\u001b[0m\u001b[0;34m,\u001b[0m \u001b[0mcolumn_id\u001b[0m\u001b[0;34m=\u001b[0m\u001b[0;34m\"id\"\u001b[0m\u001b[0;34m)\u001b[0m\u001b[0;34m\u001b[0m\u001b[0;34m\u001b[0m\u001b[0m\n\u001b[0m",
      "\u001b[0;32m/opt/anaconda3/lib/python3.8/site-packages/tsfresh/feature_extraction/extraction.py\u001b[0m in \u001b[0;36mextract_features\u001b[0;34m(timeseries_container, default_fc_parameters, kind_to_fc_parameters, column_id, column_sort, column_kind, column_value, chunksize, n_jobs, show_warnings, disable_progressbar, impute_function, profile, profiling_filename, profiling_sorting, distributor, pivot)\u001b[0m\n\u001b[1;32m    162\u001b[0m             \u001b[0mwarnings\u001b[0m\u001b[0;34m.\u001b[0m\u001b[0msimplefilter\u001b[0m\u001b[0;34m(\u001b[0m\u001b[0;34m\"default\"\u001b[0m\u001b[0;34m)\u001b[0m\u001b[0;34m\u001b[0m\u001b[0;34m\u001b[0m\u001b[0m\n\u001b[1;32m    163\u001b[0m \u001b[0;34m\u001b[0m\u001b[0m\n\u001b[0;32m--> 164\u001b[0;31m         result = _do_extraction(\n\u001b[0m\u001b[1;32m    165\u001b[0m             \u001b[0mdf\u001b[0m\u001b[0;34m=\u001b[0m\u001b[0mtimeseries_container\u001b[0m\u001b[0;34m,\u001b[0m\u001b[0;34m\u001b[0m\u001b[0;34m\u001b[0m\u001b[0m\n\u001b[1;32m    166\u001b[0m             \u001b[0mcolumn_id\u001b[0m\u001b[0;34m=\u001b[0m\u001b[0mcolumn_id\u001b[0m\u001b[0;34m,\u001b[0m\u001b[0;34m\u001b[0m\u001b[0;34m\u001b[0m\u001b[0m\n",
      "\u001b[0;32m/opt/anaconda3/lib/python3.8/site-packages/tsfresh/feature_extraction/extraction.py\u001b[0m in \u001b[0;36m_do_extraction\u001b[0;34m(df, column_id, column_value, column_kind, column_sort, default_fc_parameters, kind_to_fc_parameters, n_jobs, chunk_size, disable_progressbar, show_warnings, distributor, pivot)\u001b[0m\n\u001b[1;32m    292\u001b[0m     )\n\u001b[1;32m    293\u001b[0m \u001b[0;34m\u001b[0m\u001b[0m\n\u001b[0;32m--> 294\u001b[0;31m     result = distributor.map_reduce(\n\u001b[0m\u001b[1;32m    295\u001b[0m         \u001b[0m_do_extraction_on_chunk\u001b[0m\u001b[0;34m,\u001b[0m\u001b[0;34m\u001b[0m\u001b[0;34m\u001b[0m\u001b[0m\n\u001b[1;32m    296\u001b[0m         \u001b[0mdata\u001b[0m\u001b[0;34m=\u001b[0m\u001b[0mdata\u001b[0m\u001b[0;34m,\u001b[0m\u001b[0;34m\u001b[0m\u001b[0;34m\u001b[0m\u001b[0m\n",
      "\u001b[0;32m/opt/anaconda3/lib/python3.8/site-packages/tsfresh/utilities/distribution.py\u001b[0m in \u001b[0;36mmap_reduce\u001b[0;34m(self, map_function, data, function_kwargs, chunk_size, data_length)\u001b[0m\n\u001b[1;32m    239\u001b[0m             )\n\u001b[1;32m    240\u001b[0m \u001b[0;34m\u001b[0m\u001b[0m\n\u001b[0;32m--> 241\u001b[0;31m         \u001b[0mresult\u001b[0m \u001b[0;34m=\u001b[0m \u001b[0mlist\u001b[0m\u001b[0;34m(\u001b[0m\u001b[0mitertools\u001b[0m\u001b[0;34m.\u001b[0m\u001b[0mchain\u001b[0m\u001b[0;34m.\u001b[0m\u001b[0mfrom_iterable\u001b[0m\u001b[0;34m(\u001b[0m\u001b[0mresult\u001b[0m\u001b[0;34m)\u001b[0m\u001b[0;34m)\u001b[0m\u001b[0;34m\u001b[0m\u001b[0;34m\u001b[0m\u001b[0m\n\u001b[0m\u001b[1;32m    242\u001b[0m \u001b[0;34m\u001b[0m\u001b[0m\n\u001b[1;32m    243\u001b[0m         \u001b[0mself\u001b[0m\u001b[0;34m.\u001b[0m\u001b[0mclose\u001b[0m\u001b[0;34m(\u001b[0m\u001b[0;34m)\u001b[0m\u001b[0;34m\u001b[0m\u001b[0;34m\u001b[0m\u001b[0m\n",
      "\u001b[0;32m/opt/anaconda3/lib/python3.8/site-packages/tqdm/std.py\u001b[0m in \u001b[0;36m__iter__\u001b[0;34m(self)\u001b[0m\n\u001b[1;32m   1176\u001b[0m \u001b[0;34m\u001b[0m\u001b[0m\n\u001b[1;32m   1177\u001b[0m         \u001b[0;32mtry\u001b[0m\u001b[0;34m:\u001b[0m\u001b[0;34m\u001b[0m\u001b[0;34m\u001b[0m\u001b[0m\n\u001b[0;32m-> 1178\u001b[0;31m             \u001b[0;32mfor\u001b[0m \u001b[0mobj\u001b[0m \u001b[0;32min\u001b[0m \u001b[0miterable\u001b[0m\u001b[0;34m:\u001b[0m\u001b[0;34m\u001b[0m\u001b[0;34m\u001b[0m\u001b[0m\n\u001b[0m\u001b[1;32m   1179\u001b[0m                 \u001b[0;32myield\u001b[0m \u001b[0mobj\u001b[0m\u001b[0;34m\u001b[0m\u001b[0;34m\u001b[0m\u001b[0m\n\u001b[1;32m   1180\u001b[0m                 \u001b[0;31m# Update and possibly print the progressbar.\u001b[0m\u001b[0;34m\u001b[0m\u001b[0;34m\u001b[0m\u001b[0;34m\u001b[0m\u001b[0m\n",
      "\u001b[0;32m/opt/anaconda3/lib/python3.8/multiprocessing/pool.py\u001b[0m in \u001b[0;36mnext\u001b[0;34m(self, timeout)\u001b[0m\n\u001b[1;32m    854\u001b[0m                     \u001b[0mself\u001b[0m\u001b[0;34m.\u001b[0m\u001b[0m_pool\u001b[0m \u001b[0;34m=\u001b[0m \u001b[0;32mNone\u001b[0m\u001b[0;34m\u001b[0m\u001b[0;34m\u001b[0m\u001b[0m\n\u001b[1;32m    855\u001b[0m                     \u001b[0;32mraise\u001b[0m \u001b[0mStopIteration\u001b[0m \u001b[0;32mfrom\u001b[0m \u001b[0;32mNone\u001b[0m\u001b[0;34m\u001b[0m\u001b[0;34m\u001b[0m\u001b[0m\n\u001b[0;32m--> 856\u001b[0;31m                 \u001b[0mself\u001b[0m\u001b[0;34m.\u001b[0m\u001b[0m_cond\u001b[0m\u001b[0;34m.\u001b[0m\u001b[0mwait\u001b[0m\u001b[0;34m(\u001b[0m\u001b[0mtimeout\u001b[0m\u001b[0;34m)\u001b[0m\u001b[0;34m\u001b[0m\u001b[0;34m\u001b[0m\u001b[0m\n\u001b[0m\u001b[1;32m    857\u001b[0m                 \u001b[0;32mtry\u001b[0m\u001b[0;34m:\u001b[0m\u001b[0;34m\u001b[0m\u001b[0;34m\u001b[0m\u001b[0m\n\u001b[1;32m    858\u001b[0m                     \u001b[0mitem\u001b[0m \u001b[0;34m=\u001b[0m \u001b[0mself\u001b[0m\u001b[0;34m.\u001b[0m\u001b[0m_items\u001b[0m\u001b[0;34m.\u001b[0m\u001b[0mpopleft\u001b[0m\u001b[0;34m(\u001b[0m\u001b[0;34m)\u001b[0m\u001b[0;34m\u001b[0m\u001b[0;34m\u001b[0m\u001b[0m\n",
      "\u001b[0;32m/opt/anaconda3/lib/python3.8/threading.py\u001b[0m in \u001b[0;36mwait\u001b[0;34m(self, timeout)\u001b[0m\n\u001b[1;32m    300\u001b[0m         \u001b[0;32mtry\u001b[0m\u001b[0;34m:\u001b[0m    \u001b[0;31m# restore state no matter what (e.g., KeyboardInterrupt)\u001b[0m\u001b[0;34m\u001b[0m\u001b[0;34m\u001b[0m\u001b[0m\n\u001b[1;32m    301\u001b[0m             \u001b[0;32mif\u001b[0m \u001b[0mtimeout\u001b[0m \u001b[0;32mis\u001b[0m \u001b[0;32mNone\u001b[0m\u001b[0;34m:\u001b[0m\u001b[0;34m\u001b[0m\u001b[0;34m\u001b[0m\u001b[0m\n\u001b[0;32m--> 302\u001b[0;31m                 \u001b[0mwaiter\u001b[0m\u001b[0;34m.\u001b[0m\u001b[0macquire\u001b[0m\u001b[0;34m(\u001b[0m\u001b[0;34m)\u001b[0m\u001b[0;34m\u001b[0m\u001b[0;34m\u001b[0m\u001b[0m\n\u001b[0m\u001b[1;32m    303\u001b[0m                 \u001b[0mgotit\u001b[0m \u001b[0;34m=\u001b[0m \u001b[0;32mTrue\u001b[0m\u001b[0;34m\u001b[0m\u001b[0;34m\u001b[0m\u001b[0m\n\u001b[1;32m    304\u001b[0m             \u001b[0;32melse\u001b[0m\u001b[0;34m:\u001b[0m\u001b[0;34m\u001b[0m\u001b[0;34m\u001b[0m\u001b[0m\n",
      "\u001b[0;31mKeyboardInterrupt\u001b[0m: "
     ]
    }
   ],
   "source": [
    "X = tf.extract_features(X_train_new, column_id=\"id\")"
   ]
  },
  {
   "cell_type": "code",
   "execution_count": null,
   "id": "45cd0020",
   "metadata": {},
   "outputs": [],
   "source": []
  }
 ],
 "metadata": {
  "kernelspec": {
   "display_name": "Python 3",
   "language": "python",
   "name": "python3"
  },
  "language_info": {
   "codemirror_mode": {
    "name": "ipython",
    "version": 3
   },
   "file_extension": ".py",
   "mimetype": "text/x-python",
   "name": "python",
   "nbconvert_exporter": "python",
   "pygments_lexer": "ipython3",
   "version": "3.8.8"
  }
 },
 "nbformat": 4,
 "nbformat_minor": 5
}
