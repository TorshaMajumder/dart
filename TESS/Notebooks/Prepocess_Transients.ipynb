{
 "cells": [
  {
   "cell_type": "code",
   "execution_count": 1,
   "id": "cfb7e840",
   "metadata": {},
   "outputs": [],
   "source": [
    "import os\n",
    "import re\n",
    "import pickle\n",
    "import numpy as np\n",
    "import pandas as pd\n",
    "import matplotlib.pyplot as plt"
   ]
  },
  {
   "cell_type": "code",
   "execution_count": 2,
   "id": "fd05ce63",
   "metadata": {},
   "outputs": [],
   "source": [
    "path = os.path.dirname(os.path.abspath('Preprocess_Transients.ipynb'))\n",
    "total_files=list()\n",
    "cleaned_files=list()\n",
    "ids=list()"
   ]
  },
  {
   "cell_type": "code",
   "execution_count": 3,
   "id": "d6579437",
   "metadata": {},
   "outputs": [],
   "source": [
    "for file in os.listdir(\"light_curves_fausnaugh/light_curves_fausnaugh\"):\n",
    "    total_files.append(file)\n",
    "    if bool(re.search(r\"\\blc_\\d+[a-zA-Z]{1,5}_cleaned\\b\", file)):\n",
    "        cleaned_files.append(file)\n",
    "        ids.extend(re.findall(\"_(.*?)_cleaned\", file)) "
   ]
  },
  {
   "cell_type": "code",
   "execution_count": 4,
   "id": "ec890cee",
   "metadata": {},
   "outputs": [
    {
     "name": "stdout",
     "output_type": "stream",
     "text": [
      "3836 3857 3836\n"
     ]
    }
   ],
   "source": [
    "print(len(cleaned_files), len(total_files), len(ids))"
   ]
  },
  {
   "cell_type": "code",
   "execution_count": 5,
   "id": "d6328381",
   "metadata": {},
   "outputs": [],
   "source": [
    "diff = set(total_files)-set(cleaned_files)"
   ]
  },
  {
   "cell_type": "code",
   "execution_count": 6,
   "id": "a0e062da",
   "metadata": {},
   "outputs": [
    {
     "data": {
      "text/plain": [
       "{'lc_2018fhw_detrended_cleaned',\n",
       " 'lc_2018fvi_detrended_cleaned',\n",
       " 'lc_2018hib_detrended_cleaned',\n",
       " 'lc_2018hss_detrended_cleaned',\n",
       " 'lc_2018kfv_detrended_cleaned',\n",
       " 'lc_2019mue_detrended-detrended_cleaned',\n",
       " 'lc_2019mue_detrended_cleaned',\n",
       " 'lc_2019pnw_detrended_cleaned',\n",
       " 'lc_2019prw_detrended_cleaned',\n",
       " 'lc_2019ptv_detrended_cleaned',\n",
       " 'lc_2019qmm_detrended_cleaned',\n",
       " 'lc_2019qsc_detrended_cleaned',\n",
       " 'lc_2019ulr_detrended_cleaned',\n",
       " 'lc_2020kbq_detrended_cleaned',\n",
       " 'lc_2020npk_detrended_cleaned',\n",
       " 'lc_2020to_detrended_cleaned',\n",
       " 'lc_2020wd_detrended_cleaned',\n",
       " 'lc_2020zjf_detrended_cleaned',\n",
       " 'lc_2021bix_detrended_cleaned',\n",
       " 'lc_2021caf_detrended_cleaned',\n",
       " 'lc_GRB191016a_cleaned'}"
      ]
     },
     "execution_count": 6,
     "metadata": {},
     "output_type": "execute_result"
    }
   ],
   "source": [
    "diff"
   ]
  },
  {
   "cell_type": "code",
   "execution_count": 15,
   "id": "2fd39013",
   "metadata": {},
   "outputs": [],
   "source": [
    "data = pd.read_csv(path+f\"/light_curves_fausnaugh/light_curves_fausnaugh/{cleaned_files[0]}\", sep=r'\\s+')"
   ]
  },
  {
   "cell_type": "code",
   "execution_count": 16,
   "id": "8aa19279",
   "metadata": {},
   "outputs": [
    {
     "data": {
      "text/html": [
       "<div>\n",
       "<style scoped>\n",
       "    .dataframe tbody tr th:only-of-type {\n",
       "        vertical-align: middle;\n",
       "    }\n",
       "\n",
       "    .dataframe tbody tr th {\n",
       "        vertical-align: top;\n",
       "    }\n",
       "\n",
       "    .dataframe thead th {\n",
       "        text-align: right;\n",
       "    }\n",
       "</style>\n",
       "<table border=\"1\" class=\"dataframe\">\n",
       "  <thead>\n",
       "    <tr style=\"text-align: right;\">\n",
       "      <th></th>\n",
       "      <th>BTJD</th>\n",
       "      <th>TJD</th>\n",
       "      <th>cts</th>\n",
       "      <th>e_cts</th>\n",
       "      <th>bkg</th>\n",
       "      <th>bkg_model</th>\n",
       "      <th>bkg2</th>\n",
       "      <th>e_bkg2</th>\n",
       "    </tr>\n",
       "  </thead>\n",
       "  <tbody>\n",
       "    <tr>\n",
       "      <th>0</th>\n",
       "      <td>2552.85815</td>\n",
       "      <td>2552.85424</td>\n",
       "      <td>-3462.3304</td>\n",
       "      <td>1272.4220</td>\n",
       "      <td>838.0194</td>\n",
       "      <td>-1265.4269</td>\n",
       "      <td>-1096.1326</td>\n",
       "      <td>1272.4220</td>\n",
       "    </tr>\n",
       "    <tr>\n",
       "      <th>1</th>\n",
       "      <td>2552.86510</td>\n",
       "      <td>2552.86119</td>\n",
       "      <td>1297.6085</td>\n",
       "      <td>1302.4403</td>\n",
       "      <td>4687.8755</td>\n",
       "      <td>-1264.7468</td>\n",
       "      <td>63.9336</td>\n",
       "      <td>1302.4403</td>\n",
       "    </tr>\n",
       "    <tr>\n",
       "      <th>2</th>\n",
       "      <td>2552.87204</td>\n",
       "      <td>2552.86813</td>\n",
       "      <td>-1494.9047</td>\n",
       "      <td>1318.4532</td>\n",
       "      <td>9010.4725</td>\n",
       "      <td>-1264.7468</td>\n",
       "      <td>-622.1638</td>\n",
       "      <td>1318.4532</td>\n",
       "    </tr>\n",
       "    <tr>\n",
       "      <th>3</th>\n",
       "      <td>2552.87898</td>\n",
       "      <td>2552.87507</td>\n",
       "      <td>10.0074</td>\n",
       "      <td>1486.7589</td>\n",
       "      <td>7895.4045</td>\n",
       "      <td>-1096.1326</td>\n",
       "      <td>1654.1474</td>\n",
       "      <td>1486.7589</td>\n",
       "    </tr>\n",
       "    <tr>\n",
       "      <th>4</th>\n",
       "      <td>2552.88593</td>\n",
       "      <td>2552.88202</td>\n",
       "      <td>-3648.6368</td>\n",
       "      <td>1532.6629</td>\n",
       "      <td>15694.5643</td>\n",
       "      <td>-1096.1326</td>\n",
       "      <td>-1589.0866</td>\n",
       "      <td>1532.6629</td>\n",
       "    </tr>\n",
       "    <tr>\n",
       "      <th>5</th>\n",
       "      <td>2552.89288</td>\n",
       "      <td>2552.88896</td>\n",
       "      <td>-1449.0730</td>\n",
       "      <td>1489.2339</td>\n",
       "      <td>11503.3610</td>\n",
       "      <td>-1096.1326</td>\n",
       "      <td>364.3844</td>\n",
       "      <td>1489.2339</td>\n",
       "    </tr>\n",
       "    <tr>\n",
       "      <th>6</th>\n",
       "      <td>2552.89982</td>\n",
       "      <td>2552.89591</td>\n",
       "      <td>1299.9789</td>\n",
       "      <td>1274.1106</td>\n",
       "      <td>4990.6856</td>\n",
       "      <td>-1096.1326</td>\n",
       "      <td>-226.7938</td>\n",
       "      <td>1274.1106</td>\n",
       "    </tr>\n",
       "    <tr>\n",
       "      <th>7</th>\n",
       "      <td>2552.90677</td>\n",
       "      <td>2552.90285</td>\n",
       "      <td>589.8731</td>\n",
       "      <td>1145.5637</td>\n",
       "      <td>9022.0823</td>\n",
       "      <td>-1096.1326</td>\n",
       "      <td>-1979.6934</td>\n",
       "      <td>1145.5637</td>\n",
       "    </tr>\n",
       "    <tr>\n",
       "      <th>8</th>\n",
       "      <td>2552.91371</td>\n",
       "      <td>2552.90980</td>\n",
       "      <td>-1364.8583</td>\n",
       "      <td>1130.0365</td>\n",
       "      <td>11651.5423</td>\n",
       "      <td>-1107.0297</td>\n",
       "      <td>-1264.7468</td>\n",
       "      <td>1130.0365</td>\n",
       "    </tr>\n",
       "    <tr>\n",
       "      <th>9</th>\n",
       "      <td>2552.92066</td>\n",
       "      <td>2552.91674</td>\n",
       "      <td>-1345.0779</td>\n",
       "      <td>1146.0881</td>\n",
       "      <td>8686.4337</td>\n",
       "      <td>-1096.1326</td>\n",
       "      <td>-2198.7152</td>\n",
       "      <td>1146.0881</td>\n",
       "    </tr>\n",
       "  </tbody>\n",
       "</table>\n",
       "</div>"
      ],
      "text/plain": [
       "         BTJD         TJD        cts      e_cts         bkg  bkg_model  \\\n",
       "0  2552.85815  2552.85424 -3462.3304  1272.4220    838.0194 -1265.4269   \n",
       "1  2552.86510  2552.86119  1297.6085  1302.4403   4687.8755 -1264.7468   \n",
       "2  2552.87204  2552.86813 -1494.9047  1318.4532   9010.4725 -1264.7468   \n",
       "3  2552.87898  2552.87507    10.0074  1486.7589   7895.4045 -1096.1326   \n",
       "4  2552.88593  2552.88202 -3648.6368  1532.6629  15694.5643 -1096.1326   \n",
       "5  2552.89288  2552.88896 -1449.0730  1489.2339  11503.3610 -1096.1326   \n",
       "6  2552.89982  2552.89591  1299.9789  1274.1106   4990.6856 -1096.1326   \n",
       "7  2552.90677  2552.90285   589.8731  1145.5637   9022.0823 -1096.1326   \n",
       "8  2552.91371  2552.90980 -1364.8583  1130.0365  11651.5423 -1107.0297   \n",
       "9  2552.92066  2552.91674 -1345.0779  1146.0881   8686.4337 -1096.1326   \n",
       "\n",
       "        bkg2     e_bkg2  \n",
       "0 -1096.1326  1272.4220  \n",
       "1    63.9336  1302.4403  \n",
       "2  -622.1638  1318.4532  \n",
       "3  1654.1474  1486.7589  \n",
       "4 -1589.0866  1532.6629  \n",
       "5   364.3844  1489.2339  \n",
       "6  -226.7938  1274.1106  \n",
       "7 -1979.6934  1145.5637  \n",
       "8 -1264.7468  1130.0365  \n",
       "9 -2198.7152  1146.0881  "
      ]
     },
     "execution_count": 16,
     "metadata": {},
     "output_type": "execute_result"
    }
   ],
   "source": [
    "data.head(10)"
   ]
  },
  {
   "cell_type": "code",
   "execution_count": 17,
   "id": "b6b6b493",
   "metadata": {},
   "outputs": [],
   "source": [
    "adj_flux = data['cts']-data['bkg_model']"
   ]
  },
  {
   "cell_type": "code",
   "execution_count": 18,
   "id": "fe552f3f",
   "metadata": {},
   "outputs": [
    {
     "data": {
      "text/plain": [
       "0      -2196.9035\n",
       "1       2562.3553\n",
       "2       -230.1579\n",
       "3       1106.1400\n",
       "4      -2552.5042\n",
       "          ...    \n",
       "3394    1232.3317\n",
       "3395     793.2981\n",
       "3396      74.5694\n",
       "3397     116.0111\n",
       "3398    -102.0144\n",
       "Length: 3399, dtype: float64"
      ]
     },
     "execution_count": 18,
     "metadata": {},
     "output_type": "execute_result"
    }
   ],
   "source": [
    "adj_flux"
   ]
  },
  {
   "cell_type": "code",
   "execution_count": 19,
   "id": "9fe644f1",
   "metadata": {},
   "outputs": [
    {
     "data": {
      "text/plain": [
       "'lc_2022hr_cleaned'"
      ]
     },
     "execution_count": 19,
     "metadata": {},
     "output_type": "execute_result"
    }
   ],
   "source": [
    "cleaned_files[0]"
   ]
  },
  {
   "cell_type": "code",
   "execution_count": 20,
   "id": "b15e3263",
   "metadata": {},
   "outputs": [],
   "source": [
    "lcs = pd.DataFrame(columns=['phase', 'flux', 'flux_err'])"
   ]
  },
  {
   "cell_type": "code",
   "execution_count": 22,
   "id": "3ba5cc67",
   "metadata": {},
   "outputs": [],
   "source": [
    "lcs['phase'] = data['BTJD']\n",
    "lcs['flux'] = data['cts']-data['bkg_model']\n",
    "lcs['flux_err'] = data['e_cts']"
   ]
  },
  {
   "cell_type": "code",
   "execution_count": 23,
   "id": "89bca498",
   "metadata": {},
   "outputs": [
    {
     "data": {
      "text/html": [
       "<div>\n",
       "<style scoped>\n",
       "    .dataframe tbody tr th:only-of-type {\n",
       "        vertical-align: middle;\n",
       "    }\n",
       "\n",
       "    .dataframe tbody tr th {\n",
       "        vertical-align: top;\n",
       "    }\n",
       "\n",
       "    .dataframe thead th {\n",
       "        text-align: right;\n",
       "    }\n",
       "</style>\n",
       "<table border=\"1\" class=\"dataframe\">\n",
       "  <thead>\n",
       "    <tr style=\"text-align: right;\">\n",
       "      <th></th>\n",
       "      <th>phase</th>\n",
       "      <th>flux</th>\n",
       "      <th>flux_err</th>\n",
       "    </tr>\n",
       "  </thead>\n",
       "  <tbody>\n",
       "    <tr>\n",
       "      <th>0</th>\n",
       "      <td>2552.85815</td>\n",
       "      <td>-2196.9035</td>\n",
       "      <td>1272.4220</td>\n",
       "    </tr>\n",
       "    <tr>\n",
       "      <th>1</th>\n",
       "      <td>2552.86510</td>\n",
       "      <td>2562.3553</td>\n",
       "      <td>1302.4403</td>\n",
       "    </tr>\n",
       "    <tr>\n",
       "      <th>2</th>\n",
       "      <td>2552.87204</td>\n",
       "      <td>-230.1579</td>\n",
       "      <td>1318.4532</td>\n",
       "    </tr>\n",
       "    <tr>\n",
       "      <th>3</th>\n",
       "      <td>2552.87898</td>\n",
       "      <td>1106.1400</td>\n",
       "      <td>1486.7589</td>\n",
       "    </tr>\n",
       "    <tr>\n",
       "      <th>4</th>\n",
       "      <td>2552.88593</td>\n",
       "      <td>-2552.5042</td>\n",
       "      <td>1532.6629</td>\n",
       "    </tr>\n",
       "  </tbody>\n",
       "</table>\n",
       "</div>"
      ],
      "text/plain": [
       "        phase       flux   flux_err\n",
       "0  2552.85815 -2196.9035  1272.4220\n",
       "1  2552.86510  2562.3553  1302.4403\n",
       "2  2552.87204  -230.1579  1318.4532\n",
       "3  2552.87898  1106.1400  1486.7589\n",
       "4  2552.88593 -2552.5042  1532.6629"
      ]
     },
     "execution_count": 23,
     "metadata": {},
     "output_type": "execute_result"
    }
   ],
   "source": [
    "lcs.head()"
   ]
  },
  {
   "cell_type": "code",
   "execution_count": null,
   "id": "66f8f6e6",
   "metadata": {},
   "outputs": [],
   "source": [
    "def preprocess_transient_data():\n",
    "    \n",
    "    path = os.path.dirname(os.path.abspath('Preprocess_Transients.ipynb'))\n",
    "    total_files=list()\n",
    "    cleaned_files=list()\n",
    "    ids=list()\n",
    "    \n",
    "    if not os.path.exists('transients_data'):\n",
    "            os.makedirs('transients_data')\n",
    "            \n",
    "            \n",
    "    for file in os.listdir(\"light_curves_fausnaugh/light_curves_fausnaugh\"):\n",
    "        total_files.append(file)\n",
    "        if bool(re.search(r\"\\blc_\\d+[a-zA-Z]{1,5}_cleaned\\b\", file)):\n",
    "            cleaned_files.append(file)\n",
    "            ids.extend(re.findall(\"_(.*?)_cleaned\", file)) \n",
    "            \n",
    "    for i, file in enumerate(cleaned_files):\n",
    "        data = pd.read_csv(path+f\"/light_curves_fausnaugh/light_curves_fausnaugh/{file}\", sep=r'\\s+')\n",
    "        lcs = pd.DataFrame(columns=['phase', 'flux', 'flux_err'])\n",
    "        lcs['phase'] = data['BTJD']\n",
    "        lcs['flux'] = data['cts']-data['bkg_model']\n",
    "        lcs['flux_err'] = data['e_cts']\n",
    "        \n",
    "        transient_path = path + f'/transients_data/{ids[i]}.csv.gz'\n",
    "        lcs.to_csv(path_or_buf=transient_path, header=True, index=False, compression='gzip')\n",
    "        \n",
    "    return\n",
    "    \n",
    "    "
   ]
  }
 ],
 "metadata": {
  "kernelspec": {
   "display_name": "Python 3",
   "language": "python",
   "name": "python3"
  },
  "language_info": {
   "codemirror_mode": {
    "name": "ipython",
    "version": 3
   },
   "file_extension": ".py",
   "mimetype": "text/x-python",
   "name": "python",
   "nbconvert_exporter": "python",
   "pygments_lexer": "ipython3",
   "version": "3.8.8"
  }
 },
 "nbformat": 4,
 "nbformat_minor": 5
}
